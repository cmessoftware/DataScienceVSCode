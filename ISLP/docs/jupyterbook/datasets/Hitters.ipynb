{
 "cells": [
  {
   "cell_type": "markdown",
   "id": "a76b6367",
   "metadata": {},
   "source": [
    "# Baseball Data\n",
    "\n",
    "Major League Baseball Data from the 1986 and 1987 seasons.\n",
    "\n",
    "- `AtBat`: Number of times at bat in 1986\n",
    "\n",
    "- `Hits`: Number of hits in 1986\n",
    "\n",
    "- `HmRun`: Number of home runs in 1986\n",
    "\n",
    "- `Runs`: Number of runs in 1986\n",
    "\n",
    "- `RBI`: Number of runs batted in in 1986\n",
    "\n",
    "- `Walks`: Number of walks in 1986\n",
    "\n",
    "- `Years`: Number of years in the major leagues\n",
    "\n",
    "- `CAtBat`: Number of times at bat during his career\n",
    "\n",
    "- `CHits`: Number of hits during his career\n",
    "\n",
    "- `CHmRun`: Number of home runs during his career\n",
    "\n",
    "- `CRuns`: Number of runs during his career\n",
    "\n",
    "- `CRBI`: Number of runs batted in during his career\n",
    "\n",
    "- `CWalks`: Number of walks during his career\n",
    "\n",
    "- `League`: A factor with levels A and N indicating player’s league at the end of 1986\n",
    "\n",
    "- `Division`: A factor with levels E and W indicating player’s division at the end of 1986\n",
    "\n",
    "- `PutOuts`: Number of put outs in 1986\n",
    "\n",
    "- `Assists`: Number of assists in 1986\n",
    "\n",
    "- `Errors`: Number of errors in 1986\n",
    "\n",
    "- `Salary`: 1987 annual salary on opening day in thousands of dollars\n",
    "\n",
    "- `NewLeague`: A factor with levels A and N indicating player’s league at the beginning of 1987\n",
    "\n",
    "## Notes\n",
    "\n",
    "This dataset was taken from the StatLib library which is maintained at\n",
    "Carnegie Mellon University. This is part of the data that was\n",
    "used in the 1988 ASA Graphics Section Poster Session. The salary\n",
    "data were originally from Sports Illustrated, April 20, 1987. The\n",
    "1986 and career statistics were obtained from The 1987 Baseball\n",
    "Encyclopedia Update published by Collier Books, Macmillan\n",
    "Publishing Company, New York."
   ]
  },
  {
   "cell_type": "code",
   "execution_count": null,
   "id": "4fa187f0",
   "metadata": {},
   "outputs": [],
   "source": [
    "from ISLP import load_data\n",
    "Hitters = load_data('Hitters')\n",
    "Hitters.columns"
   ]
  },
  {
   "cell_type": "code",
   "execution_count": null,
   "id": "04535ffb",
   "metadata": {},
   "outputs": [],
   "source": [
    "Hitters.shape"
   ]
  },
  {
   "cell_type": "code",
   "execution_count": null,
   "id": "6875aac6",
   "metadata": {},
   "outputs": [],
   "source": [
    "Hitters.columns"
   ]
  },
  {
   "cell_type": "code",
   "execution_count": null,
   "id": "9e2cffc8",
   "metadata": {},
   "outputs": [],
   "source": [
    "Hitters.describe().iloc[:,:4]"
   ]
  }
 ],
 "metadata": {
  "jupytext": {
   "cell_metadata_filter": "-all",
   "formats": "source/datasets///ipynb,jupyterbook/datasets///md:myst,jupyterbook/datasets///ipynb",
   "main_language": "python"
  },
  "kernelspec": {
   "display_name": "python3",
   "language": "python",
   "name": "python3"
  }
 },
 "nbformat": 4,
 "nbformat_minor": 5
}
