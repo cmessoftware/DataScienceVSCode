{
  "cells": [
    {
      "cell_type": "markdown",
      "metadata": {
        "id": "xeiDzMKHfgf8"
      },
      "source": [
        "![Image in a markdown cell](https://cursos.utnba.centrodeelearning.com/pluginfile.php/1/theme_space/customlogo/1738330016/Logo%20UTN%20Horizontal.png)"
      ]
    },
    {
      "cell_type": "markdown",
      "metadata": {
        "id": "HxV5Oj_vflnC"
      },
      "source": [
        "---"
      ]
    },
    {
      "cell_type": "markdown",
      "metadata": {
        "id": "Q6DskIBffr2T"
      },
      "source": [
        "# **Diplomado en Ciencia de datos**"
      ]
    },
    {
      "cell_type": "markdown",
      "metadata": {
        "id": "xsUgNgi7ftPM"
      },
      "source": [
        "# **Actividades Tema 2: Funciones y control de flujos en Python**"
      ]
    },
    {
      "cell_type": "markdown",
      "metadata": {
        "id": "zkmhl9H5hIVL"
      },
      "source": [
        "---"
      ]
    },
    {
      "cell_type": "markdown",
      "metadata": {
        "id": "nS_1QkBLf6ak"
      },
      "source": [
        "## **Actividad 1: El Clasificador de Edades con Condicionales**\n",
        "\n",
        "**Objetivo:**\n",
        "\n",
        "* Comprender y utilizar las estructuras condicionales if, elif y else.\n",
        "\n",
        "* Aplicar condicionales para clasificar datos según diferentes criterios."
      ]
    },
    {
      "cell_type": "markdown",
      "metadata": {
        "id": "DV8n6XXegHLU"
      },
      "source": [
        "**Instrucciones:**\n",
        "\n",
        "1. Pide al usuario que ingrese su edad.\n",
        "\n",
        "2. Utiliza condicionales para clasificar al usuario en una de las siguientes categorías:\n",
        "\n",
        "  *  Menor de edad (menos de 18 años)\n",
        "\n",
        "  * Adulto joven (entre 18 y 30 años)\n",
        "\n",
        "  * Adulto (entre 31 y 60 años)\n",
        "\n",
        "  * Adulto mayor (más de 60 años)\n",
        "\n",
        "3. Imprime un mensaje indicando la categoría a la que pertenece el usuario."
      ]
    },
    {
      "cell_type": "code",
      "execution_count": null,
      "metadata": {
        "id": "W2bxfKIBj7xC"
      },
      "outputs": [],
      "source": [
        "# Solicitar al usuario que ingrese su edad\n",
        "edad = int(input(\"Por favor, ingresa tu edad: \"))\n",
        "\n",
        "# Clasificar al usuario según su edad\n",
        "if edad < 18:\n",
        "    print(\"Eres menor de edad.\")\n",
        "elif 18 <= edad <= 30:\n",
        "    print(\"Eres un adulto joven.\")\n",
        "elif 31 <= edad <= 60:\n",
        "    print(\"Eres un adulto.\")\n",
        "else:\n",
        "    print(\"Eres un adulto mayor.\")\n"
      ]
    },
    {
      "cell_type": "markdown",
      "metadata": {
        "id": "SKem_9Q2hNUl"
      },
      "source": [
        "---"
      ]
    },
    {
      "cell_type": "markdown",
      "metadata": {
        "id": "kknA4zPPglMJ"
      },
      "source": [
        "## **Actividad 2: El Analizador de Datos con Ciclos For**\n",
        "**Objetivo:**\n",
        "\n",
        "* Comprender y utilizar el ciclo for para iterar sobre listas.\n",
        "\n",
        "* Aplicar ciclos para analizar datos y calcular estadísticas básicas."
      ]
    },
    {
      "cell_type": "markdown",
      "metadata": {
        "id": "UT_TsCAhgz_X"
      },
      "source": [
        "**Instrucciones:**\n",
        "\n",
        "1. Crea una lista de números (ej. [10, 20, 30, 40, 50]).\n",
        "\n",
        "2. Utiliza un ciclo for para calcular la suma de todos los números en la lista.\n",
        "\n",
        "3. Utiliza un ciclo for para encontrar el número más grande en la lista.\n",
        "\n",
        "4. Utiliza un ciclo for para crear una nueva lista que contenga el doble de cada número en la lista original.\n",
        "\n",
        "5. Imprime la suma, el número más grande y la nueva lista."
      ]
    },
    {
      "cell_type": "code",
      "execution_count": null,
      "metadata": {
        "id": "nxEaiq_nkFgz"
      },
      "outputs": [],
      "source": [
        "# Desarrolla tus respuestas aquí\n",
        "# Crear una lista de números\n",
        "numeros = [10, 20, 30, 40, 50]\n",
        "\n",
        "# Calcular la suma de todos los números en la lista\n",
        "suma = 0\n",
        "for numero in numeros:\n",
        "    suma += numero\n",
        "\n",
        "# Encontrar el número más grande en la lista\n",
        "maximo = numeros[0]\n",
        "for numero in numeros:\n",
        "    if numero > maximo:\n",
        "        maximo = numero\n",
        "\n",
        "# Crear una nueva lista que contenga el doble de cada número en la lista original\n",
        "dobles = []\n",
        "for numero in numeros:\n",
        "    dobles.append(numero * 2)\n",
        "\n",
        "# Imprimir los resultados\n",
        "print(\"Suma de los números:\", suma)\n",
        "print(\"Número más grande:\", maximo)\n",
        "print(\"Lista con el doble de cada número:\", dobles)"
      ]
    },
    {
      "cell_type": "markdown",
      "metadata": {
        "id": "Yc9it6C1gdB9"
      },
      "source": [
        "---"
      ]
    },
    {
      "cell_type": "markdown",
      "metadata": {
        "id": "cUPtJvgvhPv5"
      },
      "source": [
        "## **Actividad 3: El Filtro de Datos con Ciclos While**\n",
        "\n",
        "**Objetivo:**\n",
        "\n",
        "* Comprender y utilizar el ciclo while para iterar hasta que se cumpla una condición.\n",
        "\n",
        "* Aplicar ciclos while para filtrar datos según diferentes criterios."
      ]
    },
    {
      "cell_type": "markdown",
      "metadata": {
        "id": "uVz8whm2hgKj"
      },
      "source": [
        "**Instrucciones:**\n",
        "\n",
        "1. Crea una lista de números (ej. [1, 2, 3, 4, 5, 6, 7, 8, 9, 10]).\n",
        "\n",
        "2. Utiliza un ciclo while para crear una nueva lista que contenga solo los números pares de la lista original.\n",
        "\n",
        "3. Utiliza un ciclo while para eliminar los números impares de la lista original (modificando la lista original).\n",
        "\n",
        "4. Imprime las listas resultantes."
      ]
    },
    {
      "cell_type": "code",
      "execution_count": null,
      "metadata": {
        "id": "mbcfyXFEkJT0"
      },
      "outputs": [],
      "source": [
        "# Crear una lista de números\n",
        "numeros = [1, 2, 3, 4, 5, 6, 7, 8, 9, 10]\n",
        "\n",
        "# Crear una nueva lista que contenga solo los números pares de la lista original\n",
        "pares = []\n",
        "i = 0\n",
        "while i < len(numeros):\n",
        "    if numeros[i] % 2 == 0:\n",
        "        pares.append(numeros[i])\n",
        "    i += 1\n",
        "\n",
        "# Eliminar los números impares de la lista original (modificando la lista original)\n",
        "i = 0\n",
        "while i < len(numeros):\n",
        "    if numeros[i] % 2 != 0:\n",
        "        numeros.pop(i)\n",
        "    else:\n",
        "        i += 1\n",
        "\n",
        "# Imprimir las listas resultantes\n",
        "print(\"Lista de números pares:\", pares)\n",
        "print(\"Lista original modificada (sin impares):\", numeros)\n"
      ]
    },
    {
      "cell_type": "markdown",
      "metadata": {
        "id": "PSQoUMPDkKa4"
      },
      "source": [
        "---"
      ]
    },
    {
      "cell_type": "markdown",
      "metadata": {
        "id": "TLOR8NfRi2gZ"
      },
      "source": [
        "## **Actividad 4: El Calculador de Estadísticas con Funciones**\n",
        "\n",
        "**Objetivo:**\n",
        "\n",
        "* Comprender y utilizar funciones para organizar el código y reutilizar la lógica.\n",
        "\n",
        "* Aplicar funciones para calcular estadísticas básicas sobre datos."
      ]
    },
    {
      "cell_type": "markdown",
      "metadata": {
        "id": "8Z_qWaLIjj-t"
      },
      "source": [
        "**Instrucciones:**\n",
        "\n",
        "1. Crea una función llamada **calcular_promedio** que reciba una lista de números como argumento y retorne el promedio de los números.\n",
        "\n",
        "2. Crea una función llamada **calcular_mediana** que reciba una lista de números como argumento y retorne la mediana de los números (el valor central después de ordenar la lista).\n",
        "\n",
        "3. Crea una función llamada **calcular_desviacion_estandar** que reciba una lista de números como argumento y retorne la desviación estándar de los números.\n",
        "\n",
        "4. Crea una lista de números (ej. [1, 2, 3, 4, 5]).\n",
        "\n",
        "5. Utiliza las funciones que creaste para calcular el promedio, la mediana y la desviación estándar de la lista.\n",
        "\n",
        "6. Imprime los resultados."
      ]
    },
    {
      "cell_type": "code",
      "execution_count": null,
      "metadata": {
        "id": "fxkSSNUKkNm5"
      },
      "outputs": [],
      "source": [
        "import math\n",
        "\n",
        "# Desarrolla tus respuestas aquí\n",
        "# Crear una función para calcular el promedio\n",
        "def calcular_promedio(lista):\n",
        "    return sum(lista) / len(lista)\n",
        "\n",
        "# Crear una función para calcular la mediana\n",
        "def calcular_mediana(lista):\n",
        "    lista_ordenada = sorted(lista)\n",
        "    n = len(lista_ordenada)\n",
        "    if n % 2 == 0:\n",
        "        return (lista_ordenada[n // 2 - 1] + lista_ordenada[n // 2]) / 2\n",
        "    else:\n",
        "        return lista_ordenada[n // 2]\n",
        "\n",
        "# Crear una función para calcular la desviación estándar\n",
        "def calcular_desviacion_estandar(lista):\n",
        "    promedio = calcular_promedio(lista)\n",
        "    suma_cuadrados = sum((x - promedio) ** 2 for x in lista)\n",
        "    return math.sqrt(suma_cuadrados / len(lista))\n",
        "\n",
        "# Crear una lista de números\n",
        "numeros = [1, 2, 3, 4, 5]\n",
        "\n",
        "# Calcular estadísticas utilizando las funciones creadas\n",
        "promedio = calcular_promedio(numeros)\n",
        "mediana = calcular_mediana(numeros)\n",
        "desviacion_estandar = calcular_desviacion_estandar(numeros)\n",
        "\n",
        "# Imprimir los resultados\n",
        "print(\"Promedio:\", promedio)\n",
        "print(\"Mediana:\", mediana)\n",
        "print(\"Desviación estándar:\", desviacion_estandar)"
      ]
    },
    {
      "cell_type": "markdown",
      "metadata": {
        "id": "d9LTT9Y4ix4R"
      },
      "source": [
        "---"
      ]
    }
  ],
  "metadata": {
    "colab": {
      "provenance": []
    },
    "kernelspec": {
      "display_name": "Python 3",
      "name": "python3"
    },
    "language_info": {
      "name": "python"
    }
  },
  "nbformat": 4,
  "nbformat_minor": 0
}
