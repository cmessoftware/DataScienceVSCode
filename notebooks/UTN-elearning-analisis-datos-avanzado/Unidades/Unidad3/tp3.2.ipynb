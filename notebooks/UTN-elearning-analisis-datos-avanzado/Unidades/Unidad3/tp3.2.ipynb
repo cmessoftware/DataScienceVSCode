{
 "cells": [
  {
   "cell_type": "code",
   "execution_count": 1,
   "id": "526dc992",
   "metadata": {},
   "outputs": [
    {
     "name": "stdout",
     "output_type": "stream",
     "text": [
      "a) La probabilidad de encontrar exactamente 7 vendedores casados es: 0.1217\n"
     ]
    }
   ],
   "source": [
    "# Ejercicio n°2 Binomial\n",
    "# El 34% de los vendedores de un comercio están casados, se toma una muestra al azar de 15 de ellos y se desea conocer las siguientes \n",
    "# probabilidades de encontrar:\n",
    "\n",
    "# a) Exactamente 7 vendedores casados\n",
    "from scipy.stats import binom\n",
    "from math import factorial as f\n",
    "from math import pow as power   \n",
    "p = .34\n",
    "N = 15\n",
    "x = 7\n",
    "\n",
    "p_exactamente_7 = round(binom.pmf(x, N, p), 4)\n",
    "print(f\"a) La probabilidad de encontrar exactamente 7 vendedores casados es: {p_exactamente_7}\")\n",
    "\n"
   ]
  },
  {
   "cell_type": "code",
   "execution_count": 5,
   "id": "fbed8a55",
   "metadata": {},
   "outputs": [
    {
     "name": "stdout",
     "output_type": "stream",
     "text": [
      "b) La probabilidad de encontrar a lo sumo 3 vendedores casados es: 0.1941\n"
     ]
    }
   ],
   "source": [
    "# b) A lo sumo 3 vendedores casados\n",
    "p_0 = round(binom.pmf(0, N, p), 4)\n",
    "p_1 = round(binom.pmf(1, N, p), 4)\n",
    "p_2 = round(binom.pmf(2, N, p), 4)\n",
    "p_3 = round(binom.pmf(3, N, p), 4)\n",
    "p_total = p_0 + p_1 + p_2 + p_3\n",
    "p_total = round(p_total, 4)\n",
    "print(f\"b) La probabilidad de encontrar a lo sumo 3 vendedores casados es: {p_total}\")\n",
    "\n"
   ]
  },
  {
   "cell_type": "code",
   "execution_count": 6,
   "id": "a74e7a6a",
   "metadata": {},
   "outputs": [
    {
     "name": "stdout",
     "output_type": "stream",
     "text": [
      "c) La probabilidad de encontrar menos de 5 vendedores casados es: 0.3829\n"
     ]
    }
   ],
   "source": [
    "# c) Menos de 5 vendedores casados\n",
    "p_0 = round(binom.pmf(0, N, p), 4)\n",
    "p_1 = round(binom.pmf(1, N, p), 4)\n",
    "p_2 = round(binom.pmf(2, N, p), 4)\n",
    "p_3 = round(binom.pmf(3, N, p), 4)\n",
    "p_4 = round(binom.pmf(4, N, p), 4)\n",
    "p_total = p_0 + p_1 + p_2 + p_3 + p_4\n",
    "p_total = round(p_total, 4)\n",
    "print(f\"c) La probabilidad de encontrar menos de 5 vendedores casados es: {p_total}\")\n",
    "\n"
   ]
  },
  {
   "cell_type": "code",
   "execution_count": 7,
   "id": "21d96e83",
   "metadata": {},
   "outputs": [
    {
     "name": "stdout",
     "output_type": "stream",
     "text": [
      "d) La probabilidad de encontrar como mínimo 8 vendedores casados es: 0.0977\n"
     ]
    }
   ],
   "source": [
    "# d) Como mínimo 8 vendedores casados\n",
    "p_8 = round(binom.pmf(8, N, p), 4)\n",
    "p_9 = round(binom.pmf(9, N, p), 4)\n",
    "p_10 = round(binom.pmf(10, N, p), 4)\n",
    "p_11 = round(binom.pmf(11, N, p), 4)\n",
    "p_12 = round(binom.pmf(12, N, p), 4)\n",
    "p_13 = round(binom.pmf(13, N, p), 4)\n",
    "p_14 = round(binom.pmf(14, N, p), 4)\n",
    "p_15 = round(binom.pmf(15, N, p), 4)\n",
    "p_total = p_8 + p_9 + p_10 + p_11 + p_12 + p_13 + p_14 + p_15\n",
    "p_total = round(p_total, 4)\n",
    "print(f\"d) La probabilidad de encontrar como mínimo 8 vendedores casados es: {p_total}\")\n",
    "\n"
   ]
  },
  {
   "cell_type": "code",
   "execution_count": 8,
   "id": "6625def0",
   "metadata": {},
   "outputs": [
    {
     "name": "stdout",
     "output_type": "stream",
     "text": [
      "e) La probabilidad de encontrar más de 10 vendedores casados es: 0.0021\n"
     ]
    }
   ],
   "source": [
    "# e) Más de 10 vendedores casados\n",
    "p_11 = round(binom.pmf(11, N, p), 4)\n",
    "p_12 = round(binom.pmf(12, N, p), 4)\n",
    "p_13 = round(binom.pmf(13, N, p), 4)\n",
    "p_14 = round(binom.pmf(14, N, p), 4)\n",
    "p_15 = round(binom.pmf(15, N, p), 4)\n",
    "\n",
    "p_total = p_11 + p_12 + p_13 + p_14 + p_15\n",
    "p_total = round(p_total, 4)\n",
    "print(f\"e) La probabilidad de encontrar más de 10 vendedores casados es: {p_total}\")\n",
    "\n"
   ]
  },
  {
   "cell_type": "code",
   "execution_count": 9,
   "id": "d0b2efa9",
   "metadata": {},
   "outputs": [
    {
     "name": "stdout",
     "output_type": "stream",
     "text": [
      "f) La probabilidad de encontrar entre 4 y 9 vendedores casados es: 0.796\n"
     ]
    }
   ],
   "source": [
    "# f) Entre 4 y 9 vendedores casados\n",
    "p_4 = round(binom.pmf(4, N, p), 4)\n",
    "p_5 = round(binom.pmf(5, N, p), 4)\n",
    "p_6 = round(binom.pmf(6, N, p), 4)\n",
    "p_7 = round(binom.pmf(7, N, p), 4)\n",
    "p_8 = round(binom.pmf(8, N, p), 4)\n",
    "p_9 = round(binom.pmf(9, N, p), 4)\n",
    "p_total = p_4 + p_5 + p_6 + p_7 + p_8 + p_9\n",
    "p_total = round(p_total, 4)\n",
    "print(f\"f) La probabilidad de encontrar entre 4 y 9 vendedores casados es: {p_total}\")\n"
   ]
  },
  {
   "cell_type": "code",
   "execution_count": 10,
   "id": "0a6a6173",
   "metadata": {},
   "outputs": [
    {
     "name": "stdout",
     "output_type": "stream",
     "text": [
      "g) La probabilidad de encontrar por lo menos un vendedor casado es: 0.998\n"
     ]
    }
   ],
   "source": [
    "# g) Por lo menos un vendedor casado\n",
    "p_0 = round(binom.pmf(0, N, p), 4)\n",
    "p_total = 1 - p_0\n",
    "p_total = round(p_total, 4)\n",
    "print(f\"g) La probabilidad de encontrar por lo menos un vendedor casado es: {p_total}\")"
   ]
  },
  {
   "cell_type": "code",
   "execution_count": null,
   "id": "c81cb968",
   "metadata": {},
   "outputs": [
    {
     "name": "stdout",
     "output_type": "stream",
     "text": [
      "h) La probabilidad de encontrar como máximo 6 vendedores no casados es: 0.035\n"
     ]
    }
   ],
   "source": [
    "# h) Como máximo 6 vendedores no casados\n",
    "p = 1 - p\n",
    "N = 15\n",
    "p_0 = round(binom.pmf(0, N, p), 4)\n",
    "p_1 = round(binom.pmf(1, N, p), 4)\n",
    "p_2 = round(binom.pmf(2, N, p), 4)\n",
    "p_3 = round(binom.pmf(3, N, p), 4)\n",
    "p_4 = round(binom.pmf(4, N, p), 4)\n",
    "p_5 = round(binom.pmf(5, N, p), 4)\n",
    "p_6 = round(binom.pmf(6, N, p), 4)\n",
    "p_total = p_0 + p_1 + p_2 + p_3 + p_4 + p_5 + p_6\n",
    "p_total = round(p_total, 4)\n",
    "print(f\"h) La probabilidad de encontrar como máximo 6 vendedores no casados es: {p_total}\")\n"
   ]
  },
  {
   "cell_type": "code",
   "execution_count": 15,
   "id": "e26f667a",
   "metadata": {},
   "outputs": [
    {
     "name": "stdout",
     "output_type": "stream",
     "text": [
      "i) La esperanza de encontrar 9.9 vendedores casados.\n",
      "La varianza es: 3.366\n",
      "El desvío estándar es: 1.8347\n"
     ]
    }
   ],
   "source": [
    "# i) ¿Cuántos vendedores casados se espera encontrar? (Calcular la varianza y el desvío estándar correspondiente)\n",
    "# La esperanza de una variable aleatoria binomial es E(X) = n * p\n",
    "# La varianza de una variable aleatoria binomial es Var(X) = n * p * q\n",
    "# El desvío estándar de una variable aleatoria binomial es σ(X) = sqrt(n * p * q)\n",
    "# La esperanza de una variable aleatoria binomial es E(X) = n * p\n",
    "\n",
    "xmedia = N * p\n",
    "xmedia = round(xmedia, 4)\n",
    "print(f\"i) La esperanza de encontrar {xmedia} vendedores casados.\")\n",
    "varianza = N * p * (1 - p)\n",
    "varianza = round(varianza, 4)\n",
    "print(f\"La varianza es: {varianza}\")\n",
    "desvio = varianza ** (1/2)\n",
    "desvio = round(desvio, 4)\n",
    "print(f\"El desvío estándar es: {desvio}\")"
   ]
  },
  {
   "cell_type": "code",
   "execution_count": null,
   "id": "3a062a66",
   "metadata": {},
   "outputs": [
    {
     "data": {
      "image/png": "[encoded data removed]",
      "text/plain": [
       "<Figure size 1000x600 with 1 Axes>"
      ]
     },
     "metadata": {},
     "output_type": "display_data"
    }
   ],
   "source": [
    "#graficar esta distribucion de probabilidad\n",
    "import matplotlib.pyplot as plt\n",
    "import numpy as np\n",
    "from scipy.stats import binom\n",
    "import seaborn as sns\n",
    "import pandas as pd\n",
    "\n",
    "# Definimos los parámetros de la distribución binomial\n",
    "n = 15\n",
    "p = 0.34\n",
    "x = np.arange(0, n+1)\n",
    "# Calculamos la función de masa de probabilidad (PMF)\n",
    "pmf = binom.pmf(x, n, p)\n",
    "# Creamos un DataFrame para facilitar la visualización\n",
    "df = pd.DataFrame({'x': x, 'PMF': pmf})\n",
    "# Creamos el gráfico\n",
    "plt.figure(figsize=(10, 6))\n",
    "sns.barplot(x='x', y='PMF', data=df, color='blue')\n",
    "plt.title('Distribución Binomial PMF (n=15, p=0.34)')\n",
    "plt.xlabel('Número de éxitos (vendedores casados)')\n",
    "plt.ylabel('Probabilidad')\n",
    "plt.xticks(x)\n",
    "plt.grid(axis='y')\n",
    "plt.show()\n"
   ]
  }
 ],
 "metadata": {
  "kernelspec": {
   "display_name": "DataScienceCourse",
   "language": "python",
   "name": "python3"
  },
  "language_info": {
   "codemirror_mode": {
    "name": "ipython",
    "version": 3
   },
   "file_extension": ".py",
   "mimetype": "text/x-python",
   "name": "python",
   "nbconvert_exporter": "python",
   "pygments_lexer": "ipython3",
   "version": "3.12.9"
  }
 },
 "nbformat": 4,
 "nbformat_minor": 5
}
