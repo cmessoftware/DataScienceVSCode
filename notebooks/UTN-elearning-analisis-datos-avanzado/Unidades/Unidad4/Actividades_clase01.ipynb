{
  "cells": [
    {
      "cell_type": "markdown",
      "metadata": {
        "id": "lPLdTMuQW8gw"
      },
      "source": [
        "![Image in a markdown cell](https://cursos.utnba.centrodeelearning.com/pluginfile.php/1/theme_space/customlogo/1738330016/Logo%20UTN%20Horizontal.png)"
      ]
    },
    {
      "cell_type": "markdown",
      "metadata": {
        "id": "OlrQxIOoXC1t"
      },
      "source": [
        "---"
      ]
    },
    {
      "cell_type": "markdown",
      "metadata": {
        "id": "Pi4XOZpHXHD3"
      },
      "source": [
        "# **Diplomado en Ciencia de datos**"
      ]
    },
    {
      "cell_type": "markdown",
      "metadata": {
        "id": "K2QsuDghXN6q"
      },
      "source": [
        "# **Actividades Tema 1: Introducción a Python**"
      ]
    },
    {
      "cell_type": "markdown",
      "metadata": {
        "id": "BP7_kEVlXijM"
      },
      "source": [
        "## **Actividad 1: Jugando con Variables y Tipos de Datos**\n",
        "\n",
        "**Objetivo:**\n",
        "\n",
        "*  Familiarizarse con la declaración y asignación de variables.\n",
        "\n",
        "*  Comprender los diferentes tipos de datos básicos en Python (string, entero, float, booleano).\n",
        "\n",
        "*  Practicar la conversión entre tipos de datos."
      ]
    },
    {
      "cell_type": "markdown",
      "metadata": {
        "id": "mEE7gwzQX8T8"
      },
      "source": [
        "**Instrucciones:**\n",
        "\n",
        "1. Crea una variable llamada **nombre** y asígnale tu nombre. Usa el comando input() para ingresar el valor\n",
        "\n",
        "2. Crea una variable llamada **edad** y asígnale tu edad (como un número entero). Usa de igual manera el método input() y verifica si la variable luego de ingresarla es entera.\n",
        "\n",
        "3. Crea una variable llamada **altura** y asígnale tu altura en metros (como un número decimal).\n",
        "\n",
        "4. Crea una variable llamada **es_estudiante** y asígnale True si eres estudiante, o False si no lo eres.\n",
        "\n",
        "5. Imprime el tipo de dato de cada variable usando la función type().\n",
        "\n",
        "6. Convierte tu edad a un número decimal y guárdalo en una nueva variable llamada **edad_decimal**.\n",
        "\n",
        "7. Convierte tu altura a centímetros (multiplicando por 100) y guárdalo en una variable llamada **altura_cm**.\n",
        "\n",
        "8. Imprime un mensaje que incluya tu nombre, edad, altura y si eres estudiante o no. Utiliza f-strings para formatear el mensaje."
      ]
    },
    {
      "cell_type": "code",
      "execution_count": 1,
      "metadata": {
        "colab": {
          "base_uri": "https://localhost:8080/",
          "height": 263
        },
        "id": "qZmmISNkZrlN",
        "outputId": "7e9249bb-752f-454b-f8e9-76f541e34d0f"
      },
      "outputs": [
        {
          "name": "stdout",
          "output_type": "stream",
          "text": [
            "Tipo de dato de nombre: <class 'str'>\n",
            "Tipo de dato de edad: <class 'int'>\n",
            "Tipo de dato de altura: <class 'float'>\n",
            "Tipo de dato de es_estudiante: <class 'bool'>\n",
            "Hola, mi nombre es Cacho. Tengo 34 años, mido 1.98 metros (198.0 cm) y no soy estudiante.\n"
          ]
        }
      ],
      "source": [
        "# 1. Crea una variable llamada nombre y asígnale tu nombre.\n",
        "nombre = input(\"Ingresa tu nombre: \")\n",
        "\n",
        "# 2. Crea una variable llamada edad y asígnale tu edad (como un número entero).\n",
        "edad = input(\"Ingresa tu edad: \")\n",
        "if edad.isdigit():\n",
        "    edad = int(edad)\n",
        "else:\n",
        "    print(\"La edad ingresada no es un número entero.\")\n",
        "\n",
        "# 3. Crea una variable llamada altura y asígnale tu altura en metros (como un número decimal).\n",
        "altura = float(input(\"Ingresa tu altura en metros: \"))\n",
        "\n",
        "# 4. Crea una variable llamada es_estudiante y asígnale True si eres estudiante, o False si no lo eres.\n",
        "es_estudiante = input(\"¿Eres estudiante? (sí/no): \").strip().lower() == \"sí\"\n",
        "\n",
        "# 5. Imprime el tipo de dato de cada variable usando la función type().\n",
        "print(f\"Tipo de dato de nombre: {type(nombre)}\")\n",
        "print(f\"Tipo de dato de edad: {type(edad)}\")\n",
        "print(f\"Tipo de dato de altura: {type(altura)}\")\n",
        "print(f\"Tipo de dato de es_estudiante: {type(es_estudiante)}\")\n",
        "\n",
        "# 6. Convierte tu edad a un número decimal y guárdalo en una nueva variable llamada edad_decimal.\n",
        "edad_decimal = float(edad)\n",
        "\n",
        "# 7. Convierte tu altura a centímetros (multiplicando por 100) y guárdalo en una variable llamada altura_cm.\n",
        "altura_cm = altura * 100\n",
        "\n",
        "# 8. Imprime un mensaje que incluya tu nombre, edad, altura y si eres estudiante o no.\n",
        "print(f\"Hola, mi nombre es {nombre}. Tengo {edad} años, mido {altura} metros ({altura_cm} cm) y {'soy' if es_estudiante else 'no soy'} estudiante.\")\n",
        "\n"
      ]
    },
    {
      "cell_type": "markdown",
      "metadata": {
        "id": "aUSIoXVMZR1z"
      },
      "source": [
        "---"
      ]
    },
    {
      "cell_type": "markdown",
      "metadata": {
        "id": "iUFqY13vZZUu"
      },
      "source": [
        "## **Actividad 2: Manipulando Strings: El Editor de Textos Básico**\n",
        "\n",
        "**Objetivo:**\n",
        "\n",
        "* Practicar el uso de métodos de strings para manipular texto.\n",
        "\n",
        "* Combinar diferentes métodos para lograr un resultado específico."
      ]
    },
    {
      "cell_type": "markdown",
      "metadata": {
        "id": "397Pr88QZxiv"
      },
      "source": [
        "**Instrucciones:**\n",
        "\n",
        "1. Crea una variable llamada **texto** y asígnale la siguiente frase: \" Python es un lenguaje genial! \".\n",
        "\n",
        "2. Elimina los espacios en blanco al principio y al final del texto utilizando el método strip().\n",
        "\n",
        "3. Convierte todo el texto a mayúsculas utilizando el método upper().\n",
        "\n",
        "4. Reemplaza la palabra \"GENIAL\" con la palabra \"FANTÁSTICO\" utilizando el método replace().\n",
        "\n",
        "5. Verifica si la palabra \"Python\" está presente en el texto utilizando el operador in.\n",
        "\n",
        "6. Divide el texto en una lista de palabras utilizando el método split().\n",
        "\n",
        "7. Imprime cada paso del proceso para ver cómo se transforma el texto."
      ]
    },
    {
      "cell_type": "code",
      "execution_count": 3,
      "metadata": {
        "id": "EFqSu_JaaGOt"
      },
      "outputs": [
        {
          "name": "stdout",
          "output_type": "stream",
          "text": [
            "Texto después de strip(): 'Python es un lenguaje genial!'\n",
            "Texto después de upper(): 'PYTHON ES UN LENGUAJE GENIAL!'\n",
            "Texto después de replace(): 'PYTHON ES UN LENGUAJE FANTÁSTICO!'\n",
            "¿El texto contiene 'Python'? True\n",
            "Texto después de split(): ['PYTHON', 'ES', 'UN', 'LENGUAJE', 'FANTÁSTICO!']\n"
          ]
        }
      ],
      "source": [
        "# Desarrolla tus respuestas aquí\n",
        "\n",
        "\n",
        "# 1. Crea una variable llamada texto y asígnale la siguiente frase: \" Python es un lenguaje genial! \".\n",
        "texto = \" Python es un lenguaje genial! \"\n",
        "\n",
        "# 2. Elimina los espacios en blanco al principio y al final del texto utilizando el método strip().\n",
        "texto = texto.strip()\n",
        "print(f\"Texto después de strip(): '{texto}'\")\n",
        "\n",
        "# 3. Convierte todo el texto a mayúsculas utilizando el método upper().\n",
        "texto = texto.upper()\n",
        "print(f\"Texto después de upper(): '{texto}'\")\n",
        "\n",
        "# 4. Reemplaza la palabra \"GENIAL\" con la palabra \"FANTÁSTICO\" utilizando el método replace().\n",
        "texto = texto.replace(\"GENIAL\", \"FANTÁSTICO\")\n",
        "print(f\"Texto después de replace(): '{texto}'\")\n",
        "\n",
        "# 5. Verifica si la palabra \"Python\" está presente en el texto utilizando el operador in.\n",
        "contiene_python = \"PYTHON\" in texto\n",
        "print(f\"¿El texto contiene 'Python'? {contiene_python}\")\n",
        "\n",
        "# 6. Divide el texto en una lista de palabras utilizando el método split().\n",
        "palabras = texto.split()\n",
        "print(f\"Texto después de split(): {palabras}\")\n",
        "\n",
        "# 7. Imprime cada paso del proceso para ver cómo se transforma el texto."
      ]
    },
    {
      "cell_type": "markdown",
      "metadata": {
        "id": "OMfSxcGUaSGl"
      },
      "source": [
        "---"
      ]
    },
    {
      "cell_type": "markdown",
      "metadata": {
        "id": "hFAo54UTbNxE"
      },
      "source": [
        "## **Actividad 3: Explorando Diccionarios: El Directorio de Contactos**\n",
        "\n",
        "**Objetivo:**\n",
        "\n",
        "* Familiarizarse con la creación y manipulación de diccionarios.\n",
        "\n",
        "* Practicar el acceso, la modificación y la adición de elementos en un diccionario."
      ]
    },
    {
      "cell_type": "markdown",
      "metadata": {
        "id": "zjC8sE_GbmDb"
      },
      "source": [
        "**Instrucciones:**\n",
        "\n",
        "1. Crea un diccionario llamado contactos para almacenar información de contactos. Cada contacto debe tener un nombre, un número de teléfono y un correo electrónico.\n",
        "\n",
        "2. Agrega al menos tres contactos al diccionario.\n",
        "\n",
        "3. Imprime el diccionario completo.\n",
        "\n",
        "4. Accede al número de teléfono de uno de los contactos e imprímelo.\n",
        "\n",
        "5. Modifica el correo electrónico de uno de los contactos.\n",
        "\n",
        "6. Agrega un nuevo contacto al diccionario.\n",
        "\n",
        "7. Elimina uno de los contactos del diccionario.\n",
        "\n",
        "8. Verifica si un nombre específico está presente como clave en el diccionario.\n",
        "\n",
        "9. Imprime las claves y los valores del diccionario por separado."
      ]
    },
    {
      "cell_type": "code",
      "execution_count": 4,
      "metadata": {
        "id": "AYAMxQR0aSpm"
      },
      "outputs": [
        {
          "name": "stdout",
          "output_type": "stream",
          "text": [
            "Diccionario completo: {'Juan': {'telefono': '123456789', 'email': 'juan@example.com'}, 'Maria': {'telefono': '987654321', 'email': 'maria@example.com'}, 'Pedro': {'telefono': '456789123', 'email': 'pedro@example.com'}}\n",
            "Teléfono de Juan: 123456789\n",
            "Correo electrónico actualizado de Maria: maria.nueva@example.com\n",
            "Diccionario después de agregar un nuevo contacto: {'Juan': {'telefono': '123456789', 'email': 'juan@example.com'}, 'Maria': {'telefono': '987654321', 'email': 'maria.nueva@example.com'}, 'Pedro': {'telefono': '456789123', 'email': 'pedro@example.com'}, 'Ana': {'telefono': '321654987', 'email': 'ana@example.com'}}\n",
            "Diccionario después de eliminar a Pedro: {'Juan': {'telefono': '123456789', 'email': 'juan@example.com'}, 'Maria': {'telefono': '987654321', 'email': 'maria.nueva@example.com'}, 'Ana': {'telefono': '321654987', 'email': 'ana@example.com'}}\n",
            "¿Está Juan en el diccionario? True\n",
            "Claves del diccionario: dict_keys(['Juan', 'Maria', 'Ana'])\n",
            "Valores del diccionario: dict_values([{'telefono': '123456789', 'email': 'juan@example.com'}, {'telefono': '987654321', 'email': 'maria.nueva@example.com'}, {'telefono': '321654987', 'email': 'ana@example.com'}])\n"
          ]
        }
      ],
      "source": [
        "# 1. Crea un diccionario llamado contactos para almacenar información de contactos.\n",
        "contactos = {\n",
        "    \"Juan\": {\"telefono\": \"123456789\", \"email\": \"juan@example.com\"},\n",
        "    \"Maria\": {\"telefono\": \"987654321\", \"email\": \"maria@example.com\"},\n",
        "    \"Pedro\": {\"telefono\": \"456789123\", \"email\": \"pedro@example.com\"}\n",
        "}\n",
        "\n",
        "# 2. Agrega al menos tres contactos al diccionario.\n",
        "# Ya se agregaron en la creación del diccionario.\n",
        "\n",
        "# 3. Imprime el diccionario completo.\n",
        "print(\"Diccionario completo:\", contactos)\n",
        "\n",
        "# 4. Accede al número de teléfono de uno de los contactos e imprímelo.\n",
        "print(\"Teléfono de Juan:\", contactos[\"Juan\"][\"telefono\"])\n",
        "\n",
        "# 5. Modifica el correo electrónico de uno de los contactos.\n",
        "contactos[\"Maria\"][\"email\"] = \"maria.nueva@example.com\"\n",
        "print(\"Correo electrónico actualizado de Maria:\", contactos[\"Maria\"][\"email\"])\n",
        "\n",
        "# 6. Agrega un nuevo contacto al diccionario.\n",
        "contactos[\"Ana\"] = {\"telefono\": \"321654987\", \"email\": \"ana@example.com\"}\n",
        "print(\"Diccionario después de agregar un nuevo contacto:\", contactos)\n",
        "\n",
        "# 7. Elimina uno de los contactos del diccionario.\n",
        "del contactos[\"Pedro\"]\n",
        "print(\"Diccionario después de eliminar a Pedro:\", contactos)\n",
        "\n",
        "# 8. Verifica si un nombre específico está presente como clave en el diccionario.\n",
        "nombre_a_buscar = \"Juan\"\n",
        "print(f\"¿Está {nombre_a_buscar} en el diccionario?\", nombre_a_buscar in contactos)\n",
        "\n",
        "# 9. Imprime las claves y los valores del diccionario por separado.\n",
        "print(\"Claves del diccionario:\", contactos.keys())\n",
        "print(\"Valores del diccionario:\", contactos.values())\n",
        "\n"
      ]
    },
    {
      "cell_type": "markdown",
      "metadata": {
        "id": "mYedDBOVdSlc"
      },
      "source": [
        "---"
      ]
    },
    {
      "cell_type": "markdown",
      "metadata": {
        "id": "fCtQZDfrcFSj"
      },
      "source": [
        "## **Actividad 4: Dominando Listas: La Lista de Tareas Pendientes**\n",
        "\n",
        "**Objetivo:**\n",
        "\n",
        "* Familiarizarse con la creación y manipulación de listas.\n",
        "\n",
        "* Practicar el acceso, la modificación, la adición y la eliminación de elementos en una lista."
      ]
    },
    {
      "cell_type": "markdown",
      "metadata": {
        "id": "7PivFchecghf"
      },
      "source": [
        "**Instrucciones:**\n",
        "\n",
        "1. Crea una lista llamada tareas para almacenar una lista de tareas pendientes.\n",
        "\n",
        "2. Agrega al menos cinco tareas a la lista.\n",
        "\n",
        "3. Imprime la lista completa.\n",
        "\n",
        "4. Accede a la primera tarea de la lista e imprímela.\n",
        "\n",
        "5. Modifica la segunda tarea de la lista.\n",
        "\n",
        "6. Agrega una nueva tarea al final de la lista utilizando el método append().\n",
        "\n",
        "7. Inserta una nueva tarea en una posición específica de la lista utilizando el método insert().\n",
        "\n",
        "8. Elimina la última tarea de la lista utilizando el método pop().\n",
        "\n",
        "9. Elimina una tarea específica de la lista utilizando el método remove().\n",
        "\n",
        "10. Ordena la lista alfabéticamente utilizando el método sort().\n",
        "\n",
        "11. Imprime la longitud de la lista utilizando la función len()."
      ]
    },
    {
      "cell_type": "code",
      "execution_count": 5,
      "metadata": {
        "id": "W-6PCshecMn1"
      },
      "outputs": [
        {
          "name": "stdout",
          "output_type": "stream",
          "text": [
            "Lista completa de tareas: ['Comprar comida', 'Llamar al médico', 'Estudiar Python', 'Limpiar la casa', 'Pagar facturas']\n",
            "Primera tarea: Comprar comida\n",
            "Lista después de modificar la segunda tarea: ['Comprar comida', 'Llamar al dentista', 'Estudiar Python', 'Limpiar la casa', 'Pagar facturas']\n",
            "Lista después de agregar una nueva tarea: ['Comprar comida', 'Llamar al dentista', 'Estudiar Python', 'Limpiar la casa', 'Pagar facturas', 'Hacer ejercicio']\n",
            "Lista después de insertar una nueva tarea: ['Comprar comida', 'Llamar al dentista', 'Revisar correos', 'Estudiar Python', 'Limpiar la casa', 'Pagar facturas', 'Hacer ejercicio']\n",
            "Lista después de eliminar la última tarea: ['Comprar comida', 'Llamar al dentista', 'Revisar correos', 'Estudiar Python', 'Limpiar la casa', 'Pagar facturas']\n",
            "Lista después de eliminar una tarea específica: ['Comprar comida', 'Llamar al dentista', 'Revisar correos', 'Estudiar Python', 'Pagar facturas']\n",
            "Lista ordenada alfabéticamente: ['Comprar comida', 'Estudiar Python', 'Llamar al dentista', 'Pagar facturas', 'Revisar correos']\n",
            "Longitud de la lista: 5\n"
          ]
        }
      ],
      "source": [
        "# Desarrolla tus respuestas aquí\n",
        "# 1. Crea una lista llamada tareas para almacenar una lista de tareas pendientes.\n",
        "tareas = [\"Comprar comida\", \"Llamar al médico\", \"Estudiar Python\", \"Limpiar la casa\", \"Pagar facturas\"]\n",
        "\n",
        "# 2. Agrega al menos cinco tareas a la lista.\n",
        "# Ya se agregaron en la creación de la lista.\n",
        "\n",
        "# 3. Imprime la lista completa.\n",
        "print(\"Lista completa de tareas:\", tareas)\n",
        "\n",
        "# 4. Accede a la primera tarea de la lista e imprímela.\n",
        "print(\"Primera tarea:\", tareas[0])\n",
        "\n",
        "# 5. Modifica la segunda tarea de la lista.\n",
        "tareas[1] = \"Llamar al dentista\"\n",
        "print(\"Lista después de modificar la segunda tarea:\", tareas)\n",
        "\n",
        "# 6. Agrega una nueva tarea al final de la lista utilizando el método append().\n",
        "tareas.append(\"Hacer ejercicio\")\n",
        "print(\"Lista después de agregar una nueva tarea:\", tareas)\n",
        "\n",
        "# 7. Inserta una nueva tarea en una posición específica de la lista utilizando el método insert().\n",
        "tareas.insert(2, \"Revisar correos\")\n",
        "print(\"Lista después de insertar una nueva tarea:\", tareas)\n",
        "\n",
        "# 8. Elimina la última tarea de la lista utilizando el método pop().\n",
        "tareas.pop()\n",
        "print(\"Lista después de eliminar la última tarea:\", tareas)\n",
        "\n",
        "# 9. Elimina una tarea específica de la lista utilizando el método remove().\n",
        "tareas.remove(\"Limpiar la casa\")\n",
        "print(\"Lista después de eliminar una tarea específica:\", tareas)\n",
        "\n",
        "# 10. Ordena la lista alfabéticamente utilizando el método sort().\n",
        "tareas.sort()\n",
        "print(\"Lista ordenada alfabéticamente:\", tareas)\n",
        "\n",
        "# 11. Imprime la longitud de la lista utilizando la función len().\n",
        "print(\"Longitud de la lista:\", len(tareas))"
      ]
    },
    {
      "cell_type": "markdown",
      "metadata": {
        "id": "KcSPina9dzaO"
      },
      "source": [
        "---"
      ]
    },
    {
      "cell_type": "markdown",
      "metadata": {
        "id": "N0AMwtFAd51l"
      },
      "source": [
        "## **Actividad 5: Interactuando con el Usuario: El Calculador de Propiedades**"
      ]
    },
    {
      "cell_type": "markdown",
      "metadata": {
        "id": "Cd66MINceEZs"
      },
      "source": [
        "**Objetivo:**\n",
        "\n",
        "* Practicar la entrada de datos con la función input().\n",
        "\n",
        "* Practicar la salida de datos con la función print().\n",
        "\n",
        "* Utilizar f-strings para crear mensajes personalizados.\n",
        "\n",
        "* Realizar cálculos básicos con variables numéricas."
      ]
    },
    {
      "cell_type": "markdown",
      "metadata": {
        "id": "NfXqGZaceQMF"
      },
      "source": [
        "**Instrucciones:**\n",
        "\n",
        "1. Pide al usuario que ingrese el nombre de una propiedad (ej. \"Mi casa\").\n",
        "\n",
        "2. Pide al usuario que ingrese el largo de la propiedad en metros.\n",
        "\n",
        "3. Pide al usuario que ingrese el ancho de la propiedad en metros.\n",
        "\n",
        "4. Calcula el área de la propiedad (largo * ancho).\n",
        "\n",
        "5. Calcula el perímetro de la propiedad (2 * (largo + ancho)).\n",
        "\n",
        "6. Pide al usuario que ingrese el precio por metro cuadrado.\n",
        "\n",
        "7. Calcula el valor total de la propiedad (área * precio por metro cuadrado).\n",
        "\n",
        "8. Imprime un resumen de la información de la propiedad, incluyendo el nombre, el área, el perímetro y el valor total. Utiliza f-strings para formatear el mensaje."
      ]
    },
    {
      "cell_type": "code",
      "execution_count": 6,
      "metadata": {
        "id": "ilRhT6MOd0PD"
      },
      "outputs": [
        {
          "name": "stdout",
          "output_type": "stream",
          "text": [
            "Resumen de la propiedad:\n",
            "Nombre: Hogar X\n",
            "Área: 1000.00 m²\n",
            "Perímetro: 220.00 m\n",
            "Valor total: $1200000.00\n"
          ]
        }
      ],
      "source": [
        "# Desarrolla tus respuestas aquí\n",
        "# 1. Pide al usuario que ingrese el nombre de una propiedad (ej. \"Mi casa\").\n",
        "nombre_propiedad = input(\"Ingresa el nombre de la propiedad: \")\n",
        "\n",
        "# 2. Pide al usuario que ingrese el largo de la propiedad en metros.\n",
        "largo = float(input(\"Ingresa el largo de la propiedad en metros: \"))\n",
        "\n",
        "# 3. Pide al usuario que ingrese el ancho de la propiedad en metros.\n",
        "ancho = float(input(\"Ingresa el ancho de la propiedad en metros: \"))\n",
        "\n",
        "# 4. Calcula el área de la propiedad (largo * ancho).\n",
        "area = largo * ancho\n",
        "\n",
        "# 5. Calcula el perímetro de la propiedad (2 * (largo + ancho)).\n",
        "perimetro = 2 * (largo + ancho)\n",
        "\n",
        "# 6. Pide al usuario que ingrese el precio por metro cuadrado.\n",
        "precio_m2 = float(input(\"Ingresa el precio por metro cuadrado: \"))\n",
        "\n",
        "# 7. Calcula el valor total de la propiedad (área * precio por metro cuadrado).\n",
        "valor_total = area * precio_m2\n",
        "\n",
        "# 8. Imprime un resumen de la información de la propiedad, incluyendo el nombre, el área, el perímetro y el valor total.\n",
        "print(f\"Resumen de la propiedad:\")\n",
        "print(f\"Nombre: {nombre_propiedad}\")\n",
        "print(f\"Área: {area:.2f} m²\")\n",
        "print(f\"Perímetro: {perimetro:.2f} m\")\n",
        "print(f\"Valor total: ${valor_total:.2f}\")"
      ]
    }
  ],
  "metadata": {
    "colab": {
      "provenance": []
    },
    "kernelspec": {
      "display_name": "Python 3",
      "name": "python3"
    },
    "language_info": {
      "codemirror_mode": {
        "name": "ipython",
        "version": 3
      },
      "file_extension": ".py",
      "mimetype": "text/x-python",
      "name": "python",
      "nbconvert_exporter": "python",
      "pygments_lexer": "ipython3",
      "version": "3.11.12"
    }
  },
  "nbformat": 4,
  "nbformat_minor": 0
}
