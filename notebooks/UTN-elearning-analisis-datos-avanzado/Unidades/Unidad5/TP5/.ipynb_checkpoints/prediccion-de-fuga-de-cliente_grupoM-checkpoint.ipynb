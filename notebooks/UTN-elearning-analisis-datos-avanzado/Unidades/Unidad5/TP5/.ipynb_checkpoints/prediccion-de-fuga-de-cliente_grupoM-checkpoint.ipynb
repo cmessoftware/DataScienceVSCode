{
 "cells": [
  {
   "cell_type": "markdown",
   "metadata": {},
   "source": [
    "![Image in a markdown cell](https://cursos.utnba.centrodeelearning.com/pluginfile.php/1/theme_space/customlogo/1738330016/Logo%20UTN%20Horizontal.png)\n",
    "\n"
   ]
  },
  {
   "cell_type": "markdown",
   "metadata": {},
   "source": [
    "# **Diplomado de Ciencia de Datos y Análisis Avanzado**\n",
    "# **Unidad 5: Modelado Predictivo I**: Regresión y Clasificación"
   ]
  },
  {
   "cell_type": "markdown",
   "metadata": {},
   "source": [
    "---"
   ]
  },
  {
   "cell_type": "markdown",
   "metadata": {},
   "source": [
    "# **Proyecto de Competencia Kaggle: Predicción de Abandono de Clientes**\n",
    "\n",
    "## **Curso:** Diplomado en Ciencia de Datos\n",
    "\n",
    "# **Nombres de los Miembros del Equipo:**\n",
    "### *   [Nombre Completo del Miembro 1]\n",
    "### *   [Nombre Completo del Miembro 2]\n",
    "### *   [Nombre Completo del Miembro 3]\n",
    "\n",
    "# **Objetivo:**\n",
    "## El objetivo de este proyecto es construir y evaluar varios modelos de clasificación para predecir si un cliente de una compañía de telecomunicaciones abandonará o no el servicio (churn). El rendimiento final del mejor modelo se medirá en la competencia de Kaggle a través de la **métrica ROC AUC**.\n"
   ]
  },
  {
   "cell_type": "markdown",
   "metadata": {},
   "source": [
    "---"
   ]
  },
  {
   "cell_type": "markdown",
   "metadata": {},
   "source": [
    "# **Enlace para unirse a la competencia**\n",
    "### **USE EL ENLACE PARA UNIRSE POR EQUIPO, NO DE MANERA INDIVIDUAL**\n",
    "\n",
    "https://www.kaggle.com/t/57b70c381e4d451b8ae38e164b91a2aa\n",
    "\n",
    "\n",
    "### **Por favor siga las indicaciones que se suministran en la plataforma**\n"
   ]
  },
  {
   "cell_type": "markdown",
   "metadata": {},
   "source": []
  },
  {
   "cell_type": "markdown",
   "metadata": {},
   "source": [
    "# 0. **Configuración Inicial e Importación de Librerías**\n",
    "\n",
    "## En esta sección, importaremos todas las librerías necesarias para el proyecto. Es una buena práctica tener todas las importaciones en la primera celda.\n"
   ]
  },
  {
   "cell_type": "code",
   "execution_count": 3,
   "metadata": {},
   "outputs": [
    {
     "name": "stdout",
     "output_type": "stream",
     "text": [
      "✅ Módulos del proyecto importados correctamente\n"
     ]
    }
   ],
   "source": [
    "# Importaciones básicas\n",
    "import pandas as pd\n",
    "import numpy as np\n",
    "import matplotlib.pyplot as plt\n",
    "import seaborn as sns\n",
    "from sklearn.model_selection import train_test_split\n",
    "from sklearn.preprocessing import StandardScaler, LabelEncoder\n",
    "from sklearn.linear_model import LogisticRegression\n",
    "from sklearn.neighbors import KNeighborsClassifier\n",
    "from sklearn.naive_bayes import GaussianNB\n",
    "from sklearn.metrics import roc_auc_score, classification_report, confusion_matrix\n",
    "import warnings\n",
    "warnings.filterwarnings('ignore')\n",
    "\n",
    "# Configurar visualizaciones\n",
    "plt.style.use('default')\n",
    "sns.set_palette(\"husl\")\n",
    "%matplotlib inline\n",
    "\n",
    "# Importar módulos del proyecto (si existen)\n",
    "try:\n",
    "    import data_loader\n",
    "    import dataset_splitter\n",
    "    import eda\n",
    "    import models\n",
    "    import metrics\n",
    "    print(\"✅ Módulos del proyecto importados correctamente\")\n",
    "except ImportError as e:\n",
    "    print(f\"⚠️ Algunos módulos del proyecto no están disponibles: {e}\")\n",
    "    print(\"💡 Puedes trabajar directamente en el notebook por ahora\")"
   ]
  },
  {
   "cell_type": "markdown",
   "metadata": {},
   "source": [
    "#  **1. Carga de Datos**\n",
    "\n",
    "## Cargaremos los datasets proporcionados para la competencia: `train.csv`, `test.csv` y `sample_submission.csv`."
   ]
  },
  {
   "cell_type": "code",
   "execution_count": 2,
   "metadata": {},
   "outputs": [
    {
     "name": "stdout",
     "output_type": "stream",
     "text": [
      "Asegúrate de que los archivos .csv de la competencia estén en el mismo directorio que este cuaderno.\n",
      "Si usas Colab, puedes subir los archivos al entorno de ejecución.\n",
      "📝 Creando datos de ejemplo para desarrollo...\n",
      "Forma del dataset de entrenamiento: (1000, 9)\n",
      "Forma del dataset de prueba: (200, 8)\n",
      "\n",
      "Primeras 5 filas del dataset de entrenamiento:\n"
     ]
    },
    {
     "data": {
      "text/html": [
       "<div>\n",
       "<style scoped>\n",
       "    .dataframe tbody tr th:only-of-type {\n",
       "        vertical-align: middle;\n",
       "    }\n",
       "\n",
       "    .dataframe tbody tr th {\n",
       "        vertical-align: top;\n",
       "    }\n",
       "\n",
       "    .dataframe thead th {\n",
       "        text-align: right;\n",
       "    }\n",
       "</style>\n",
       "<table border=\"1\" class=\"dataframe\">\n",
       "  <thead>\n",
       "    <tr style=\"text-align: right;\">\n",
       "      <th></th>\n",
       "      <th>customerID</th>\n",
       "      <th>gender</th>\n",
       "      <th>tenure</th>\n",
       "      <th>MonthlyCharges</th>\n",
       "      <th>TotalCharges</th>\n",
       "      <th>Contract</th>\n",
       "      <th>InternetService</th>\n",
       "      <th>PaymentMethod</th>\n",
       "      <th>Churn</th>\n",
       "    </tr>\n",
       "  </thead>\n",
       "  <tbody>\n",
       "    <tr>\n",
       "      <th>0</th>\n",
       "      <td>C0000</td>\n",
       "      <td>Male</td>\n",
       "      <td>62</td>\n",
       "      <td>60.502080</td>\n",
       "      <td>4386.021511</td>\n",
       "      <td>Two year</td>\n",
       "      <td>Fiber optic</td>\n",
       "      <td>Electronic check</td>\n",
       "      <td>0</td>\n",
       "    </tr>\n",
       "    <tr>\n",
       "      <th>1</th>\n",
       "      <td>C0001</td>\n",
       "      <td>Female</td>\n",
       "      <td>16</td>\n",
       "      <td>79.291840</td>\n",
       "      <td>6907.765710</td>\n",
       "      <td>Two year</td>\n",
       "      <td>No</td>\n",
       "      <td>Electronic check</td>\n",
       "      <td>0</td>\n",
       "    </tr>\n",
       "    <tr>\n",
       "      <th>2</th>\n",
       "      <td>C0002</td>\n",
       "      <td>Male</td>\n",
       "      <td>32</td>\n",
       "      <td>77.941490</td>\n",
       "      <td>4763.255789</td>\n",
       "      <td>One year</td>\n",
       "      <td>DSL</td>\n",
       "      <td>Credit card</td>\n",
       "      <td>0</td>\n",
       "    </tr>\n",
       "    <tr>\n",
       "      <th>3</th>\n",
       "      <td>C0003</td>\n",
       "      <td>Male</td>\n",
       "      <td>28</td>\n",
       "      <td>86.262128</td>\n",
       "      <td>1887.604955</td>\n",
       "      <td>One year</td>\n",
       "      <td>DSL</td>\n",
       "      <td>Credit card</td>\n",
       "      <td>0</td>\n",
       "    </tr>\n",
       "    <tr>\n",
       "      <th>4</th>\n",
       "      <td>C0004</td>\n",
       "      <td>Male</td>\n",
       "      <td>12</td>\n",
       "      <td>29.526151</td>\n",
       "      <td>3135.492999</td>\n",
       "      <td>Month-to-month</td>\n",
       "      <td>No</td>\n",
       "      <td>Credit card</td>\n",
       "      <td>0</td>\n",
       "    </tr>\n",
       "  </tbody>\n",
       "</table>\n",
       "</div>"
      ],
      "text/plain": [
       "  customerID  gender  tenure  MonthlyCharges  TotalCharges        Contract  \\\n",
       "0      C0000    Male      62       60.502080   4386.021511        Two year   \n",
       "1      C0001  Female      16       79.291840   6907.765710        Two year   \n",
       "2      C0002    Male      32       77.941490   4763.255789        One year   \n",
       "3      C0003    Male      28       86.262128   1887.604955        One year   \n",
       "4      C0004    Male      12       29.526151   3135.492999  Month-to-month   \n",
       "\n",
       "  InternetService     PaymentMethod  Churn  \n",
       "0     Fiber optic  Electronic check      0  \n",
       "1              No  Electronic check      0  \n",
       "2             DSL       Credit card      0  \n",
       "3             DSL       Credit card      0  \n",
       "4              No       Credit card      0  "
      ]
     },
     "metadata": {},
     "output_type": "display_data"
    },
    {
     "name": "stdout",
     "output_type": "stream",
     "text": [
      "\n",
      "Primeras 5 filas del dataset de prueba:\n"
     ]
    },
    {
     "data": {
      "text/html": [
       "<div>\n",
       "<style scoped>\n",
       "    .dataframe tbody tr th:only-of-type {\n",
       "        vertical-align: middle;\n",
       "    }\n",
       "\n",
       "    .dataframe tbody tr th {\n",
       "        vertical-align: top;\n",
       "    }\n",
       "\n",
       "    .dataframe thead th {\n",
       "        text-align: right;\n",
       "    }\n",
       "</style>\n",
       "<table border=\"1\" class=\"dataframe\">\n",
       "  <thead>\n",
       "    <tr style=\"text-align: right;\">\n",
       "      <th></th>\n",
       "      <th>customerID</th>\n",
       "      <th>gender</th>\n",
       "      <th>tenure</th>\n",
       "      <th>MonthlyCharges</th>\n",
       "      <th>TotalCharges</th>\n",
       "      <th>Contract</th>\n",
       "      <th>InternetService</th>\n",
       "      <th>PaymentMethod</th>\n",
       "    </tr>\n",
       "  </thead>\n",
       "  <tbody>\n",
       "    <tr>\n",
       "      <th>0</th>\n",
       "      <td>T0000</td>\n",
       "      <td>Male</td>\n",
       "      <td>13</td>\n",
       "      <td>101.820667</td>\n",
       "      <td>5682.410681</td>\n",
       "      <td>Month-to-month</td>\n",
       "      <td>Fiber optic</td>\n",
       "      <td>Electronic check</td>\n",
       "    </tr>\n",
       "    <tr>\n",
       "      <th>1</th>\n",
       "      <td>T0001</td>\n",
       "      <td>Female</td>\n",
       "      <td>28</td>\n",
       "      <td>104.478944</td>\n",
       "      <td>5061.147723</td>\n",
       "      <td>Month-to-month</td>\n",
       "      <td>No</td>\n",
       "      <td>Mailed check</td>\n",
       "    </tr>\n",
       "    <tr>\n",
       "      <th>2</th>\n",
       "      <td>T0002</td>\n",
       "      <td>Male</td>\n",
       "      <td>27</td>\n",
       "      <td>74.941424</td>\n",
       "      <td>1999.020871</td>\n",
       "      <td>One year</td>\n",
       "      <td>No</td>\n",
       "      <td>Mailed check</td>\n",
       "    </tr>\n",
       "    <tr>\n",
       "      <th>3</th>\n",
       "      <td>T0003</td>\n",
       "      <td>Male</td>\n",
       "      <td>71</td>\n",
       "      <td>26.254223</td>\n",
       "      <td>1523.546458</td>\n",
       "      <td>Two year</td>\n",
       "      <td>Fiber optic</td>\n",
       "      <td>Credit card</td>\n",
       "    </tr>\n",
       "    <tr>\n",
       "      <th>4</th>\n",
       "      <td>T0004</td>\n",
       "      <td>Male</td>\n",
       "      <td>32</td>\n",
       "      <td>101.873500</td>\n",
       "      <td>439.754920</td>\n",
       "      <td>Two year</td>\n",
       "      <td>Fiber optic</td>\n",
       "      <td>Mailed check</td>\n",
       "    </tr>\n",
       "  </tbody>\n",
       "</table>\n",
       "</div>"
      ],
      "text/plain": [
       "  customerID  gender  tenure  MonthlyCharges  TotalCharges        Contract  \\\n",
       "0      T0000    Male      13      101.820667   5682.410681  Month-to-month   \n",
       "1      T0001  Female      28      104.478944   5061.147723  Month-to-month   \n",
       "2      T0002    Male      27       74.941424   1999.020871        One year   \n",
       "3      T0003    Male      71       26.254223   1523.546458        Two year   \n",
       "4      T0004    Male      32      101.873500    439.754920        Two year   \n",
       "\n",
       "  InternetService     PaymentMethod  \n",
       "0     Fiber optic  Electronic check  \n",
       "1              No      Mailed check  \n",
       "2              No      Mailed check  \n",
       "3     Fiber optic       Credit card  \n",
       "4     Fiber optic      Mailed check  "
      ]
     },
     "metadata": {},
     "output_type": "display_data"
    }
   ],
   "source": [
    "try:\n",
    "    train_df = pd.read_csv('train.csv')\n",
    "    test_df = pd.read_csv('test.csv')\n",
    "    sample_submission_df = pd.read_csv('sample_submission.csv')\n",
    "except FileNotFoundError:\n",
    "    print(\"Asegúrate de que los archivos .csv de la competencia estén en el mismo directorio que este cuaderno.\")\n",
    "    # Si usas Colab, puedes subir los archivos al entorno de ejecución.\n",
    "    exit()\n",
    "\n",
    "print(\"Forma del dataset de entrenamiento:\", train_df.shape)\n",
    "print(\"Forma del dataset de prueba:\", test_df.shape)\n",
    "\n",
    "print(\"\\nPrimeras 5 filas del dataset de entrenamiento:\")\n",
    "display(train_df.head())\n",
    "\n",
    "print(\"\\nPrimeras 5 filas del dataset de prueba:\")\n",
    "display(test_df.head())"
   ]
  },
  {
   "cell_type": "markdown",
   "metadata": {},
   "source": [
    "# 2**. Análisis Exploratorio de Datos (EDA)**\n",
    "\n",
    "## En esta fase, exploraremos el dataset de entrenamiento para entender mejor nuestros datos, encontrar patrones, identificar valores faltantes y visualizar relaciones entre las características y la variable objetivo (`Churn`)."
   ]
  },
  {
   "cell_type": "markdown",
   "metadata": {},
   "source": [
    "## Objetivo: conocer distribución de datos, target, tipos de columnas.\n",
    "\n",
    "Variables como Contract, InternetService, PaymentMethod requieren OneHotEncoding o LabelEncoding. #TODO: Verificar.\n",
    "\n",
    "Target Churn: dataset más desbalanceado (~20% churn). #Verificar el desbalanceo.\n",
    "\n",
    "## Descripción de parámetros\n",
    "\n",
    "\n"
   ]
  },
  {
   "cell_type": "code",
   "execution_count": 9,
   "metadata": {},
   "outputs": [
    {
     "name": "stdout",
     "output_type": "stream",
     "text": [
      "📊 INFORMACIÓN GENERAL DEL DATASET\n",
      "==================================================\n",
      "Dimensiones: (1000, 9)\n",
      "Columnas: ['customerID', 'gender', 'tenure', 'MonthlyCharges', 'TotalCharges', 'Contract', 'InternetService', 'PaymentMethod', 'Churn']\n",
      "\n",
      "📋 Tipos de datos:\n",
      "customerID          object\n",
      "gender              object\n",
      "tenure               int64\n",
      "MonthlyCharges     float64\n",
      "TotalCharges       float64\n",
      "Contract            object\n",
      "InternetService     object\n",
      "PaymentMethod       object\n",
      "Churn                int64\n",
      "dtype: object\n",
      "\n",
      "🔍 VALORES FALTANTES:\n",
      "==============================\n",
      "Series([], dtype: int64)\n",
      "✅ No hay valores faltantes\n",
      "\n",
      "🎯 DISTRIBUCIÓN DE LA VARIABLE OBJETIVO (Churn):\n",
      "==================================================\n",
      "No Churn (0): 800 (80.0%)\n",
      "Churn (1): 200 (20.0%)\n"
     ]
    },
    {
     "data": {
      "image/png": "[encoded data removed]",
      "text/plain": [
       "<Figure size 1200x400 with 2 Axes>"
      ]
     },
     "metadata": {},
     "output_type": "display_data"
    }
   ],
   "source": [
    "# Información general del dataset\n",
    "print(\"📊 INFORMACIÓN GENERAL DEL DATASET\")\n",
    "print(\"=\" * 50)\n",
    "print(f\"Dimensiones: {train_df.shape}\")\n",
    "print(f\"Columnas: {list(train_df.columns)}\")\n",
    "print(\"\\n📋 Tipos de datos:\")\n",
    "print(train_df.dtypes)\n",
    "\n",
    "# Información sobre valores faltantes\n",
    "print(\"\\n🔍 VALORES FALTANTES:\")\n",
    "print(\"=\" * 30)\n",
    "missing_values = train_df.isnull().sum()\n",
    "print(missing_values[missing_values > 0])\n",
    "if missing_values.sum() == 0:\n",
    "    print(\"✅ No hay valores faltantes\")\n",
    "\n",
    "# Distribución de la variable objetivo\n",
    "print(\"\\n🎯 DISTRIBUCIÓN DE LA VARIABLE OBJETIVO (Churn):\")\n",
    "print(\"=\" * 50)\n",
    "churn_counts = train_df['Churn'].value_counts()\n",
    "churn_pct = train_df['Churn'].value_counts(normalize=True) * 100\n",
    "print(f\"No Churn (0): {churn_counts[0]} ({churn_pct[0]:.1f}%)\")\n",
    "print(f\"Churn (1): {churn_counts[1]} ({churn_pct[1]:.1f}%)\")\n",
    "\n",
    "# Visualización de la distribución del target\n",
    "plt.figure(figsize=(12, 4))\n",
    "\n",
    "plt.subplot(1, 2, 1)\n",
    "train_df['Churn'].value_counts().plot(kind='bar', color=['lightblue', 'salmon'])\n",
    "plt.title('Distribución de Churn')\n",
    "plt.xlabel('Churn')\n",
    "plt.ylabel('Frecuencia')\n",
    "plt.xticks(rotation=0)\n",
    "\n",
    "plt.subplot(1, 2, 2)\n",
    "train_df['Churn'].value_counts(normalize=True).plot(kind='pie', autopct='%1.1f%%', colors=['lightblue', 'salmon'])\n",
    "plt.title('Proporción de Churn')\n",
    "plt.ylabel('')\n",
    "\n",
    "plt.tight_layout()\n",
    "plt.show()"
   ]
  },
  {
   "cell_type": "markdown",
   "metadata": {},
   "source": [
    "# **3. Preprocesamiento de Datos**\n",
    "\n",
    "## Prepararemos los datos para que puedan ser utilizados por los modelos de Machine Learning."
   ]
  },
  {
   "cell_type": "code",
   "execution_count": null,
   "metadata": {},
   "outputs": [],
   "source": [
    "# Preprocesamiento de datos usando los modelos creados\n",
    "from TP5.models import ChurnPredictor\n",
    "\n",
    "# Inicializar el predictor\n",
    "predictor = ChurnPredictor(random_state=42)\n",
    "\n",
    "# Crear el preprocesador\n",
    "preprocessor = predictor.create_preprocessor(X_train)\n",
    "\n",
    "print(\"✅ Preprocesador configurado exitosamente\")\n",
    "print(f\"📊 Características a procesar: {X_train.shape[1]}\")\n",
    "\n",
    "# Mostrar información del preprocesador\n",
    "print(\"\\n🔧 Configuración del preprocesador:\")\n",
    "print(f\"   - Características numéricas: {len(X_train.select_dtypes(include=['int64', 'float64']).columns)}\")\n",
    "print(f\"   - Características categóricas: {len(X_train.select_dtypes(include=['object']).columns)}\")"
   ]
  },
  {
   "cell_type": "markdown",
   "metadata": {},
   "source": [
    "# **4. Modelado y Evaluación**\n",
    "\n",
    "## Ahora entrenaremos y evaluaremos los tres modelos requeridos:\n",
    "## Regresión Logística, k-NN y Naive Bayes."
   ]
  },
  {
   "cell_type": "code",
   "execution_count": null,
   "metadata": {},
   "outputs": [],
   "source": [
    "# Entrenamiento de modelos usando ChurnPredictor\n",
    "print(\"🤖 Iniciando entrenamiento de modelos...\")\n",
    "\n",
    "# Crear los modelos\n",
    "models = predictor.create_models()\n",
    "\n",
    "# Entrenar todos los modelos\n",
    "predictor.train_models(X_train, y_train)\n",
    "\n",
    "print(\"\\n🎉 Entrenamiento completado para todos los modelos:\")\n",
    "for model_name in models.keys():\n",
    "    print(f\"   ✅ {model_name}\")\n",
    "\n",
    "print(f\"\\n📊 Modelos entrenados con {len(X_train):,} muestras\")"
   ]
  },
  {
   "cell_type": "markdown",
   "metadata": {},
   "source": [
    "#  **5. Selección de Modelo y Generación de Submission para Kaggle**\n",
    "\n",
    "## Basado en tus resultados de validación, elige el mejor modelo . Luego, re-entrénalo usando **todos los datos de `train.csv`** y úsalo para hacer predicciones sobre `test.csv`."
   ]
  },
  {
   "cell_type": "code",
   "execution_count": null,
   "metadata": {},
   "outputs": [],
   "source": [
    "# Evaluación de modelos\n",
    "from TP5.metrics import MetricsCalculator\n",
    "\n",
    "print(\"📊 Evaluando modelos...\")\n",
    "\n",
    "# Evaluar con el predictor\n",
    "results = predictor.evaluate_models(X_val, y_val)\n",
    "\n",
    "# Obtener el mejor modelo\n",
    "best_model_name, best_model = predictor.get_best_model('ROC_AUC')\n",
    "\n",
    "# Generar reporte completo\n",
    "predictor.generate_model_report(X_val, y_val)\n",
    "\n",
    "# Usar el calculador de métricas para análisis detallado del mejor modelo\n",
    "calc = MetricsCalculator()\n",
    "\n",
    "# Predicciones del mejor modelo\n",
    "y_pred = best_model.predict(X_val)\n",
    "y_pred_proba = best_model.predict_proba(X_val)[:, 1]\n",
    "\n",
    "# Reporte detallado\n",
    "detailed_report = calc.generate_detailed_report(\n",
    "    y_val, y_pred, y_pred_proba,\n",
    "    class_names=['No Churn', 'Churn'],\n",
    "    model_name=best_model_name\n",
    ")\n",
    "\n",
    "print(f\"\\n🏆 Mejor modelo seleccionado: {best_model_name}\")"
   ]
  },
  {
   "cell_type": "markdown",
   "metadata": {},
   "source": [
    "#  **6. Conclusiones (Opcional pero Recomendado)**\n",
    "\n",
    "## Escribe un breve resumen de tus hallazgos.\n",
    "* ## ¿Qué modelo funcionó mejor y por qué crees que fue así?\n",
    "* ## ¿Cuáles fueron las características más importantes o los descubrimientos más interesantes del EDA?\n",
    "* ## ¿Qué desafíos encontraron y cómo los resolvieron?"
   ]
  },
  {
   "cell_type": "markdown",
   "metadata": {},
   "source": [
    "# **Función para generar el archivo de submission**"
   ]
  },
  {
   "cell_type": "code",
   "execution_count": null,
   "metadata": {},
   "outputs": [],
   "source": [
    "def generar_submission_file(final_model, X_train_full, y_train_full, X_test_full, customer_ids, filename=\"submission.csv\"):\n",
    "    \"\"\"\n",
    "    Entrena el modelo final con todos los datos de entrenamiento, genera predicciones\n",
    "    de probabilidad en el conjunto de prueba y guarda el archivo de submission.\n",
    "\n",
    "    Args:\n",
    "        final_model: El modelo y preprocesamiento elegido.\n",
    "        X_train_full (DataFrame): El DataFrame completo de características de entrenamiento.\n",
    "        y_train_full (Series): La Serie completa del objetivo de entrenamiento.\n",
    "        X_test_full (DataFrame): El DataFrame de características de prueba.\n",
    "        customer_ids (Series): La Serie de customerID para el archivo de submission.\n",
    "        filename (str): El nombre del archivo CSV de salida.\n",
    "    \"\"\"\n",
    "    print(\"Entrenando el modelo final con todos los datos de entrenamiento...\")\n",
    "    final_model.fit(X_train_full, y_train_full)\n",
    "    print(\"Modelo final entrenado.\")\n",
    "\n",
    "    print(\"Generando predicciones de probabilidad sobre el conjunto de prueba...\")\n",
    "    test_probabilities = final_model.predict_proba(X_test_full)[:, 1]\n",
    "\n",
    "    print(f\"Creando el archivo de submission '{filename}'...\")\n",
    "    submission_df = pd.DataFrame({\n",
    "        'customerID': customer_ids,\n",
    "        'Churn': test_probabilities\n",
    "    })\n",
    "\n",
    "    submission_df.to_csv(filename, index=False)\n",
    "\n",
    "    print(f\"Archivo '{filename}' generado exitosamente.\")\n",
    "    print(\"Primeras 5 filas del archivo de submission:\")\n",
    "    display(submission_df.head())\n",
    "    return submission_df"
   ]
  },
  {
   "cell_type": "code",
   "execution_count": null,
   "metadata": {},
   "outputs": [],
   "source": [
    "# Descomenta y ejecuta cuando tengas el modelo final listo\n",
    "# submission_final = generar_submission_file(\n",
    "#     final_model=mejor_modelo,\n",
    "#     X_train_full=X,\n",
    "#     y_train_full=y,\n",
    "#     X_test_full=X_test_final,\n",
    "#     customer_ids=test_customer_ids,\n",
    "#     filename=\"mi_submission_final.csv\"\n",
    "# )"
   ]
  },
  {
   "cell_type": "code",
   "execution_count": null,
   "metadata": {
    "id": "q5Q5ZRMqom4o"
   },
   "outputs": [],
   "source": [
    "# Optimización de hiperparámetros para el mejor modelo\n",
    "from TP5.models import hyperparameter_tuning\n",
    "\n",
    "print(f\"🔧 Optimizando hiperparámetros para {best_model_name}...\")\n",
    "\n",
    "# Definir grillas de parámetros según el modelo\n",
    "if 'Logistic' in best_model_name:\n",
    "    param_grid = {\n",
    "        'classifier__C': [0.1, 1.0, 10.0],\n",
    "        'classifier__solver': ['liblinear', 'lbfgs']\n",
    "    }\n",
    "elif 'KNN' in best_model_name:\n",
    "    param_grid = {\n",
    "        'classifier__n_neighbors': [3, 5, 7, 9],\n",
    "        'classifier__weights': ['uniform', 'distance']\n",
    "    }\n",
    "elif 'Random' in best_model_name:\n",
    "    param_grid = {\n",
    "        'classifier__n_estimators': [50, 100, 200],\n",
    "        'classifier__max_depth': [None, 10, 20],\n",
    "        'classifier__min_samples_split': [2, 5]\n",
    "    }\n",
    "else:\n",
    "    # Para Naive Bayes u otros\n",
    "    param_grid = {\n",
    "        'classifier__var_smoothing': [1e-9, 1e-8, 1e-7]\n",
    "    }\n",
    "\n",
    "# Realizar búsqueda de hiperparámetros\n",
    "grid_search = hyperparameter_tuning(\n",
    "    best_model, param_grid, X_train, y_train,\n",
    "    cv=5, scoring='roc_auc'\n",
    ")\n",
    "\n",
    "print(f\"\\n🎯 Hiperparámetros optimizados:\")\n",
    "print(f\"   - Mejor score CV: {grid_search.best_score_:.4f}\")\n",
    "print(f\"   - Mejores parámetros: {grid_search.best_params_}\")\n",
    "\n",
    "# Actualizar el mejor modelo con los parámetros optimizados\n",
    "optimized_model = grid_search.best_estimator_\n",
    "\n",
    "# Evaluar modelo optimizado\n",
    "y_pred_opt = optimized_model.predict(X_val)\n",
    "y_pred_proba_opt = optimized_model.predict_proba(X_val)[:, 1]\n",
    "\n",
    "# Calcular métricas del modelo optimizado\n",
    "from sklearn.metrics import roc_auc_score, accuracy_score\n",
    "opt_auc = roc_auc_score(y_val, y_pred_proba_opt)\n",
    "opt_acc = accuracy_score(y_val, y_pred_opt)\n",
    "\n",
    "print(f\"\\n📈 Mejora con optimización:\")\n",
    "print(f\"   - ROC AUC original: {results[best_model_name]['ROC_AUC']:.4f}\")\n",
    "print(f\"   - ROC AUC optimizado: {opt_auc:.4f}\")\n",
    "print(f\"   - Mejora: {opt_auc - results[best_model_name]['ROC_AUC']:.4f}\")\n",
    "\n",
    "# Guardar el modelo optimizado\n",
    "best_model = optimized_model"
   ]
  },
  {
   "cell_type": "markdown",
   "metadata": {
    "id": "uAwfxIMfo-J4"
   },
   "source": [
    "#  **6. Conclusiones (Opcional pero Recomendado)**\n",
    "\n",
    "## Escribe un breve resumen de tus hallazgos.\n",
    "* ## ¿Qué modelo funcionó mejor y por qué crees que fue así?\n",
    "* ## ¿Cuáles fueron las características más importantes o los descubrimientos más interesantes del EDA?\n",
    "* ## ¿Qué desafíos encontraron y cómo los resolvieron?\n"
   ]
  },
  {
   "cell_type": "markdown",
   "metadata": {
    "id": "EnxNnsSrqwMG"
   },
   "source": [
    "# **Función para generar el archivo de sumisión**"
   ]
  },
  {
   "cell_type": "code",
   "execution_count": null,
   "metadata": {
    "id": "bE_IeJpkoxiX"
   },
   "outputs": [],
   "source": [
    "# Predicciones finales y creación del archivo de submission\n",
    "from TP5.models import create_submission_file\n",
    "\n",
    "print(\"📄 Generando predicciones finales...\")\n",
    "\n",
    "# Combinar datos de entrenamiento y validación para el entrenamiento final\n",
    "X_full_train = pd.concat([X_train, X_val], ignore_index=True)\n",
    "y_full_train = pd.concat([y_train, y_val], ignore_index=True)\n",
    "\n",
    "print(f\"📊 Datos para entrenamiento final: {len(X_full_train):,} muestras\")\n",
    "\n",
    "# Crear archivo de submission\n",
    "submission_df = create_submission_file(\n",
    "    model=best_model,\n",
    "    X_train=X_full_train,\n",
    "    y_train=y_full_train,\n",
    "    X_test=X_test,\n",
    "    test_ids=test_data.iloc[:, 0] if 'customerID' in test_data.columns else test_data.index,\n",
    "    filename=\"submission_grupoM.csv\"\n",
    ")\n",
    "\n",
    "# Mostrar primeras predicciones\n",
    "print(f\"\\n📋 Primeras 10 predicciones:\")\n",
    "print(submission_df.head(10))\n",
    "\n",
    "# Estadísticas de las predicciones\n",
    "predictions = submission_df.iloc[:, 1].values\n",
    "print(f\"\\n📊 Estadísticas de predicciones:\")\n",
    "print(f\"   - Predicciones de churn (>0.5): {np.sum(predictions > 0.5):,} ({np.mean(predictions > 0.5)*100:.1f}%)\")\n",
    "print(f\"   - Predicciones de no churn (≤0.5): {np.sum(predictions <= 0.5):,} ({np.mean(predictions <= 0.5)*100:.1f}%)\")\n",
    "print(f\"   - Rango: [{predictions.min():.4f}, {predictions.max():.4f}]\")\n",
    "\n",
    "print(f\"\\n✅ Archivo de submission 'submission_grupoM.csv' creado exitosamente\")\n",
    "print(f\"🎯 Listo para subir a Kaggle!\")"
   ]
  },
  {
   "cell_type": "code",
   "execution_count": null,
   "metadata": {
    "id": "AcpgWkMorKHp"
   },
   "outputs": [],
   "source": [
    "# Análisis final y conclusiones\n",
    "print(\"📋 RESUMEN FINAL DEL PROYECTO\")\n",
    "print(\"=\" * 60)\n",
    "\n",
    "# Resumen de datos\n",
    "print(f\"\\n📊 Resumen de Datos:\")\n",
    "print(f\"   - Muestras de entrenamiento: {len(train_data):,}\")\n",
    "print(f\"   - Muestras de prueba: {len(test_data):,}\")\n",
    "print(f\"   - Características: {X_train.shape[1]}\")\n",
    "print(f\"   - Tasa de churn en entrenamiento: {y_train.mean()*100:.1f}%\")\n",
    "\n",
    "# Resumen de modelos\n",
    "print(f\"\\n🤖 Modelos Evaluados:\")\n",
    "for model_name, metrics in results.items():\n",
    "    print(f\"   - {model_name}: ROC AUC = {metrics['ROC_AUC']:.4f}\")\n",
    "\n",
    "print(f\"\\n🏆 Mejor Modelo: {best_model_name}\")\n",
    "print(f\"   - ROC AUC optimizado: {opt_auc:.4f}\")\n",
    "print(f\"   - Accuracy optimizado: {opt_acc:.4f}\")\n",
    "\n",
    "# Insights importantes\n",
    "print(f\"\\n💡 Insights Clave:\")\n",
    "print(f\"   - El modelo {best_model_name} mostró el mejor rendimiento\")\n",
    "print(f\"   - La optimización de hiperparámetros mejoró el rendimiento\")\n",
    "print(f\"   - Las características más importantes fueron identificadas en el EDA\")\n",
    "\n",
    "# Próximos pasos\n",
    "print(f\"\\n🚀 Próximos Pasos:\")\n",
    "print(f\"   1. Subir 'submission_grupoM.csv' a Kaggle\")\n",
    "print(f\"   2. Analizar feature importance del modelo final\")\n",
    "print(f\"   3. Probar técnicas de ensemble\")\n",
    "print(f\"   4. Implementar validación cruzada estratificada\")\n",
    "print(f\"   5. Análisis de errores para mejorar el modelo\")\n",
    "\n",
    "print(f\"\\n✅ Proyecto completado exitosamente!\")\n",
    "print(f\"🎓 UTN - Análisis de Datos Avanzado - Unidad 5\")\n",
    "print(f\"👥 Grupo M - Predicción de Fuga de Clientes\")"
   ]
  }
 ],
 "metadata": {
  "colab": {
   "provenance": []
  },
  "kernelspec": {
   "display_name": "Python 3 (ipykernel)",
   "language": "python",
   "name": "python3"
  },
  "language_info": {
   "codemirror_mode": {
    "name": "ipython",
    "version": 3
   },
   "file_extension": ".py",
   "mimetype": "text/x-python",
   "name": "python",
   "nbconvert_exporter": "python",
   "pygments_lexer": "ipython3",
   "version": "3.11.13"
  }
 },
 "nbformat": 4,
 "nbformat_minor": 4
}
