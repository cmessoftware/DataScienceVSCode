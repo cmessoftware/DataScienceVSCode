{
 "cells": [
  {
   "cell_type": "markdown",
   "metadata": {
    "id": "3NGbiFnclWCL"
   },
   "source": [
    "![Image in a markdown cell](https://cursos.utnba.centrodeelearning.com/pluginfile.php/1/theme_space/customlogo/1738330016/Logo%20UTN%20Horizontal.png)\n",
    "\n"
   ]
  },
  {
   "cell_type": "markdown",
   "metadata": {
    "id": "QuprUYNItamA"
   },
   "source": [
    "# **Diplomado de Ciencia de Datos y Análisis Avanzado**\n",
    "# **Unidad 5: Modelado Predictivo I**: Regresión y Clasificación"
   ]
  },
  {
   "cell_type": "markdown",
   "metadata": {
    "id": "Fwq174zItdhi"
   },
   "source": [
    "---"
   ]
  },
  {
   "cell_type": "markdown",
   "metadata": {
    "id": "5hA-KQxHlV2a"
   },
   "source": [
    "# **Proyecto de Competencia Kaggle: Predicción de Abandono de Clientes**\n",
    "\n",
    "## **Curso:** Diplomado en Ciencia de Datos\n",
    "\n",
    "# **Nombres de los Miembros del Equipo:**\n",
    "### *   [Nombre Completo del Miembro 1]\n",
    "### *   [Nombre Completo del Miembro 2]\n",
    "### *   [Nombre Completo del Miembro 3]\n",
    "\n",
    "# **Objetivo:**\n",
    "## El objetivo de este proyecto es construir y evaluar varios modelos de clasificación para predecir si un cliente de una compañía de telecomunicaciones abandonará o no el servicio (churn). El rendimiento final del mejor modelo se medirá en la competencia de Kaggle a través de la **métrica ROC AUC**.\n"
   ]
  },
  {
   "cell_type": "markdown",
   "metadata": {
    "id": "fqk8OzCZrz9A"
   },
   "source": [
    "---"
   ]
  },
  {
   "cell_type": "markdown",
   "metadata": {
    "id": "C4oEVvfDr2BJ"
   },
   "source": [
    "# **Enlace para unirse a la competencia**\n",
    "### **USE EL ENLACE PARA UNIRSE POR EQUIPO, NO DE MANERA INDIVIDUAL**\n",
    "\n",
    "https://www.kaggle.com/t/57b70c381e4d451b8ae38e164b91a2aa\n",
    "\n",
    "\n",
    "### **Por favor siga las indicaciones que se suministran en la plataforma**\n"
   ]
  },
  {
   "cell_type": "code",
   "execution_count": null,
   "metadata": {
    "id": "FcGwq3JvrzUt"
   },
   "outputs": [],
   "source": []
  },
  {
   "cell_type": "markdown",
   "metadata": {
    "id": "pe6AIaTNl_Vk"
   },
   "source": [
    "# 0. **Configuración Inicial e Importación de Librerías**\n",
    "\n",
    "## En esta sección, importaremos todas las librerías necesarias para el proyecto. Es una buena práctica tener todas las importaciones en la primera celda.\n"
   ]
  },
  {
   "cell_type": "code",
   "execution_count": 2,
   "metadata": {
    "id": "d0O09i3tlUeF"
   },
   "outputs": [],
   "source": [
    "# Para manipulación de datos\n",
    "import pandas as pd\n",
    "import numpy as np\n",
    "\n",
    "# Para visualización de datos\n",
    "import matplotlib.pyplot as plt\n",
    "import seaborn as sns\n",
    "\n",
    "# Para preprocesamiento\n",
    "from sklearn.model_selection import train_test_split, cross_val_score\n",
    "from sklearn.preprocessing import StandardScaler, OneHotEncoder\n",
    "from sklearn.compose import ColumnTransformer\n",
    "from sklearn.pipeline import Pipeline\n",
    "from sklearn.impute import SimpleImputer\n",
    "\n",
    "# Para modelado\n",
    "from sklearn.linear_model import LogisticRegression\n",
    "from sklearn.neighbors import KNeighborsClassifier\n",
    "from sklearn.naive_bayes import GaussianNB\n",
    "\n",
    "# Para evaluación\n",
    "from sklearn.metrics import accuracy_score, confusion_matrix, classification_report, roc_auc_score, roc_curve, f1_score\n",
    "\n",
    "# Configuraciones adicionales para una mejor visualización\n",
    "sns.set_style('whitegrid')\n",
    "plt.rcParams['figure.figsize'] = (10, 6)\n",
    "# Ignorar warnings para una salida más limpia (opcional)\n",
    "import warnings\n",
    "warnings.filterwarnings('ignore')"
   ]
  },
  {
   "cell_type": "markdown",
   "metadata": {
    "id": "0pbvvOgWmhgx"
   },
   "source": [
    "#  **1. Carga de Datos**\n",
    "\n",
    "## Cargaremos los datasets proporcionados para la competencia: `train.csv`, `test.csv` y `sample_submission.csv`.\n"
   ]
  },
  {
   "cell_type": "code",
   "execution_count": 3,
   "metadata": {
    "id": "FH5YXQu_mmaf"
   },
   "outputs": [
    {
     "name": "stdout",
     "output_type": "stream",
     "text": [
      "Forma del dataset de entrenamiento: (5634, 21)\n",
      "Forma del dataset de prueba: (1409, 20)\n",
      "\n",
      "Primeras 5 filas del dataset de entrenamiento:\n"
     ]
    },
    {
     "data": {
      "text/html": [
       "<div>\n",
       "<style scoped>\n",
       "    .dataframe tbody tr th:only-of-type {\n",
       "        vertical-align: middle;\n",
       "    }\n",
       "\n",
       "    .dataframe tbody tr th {\n",
       "        vertical-align: top;\n",
       "    }\n",
       "\n",
       "    .dataframe thead th {\n",
       "        text-align: right;\n",
       "    }\n",
       "</style>\n",
       "<table border=\"1\" class=\"dataframe\">\n",
       "  <thead>\n",
       "    <tr style=\"text-align: right;\">\n",
       "      <th></th>\n",
       "      <th>customerID</th>\n",
       "      <th>gender</th>\n",
       "      <th>SeniorCitizen</th>\n",
       "      <th>Partner</th>\n",
       "      <th>Dependents</th>\n",
       "      <th>tenure</th>\n",
       "      <th>PhoneService</th>\n",
       "      <th>MultipleLines</th>\n",
       "      <th>InternetService</th>\n",
       "      <th>OnlineSecurity</th>\n",
       "      <th>...</th>\n",
       "      <th>DeviceProtection</th>\n",
       "      <th>TechSupport</th>\n",
       "      <th>StreamingTV</th>\n",
       "      <th>StreamingMovies</th>\n",
       "      <th>Contract</th>\n",
       "      <th>PaperlessBilling</th>\n",
       "      <th>PaymentMethod</th>\n",
       "      <th>MonthlyCharges</th>\n",
       "      <th>TotalCharges</th>\n",
       "      <th>Churn</th>\n",
       "    </tr>\n",
       "  </thead>\n",
       "  <tbody>\n",
       "    <tr>\n",
       "      <th>0</th>\n",
       "      <td>4950-BDEUX</td>\n",
       "      <td>Male</td>\n",
       "      <td>0</td>\n",
       "      <td>No</td>\n",
       "      <td>No</td>\n",
       "      <td>35</td>\n",
       "      <td>No</td>\n",
       "      <td>No phone service</td>\n",
       "      <td>DSL</td>\n",
       "      <td>No</td>\n",
       "      <td>...</td>\n",
       "      <td>Yes</td>\n",
       "      <td>No</td>\n",
       "      <td>Yes</td>\n",
       "      <td>Yes</td>\n",
       "      <td>Month-to-month</td>\n",
       "      <td>No</td>\n",
       "      <td>Electronic check</td>\n",
       "      <td>49.20</td>\n",
       "      <td>1701.65</td>\n",
       "      <td>No</td>\n",
       "    </tr>\n",
       "    <tr>\n",
       "      <th>1</th>\n",
       "      <td>7993-NQLJE</td>\n",
       "      <td>Male</td>\n",
       "      <td>0</td>\n",
       "      <td>Yes</td>\n",
       "      <td>Yes</td>\n",
       "      <td>15</td>\n",
       "      <td>Yes</td>\n",
       "      <td>No</td>\n",
       "      <td>Fiber optic</td>\n",
       "      <td>Yes</td>\n",
       "      <td>...</td>\n",
       "      <td>No</td>\n",
       "      <td>No</td>\n",
       "      <td>No</td>\n",
       "      <td>No</td>\n",
       "      <td>Month-to-month</td>\n",
       "      <td>No</td>\n",
       "      <td>Mailed check</td>\n",
       "      <td>75.10</td>\n",
       "      <td>1151.55</td>\n",
       "      <td>No</td>\n",
       "    </tr>\n",
       "    <tr>\n",
       "      <th>2</th>\n",
       "      <td>7321-ZNSLA</td>\n",
       "      <td>Male</td>\n",
       "      <td>0</td>\n",
       "      <td>Yes</td>\n",
       "      <td>Yes</td>\n",
       "      <td>13</td>\n",
       "      <td>No</td>\n",
       "      <td>No phone service</td>\n",
       "      <td>DSL</td>\n",
       "      <td>Yes</td>\n",
       "      <td>...</td>\n",
       "      <td>No</td>\n",
       "      <td>Yes</td>\n",
       "      <td>No</td>\n",
       "      <td>No</td>\n",
       "      <td>Two year</td>\n",
       "      <td>No</td>\n",
       "      <td>Mailed check</td>\n",
       "      <td>40.55</td>\n",
       "      <td>590.35</td>\n",
       "      <td>No</td>\n",
       "    </tr>\n",
       "    <tr>\n",
       "      <th>3</th>\n",
       "      <td>4922-CVPDX</td>\n",
       "      <td>Female</td>\n",
       "      <td>0</td>\n",
       "      <td>Yes</td>\n",
       "      <td>No</td>\n",
       "      <td>26</td>\n",
       "      <td>Yes</td>\n",
       "      <td>No</td>\n",
       "      <td>DSL</td>\n",
       "      <td>No</td>\n",
       "      <td>...</td>\n",
       "      <td>Yes</td>\n",
       "      <td>No</td>\n",
       "      <td>Yes</td>\n",
       "      <td>Yes</td>\n",
       "      <td>Two year</td>\n",
       "      <td>Yes</td>\n",
       "      <td>Credit card (automatic)</td>\n",
       "      <td>73.50</td>\n",
       "      <td>1905.70</td>\n",
       "      <td>No</td>\n",
       "    </tr>\n",
       "    <tr>\n",
       "      <th>4</th>\n",
       "      <td>2903-YYTBW</td>\n",
       "      <td>Male</td>\n",
       "      <td>0</td>\n",
       "      <td>Yes</td>\n",
       "      <td>Yes</td>\n",
       "      <td>1</td>\n",
       "      <td>Yes</td>\n",
       "      <td>No</td>\n",
       "      <td>DSL</td>\n",
       "      <td>No</td>\n",
       "      <td>...</td>\n",
       "      <td>No</td>\n",
       "      <td>No</td>\n",
       "      <td>No</td>\n",
       "      <td>No</td>\n",
       "      <td>Month-to-month</td>\n",
       "      <td>No</td>\n",
       "      <td>Electronic check</td>\n",
       "      <td>44.55</td>\n",
       "      <td>44.55</td>\n",
       "      <td>No</td>\n",
       "    </tr>\n",
       "  </tbody>\n",
       "</table>\n",
       "<p>5 rows × 21 columns</p>\n",
       "</div>"
      ],
      "text/plain": [
       "   customerID  gender  SeniorCitizen Partner Dependents  tenure PhoneService  \\\n",
       "0  4950-BDEUX    Male              0      No         No      35           No   \n",
       "1  7993-NQLJE    Male              0     Yes        Yes      15          Yes   \n",
       "2  7321-ZNSLA    Male              0     Yes        Yes      13           No   \n",
       "3  4922-CVPDX  Female              0     Yes         No      26          Yes   \n",
       "4  2903-YYTBW    Male              0     Yes        Yes       1          Yes   \n",
       "\n",
       "      MultipleLines InternetService OnlineSecurity  ... DeviceProtection  \\\n",
       "0  No phone service             DSL             No  ...              Yes   \n",
       "1                No     Fiber optic            Yes  ...               No   \n",
       "2  No phone service             DSL            Yes  ...               No   \n",
       "3                No             DSL             No  ...              Yes   \n",
       "4                No             DSL             No  ...               No   \n",
       "\n",
       "  TechSupport StreamingTV StreamingMovies        Contract PaperlessBilling  \\\n",
       "0          No         Yes             Yes  Month-to-month               No   \n",
       "1          No          No              No  Month-to-month               No   \n",
       "2         Yes          No              No        Two year               No   \n",
       "3          No         Yes             Yes        Two year              Yes   \n",
       "4          No          No              No  Month-to-month               No   \n",
       "\n",
       "             PaymentMethod MonthlyCharges  TotalCharges  Churn  \n",
       "0         Electronic check          49.20       1701.65     No  \n",
       "1             Mailed check          75.10       1151.55     No  \n",
       "2             Mailed check          40.55        590.35     No  \n",
       "3  Credit card (automatic)          73.50       1905.70     No  \n",
       "4         Electronic check          44.55         44.55     No  \n",
       "\n",
       "[5 rows x 21 columns]"
      ]
     },
     "metadata": {},
     "output_type": "display_data"
    },
    {
     "name": "stdout",
     "output_type": "stream",
     "text": [
      "\n",
      "Primeras 5 filas del dataset de prueba:\n"
     ]
    },
    {
     "data": {
      "text/html": [
       "<div>\n",
       "<style scoped>\n",
       "    .dataframe tbody tr th:only-of-type {\n",
       "        vertical-align: middle;\n",
       "    }\n",
       "\n",
       "    .dataframe tbody tr th {\n",
       "        vertical-align: top;\n",
       "    }\n",
       "\n",
       "    .dataframe thead th {\n",
       "        text-align: right;\n",
       "    }\n",
       "</style>\n",
       "<table border=\"1\" class=\"dataframe\">\n",
       "  <thead>\n",
       "    <tr style=\"text-align: right;\">\n",
       "      <th></th>\n",
       "      <th>customerID</th>\n",
       "      <th>gender</th>\n",
       "      <th>SeniorCitizen</th>\n",
       "      <th>Partner</th>\n",
       "      <th>Dependents</th>\n",
       "      <th>tenure</th>\n",
       "      <th>PhoneService</th>\n",
       "      <th>MultipleLines</th>\n",
       "      <th>InternetService</th>\n",
       "      <th>OnlineSecurity</th>\n",
       "      <th>OnlineBackup</th>\n",
       "      <th>DeviceProtection</th>\n",
       "      <th>TechSupport</th>\n",
       "      <th>StreamingTV</th>\n",
       "      <th>StreamingMovies</th>\n",
       "      <th>Contract</th>\n",
       "      <th>PaperlessBilling</th>\n",
       "      <th>PaymentMethod</th>\n",
       "      <th>MonthlyCharges</th>\n",
       "      <th>TotalCharges</th>\n",
       "    </tr>\n",
       "  </thead>\n",
       "  <tbody>\n",
       "    <tr>\n",
       "      <th>0</th>\n",
       "      <td>4376-KFVRS</td>\n",
       "      <td>Male</td>\n",
       "      <td>0</td>\n",
       "      <td>Yes</td>\n",
       "      <td>Yes</td>\n",
       "      <td>72</td>\n",
       "      <td>Yes</td>\n",
       "      <td>Yes</td>\n",
       "      <td>Fiber optic</td>\n",
       "      <td>Yes</td>\n",
       "      <td>Yes</td>\n",
       "      <td>Yes</td>\n",
       "      <td>Yes</td>\n",
       "      <td>Yes</td>\n",
       "      <td>Yes</td>\n",
       "      <td>Two year</td>\n",
       "      <td>Yes</td>\n",
       "      <td>Credit card (automatic)</td>\n",
       "      <td>114.05</td>\n",
       "      <td>8468.20</td>\n",
       "    </tr>\n",
       "    <tr>\n",
       "      <th>1</th>\n",
       "      <td>2754-SDJRD</td>\n",
       "      <td>Female</td>\n",
       "      <td>1</td>\n",
       "      <td>No</td>\n",
       "      <td>No</td>\n",
       "      <td>8</td>\n",
       "      <td>Yes</td>\n",
       "      <td>Yes</td>\n",
       "      <td>Fiber optic</td>\n",
       "      <td>No</td>\n",
       "      <td>No</td>\n",
       "      <td>No</td>\n",
       "      <td>Yes</td>\n",
       "      <td>Yes</td>\n",
       "      <td>Yes</td>\n",
       "      <td>Month-to-month</td>\n",
       "      <td>Yes</td>\n",
       "      <td>Credit card (automatic)</td>\n",
       "      <td>100.15</td>\n",
       "      <td>908.55</td>\n",
       "    </tr>\n",
       "    <tr>\n",
       "      <th>2</th>\n",
       "      <td>9917-KWRBE</td>\n",
       "      <td>Female</td>\n",
       "      <td>0</td>\n",
       "      <td>Yes</td>\n",
       "      <td>Yes</td>\n",
       "      <td>41</td>\n",
       "      <td>Yes</td>\n",
       "      <td>Yes</td>\n",
       "      <td>DSL</td>\n",
       "      <td>Yes</td>\n",
       "      <td>Yes</td>\n",
       "      <td>Yes</td>\n",
       "      <td>No</td>\n",
       "      <td>Yes</td>\n",
       "      <td>No</td>\n",
       "      <td>One year</td>\n",
       "      <td>Yes</td>\n",
       "      <td>Credit card (automatic)</td>\n",
       "      <td>78.35</td>\n",
       "      <td>3211.20</td>\n",
       "    </tr>\n",
       "    <tr>\n",
       "      <th>3</th>\n",
       "      <td>0365-GXEZS</td>\n",
       "      <td>Male</td>\n",
       "      <td>0</td>\n",
       "      <td>Yes</td>\n",
       "      <td>No</td>\n",
       "      <td>18</td>\n",
       "      <td>Yes</td>\n",
       "      <td>No</td>\n",
       "      <td>Fiber optic</td>\n",
       "      <td>No</td>\n",
       "      <td>No</td>\n",
       "      <td>Yes</td>\n",
       "      <td>Yes</td>\n",
       "      <td>No</td>\n",
       "      <td>No</td>\n",
       "      <td>Month-to-month</td>\n",
       "      <td>No</td>\n",
       "      <td>Electronic check</td>\n",
       "      <td>78.20</td>\n",
       "      <td>1468.75</td>\n",
       "    </tr>\n",
       "    <tr>\n",
       "      <th>4</th>\n",
       "      <td>9385-NXKDA</td>\n",
       "      <td>Female</td>\n",
       "      <td>0</td>\n",
       "      <td>Yes</td>\n",
       "      <td>No</td>\n",
       "      <td>72</td>\n",
       "      <td>Yes</td>\n",
       "      <td>Yes</td>\n",
       "      <td>DSL</td>\n",
       "      <td>Yes</td>\n",
       "      <td>Yes</td>\n",
       "      <td>Yes</td>\n",
       "      <td>No</td>\n",
       "      <td>Yes</td>\n",
       "      <td>Yes</td>\n",
       "      <td>Two year</td>\n",
       "      <td>Yes</td>\n",
       "      <td>Credit card (automatic)</td>\n",
       "      <td>82.65</td>\n",
       "      <td>5919.35</td>\n",
       "    </tr>\n",
       "  </tbody>\n",
       "</table>\n",
       "</div>"
      ],
      "text/plain": [
       "   customerID  gender  SeniorCitizen Partner Dependents  tenure PhoneService  \\\n",
       "0  4376-KFVRS    Male              0     Yes        Yes      72          Yes   \n",
       "1  2754-SDJRD  Female              1      No         No       8          Yes   \n",
       "2  9917-KWRBE  Female              0     Yes        Yes      41          Yes   \n",
       "3  0365-GXEZS    Male              0     Yes         No      18          Yes   \n",
       "4  9385-NXKDA  Female              0     Yes         No      72          Yes   \n",
       "\n",
       "  MultipleLines InternetService OnlineSecurity OnlineBackup DeviceProtection  \\\n",
       "0           Yes     Fiber optic            Yes          Yes              Yes   \n",
       "1           Yes     Fiber optic             No           No               No   \n",
       "2           Yes             DSL            Yes          Yes              Yes   \n",
       "3            No     Fiber optic             No           No              Yes   \n",
       "4           Yes             DSL            Yes          Yes              Yes   \n",
       "\n",
       "  TechSupport StreamingTV StreamingMovies        Contract PaperlessBilling  \\\n",
       "0         Yes         Yes             Yes        Two year              Yes   \n",
       "1         Yes         Yes             Yes  Month-to-month              Yes   \n",
       "2          No         Yes              No        One year              Yes   \n",
       "3         Yes          No              No  Month-to-month               No   \n",
       "4          No         Yes             Yes        Two year              Yes   \n",
       "\n",
       "             PaymentMethod  MonthlyCharges  TotalCharges  \n",
       "0  Credit card (automatic)          114.05       8468.20  \n",
       "1  Credit card (automatic)          100.15        908.55  \n",
       "2  Credit card (automatic)           78.35       3211.20  \n",
       "3         Electronic check           78.20       1468.75  \n",
       "4  Credit card (automatic)           82.65       5919.35  "
      ]
     },
     "metadata": {},
     "output_type": "display_data"
    }
   ],
   "source": [
    "try:\n",
    "    train_df = pd.read_csv('train.csv')\n",
    "    test_df = pd.read_csv('test.csv')\n",
    "    sample_submission_df = pd.read_csv('sample_submission.csv')\n",
    "except FileNotFoundError:\n",
    "    print(\"Asegúrate de que los archivos .csv de la competencia estén en el mismo directorio que este cuaderno.\")\n",
    "    # Si usas Colab, puedes subir los archivos al entorno de ejecución.\n",
    "    exit()\n",
    "\n",
    "print(\"Forma del dataset de entrenamiento:\", train_df.shape)\n",
    "print(\"Forma del dataset de prueba:\", test_df.shape)\n",
    "\n",
    "print(\"\\nPrimeras 5 filas del dataset de entrenamiento:\")\n",
    "display(train_df.head())\n",
    "\n",
    "print(\"\\nPrimeras 5 filas del dataset de prueba:\")\n",
    "display(test_df.head())"
   ]
  },
  {
   "cell_type": "markdown",
   "metadata": {
    "id": "bIgZTRkomX_M"
   },
   "source": [
    "# 2**. Análisis Exploratorio de Datos (EDA)**\n",
    "\n",
    "## En esta fase, exploraremos el dataset de entrenamiento para entender mejor nuestros datos, encontrar patrones, identificar valores faltantes y visualizar relaciones entre las características y la variable objetivo (`Churn`).\n"
   ]
  },
  {
   "cell_type": "code",
   "execution_count": null,
   "metadata": {
    "id": "gieyMQBRmONa"
   },
   "outputs": [],
   "source": [
    "# TU CÓDIGO AQUÍ\n"
   ]
  },
  {
   "cell_type": "markdown",
   "metadata": {
    "id": "utw11JAunhCa"
   },
   "source": [
    "# **3. Preprocesamiento de Datos**\n",
    "\n",
    "## Prepararemos los datos para que puedan ser utilizados por los modelos de Machine Learning."
   ]
  },
  {
   "cell_type": "code",
   "execution_count": null,
   "metadata": {
    "id": "hV4Gh1knnsyE"
   },
   "outputs": [],
   "source": [
    "# TU CODIGO AQUÍ\n"
   ]
  },
  {
   "cell_type": "markdown",
   "metadata": {
    "id": "S_mHYoFzoJgO"
   },
   "source": [
    "# **4. Modelado y Evaluación**\n",
    "\n",
    "## Ahora entrenaremos y evaluaremos los tres modelos requeridos:\n",
    "## Regresión Logística, k-NN y Naive Bayes.\n"
   ]
  },
  {
   "cell_type": "code",
   "execution_count": null,
   "metadata": {
    "id": "QfivQWb8oR5V"
   },
   "outputs": [],
   "source": [
    "# TU CODIGO AQUÍ\n"
   ]
  },
  {
   "cell_type": "markdown",
   "metadata": {
    "id": "y92OF0smodjd"
   },
   "source": [
    "#  **5. Selección de Modelo y Generación de Sumisión para Kaggle**\n",
    "\n",
    "## Basado en tus resultados de validación, elige el mejor modelo . Luego, re-entrénalo usando **todos los datos de `train.csv`** y úsalo para hacer predicciones sobre `test.csv`.\n"
   ]
  },
  {
   "cell_type": "code",
   "execution_count": null,
   "metadata": {
    "id": "q5Q5ZRMqom4o"
   },
   "outputs": [],
   "source": [
    "# TU CÓDIGO AQUÍ\n"
   ]
  },
  {
   "cell_type": "markdown",
   "metadata": {
    "id": "uAwfxIMfo-J4"
   },
   "source": [
    "#  **6. Conclusiones (Opcional pero Recomendado)**\n",
    "\n",
    "## Escribe un breve resumen de tus hallazgos.\n",
    "* ## ¿Qué modelo funcionó mejor y por qué crees que fue así?\n",
    "* ## ¿Cuáles fueron las características más importantes o los descubrimientos más interesantes del EDA?\n",
    "* ## ¿Qué desafíos encontraron y cómo los resolvieron?\n"
   ]
  },
  {
   "cell_type": "markdown",
   "metadata": {
    "id": "EnxNnsSrqwMG"
   },
   "source": [
    "# **Función para generar el archivo de sumisión**"
   ]
  },
  {
   "cell_type": "code",
   "execution_count": null,
   "metadata": {
    "id": "bE_IeJpkoxiX"
   },
   "outputs": [],
   "source": [
    "def generar_submission_file(final_model, X_train_full, y_train_full, X_test_full, customer_ids, filename=\"submission.csv\"):\n",
    "    \"\"\"\n",
    "    Entrena el modelo final con todos los datos de entrenamiento, genera predicciones\n",
    "    de probabilidad en el conjunto de prueba y guarda el archivo de sumisión.\n",
    "\n",
    "    Args:\n",
    "        final_model: El modelo y preprocesamiento elegido.\n",
    "        X_train_full (DataFrame): El DataFrame completo de características de entrenamiento.\n",
    "        y_train_full (Series): La Serie completa del objetivo de entrenamiento.\n",
    "        X_test_full (DataFrame): El DataFrame de características de prueba.\n",
    "        customer_ids (Series): La Serie de customerID para el archivo de sumisión.\n",
    "        filename (str): El nombre del archivo CSV de salida.\n",
    "    \"\"\"\n",
    "    print(\"Entrenando el modelo final con todos los datos de entrenamiento...\")\n",
    "    final_model.fit(X_train_full, y_train_full)\n",
    "    print(\"Modelo final entrenado.\")\n",
    "\n",
    "    print(\"Generando predicciones de probabilidad sobre el conjunto de prueba...\")\n",
    "    test_probabilities = final_model.predict_proba(X_test_full)[:, 1]\n",
    "\n",
    "    print(f\"Creando el archivo de sumisión '{filename}'...\")\n",
    "    submission_df = pd.DataFrame({\n",
    "        'customerID': customer_ids,\n",
    "        'Churn': test_probabilities\n",
    "    })\n",
    "\n",
    "    submission_df.to_csv(filename, index=False)\n",
    "\n",
    "    print(f\"Archivo '{filename}' generado exitosamente.\")\n",
    "    print(\"Primeras 5 filas del archivo de sumisión:\")\n",
    "    display(submission_df.head())\n",
    "    return submission_df"
   ]
  },
  {
   "cell_type": "code",
   "execution_count": null,
   "metadata": {
    "id": "AcpgWkMorKHp"
   },
   "outputs": [],
   "source": [
    "submission_final = generar_submission_file(\n",
    "    final_model=mejor_modelo,\n",
    "    X_train_full=X,\n",
    "    y_train_full=y,\n",
    "    X_test_full=X_test_final,\n",
    "    customer_ids=test_customer_ids,\n",
    "    filename=\"mi_submission_final.csv\"\n",
    ")"
   ]
  }
 ],
 "metadata": {
  "colab": {
   "provenance": []
  },
  "kernelspec": {
   "display_name": "Python 3 (ipykernel)",
   "language": "python",
   "name": "python3"
  },
  "language_info": {
   "codemirror_mode": {
    "name": "ipython",
    "version": 3
   },
   "file_extension": ".py",
   "mimetype": "text/x-python",
   "name": "python",
   "nbconvert_exporter": "python",
   "pygments_lexer": "ipython3",
   "version": "3.11.13"
  }
 },
 "nbformat": 4,
 "nbformat_minor": 4
}
