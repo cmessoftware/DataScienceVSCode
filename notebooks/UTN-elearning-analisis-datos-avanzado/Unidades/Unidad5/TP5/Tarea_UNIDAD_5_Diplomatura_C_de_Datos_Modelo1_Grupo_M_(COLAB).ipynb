{
 "cells": [
  {
   "cell_type": "markdown",
   "metadata": {
    "id": "12EoSErZatKo"
   },
   "source": [
    "# **Predicción de Abandono de Clientes en una empresa de telecomunicaciones**\n",
    "\n",
    "Dataset descargado de Kaggle: https://www.kaggle.com/datasets/blastchar/telco-customer-churn/data"
   ]
  },
  {
   "cell_type": "markdown",
   "metadata": {
    "id": "w4J5I1I0adcH"
   },
   "source": []
  },
  {
   "cell_type": "markdown",
   "metadata": {
    "id": "ZR_P_R1QF1Z5"
   },
   "source": [
    "Descripción del dataset Telco Customer Churn\n",
    "\n",
    "🔔 Contexto general:\n",
    "\n",
    "Cada fila: un cliente de una empresa Telco (telecomunicaciones).\n",
    "\n",
    "Objetivo: predecir si ese cliente se fue (Churn=Yes) o sigue (Churn=No).\n",
    "\n",
    "🕹️ Incluye datos demográficos, productos contratados, servicios adicionales, y comportamiento de facturación.\n",
    "\n",
    "---\n",
    "\n",
    "📋 Campos detallados:\n",
    "\n",
    "Campo\tDescripción negocio\n",
    "\n",
    "customerID\tIdentificador único del cliente. No aporta al modelo predictivo pero sirve como referencia.\n",
    "gender\tGénero del cliente (Male o Female).\n",
    "SeniorCitizen\tSi el cliente es adulto mayor (1 = sí, 0 = no).\n",
    "Partner\tSi tiene pareja (Yes = convive o está casado, No = soltero).\n",
    "Dependents\tSi tiene personas a cargo (dependientes: hijos, etc.).\n",
    "tenure\tMeses que el cliente lleva siendo cliente de la empresa. Indica antigüedad.\n",
    "PhoneService\tSi tiene servicio telefónico (Yes o No).\n",
    "MultipleLines\tSi tiene múltiples líneas telefónicas (Yes, No, No phone service).\n",
    "InternetService\tTipo de servicio de internet (DSL, Fiber optic, No).\n",
    "OnlineSecurity\tSi tiene servicio de seguridad en línea (antivirus/protección, Yes, No, No internet service).\n",
    "OnlineBackup\tSi tiene servicio de backup online (Yes, No, No internet service).\n",
    "DeviceProtection\tSi tiene protección de dispositivos (Yes, No, No internet service).\n",
    "TechSupport\tSi tiene soporte técnico contratado (Yes, No, No internet service).\n",
    "StreamingTV\tSi tiene servicio de streaming TV (Yes, No, No internet service).\n",
    "StreamingMovies\tSi tiene servicio de streaming de películas (Yes, No, No internet service).\n",
    "Contract\tTipo de contrato (Month-to-month, One year, Two year). Refleja compromiso de permanencia.\n",
    "PaperlessBilling\tSi usa facturación electrónica (Yes = sin factura en papel).\n",
    "PaymentMethod\tMétodo de pago (Electronic check, Mailed check, Bank transfer (automatic), Credit card (automatic)).\n",
    "MonthlyCharges\tImporte mensual en dólares que paga el cliente.\n",
    "TotalCharges\tTotal facturado al cliente a lo largo de toda su relación con la empresa.\n",
    "Churn\tVariable target: si el cliente abandonó (Yes) o sigue (No).\n",
    "\n",
    "\n",
    "---\n",
    "\n",
    "🔎 Insights clave de negocio por variable\n",
    "\n",
    "Variables demográficas: gender, SeniorCitizen, Partner, Dependents.\n",
    "\n",
    "Permiten analizar perfiles socio-demográficos que podrían tener mayor propensión a churn.\n",
    "\n",
    "Uso de servicios: PhoneService, InternetService, OnlineSecurity, etc.\n",
    "\n",
    "Reflejan qué productos y bundles tiene contratados cada cliente.\n",
    "\n",
    "Importante porque el churn podría estar relacionado con tipo o cantidad de servicios.\n",
    "\n",
    "\n",
    "Facturación y método de pago: MonthlyCharges, TotalCharges, PaymentMethod.\n",
    "\n",
    "Información sobre comportamiento económico de cliente.\n",
    "\n",
    "Ejemplo típico: clientes que pagan con cheque podrían tener mayor propensión al churn.\n",
    "\n",
    "Relación contractual: tenure, Contract, PaperlessBilling.\n",
    "\n",
    "tenure es especialmente predictivo: churn es más alto en clientes nuevos.\n",
    "\n",
    "\n",
    "---\n",
    "\n",
    "✅ Resumen interpretativo: 👉 Este dataset simula la base de clientes de una telco que quiere anticipar quién podría cancelar su servicio, analizando:\n",
    "\n",
    "Perfil demográfico.\n",
    "\n",
    "Productos contratados.\n",
    "\n",
    "Antigüedad.\n",
    "\n",
    "Facturación.\n",
    "\n",
    "Forma de pago."
   ]
  },
  {
   "cell_type": "code",
   "execution_count": null,
   "metadata": {},
   "outputs": [],
   "source": [
    "# Verificar y corregir versión de NumPy para compatibilidad con Numba\n",
    "import sys\n",
    "import subprocess\n",
    "\n",
    "def check_and_fix_numpy():\n",
    "    try:\n",
    "        import numpy as np\n",
    "        numpy_version = np.__version__\n",
    "        print(f\"🔍 NumPy actual: {numpy_version}\")\n",
    "        \n",
    "        # Verificar si la versión es compatible con Numba\n",
    "        major, minor = [int(x) for x in numpy_version.split('.')[:2]]\n",
    "        \n",
    "        if major > 2 or (major == 2 and minor > 1):\n",
    "            print(\"⚠️ NumPy versión incompatible con Numba detectada\")\n",
    "            print(\"🔧 Instalando NumPy compatible...\")\n",
    "            \n",
    "            # Desinstalar e instalar versión compatible\n",
    "            subprocess.check_call([sys.executable, \"-m\", \"pip\", \"uninstall\", \"numpy\", \"-y\"])\n",
    "            subprocess.check_call([sys.executable, \"-m\", \"pip\", \"install\", \"numpy<=2.1\"])\n",
    "            \n",
    "            print(\"✅ NumPy actualizado a versión compatible\")\n",
    "            print(\"🔄 Reinicia el kernel después de esta celda\")\n",
    "        else:\n",
    "            print(\"✅ NumPy versión compatible\")\n",
    "            \n",
    "    except ImportError:\n",
    "        print(\"📦 NumPy no instalado, se instalará en la siguiente celda\")\n",
    "    except Exception as e:\n",
    "        print(f\"❌ Error verificando NumPy: {e}\")\n",
    "\n",
    "check_and_fix_numpy()"
   ]
  },
  {
   "cell_type": "code",
   "execution_count": null,
   "metadata": {},
   "outputs": [],
   "source": [
    "#Instalar librerias necesarias con versiones compatibles\n",
    "!pip install \"numpy<=2.1\" numba\n",
    "!pip install ydata_profiling\n",
    "#Actulizo el pip\n",
    "!pip install --upgrade pip"
   ]
  },
  {
   "cell_type": "markdown",
   "metadata": {
    "id": "RLumNGEUdIDe"
   },
   "source": [
    "## **Analisis automático EDA con Pandas Profiling**"
   ]
  },
  {
   "cell_type": "code",
   "execution_count": null,
   "metadata": {
    "id": "aM8QeH3uvIai"
   },
   "outputs": [],
   "source": [
    "#Importar las librerías\n",
    "import numpy as np\n",
    "import pandas as pd\n",
    "import matplotlib.pyplot as plt\n",
    "import seaborn as sns\n",
    "from sklearn.model_selection import train_test_split\n",
    "from sklearn.preprocessing import LabelEncoder\n",
    "from sklearn.metrics import classification_report, confusion_matrix, roc_auc_score, roc_curve\n",
    "from sklearn.linear_model import LogisticRegression\n",
    "from sklearn.ensemble import RandomForestClassifier\n",
    "from scipy.stats import skew, pearsonr\n",
    "from mpl_toolkits.mplot3d import Axes3D\n",
    "%matplotlib inline\n",
    "import warnings\n",
    "warnings.filterwarnings('ignore')\n"
   ]
  },
  {
   "cell_type": "code",
   "execution_count": null,
   "metadata": {
    "colab": {
     "base_uri": "https://localhost:8080/",
     "height": 342
    },
    "id": "NVWBhhIKvIaj",
    "outputId": "5e467c6e-f2f5-491b-c7ba-93c79f936bf4",
    "scrolled": true
   },
   "outputs": [],
   "source": [
    "# 1. Lectura del dataset\n",
    "#import kagglehub\n",
    "\n",
    "# Load dataset\n",
    "df = pd.read_csv(\"train.csv\")\n",
    "display(df.head())\n",
    "\n",
    "df_test = pd.read_csv(\"test.csv\")\n",
    "display(df_test.head)\n",
    "\n"
   ]
  },
  {
   "cell_type": "code",
   "execution_count": null,
   "metadata": {
    "colab": {
     "base_uri": "https://localhost:8080/"
    },
    "id": "y6u6ThvH_XMS",
    "outputId": "fc28e3d5-6d1d-43a1-e4a6-b2def574483d"
   },
   "outputs": [],
   "source": [
    "# 2. Info del dataset\n",
    "df.shape\n"
   ]
  },
  {
   "cell_type": "code",
   "execution_count": null,
   "metadata": {
    "colab": {
     "base_uri": "https://localhost:8080/"
    },
    "id": "SDnduuNj_nzT",
    "outputId": "8692da58-029b-4fef-a7c8-2c9cda8da5f8"
   },
   "outputs": [],
   "source": [
    "# 2. Info del dataset\n",
    "df.info()"
   ]
  },
  {
   "cell_type": "code",
   "execution_count": null,
   "metadata": {
    "colab": {
     "base_uri": "https://localhost:8080/",
     "height": 1000,
     "referenced_widgets": [
      "ba931365d9f2439bb816b41b4460977a",
      "2cbadf48f5204825bfe10a12229d7f6a",
      "4758cae152f84a578372a39cb1577685",
      "c7895863058247a9b3d70d2d6aecf58b",
      "0d1811d87c76453897c960acc46ba48c",
      "61abf1d527aa45ecb90cc3b4b1b3b9c4",
      "319624e540f8493ab985918e1ce67e56",
      "f06f8d382f434a03afc1d3f94221776a",
      "6e0e2d21305c486a90fb9afa938bcfc4",
      "8833c720233f45d89c14d1caabd1656c",
      "b26a98b882324a52be57e3a748c9f13e",
      "9147bf4e796345ed9a43e3888ec65de5",
      "a9e5af59f09549cc8ebaafdd798bb07f",
      "64b93ecceddf42d59e151a4e401eac3b",
      "46e860b4b7d8477f9a311cf7ba0c0558",
      "61340b814337466896c9ef485b6998c0",
      "91d8243347764dc5b194fe6648d9cc8d",
      "bb6806c7225443ee9d253e24e6031165",
      "8586dfbafbbb4d819f2d94523ecf4cbc",
      "d6d88e576e3942a3a1ca29ca80452a5e",
      "3f1600348a79465280ce83e8157f238d",
      "ba2b34079b75409ba220683b12db17c4",
      "d8a1c90a09f344a8845eebb8eac7f6e0",
      "c0d973d1345f4ef1a1259f1b10aade17",
      "02fc2cf1c6214bd38e8aeeed32764945",
      "bf575de63be54215bd7fc9f2dbd1939b",
      "3513e6d7fd1c41689609d3d7e248bcc5",
      "2a881228216e49209d18ce7d4cb30207",
      "adda503cb8e24c1385f758dfe703ac58",
      "7a7f9cc1c9484221aa2e282ea567c555",
      "1937348b7b744243aadf834f5f24baa8",
      "2c9d9169f76744bfbd420571ad947bda",
      "01bb4f70bf1d45a9b542f1f09ec31ee9",
      "5deb674421074e1fb2b0dbca2373b26d",
      "334d6665f1ac4a8286bd375d9d14d483",
      "c7aa865abde04ed28c7170c817a3a9be",
      "eb47f36899804b38a972b604ccfbf231",
      "ecff5387e6a0439cab7d8d4e7088e3de",
      "9af68bcd44b448329b7128296094f391",
      "501e5a51ea894114be547f42070974f4",
      "63bd41d5d3f348739d8420f69477ae72",
      "73418497d3f24e92a3badfbd969bcc4d",
      "477bd1e0ee704e9ba06cb09466fc8910",
      "612bb681b4724a9ca3a3ca93c4c47bc5"
     ]
    },
    "id": "9ZKsBbwCvIaj",
    "outputId": "95d335f7-8183-4bf3-c2f8-cc3283fc11a0"
   },
   "outputs": [],
   "source": [
    "# 2. Generar el informe EDA\n",
    "from ydata_profiling import ProfileReport\n",
    "profile = ProfileReport(df, title=\"Reporte EDA de Predicción de abandono de Clientes\", explorative=True)\n",
    "profile.to_notebook_iframe()  # Ver reporte en Jupyter Notebook\n",
    "profile.to_file(\"eda_report.html\")  # Para exportar a HTML"
   ]
  },
  {
   "cell_type": "markdown",
   "metadata": {
    "id": "3df6d3fe"
   },
   "source": [
    "# Analisis Univariado\n",
    "Generate frequency plots for the categorical columns in the file \"telecom_customer_churn.csv\" for customers who have churned (where 'Churn' is 'Yes')."
   ]
  },
  {
   "cell_type": "markdown",
   "metadata": {
    "id": "7f0b8f82"
   },
   "source": [
    "## Identify categorical columns\n",
    "\n",
    "Identify the categorical columns in the DataFrame that are suitable for frequency plotting.\n"
   ]
  },
  {
   "cell_type": "markdown",
   "metadata": {
    "id": "9884e860"
   },
   "source": [
    "Identify categorical columns by iterating through the DataFrame columns, checking their data types, and counting unique values, while excluding the 'customerID' column.\n",
    "\n"
   ]
  },
  {
   "cell_type": "code",
   "execution_count": null,
   "metadata": {
    "colab": {
     "base_uri": "https://localhost:8080/"
    },
    "id": "352c2cc9",
    "outputId": "3a94ff2f-a0f2-448f-e7e9-082b216735f8"
   },
   "outputs": [],
   "source": [
    "categorical_columns = []\n",
    "for col in df.columns:\n",
    "    if df[col].dtype == 'object' and col != 'customerID':\n",
    "        if df[col].nunique() < 10:\n",
    "            categorical_columns.append(col)\n",
    "\n",
    "print(\"Categorical columns suitable for frequency plotting:\")\n",
    "print(categorical_columns)"
   ]
  },
  {
   "cell_type": "markdown",
   "metadata": {
    "id": "2b7cd94f"
   },
   "source": [
    "## Filter data\n",
    "\n",
    "Filter the DataFrame to include only the rows where 'Churn' is 'Yes'.\n"
   ]
  },
  {
   "cell_type": "markdown",
   "metadata": {
    "id": "10eb79f6"
   },
   "source": [
    "Filter the DataFrame to include only the rows where 'Churn' is 'Yes' and display the head to verify.\n",
    "\n"
   ]
  },
  {
   "cell_type": "code",
   "execution_count": null,
   "metadata": {
    "colab": {
     "base_uri": "https://localhost:8080/",
     "height": 73
    },
    "id": "75fd8150",
    "outputId": "b3fd2f57-10c7-4dc4-c5e7-34062f3dda90"
   },
   "outputs": [],
   "source": [
    "display(df.head(5))\n",
    "df_churned = df[df['Churn'] == 'Yes']\n",
    "display(df_churned.head())"
   ]
  },
  {
   "cell_type": "markdown",
   "metadata": {
    "id": "cac9bfc1"
   },
   "source": [
    "## Generate frequency plots\n",
    "\n",
    "For each identified categorical column, create a frequency bar plot to visualize the distribution of values for churned customers.\n"
   ]
  },
  {
   "cell_type": "markdown",
   "metadata": {
    "id": "c4454324"
   },
   "source": [
    "Iterate through the identified categorical columns (excluding 'Churn') and create a frequency bar plot for each using the churned customers data.\n",
    "\n"
   ]
  },
  {
   "cell_type": "code",
   "execution_count": null,
   "metadata": {
    "id": "e8bceeb8"
   },
   "outputs": [],
   "source": [
    "categorical_columns = ['gender', 'Partner', 'Dependents', 'PhoneService', 'MultipleLines', 'InternetService', 'OnlineSecurity', 'OnlineBackup', 'DeviceProtection', 'TechSupport', 'StreamingTV', 'StreamingMovies', 'Contract', 'PaperlessBilling', 'PaymentMethod']\n",
    "\n",
    "for col in categorical_columns:\n",
    "    plt.figure(figsize=(8, 6))\n",
    "    df_churned[col].value_counts().plot(kind='bar', color='deeppink')\n",
    "    plt.title(f'Frequency of {col} for Churned Customers')\n",
    "    plt.xlabel(col)\n",
    "    plt.ylabel('Count')\n",
    "    plt.xticks(rotation=45, ha='right')\n",
    "    plt.tight_layout()\n",
    "    plt.show()"
   ]
  },
  {
   "cell_type": "markdown",
   "metadata": {
    "id": "dcf34d73"
   },
   "source": [
    "## Summary:\n",
    "\n",
    "### Data Analysis Key Findings\n",
    "\n",
    "*   **Gender:** Among churned customers, the distribution of gender is nearly equal.\n",
    "*   **Partner:** A significantly higher number of churned customers do not have a partner compared to those who do.\n",
    "*   **Dependents:** The vast majority of churned customers do not have dependents.\n",
    "*   **PhoneService:** Almost all churned customers have phone service.\n",
    "*   **MultipleLines:** Churned customers are relatively split between having no multiple lines and having multiple lines.\n",
    "*   **InternetService:** The highest frequency of churned customers have Fiber optic internet service, followed by DSL.\n",
    "*   **OnlineSecurity:** A substantial majority of churned customers do not have online security.\n",
    "*   **OnlineBackup:** A large number of churned customers do not have online backup.\n",
    "*   **DeviceProtection:** More churned customers do not have device protection than those who do.\n",
    "*   **TechSupport:** A significant majority of churned customers do not have tech support.\n",
    "*   **StreamingTV:** Churned customers are relatively split between having and not having streaming TV.\n",
    "*   **StreamingMovies:** Churned customers are relatively split between having and not having streaming movies.\n",
    "*   **Contract:** The overwhelming majority of churned customers are on a Month-to-month contract.\n",
    "*   **PaperlessBilling:** A much higher number of churned customers use paperless billing compared to those who do not.\n",
    "*   **PaymentMethod:** Electronic check is the most frequent payment method among churned customers, followed by Mail check.\n",
    "\n"
   ]
  },
  {
   "cell_type": "markdown",
   "metadata": {
    "id": "3420c228"
   },
   "source": [
    "# Analisis de Correlacion de Churn vs otras variables\n",
    "Analyze the correlation of all columns except 'customerID' with the 'Churn' column in the dataset \"WA_Fn-UseC_-Telco-Customer-Churn.csv\"."
   ]
  },
  {
   "cell_type": "markdown",
   "metadata": {
    "id": "44eb1762"
   },
   "source": [
    "## Data preparation\n",
    "\n",
    "Handle the 'TotalCharges' column by converting it to a numeric type, coercing errors to NaN, and then filling the missing values. Also, encode the categorical 'Churn' column into numerical representation.\n"
   ]
  },
  {
   "cell_type": "markdown",
   "metadata": {
    "id": "28f71532"
   },
   "source": [
    "Convert 'TotalCharges' to numeric, fill NaNs with 0, and encode 'Churn' as instructed.\n",
    "\n"
   ]
  },
  {
   "cell_type": "code",
   "execution_count": null,
   "metadata": {
    "colab": {
     "base_uri": "https://localhost:8080/",
     "height": 313
    },
    "id": "96145ace",
    "outputId": "01b870e7-7c9d-4165-c8f7-d273e72f5d11"
   },
   "outputs": [],
   "source": [
    "df['TotalCharges'] = pd.to_numeric(df['TotalCharges'], errors='coerce')\n",
    "df['TotalCharges'].fillna(0, inplace=True)\n",
    "df['Churn'] = df['Churn'].apply(lambda x: 1 if x == 'Yes' else 0)\n",
    "display(df.head())"
   ]
  },
  {
   "cell_type": "markdown",
   "metadata": {
    "id": "68a67c96"
   },
   "source": [
    "## Handle categorical features\n",
    "\n",
    "Convert other categorical columns into a numerical format suitable for correlation calculation, for instance using one-hot encoding.\n"
   ]
  },
  {
   "cell_type": "markdown",
   "metadata": {
    "id": "9c4cb476"
   },
   "source": [
    "To prepare the data for correlation analysis, I will first drop the non-informative 'customerID' column. Then, I will convert all remaining categorical columns into a numerical format using one-hot encoding with `pd.get_dummies()`, setting `drop_first=True` to prevent multicollinearity. Finally, I will display the head of the resulting DataFrame to verify the changes.\n",
    "\n"
   ]
  },
  {
   "cell_type": "code",
   "execution_count": null,
   "metadata": {
    "colab": {
     "base_uri": "https://localhost:8080/",
     "height": 261
    },
    "id": "93d2be4e",
    "outputId": "a1c1a9b7-ca44-4e7a-ae20-1003ed238a44"
   },
   "outputs": [],
   "source": [
    "df_encoded = df.drop('customerID', axis=1)\n",
    "df_encoded = pd.get_dummies(df_encoded, drop_first=True)\n",
    "display(df_encoded.head())"
   ]
  },
  {
   "cell_type": "markdown",
   "metadata": {
    "id": "fea5e5cc"
   },
   "source": [
    "## Calculate correlation\n",
    "\n",
    "### Subtask:\n",
    "Calculate the correlation matrix of the processed DataFrame and specifically extract the correlation of all columns with the 'Churn' column.\n"
   ]
  },
  {
   "cell_type": "markdown",
   "metadata": {
    "id": "ba75b61d"
   },
   "source": [
    "Calculate the correlation matrix and extract the correlations with the 'Churn' column, then sort and display them.\n",
    "\n"
   ]
  },
  {
   "cell_type": "code",
   "execution_count": null,
   "metadata": {
    "colab": {
     "base_uri": "https://localhost:8080/",
     "height": 1000
    },
    "id": "27742035",
    "outputId": "51d55d7f-deba-4007-cc89-c45565a2bf59"
   },
   "outputs": [],
   "source": [
    "correlation_matrix = df_encoded.corr()\n",
    "churn_correlation = correlation_matrix['Churn'].sort_values(ascending=False)\n",
    "display(churn_correlation)"
   ]
  },
  {
   "cell_type": "markdown",
   "metadata": {
    "id": "a1228210"
   },
   "source": [
    "## Visualize correlation\n",
    "\n",
    "Visualize the correlations, possibly using a heatmap for better visualization.\n"
   ]
  },
  {
   "cell_type": "markdown",
   "metadata": {
    "id": "9e6e0cbb"
   },
   "source": [
    "Generate a heatmap to visualize the correlations with the 'Churn' column.\n",
    "\n"
   ]
  },
  {
   "cell_type": "code",
   "execution_count": null,
   "metadata": {
    "id": "cbc6d1e0"
   },
   "outputs": [],
   "source": [
    "plt.figure(figsize=(8, 10))\n",
    "sns.heatmap(churn_correlation.to_frame(), annot=True, cmap='coolwarm', fmt=\".2f\")\n",
    "plt.title('Correlation with Churn')\n",
    "plt.show()"
   ]
  },
  {
   "cell_type": "markdown",
   "metadata": {
    "id": "bd5e9576"
   },
   "source": [
    "## Findings:\n",
    "\n",
    "*   The 'TotalCharges' column was successfully converted to numeric type, and missing values were filled with 0.\n",
    "*   The 'Churn' column was encoded numerically (Yes=1, No=0).\n",
    "*   Categorical features (excluding 'customerID') were successfully one-hot encoded.\n",
    "*   Features with the strongest positive correlation with 'Churn' include 'InternetService\\_Fiber optic' (correlation ~0.31) and 'PaymentMethod\\_Electronic check' (correlation ~0.30).\n",
    "*   Features with the strongest negative correlation with 'Churn' include 'tenure' (correlation ~-0.35) and 'Contract\\_Two year' (correlation ~-0.30).\n"
   ]
  },
  {
   "cell_type": "markdown",
   "metadata": {
    "id": "J8rMAw7pWXU3"
   },
   "source": [
    "#Implementación de Modelo de regresión Logistica\n",
    "Implementar modelo de regresión logística con scikit-learn, para predicción de abandono del servicio (churn) utilizando sólo las variables con mayor correlación con churn (mayor a 0,2 o menor a -0,2).\n",
    "\n",
    "Variables con mayor correlación: InternetService_Fiber optic, PaymentMethod_Electronic check, InternetService_No, StreamingTV_No internet service, OnlineSecurity_No internet service, OnlineBackup_No internet service, DeviceProtection_No internet service, StreamingMovies_No internet service, TechSupport_No internet service, Contract_Two year, tenure"
   ]
  },
  {
   "cell_type": "markdown",
   "metadata": {
    "id": "VQta8zB1X3pI"
   },
   "source": [
    "Utilizar el 70 % de los datos para entrenar el modelo y el resto de los datos para predecir el modelo, luego evaluar el rendimiento del modelo."
   ]
  },
  {
   "cell_type": "markdown",
   "metadata": {
    "id": "48db2036"
   },
   "source": [
    "### Analyze the \"WA_Fn-UseC_-Telco-Customer-Churn.csv\" dataset by performing the following steps:\n",
    "1. Create frequency plots for columns where 'Churn' is 'Yes'.\n",
    "2. Calculate the correlation matrix for all columns except 'customerID' with the 'Churn' column.\n",
    "3. Implement a logistic regression model using scikit-learn to predict 'Churn'. Use only the columns with an absolute correlation greater than 0.2 with 'Churn' as features: 'InternetService_Fiber optic', 'PaymentMethod_Electronic check', 'InternetService_No', 'StreamingTV_No internet service', 'OnlineSecurity_No internet service', 'OnlineBackup_No internet service', 'DeviceProtection_No internet service', 'StreamingMovies_No internet service', 'TechSupport_No internet service', 'Contract_Two year', and 'tenure'.\n",
    "4. Split the data into 70% for training and 30% for testing.\n",
    "5. Train the logistic regression model on the training data.\n",
    "6. Make predictions on the testing data.\n",
    "7. Evaluate the model's performance using appropriate metrics."
   ]
  },
  {
   "cell_type": "markdown",
   "metadata": {
    "id": "18f646e2"
   },
   "source": [
    "## Select features\n",
    "\n",
    "Based on the correlation analysis, select the features with an absolute correlation value greater than 0.2 with the 'Churn' column as the independent variables (X). Set the 'Churn' column as the dependent variable (y).\n"
   ]
  },
  {
   "cell_type": "markdown",
   "metadata": {
    "id": "17f33e32"
   },
   "source": [
    "I need to select the specified features from the `df_encoded` dataframe to create the feature matrix `X` and the target vector `y`. Then I will display the head of `X` and `y` to verify the selection.\n",
    "\n"
   ]
  },
  {
   "cell_type": "code",
   "execution_count": null,
   "metadata": {
    "colab": {
     "base_uri": "https://localhost:8080/",
     "height": 537
    },
    "id": "f99ff5fb",
    "outputId": "8751c002-05e1-47b6-e417-a4eb15354e29"
   },
   "outputs": [],
   "source": [
    "selected_features = [\n",
    "    'InternetService_Fiber optic', 'PaymentMethod_Electronic check',\n",
    "    'InternetService_No', 'StreamingTV_No internet service',\n",
    "    'OnlineSecurity_No internet service', 'OnlineBackup_No internet service',\n",
    "    'DeviceProtection_No internet service', 'StreamingMovies_No internet service',\n",
    "    'TechSupport_No internet service', 'Contract_Two year', 'tenure'\n",
    "]\n",
    "\n",
    "X = df_encoded[selected_features]\n",
    "y = df_encoded['Churn']\n",
    "\n",
    "print(\"Feature matrix (X) head:\")\n",
    "display(X.head())\n",
    "print(\"\\nTarget vector (y) head:\")\n",
    "display(y.head())"
   ]
  },
  {
   "cell_type": "markdown",
   "metadata": {
    "id": "50c69c51"
   },
   "source": [
    "## Split data\n",
    "\n",
    "Split the dataset into training and testing sets using a 70/30 ratio.\n"
   ]
  },
  {
   "cell_type": "markdown",
   "metadata": {
    "id": "78c2c7f6"
   },
   "source": [
    "Split the data into training and testing sets.\n",
    "\n"
   ]
  },
  {
   "cell_type": "code",
   "execution_count": null,
   "metadata": {
    "colab": {
     "base_uri": "https://localhost:8080/"
    },
    "id": "6829f4de",
    "outputId": "61f6ac98-cf36-427a-ad09-7b99c3331ec4"
   },
   "outputs": [],
   "source": [
    "X_train, X_test, y_train, y_test = train_test_split(X, y, test_size=0.3, random_state=42)\n",
    "\n",
    "print(\"Shape of X_train:\", X_train.shape)\n",
    "print(\"Shape of X_test:\", X_test.shape)\n",
    "print(\"Shape of y_train:\", y_train.shape)\n",
    "print(\"Shape of y_test:\", y_test.shape)"
   ]
  },
  {
   "cell_type": "markdown",
   "metadata": {
    "id": "5a9bfde6"
   },
   "source": [
    "## Initialize and train model\n",
    "\n",
    "Initialize a Logistic Regression model and train it using the training data.\n"
   ]
  },
  {
   "cell_type": "markdown",
   "metadata": {
    "id": "96ed1976"
   },
   "source": [
    "Initialize and train the Logistic Regression model using the training data.\n",
    "\n"
   ]
  },
  {
   "cell_type": "code",
   "execution_count": null,
   "metadata": {
    "colab": {
     "base_uri": "https://localhost:8080/"
    },
    "id": "4f371249",
    "outputId": "0ce913fb-823b-4fc7-9785-d902eacb69e5"
   },
   "outputs": [],
   "source": [
    "model = LogisticRegression()\n",
    "model.fit(X_train, y_train)\n",
    "print(\"Logistic Regression model trained successfully.\")"
   ]
  },
  {
   "cell_type": "markdown",
   "metadata": {
    "id": "e72e9a6f"
   },
   "source": [
    "The model has been trained, now I need to make predictions on the test set and evaluate the model.\n",
    "\n"
   ]
  },
  {
   "cell_type": "code",
   "execution_count": null,
   "metadata": {
    "colab": {
     "base_uri": "https://localhost:8080/"
    },
    "id": "0ec39c2e",
    "outputId": "0f7a7490-8118-41cc-a462-0d93dc78970c"
   },
   "outputs": [],
   "source": [
    "y_pred = model.predict(X_test)\n",
    "print(\"Predictions made on the test set.\")\n",
    "\n",
    "print(\"\\nClassification Report:\")\n",
    "print(classification_report(y_test, y_pred))\n",
    "\n",
    "print(\"\\nConfusion Matrix:\")\n",
    "print(confusion_matrix(y_test, y_pred))\n",
    "\n",
    "test_probabilities = model.predict_proba(X_test)[:, 1]\n",
    "\n",
    "roc_auc = roc_auc_score(y_test, test_probabilities)\n",
    "print(\"\\nROC AUC Score:\", roc_auc)\n",
    "\n",
    "fpr, tpr, thresholds = roc_curve(y_test, test_probabilities)\n",
    "plt.figure()\n",
    "plt.plot(fpr, tpr, label=f'Logistic Regression (AUC = {roc_auc:.2f})')\n",
    "plt.plot([0, 1], [0, 1], 'k--')\n",
    "plt.xlim([0.0, 1.0])\n",
    "plt.ylim([0.0, 1.05])\n",
    "plt.xlabel('False Positive Rate')\n",
    "plt.ylabel('True Positive Rate')\n",
    "plt.title('Receiver Operating Characteristic (ROC) Curve')\n",
    "plt.legend(loc=\"lower right\")\n",
    "plt.show()"
   ]
  },
  {
   "cell_type": "markdown",
   "metadata": {
    "id": "7hJMxyXJd1gk"
   },
   "source": [
    "### Este modelo tuvo una eficiencia del 80% con una buena fiabilidad (AUC=0,84)"
   ]
  },
  {
   "cell_type": "markdown",
   "metadata": {
    "id": "843b348f"
   },
   "source": [
    "## Key Findings\n",
    "\n",
    "*   The data was split into training (70%) and testing (30%) sets, with 4930 samples for training and 2113 for testing.\n",
    "*   A logistic regression model was trained using features with an absolute correlation greater than 0.2 with the 'Churn' column.\n",
    "*   The trained model achieved an accuracy of 0.80 on the test set.\n",
    "*   The ROC AUC score for the model was 0.84, indicating good discriminative power.\n",
    "*   The confusion matrix shows that the model correctly predicted 1408 non-churned customers and 274 churned customers in the test set.\n",
    "\n",
    "## Conclusion\n",
    "\n",
    "*   The current model provides a good starting point for churn prediction.\n",
    "*   Investigating the coefficients of the logistic regression model can help understand the impact of each selected feature on the probability of churn, which can provide useful business insights.\n"
   ]
  },
  {
   "cell_type": "markdown",
   "metadata": {
    "id": "0eb705a3"
   },
   "source": [
    "## Visualize ROC and Precision-Recall Curves\n",
    "\n",
    "Generate the ROC curve and Precision-Recall curve for the trained logistic regression model."
   ]
  },
  {
   "cell_type": "markdown",
   "metadata": {
    "id": "d3cf3473"
   },
   "source": [
    "Using the predicted probabilities from the model, plot the ROC curve and the Precision-Recall curve."
   ]
  },
  {
   "cell_type": "code",
   "execution_count": null,
   "metadata": {
    "id": "2cebe46c"
   },
   "outputs": [],
   "source": [
    "from sklearn.metrics import precision_recall_curve, auc\n",
    "\n",
    "# Plot ROC curve\n",
    "fpr, tpr, thresholds = roc_curve(y_test, test_probabilities)\n",
    "plt.figure(figsize=(8, 6))\n",
    "plt.plot(fpr, tpr, label=f'Logistic Regression (AUC = {roc_auc:.2f})')\n",
    "plt.plot([0, 1], [0, 1], 'k--')\n",
    "plt.xlim([0.0, 1.0])\n",
    "plt.ylim([0.0, 1.05])\n",
    "plt.xlabel('False Positive Rate')\n",
    "plt.ylabel('True Positive Rate')\n",
    "plt.title('Receiver Operating Characteristic (ROC) Curve')\n",
    "plt.legend(loc=\"lower right\")\n",
    "plt.show()\n",
    "\n",
    "# Plot Precision-Recall curve\n",
    "precision, recall, _ = precision_recall_curve(y_test, test_probabilities)\n",
    "pr_auc = auc(recall, precision)\n",
    "\n",
    "plt.figure(figsize=(8, 6))\n",
    "plt.plot(recall, precision, label=f'Logistic Regression (AUC = {pr_auc:.2f})')\n",
    "plt.xlabel('Recall')\n",
    "plt.ylabel('Precision')\n",
    "plt.title('Precision-Recall Curve')\n",
    "plt.legend(loc=\"lower left\")\n",
    "plt.show()"
   ]
  },
  {
   "cell_type": "markdown",
   "metadata": {
    "id": "4af85f9e"
   },
   "source": [
    "## Summary of Visualizations\n",
    "\n",
    "The ROC curve shows the trade-off between the true positive rate (sensitivity) and the false positive rate (1-specificity) at various threshold settings. A higher AUC indicates better discrimination ability of the model.\n",
    "\n",
    "The Precision-Recall curve shows the trade-off between precision (the proportion of correctly predicted positive instances among all predicted positive instances) and recall (the proportion of correctly predicted positive instances among all actual positive instances) at various threshold settings. This curve is particularly useful when dealing with imbalanced datasets."
   ]
  },
  {
   "cell_type": "code",
   "execution_count": null,
   "metadata": {},
   "outputs": [],
   "source": [
    "# Generate Kaggle submission file using existing df_test data\n",
    "from datetime import datetime\n",
    "import os\n",
    "\n",
    "print(\"🎯 Generando archivo de submission para Kaggle...\")\n",
    "\n",
    "# Usar df_test que ya está cargado (no necesitamos recargar test.csv)\n",
    "print(f\"📊 Usando df_test existente: {df_test.shape}\")\n",
    "\n",
    "# Paso 1: Guardar customer IDs del test data\n",
    "customer_ids_test = df_test['customerID'].copy()\n",
    "print(f\"📊 Customer IDs del test: {len(customer_ids_test)}\")\n",
    "\n",
    "# Paso 2: Aplicar el mismo preprocesamiento que a los datos de entrenamiento\n",
    "print(\"🔧 Aplicando preprocesamiento a df_test...\")\n",
    "\n",
    "# Crear copia para procesar\n",
    "test_processed = df_test.copy()\n",
    "\n",
    "# Convertir TotalCharges a numérico (mismo tratamiento que training)\n",
    "test_processed['TotalCharges'] = pd.to_numeric(test_processed['TotalCharges'], errors='coerce')\n",
    "test_processed['TotalCharges'].fillna(0, inplace=True)\n",
    "\n",
    "# Remover customerID y aplicar one-hot encoding\n",
    "test_encoded = test_processed.drop('customerID', axis=1)\n",
    "test_encoded = pd.get_dummies(test_encoded, drop_first=True)\n",
    "\n",
    "print(f\"📊 Test data codificado: {test_encoded.shape}\")\n",
    "print(f\"📋 Columnas después de encoding: {len(test_encoded.columns)}\")\n",
    "\n",
    "# Paso 3: Asegurar que las características coincidan con el modelo entrenado\n",
    "selected_features = [\n",
    "    'InternetService_Fiber optic', 'PaymentMethod_Electronic check',\n",
    "    'InternetService_No', 'StreamingTV_No internet service',\n",
    "    'OnlineSecurity_No internet service', 'OnlineBackup_No internet service',\n",
    "    'DeviceProtection_No internet service', 'StreamingMovies_No internet service',\n",
    "    'TechSupport_No internet service', 'Contract_Two year', 'tenure'\n",
    "]\n",
    "\n",
    "# Verificar y crear características faltantes\n",
    "print(\"🔍 Verificando características del modelo...\")\n",
    "missing_features = []\n",
    "for feature in selected_features:\n",
    "    if feature not in test_encoded.columns:\n",
    "        print(f\"⚠️ Característica faltante: {feature} - Creando con valor 0\")\n",
    "        test_encoded[feature] = 0\n",
    "        missing_features.append(feature)\n",
    "    else:\n",
    "        print(f\"✅ {feature}\")\n",
    "\n",
    "if missing_features:\n",
    "    print(f\"📝 Se crearon {len(missing_features)} características faltantes\")\n",
    "else:\n",
    "    print(\"✅ Todas las características están presentes\")\n",
    "\n",
    "# Seleccionar solo las características del modelo\n",
    "X_test_submission = test_encoded[selected_features]\n",
    "print(f\"📊 Características finales para predicción: {X_test_submission.shape}\")\n",
    "\n",
    "# Paso 4: Generar predicciones de probabilidad\n",
    "print(\"🤖 Generando predicciones para submission...\")\n",
    "submission_probabilities = model.predict_proba(X_test_submission)[:, 1]\n",
    "\n",
    "print(f\"📊 Predicciones generadas: {len(submission_probabilities)}\")\n",
    "print(f\"📊 Customer IDs: {len(customer_ids_test)}\")\n",
    "\n",
    "# Verificar que las longitudes coincidan\n",
    "if len(submission_probabilities) == len(customer_ids_test):\n",
    "    print(\"✅ Longitudes coinciden correctamente\")\n",
    "    \n",
    "    # Paso 5: Crear archivo de submission\n",
    "    timestamp = datetime.now().strftime(\"%Y%m%d_%H%M%S\")\n",
    "    \n",
    "    # Crear directorio submissions si no existe\n",
    "    os.makedirs(\"submissions\", exist_ok=True)\n",
    "    \n",
    "    submission_file = f\"submissions/submission_grupoM_{timestamp}.csv\"\n",
    "    print(f\"📁 Archivo de submission: {submission_file}\")\n",
    "    \n",
    "    # Crear DataFrame de submission\n",
    "    submission_df = pd.DataFrame({\n",
    "        'customerID': customer_ids_test,\n",
    "        'Churn': submission_probabilities\n",
    "    })\n",
    "    \n",
    "    # Guardar archivo\n",
    "    submission_df.to_csv(submission_file, index=False)\n",
    "    \n",
    "    print(f\"✅ Archivo '{submission_file}' generado exitosamente\")\n",
    "    \n",
    "    # Mostrar estadísticas de las predicciones\n",
    "    print(f\"\\n📈 Estadísticas de predicciones:\")\n",
    "    print(f\"   - Total predicciones: {len(submission_probabilities):,}\")\n",
    "    print(f\"   - Promedio: {submission_probabilities.mean():.4f}\")\n",
    "    print(f\"   - Mínimo: {submission_probabilities.min():.4f}\")\n",
    "    print(f\"   - Máximo: {submission_probabilities.max():.4f}\")\n",
    "    print(f\"   - Predicciones > 0.5 (Churn): {(submission_probabilities > 0.5).sum():,} ({(submission_probabilities > 0.5).mean()*100:.1f}%)\")\n",
    "    \n",
    "    print(\"\\n📋 Primeras 10 filas del archivo de submission:\")\n",
    "    display(submission_df.head(10))\n",
    "    \n",
    "    print(f\"\\n🎯 ¡Archivo listo para subir a Kaggle!\")\n",
    "    \n",
    "else:\n",
    "    print(f\"❌ Error: Longitudes no coinciden\")\n",
    "    print(f\"   - Predicciones: {len(submission_probabilities)}\")\n",
    "    print(f\"   - Customer IDs: {len(customer_ids_test)}\")"
   ]
  }
 ],
 "metadata": {
  "colab": {
   "provenance": []
  },
  "kernelspec": {
   "display_name": ".venv (3.13.2)",
   "language": "python",
   "name": "python3"
  },
  "language_info": {
   "codemirror_mode": {
    "name": "ipython",
    "version": 3
   },
   "file_extension": ".py",
   "mimetype": "text/x-python",
   "name": "python",
   "nbconvert_exporter": "python",
   "pygments_lexer": "ipython3",
   "version": "3.13.2"
  },
  "widgets": {
   "application/vnd.jupyter.widget-state+json": {
    "01bb4f70bf1d45a9b542f1f09ec31ee9": {
     "model_module": "@jupyter-widgets/controls",
     "model_module_version": "1.5.0",
     "model_name": "DescriptionStyleModel",
     "state": {
      "_model_module": "@jupyter-widgets/controls",
      "_model_module_version": "1.5.0",
      "_model_name": "DescriptionStyleModel",
      "_view_count": null,
      "_view_module": "@jupyter-widgets/base",
      "_view_module_version": "1.2.0",
      "_view_name": "StyleView",
      "description_width": ""
     }
    },
    "02fc2cf1c6214bd38e8aeeed32764945": {
     "model_module": "@jupyter-widgets/controls",
     "model_module_version": "1.5.0",
     "model_name": "FloatProgressModel",
     "state": {
      "_dom_classes": [],
      "_model_module": "@jupyter-widgets/controls",
      "_model_module_version": "1.5.0",
      "_model_name": "FloatProgressModel",
      "_view_count": null,
      "_view_module": "@jupyter-widgets/controls",
      "_view_module_version": "1.5.0",
      "_view_name": "ProgressView",
      "bar_style": "success",
      "description": "",
      "description_tooltip": null,
      "layout": "IPY_MODEL_7a7f9cc1c9484221aa2e282ea567c555",
      "max": 1,
      "min": 0,
      "orientation": "horizontal",
      "style": "IPY_MODEL_1937348b7b744243aadf834f5f24baa8",
      "value": 1
     }
    },
    "0d1811d87c76453897c960acc46ba48c": {
     "model_module": "@jupyter-widgets/base",
     "model_module_version": "1.2.0",
     "model_name": "LayoutModel",
     "state": {
      "_model_module": "@jupyter-widgets/base",
      "_model_module_version": "1.2.0",
      "_model_name": "LayoutModel",
      "_view_count": null,
      "_view_module": "@jupyter-widgets/base",
      "_view_module_version": "1.2.0",
      "_view_name": "LayoutView",
      "align_content": null,
      "align_items": null,
      "align_self": null,
      "border": null,
      "bottom": null,
      "display": null,
      "flex": null,
      "flex_flow": null,
      "grid_area": null,
      "grid_auto_columns": null,
      "grid_auto_flow": null,
      "grid_auto_rows": null,
      "grid_column": null,
      "grid_gap": null,
      "grid_row": null,
      "grid_template_areas": null,
      "grid_template_columns": null,
      "grid_template_rows": null,
      "height": null,
      "justify_content": null,
      "justify_items": null,
      "left": null,
      "margin": null,
      "max_height": null,
      "max_width": null,
      "min_height": null,
      "min_width": null,
      "object_fit": null,
      "object_position": null,
      "order": null,
      "overflow": null,
      "overflow_x": null,
      "overflow_y": null,
      "padding": null,
      "right": null,
      "top": null,
      "visibility": null,
      "width": null
     }
    },
    "1937348b7b744243aadf834f5f24baa8": {
     "model_module": "@jupyter-widgets/controls",
     "model_module_version": "1.5.0",
     "model_name": "ProgressStyleModel",
     "state": {
      "_model_module": "@jupyter-widgets/controls",
      "_model_module_version": "1.5.0",
      "_model_name": "ProgressStyleModel",
      "_view_count": null,
      "_view_module": "@jupyter-widgets/base",
      "_view_module_version": "1.2.0",
      "_view_name": "StyleView",
      "bar_color": null,
      "description_width": ""
     }
    },
    "2a881228216e49209d18ce7d4cb30207": {
     "model_module": "@jupyter-widgets/base",
     "model_module_version": "1.2.0",
     "model_name": "LayoutModel",
     "state": {
      "_model_module": "@jupyter-widgets/base",
      "_model_module_version": "1.2.0",
      "_model_name": "LayoutModel",
      "_view_count": null,
      "_view_module": "@jupyter-widgets/base",
      "_view_module_version": "1.2.0",
      "_view_name": "LayoutView",
      "align_content": null,
      "align_items": null,
      "align_self": null,
      "border": null,
      "bottom": null,
      "display": null,
      "flex": null,
      "flex_flow": null,
      "grid_area": null,
      "grid_auto_columns": null,
      "grid_auto_flow": null,
      "grid_auto_rows": null,
      "grid_column": null,
      "grid_gap": null,
      "grid_row": null,
      "grid_template_areas": null,
      "grid_template_columns": null,
      "grid_template_rows": null,
      "height": null,
      "justify_content": null,
      "justify_items": null,
      "left": null,
      "margin": null,
      "max_height": null,
      "max_width": null,
      "min_height": null,
      "min_width": null,
      "object_fit": null,
      "object_position": null,
      "order": null,
      "overflow": null,
      "overflow_x": null,
      "overflow_y": null,
      "padding": null,
      "right": null,
      "top": null,
      "visibility": null,
      "width": null
     }
    },
    "2c9d9169f76744bfbd420571ad947bda": {
     "model_module": "@jupyter-widgets/base",
     "model_module_version": "1.2.0",
     "model_name": "LayoutModel",
     "state": {
      "_model_module": "@jupyter-widgets/base",
      "_model_module_version": "1.2.0",
      "_model_name": "LayoutModel",
      "_view_count": null,
      "_view_module": "@jupyter-widgets/base",
      "_view_module_version": "1.2.0",
      "_view_name": "LayoutView",
      "align_content": null,
      "align_items": null,
      "align_self": null,
      "border": null,
      "bottom": null,
      "display": null,
      "flex": null,
      "flex_flow": null,
      "grid_area": null,
      "grid_auto_columns": null,
      "grid_auto_flow": null,
      "grid_auto_rows": null,
      "grid_column": null,
      "grid_gap": null,
      "grid_row": null,
      "grid_template_areas": null,
      "grid_template_columns": null,
      "grid_template_rows": null,
      "height": null,
      "justify_content": null,
      "justify_items": null,
      "left": null,
      "margin": null,
      "max_height": null,
      "max_width": null,
      "min_height": null,
      "min_width": null,
      "object_fit": null,
      "object_position": null,
      "order": null,
      "overflow": null,
      "overflow_x": null,
      "overflow_y": null,
      "padding": null,
      "right": null,
      "top": null,
      "visibility": null,
      "width": null
     }
    },
    "2cbadf48f5204825bfe10a12229d7f6a": {
     "model_module": "@jupyter-widgets/controls",
     "model_module_version": "1.5.0",
     "model_name": "HTMLModel",
     "state": {
      "_dom_classes": [],
      "_model_module": "@jupyter-widgets/controls",
      "_model_module_version": "1.5.0",
      "_model_name": "HTMLModel",
      "_view_count": null,
      "_view_module": "@jupyter-widgets/controls",
      "_view_module_version": "1.5.0",
      "_view_name": "HTMLView",
      "description": "",
      "description_tooltip": null,
      "layout": "IPY_MODEL_61abf1d527aa45ecb90cc3b4b1b3b9c4",
      "placeholder": "​",
      "style": "IPY_MODEL_319624e540f8493ab985918e1ce67e56",
      "value": "Summarize dataset: 100%"
     }
    },
    "319624e540f8493ab985918e1ce67e56": {
     "model_module": "@jupyter-widgets/controls",
     "model_module_version": "1.5.0",
     "model_name": "DescriptionStyleModel",
     "state": {
      "_model_module": "@jupyter-widgets/controls",
      "_model_module_version": "1.5.0",
      "_model_name": "DescriptionStyleModel",
      "_view_count": null,
      "_view_module": "@jupyter-widgets/base",
      "_view_module_version": "1.2.0",
      "_view_name": "StyleView",
      "description_width": ""
     }
    },
    "334d6665f1ac4a8286bd375d9d14d483": {
     "model_module": "@jupyter-widgets/controls",
     "model_module_version": "1.5.0",
     "model_name": "HTMLModel",
     "state": {
      "_dom_classes": [],
      "_model_module": "@jupyter-widgets/controls",
      "_model_module_version": "1.5.0",
      "_model_name": "HTMLModel",
      "_view_count": null,
      "_view_module": "@jupyter-widgets/controls",
      "_view_module_version": "1.5.0",
      "_view_name": "HTMLView",
      "description": "",
      "description_tooltip": null,
      "layout": "IPY_MODEL_9af68bcd44b448329b7128296094f391",
      "placeholder": "​",
      "style": "IPY_MODEL_501e5a51ea894114be547f42070974f4",
      "value": "Export report to file: 100%"
     }
    },
    "3513e6d7fd1c41689609d3d7e248bcc5": {
     "model_module": "@jupyter-widgets/base",
     "model_module_version": "1.2.0",
     "model_name": "LayoutModel",
     "state": {
      "_model_module": "@jupyter-widgets/base",
      "_model_module_version": "1.2.0",
      "_model_name": "LayoutModel",
      "_view_count": null,
      "_view_module": "@jupyter-widgets/base",
      "_view_module_version": "1.2.0",
      "_view_name": "LayoutView",
      "align_content": null,
      "align_items": null,
      "align_self": null,
      "border": null,
      "bottom": null,
      "display": null,
      "flex": null,
      "flex_flow": null,
      "grid_area": null,
      "grid_auto_columns": null,
      "grid_auto_flow": null,
      "grid_auto_rows": null,
      "grid_column": null,
      "grid_gap": null,
      "grid_row": null,
      "grid_template_areas": null,
      "grid_template_columns": null,
      "grid_template_rows": null,
      "height": null,
      "justify_content": null,
      "justify_items": null,
      "left": null,
      "margin": null,
      "max_height": null,
      "max_width": null,
      "min_height": null,
      "min_width": null,
      "object_fit": null,
      "object_position": null,
      "order": null,
      "overflow": null,
      "overflow_x": null,
      "overflow_y": null,
      "padding": null,
      "right": null,
      "top": null,
      "visibility": null,
      "width": null
     }
    },
    "3f1600348a79465280ce83e8157f238d": {
     "model_module": "@jupyter-widgets/base",
     "model_module_version": "1.2.0",
     "model_name": "LayoutModel",
     "state": {
      "_model_module": "@jupyter-widgets/base",
      "_model_module_version": "1.2.0",
      "_model_name": "LayoutModel",
      "_view_count": null,
      "_view_module": "@jupyter-widgets/base",
      "_view_module_version": "1.2.0",
      "_view_name": "LayoutView",
      "align_content": null,
      "align_items": null,
      "align_self": null,
      "border": null,
      "bottom": null,
      "display": null,
      "flex": null,
      "flex_flow": null,
      "grid_area": null,
      "grid_auto_columns": null,
      "grid_auto_flow": null,
      "grid_auto_rows": null,
      "grid_column": null,
      "grid_gap": null,
      "grid_row": null,
      "grid_template_areas": null,
      "grid_template_columns": null,
      "grid_template_rows": null,
      "height": null,
      "justify_content": null,
      "justify_items": null,
      "left": null,
      "margin": null,
      "max_height": null,
      "max_width": null,
      "min_height": null,
      "min_width": null,
      "object_fit": null,
      "object_position": null,
      "order": null,
      "overflow": null,
      "overflow_x": null,
      "overflow_y": null,
      "padding": null,
      "right": null,
      "top": null,
      "visibility": null,
      "width": null
     }
    },
    "46e860b4b7d8477f9a311cf7ba0c0558": {
     "model_module": "@jupyter-widgets/controls",
     "model_module_version": "1.5.0",
     "model_name": "HTMLModel",
     "state": {
      "_dom_classes": [],
      "_model_module": "@jupyter-widgets/controls",
      "_model_module_version": "1.5.0",
      "_model_name": "HTMLModel",
      "_view_count": null,
      "_view_module": "@jupyter-widgets/controls",
      "_view_module_version": "1.5.0",
      "_view_name": "HTMLView",
      "description": "",
      "description_tooltip": null,
      "layout": "IPY_MODEL_3f1600348a79465280ce83e8157f238d",
      "placeholder": "​",
      "style": "IPY_MODEL_ba2b34079b75409ba220683b12db17c4",
      "value": " 1/1 [00:05&lt;00:00,  5.24s/it]"
     }
    },
    "4758cae152f84a578372a39cb1577685": {
     "model_module": "@jupyter-widgets/controls",
     "model_module_version": "1.5.0",
     "model_name": "FloatProgressModel",
     "state": {
      "_dom_classes": [],
      "_model_module": "@jupyter-widgets/controls",
      "_model_module_version": "1.5.0",
      "_model_name": "FloatProgressModel",
      "_view_count": null,
      "_view_module": "@jupyter-widgets/controls",
      "_view_module_version": "1.5.0",
      "_view_name": "ProgressView",
      "bar_style": "success",
      "description": "",
      "description_tooltip": null,
      "layout": "IPY_MODEL_f06f8d382f434a03afc1d3f94221776a",
      "max": 5,
      "min": 0,
      "orientation": "horizontal",
      "style": "IPY_MODEL_6e0e2d21305c486a90fb9afa938bcfc4",
      "value": 5
     }
    },
    "477bd1e0ee704e9ba06cb09466fc8910": {
     "model_module": "@jupyter-widgets/base",
     "model_module_version": "1.2.0",
     "model_name": "LayoutModel",
     "state": {
      "_model_module": "@jupyter-widgets/base",
      "_model_module_version": "1.2.0",
      "_model_name": "LayoutModel",
      "_view_count": null,
      "_view_module": "@jupyter-widgets/base",
      "_view_module_version": "1.2.0",
      "_view_name": "LayoutView",
      "align_content": null,
      "align_items": null,
      "align_self": null,
      "border": null,
      "bottom": null,
      "display": null,
      "flex": null,
      "flex_flow": null,
      "grid_area": null,
      "grid_auto_columns": null,
      "grid_auto_flow": null,
      "grid_auto_rows": null,
      "grid_column": null,
      "grid_gap": null,
      "grid_row": null,
      "grid_template_areas": null,
      "grid_template_columns": null,
      "grid_template_rows": null,
      "height": null,
      "justify_content": null,
      "justify_items": null,
      "left": null,
      "margin": null,
      "max_height": null,
      "max_width": null,
      "min_height": null,
      "min_width": null,
      "object_fit": null,
      "object_position": null,
      "order": null,
      "overflow": null,
      "overflow_x": null,
      "overflow_y": null,
      "padding": null,
      "right": null,
      "top": null,
      "visibility": null,
      "width": null
     }
    },
    "501e5a51ea894114be547f42070974f4": {
     "model_module": "@jupyter-widgets/controls",
     "model_module_version": "1.5.0",
     "model_name": "DescriptionStyleModel",
     "state": {
      "_model_module": "@jupyter-widgets/controls",
      "_model_module_version": "1.5.0",
      "_model_name": "DescriptionStyleModel",
      "_view_count": null,
      "_view_module": "@jupyter-widgets/base",
      "_view_module_version": "1.2.0",
      "_view_name": "StyleView",
      "description_width": ""
     }
    },
    "5deb674421074e1fb2b0dbca2373b26d": {
     "model_module": "@jupyter-widgets/controls",
     "model_module_version": "1.5.0",
     "model_name": "HBoxModel",
     "state": {
      "_dom_classes": [],
      "_model_module": "@jupyter-widgets/controls",
      "_model_module_version": "1.5.0",
      "_model_name": "HBoxModel",
      "_view_count": null,
      "_view_module": "@jupyter-widgets/controls",
      "_view_module_version": "1.5.0",
      "_view_name": "HBoxView",
      "box_style": "",
      "children": [
       "IPY_MODEL_334d6665f1ac4a8286bd375d9d14d483",
       "IPY_MODEL_c7aa865abde04ed28c7170c817a3a9be",
       "IPY_MODEL_eb47f36899804b38a972b604ccfbf231"
      ],
      "layout": "IPY_MODEL_ecff5387e6a0439cab7d8d4e7088e3de"
     }
    },
    "612bb681b4724a9ca3a3ca93c4c47bc5": {
     "model_module": "@jupyter-widgets/controls",
     "model_module_version": "1.5.0",
     "model_name": "DescriptionStyleModel",
     "state": {
      "_model_module": "@jupyter-widgets/controls",
      "_model_module_version": "1.5.0",
      "_model_name": "DescriptionStyleModel",
      "_view_count": null,
      "_view_module": "@jupyter-widgets/base",
      "_view_module_version": "1.2.0",
      "_view_name": "StyleView",
      "description_width": ""
     }
    },
    "61340b814337466896c9ef485b6998c0": {
     "model_module": "@jupyter-widgets/base",
     "model_module_version": "1.2.0",
     "model_name": "LayoutModel",
     "state": {
      "_model_module": "@jupyter-widgets/base",
      "_model_module_version": "1.2.0",
      "_model_name": "LayoutModel",
      "_view_count": null,
      "_view_module": "@jupyter-widgets/base",
      "_view_module_version": "1.2.0",
      "_view_name": "LayoutView",
      "align_content": null,
      "align_items": null,
      "align_self": null,
      "border": null,
      "bottom": null,
      "display": null,
      "flex": null,
      "flex_flow": null,
      "grid_area": null,
      "grid_auto_columns": null,
      "grid_auto_flow": null,
      "grid_auto_rows": null,
      "grid_column": null,
      "grid_gap": null,
      "grid_row": null,
      "grid_template_areas": null,
      "grid_template_columns": null,
      "grid_template_rows": null,
      "height": null,
      "justify_content": null,
      "justify_items": null,
      "left": null,
      "margin": null,
      "max_height": null,
      "max_width": null,
      "min_height": null,
      "min_width": null,
      "object_fit": null,
      "object_position": null,
      "order": null,
      "overflow": null,
      "overflow_x": null,
      "overflow_y": null,
      "padding": null,
      "right": null,
      "top": null,
      "visibility": null,
      "width": null
     }
    },
    "61abf1d527aa45ecb90cc3b4b1b3b9c4": {
     "model_module": "@jupyter-widgets/base",
     "model_module_version": "1.2.0",
     "model_name": "LayoutModel",
     "state": {
      "_model_module": "@jupyter-widgets/base",
      "_model_module_version": "1.2.0",
      "_model_name": "LayoutModel",
      "_view_count": null,
      "_view_module": "@jupyter-widgets/base",
      "_view_module_version": "1.2.0",
      "_view_name": "LayoutView",
      "align_content": null,
      "align_items": null,
      "align_self": null,
      "border": null,
      "bottom": null,
      "display": null,
      "flex": null,
      "flex_flow": null,
      "grid_area": null,
      "grid_auto_columns": null,
      "grid_auto_flow": null,
      "grid_auto_rows": null,
      "grid_column": null,
      "grid_gap": null,
      "grid_row": null,
      "grid_template_areas": null,
      "grid_template_columns": null,
      "grid_template_rows": null,
      "height": null,
      "justify_content": null,
      "justify_items": null,
      "left": null,
      "margin": null,
      "max_height": null,
      "max_width": null,
      "min_height": null,
      "min_width": null,
      "object_fit": null,
      "object_position": null,
      "order": null,
      "overflow": null,
      "overflow_x": null,
      "overflow_y": null,
      "padding": null,
      "right": null,
      "top": null,
      "visibility": null,
      "width": null
     }
    },
    "63bd41d5d3f348739d8420f69477ae72": {
     "model_module": "@jupyter-widgets/base",
     "model_module_version": "1.2.0",
     "model_name": "LayoutModel",
     "state": {
      "_model_module": "@jupyter-widgets/base",
      "_model_module_version": "1.2.0",
      "_model_name": "LayoutModel",
      "_view_count": null,
      "_view_module": "@jupyter-widgets/base",
      "_view_module_version": "1.2.0",
      "_view_name": "LayoutView",
      "align_content": null,
      "align_items": null,
      "align_self": null,
      "border": null,
      "bottom": null,
      "display": null,
      "flex": null,
      "flex_flow": null,
      "grid_area": null,
      "grid_auto_columns": null,
      "grid_auto_flow": null,
      "grid_auto_rows": null,
      "grid_column": null,
      "grid_gap": null,
      "grid_row": null,
      "grid_template_areas": null,
      "grid_template_columns": null,
      "grid_template_rows": null,
      "height": null,
      "justify_content": null,
      "justify_items": null,
      "left": null,
      "margin": null,
      "max_height": null,
      "max_width": null,
      "min_height": null,
      "min_width": null,
      "object_fit": null,
      "object_position": null,
      "order": null,
      "overflow": null,
      "overflow_x": null,
      "overflow_y": null,
      "padding": null,
      "right": null,
      "top": null,
      "visibility": null,
      "width": null
     }
    },
    "64b93ecceddf42d59e151a4e401eac3b": {
     "model_module": "@jupyter-widgets/controls",
     "model_module_version": "1.5.0",
     "model_name": "FloatProgressModel",
     "state": {
      "_dom_classes": [],
      "_model_module": "@jupyter-widgets/controls",
      "_model_module_version": "1.5.0",
      "_model_name": "FloatProgressModel",
      "_view_count": null,
      "_view_module": "@jupyter-widgets/controls",
      "_view_module_version": "1.5.0",
      "_view_name": "ProgressView",
      "bar_style": "success",
      "description": "",
      "description_tooltip": null,
      "layout": "IPY_MODEL_8586dfbafbbb4d819f2d94523ecf4cbc",
      "max": 1,
      "min": 0,
      "orientation": "horizontal",
      "style": "IPY_MODEL_d6d88e576e3942a3a1ca29ca80452a5e",
      "value": 1
     }
    },
    "6e0e2d21305c486a90fb9afa938bcfc4": {
     "model_module": "@jupyter-widgets/controls",
     "model_module_version": "1.5.0",
     "model_name": "ProgressStyleModel",
     "state": {
      "_model_module": "@jupyter-widgets/controls",
      "_model_module_version": "1.5.0",
      "_model_name": "ProgressStyleModel",
      "_view_count": null,
      "_view_module": "@jupyter-widgets/base",
      "_view_module_version": "1.2.0",
      "_view_name": "StyleView",
      "bar_color": null,
      "description_width": ""
     }
    },
    "73418497d3f24e92a3badfbd969bcc4d": {
     "model_module": "@jupyter-widgets/controls",
     "model_module_version": "1.5.0",
     "model_name": "ProgressStyleModel",
     "state": {
      "_model_module": "@jupyter-widgets/controls",
      "_model_module_version": "1.5.0",
      "_model_name": "ProgressStyleModel",
      "_view_count": null,
      "_view_module": "@jupyter-widgets/base",
      "_view_module_version": "1.2.0",
      "_view_name": "StyleView",
      "bar_color": null,
      "description_width": ""
     }
    },
    "7a7f9cc1c9484221aa2e282ea567c555": {
     "model_module": "@jupyter-widgets/base",
     "model_module_version": "1.2.0",
     "model_name": "LayoutModel",
     "state": {
      "_model_module": "@jupyter-widgets/base",
      "_model_module_version": "1.2.0",
      "_model_name": "LayoutModel",
      "_view_count": null,
      "_view_module": "@jupyter-widgets/base",
      "_view_module_version": "1.2.0",
      "_view_name": "LayoutView",
      "align_content": null,
      "align_items": null,
      "align_self": null,
      "border": null,
      "bottom": null,
      "display": null,
      "flex": null,
      "flex_flow": null,
      "grid_area": null,
      "grid_auto_columns": null,
      "grid_auto_flow": null,
      "grid_auto_rows": null,
      "grid_column": null,
      "grid_gap": null,
      "grid_row": null,
      "grid_template_areas": null,
      "grid_template_columns": null,
      "grid_template_rows": null,
      "height": null,
      "justify_content": null,
      "justify_items": null,
      "left": null,
      "margin": null,
      "max_height": null,
      "max_width": null,
      "min_height": null,
      "min_width": null,
      "object_fit": null,
      "object_position": null,
      "order": null,
      "overflow": null,
      "overflow_x": null,
      "overflow_y": null,
      "padding": null,
      "right": null,
      "top": null,
      "visibility": null,
      "width": null
     }
    },
    "8586dfbafbbb4d819f2d94523ecf4cbc": {
     "model_module": "@jupyter-widgets/base",
     "model_module_version": "1.2.0",
     "model_name": "LayoutModel",
     "state": {
      "_model_module": "@jupyter-widgets/base",
      "_model_module_version": "1.2.0",
      "_model_name": "LayoutModel",
      "_view_count": null,
      "_view_module": "@jupyter-widgets/base",
      "_view_module_version": "1.2.0",
      "_view_name": "LayoutView",
      "align_content": null,
      "align_items": null,
      "align_self": null,
      "border": null,
      "bottom": null,
      "display": null,
      "flex": null,
      "flex_flow": null,
      "grid_area": null,
      "grid_auto_columns": null,
      "grid_auto_flow": null,
      "grid_auto_rows": null,
      "grid_column": null,
      "grid_gap": null,
      "grid_row": null,
      "grid_template_areas": null,
      "grid_template_columns": null,
      "grid_template_rows": null,
      "height": null,
      "justify_content": null,
      "justify_items": null,
      "left": null,
      "margin": null,
      "max_height": null,
      "max_width": null,
      "min_height": null,
      "min_width": null,
      "object_fit": null,
      "object_position": null,
      "order": null,
      "overflow": null,
      "overflow_x": null,
      "overflow_y": null,
      "padding": null,
      "right": null,
      "top": null,
      "visibility": null,
      "width": null
     }
    },
    "8833c720233f45d89c14d1caabd1656c": {
     "model_module": "@jupyter-widgets/base",
     "model_module_version": "1.2.0",
     "model_name": "LayoutModel",
     "state": {
      "_model_module": "@jupyter-widgets/base",
      "_model_module_version": "1.2.0",
      "_model_name": "LayoutModel",
      "_view_count": null,
      "_view_module": "@jupyter-widgets/base",
      "_view_module_version": "1.2.0",
      "_view_name": "LayoutView",
      "align_content": null,
      "align_items": null,
      "align_self": null,
      "border": null,
      "bottom": null,
      "display": null,
      "flex": null,
      "flex_flow": null,
      "grid_area": null,
      "grid_auto_columns": null,
      "grid_auto_flow": null,
      "grid_auto_rows": null,
      "grid_column": null,
      "grid_gap": null,
      "grid_row": null,
      "grid_template_areas": null,
      "grid_template_columns": null,
      "grid_template_rows": null,
      "height": null,
      "justify_content": null,
      "justify_items": null,
      "left": null,
      "margin": null,
      "max_height": null,
      "max_width": null,
      "min_height": null,
      "min_width": null,
      "object_fit": null,
      "object_position": null,
      "order": null,
      "overflow": null,
      "overflow_x": null,
      "overflow_y": null,
      "padding": null,
      "right": null,
      "top": null,
      "visibility": null,
      "width": null
     }
    },
    "9147bf4e796345ed9a43e3888ec65de5": {
     "model_module": "@jupyter-widgets/controls",
     "model_module_version": "1.5.0",
     "model_name": "HBoxModel",
     "state": {
      "_dom_classes": [],
      "_model_module": "@jupyter-widgets/controls",
      "_model_module_version": "1.5.0",
      "_model_name": "HBoxModel",
      "_view_count": null,
      "_view_module": "@jupyter-widgets/controls",
      "_view_module_version": "1.5.0",
      "_view_name": "HBoxView",
      "box_style": "",
      "children": [
       "IPY_MODEL_a9e5af59f09549cc8ebaafdd798bb07f",
       "IPY_MODEL_64b93ecceddf42d59e151a4e401eac3b",
       "IPY_MODEL_46e860b4b7d8477f9a311cf7ba0c0558"
      ],
      "layout": "IPY_MODEL_61340b814337466896c9ef485b6998c0"
     }
    },
    "91d8243347764dc5b194fe6648d9cc8d": {
     "model_module": "@jupyter-widgets/base",
     "model_module_version": "1.2.0",
     "model_name": "LayoutModel",
     "state": {
      "_model_module": "@jupyter-widgets/base",
      "_model_module_version": "1.2.0",
      "_model_name": "LayoutModel",
      "_view_count": null,
      "_view_module": "@jupyter-widgets/base",
      "_view_module_version": "1.2.0",
      "_view_name": "LayoutView",
      "align_content": null,
      "align_items": null,
      "align_self": null,
      "border": null,
      "bottom": null,
      "display": null,
      "flex": null,
      "flex_flow": null,
      "grid_area": null,
      "grid_auto_columns": null,
      "grid_auto_flow": null,
      "grid_auto_rows": null,
      "grid_column": null,
      "grid_gap": null,
      "grid_row": null,
      "grid_template_areas": null,
      "grid_template_columns": null,
      "grid_template_rows": null,
      "height": null,
      "justify_content": null,
      "justify_items": null,
      "left": null,
      "margin": null,
      "max_height": null,
      "max_width": null,
      "min_height": null,
      "min_width": null,
      "object_fit": null,
      "object_position": null,
      "order": null,
      "overflow": null,
      "overflow_x": null,
      "overflow_y": null,
      "padding": null,
      "right": null,
      "top": null,
      "visibility": null,
      "width": null
     }
    },
    "9af68bcd44b448329b7128296094f391": {
     "model_module": "@jupyter-widgets/base",
     "model_module_version": "1.2.0",
     "model_name": "LayoutModel",
     "state": {
      "_model_module": "@jupyter-widgets/base",
      "_model_module_version": "1.2.0",
      "_model_name": "LayoutModel",
      "_view_count": null,
      "_view_module": "@jupyter-widgets/base",
      "_view_module_version": "1.2.0",
      "_view_name": "LayoutView",
      "align_content": null,
      "align_items": null,
      "align_self": null,
      "border": null,
      "bottom": null,
      "display": null,
      "flex": null,
      "flex_flow": null,
      "grid_area": null,
      "grid_auto_columns": null,
      "grid_auto_flow": null,
      "grid_auto_rows": null,
      "grid_column": null,
      "grid_gap": null,
      "grid_row": null,
      "grid_template_areas": null,
      "grid_template_columns": null,
      "grid_template_rows": null,
      "height": null,
      "justify_content": null,
      "justify_items": null,
      "left": null,
      "margin": null,
      "max_height": null,
      "max_width": null,
      "min_height": null,
      "min_width": null,
      "object_fit": null,
      "object_position": null,
      "order": null,
      "overflow": null,
      "overflow_x": null,
      "overflow_y": null,
      "padding": null,
      "right": null,
      "top": null,
      "visibility": null,
      "width": null
     }
    },
    "a9e5af59f09549cc8ebaafdd798bb07f": {
     "model_module": "@jupyter-widgets/controls",
     "model_module_version": "1.5.0",
     "model_name": "HTMLModel",
     "state": {
      "_dom_classes": [],
      "_model_module": "@jupyter-widgets/controls",
      "_model_module_version": "1.5.0",
      "_model_name": "HTMLModel",
      "_view_count": null,
      "_view_module": "@jupyter-widgets/controls",
      "_view_module_version": "1.5.0",
      "_view_name": "HTMLView",
      "description": "",
      "description_tooltip": null,
      "layout": "IPY_MODEL_91d8243347764dc5b194fe6648d9cc8d",
      "placeholder": "​",
      "style": "IPY_MODEL_bb6806c7225443ee9d253e24e6031165",
      "value": "Generate report structure: 100%"
     }
    },
    "adda503cb8e24c1385f758dfe703ac58": {
     "model_module": "@jupyter-widgets/controls",
     "model_module_version": "1.5.0",
     "model_name": "DescriptionStyleModel",
     "state": {
      "_model_module": "@jupyter-widgets/controls",
      "_model_module_version": "1.5.0",
      "_model_name": "DescriptionStyleModel",
      "_view_count": null,
      "_view_module": "@jupyter-widgets/base",
      "_view_module_version": "1.2.0",
      "_view_name": "StyleView",
      "description_width": ""
     }
    },
    "b26a98b882324a52be57e3a748c9f13e": {
     "model_module": "@jupyter-widgets/controls",
     "model_module_version": "1.5.0",
     "model_name": "DescriptionStyleModel",
     "state": {
      "_model_module": "@jupyter-widgets/controls",
      "_model_module_version": "1.5.0",
      "_model_name": "DescriptionStyleModel",
      "_view_count": null,
      "_view_module": "@jupyter-widgets/base",
      "_view_module_version": "1.2.0",
      "_view_name": "StyleView",
      "description_width": ""
     }
    },
    "ba2b34079b75409ba220683b12db17c4": {
     "model_module": "@jupyter-widgets/controls",
     "model_module_version": "1.5.0",
     "model_name": "DescriptionStyleModel",
     "state": {
      "_model_module": "@jupyter-widgets/controls",
      "_model_module_version": "1.5.0",
      "_model_name": "DescriptionStyleModel",
      "_view_count": null,
      "_view_module": "@jupyter-widgets/base",
      "_view_module_version": "1.2.0",
      "_view_name": "StyleView",
      "description_width": ""
     }
    },
    "ba931365d9f2439bb816b41b4460977a": {
     "model_module": "@jupyter-widgets/controls",
     "model_module_version": "1.5.0",
     "model_name": "HBoxModel",
     "state": {
      "_dom_classes": [],
      "_model_module": "@jupyter-widgets/controls",
      "_model_module_version": "1.5.0",
      "_model_name": "HBoxModel",
      "_view_count": null,
      "_view_module": "@jupyter-widgets/controls",
      "_view_module_version": "1.5.0",
      "_view_name": "HBoxView",
      "box_style": "",
      "children": [
       "IPY_MODEL_2cbadf48f5204825bfe10a12229d7f6a",
       "IPY_MODEL_4758cae152f84a578372a39cb1577685",
       "IPY_MODEL_c7895863058247a9b3d70d2d6aecf58b"
      ],
      "layout": "IPY_MODEL_0d1811d87c76453897c960acc46ba48c"
     }
    },
    "bb6806c7225443ee9d253e24e6031165": {
     "model_module": "@jupyter-widgets/controls",
     "model_module_version": "1.5.0",
     "model_name": "DescriptionStyleModel",
     "state": {
      "_model_module": "@jupyter-widgets/controls",
      "_model_module_version": "1.5.0",
      "_model_name": "DescriptionStyleModel",
      "_view_count": null,
      "_view_module": "@jupyter-widgets/base",
      "_view_module_version": "1.2.0",
      "_view_name": "StyleView",
      "description_width": ""
     }
    },
    "bf575de63be54215bd7fc9f2dbd1939b": {
     "model_module": "@jupyter-widgets/controls",
     "model_module_version": "1.5.0",
     "model_name": "HTMLModel",
     "state": {
      "_dom_classes": [],
      "_model_module": "@jupyter-widgets/controls",
      "_model_module_version": "1.5.0",
      "_model_name": "HTMLModel",
      "_view_count": null,
      "_view_module": "@jupyter-widgets/controls",
      "_view_module_version": "1.5.0",
      "_view_name": "HTMLView",
      "description": "",
      "description_tooltip": null,
      "layout": "IPY_MODEL_2c9d9169f76744bfbd420571ad947bda",
      "placeholder": "​",
      "style": "IPY_MODEL_01bb4f70bf1d45a9b542f1f09ec31ee9",
      "value": " 1/1 [00:01&lt;00:00,  1.16s/it]"
     }
    },
    "c0d973d1345f4ef1a1259f1b10aade17": {
     "model_module": "@jupyter-widgets/controls",
     "model_module_version": "1.5.0",
     "model_name": "HTMLModel",
     "state": {
      "_dom_classes": [],
      "_model_module": "@jupyter-widgets/controls",
      "_model_module_version": "1.5.0",
      "_model_name": "HTMLModel",
      "_view_count": null,
      "_view_module": "@jupyter-widgets/controls",
      "_view_module_version": "1.5.0",
      "_view_name": "HTMLView",
      "description": "",
      "description_tooltip": null,
      "layout": "IPY_MODEL_2a881228216e49209d18ce7d4cb30207",
      "placeholder": "​",
      "style": "IPY_MODEL_adda503cb8e24c1385f758dfe703ac58",
      "value": "Render HTML: 100%"
     }
    },
    "c7895863058247a9b3d70d2d6aecf58b": {
     "model_module": "@jupyter-widgets/controls",
     "model_module_version": "1.5.0",
     "model_name": "HTMLModel",
     "state": {
      "_dom_classes": [],
      "_model_module": "@jupyter-widgets/controls",
      "_model_module_version": "1.5.0",
      "_model_name": "HTMLModel",
      "_view_count": null,
      "_view_module": "@jupyter-widgets/controls",
      "_view_module_version": "1.5.0",
      "_view_name": "HTMLView",
      "description": "",
      "description_tooltip": null,
      "layout": "IPY_MODEL_8833c720233f45d89c14d1caabd1656c",
      "placeholder": "​",
      "style": "IPY_MODEL_b26a98b882324a52be57e3a748c9f13e",
      "value": " 34/34 [00:02&lt;00:00,  7.42it/s, Completed]"
     }
    },
    "c7aa865abde04ed28c7170c817a3a9be": {
     "model_module": "@jupyter-widgets/controls",
     "model_module_version": "1.5.0",
     "model_name": "FloatProgressModel",
     "state": {
      "_dom_classes": [],
      "_model_module": "@jupyter-widgets/controls",
      "_model_module_version": "1.5.0",
      "_model_name": "FloatProgressModel",
      "_view_count": null,
      "_view_module": "@jupyter-widgets/controls",
      "_view_module_version": "1.5.0",
      "_view_name": "ProgressView",
      "bar_style": "success",
      "description": "",
      "description_tooltip": null,
      "layout": "IPY_MODEL_63bd41d5d3f348739d8420f69477ae72",
      "max": 1,
      "min": 0,
      "orientation": "horizontal",
      "style": "IPY_MODEL_73418497d3f24e92a3badfbd969bcc4d",
      "value": 1
     }
    },
    "d6d88e576e3942a3a1ca29ca80452a5e": {
     "model_module": "@jupyter-widgets/controls",
     "model_module_version": "1.5.0",
     "model_name": "ProgressStyleModel",
     "state": {
      "_model_module": "@jupyter-widgets/controls",
      "_model_module_version": "1.5.0",
      "_model_name": "ProgressStyleModel",
      "_view_count": null,
      "_view_module": "@jupyter-widgets/base",
      "_view_module_version": "1.2.0",
      "_view_name": "StyleView",
      "bar_color": null,
      "description_width": ""
     }
    },
    "d8a1c90a09f344a8845eebb8eac7f6e0": {
     "model_module": "@jupyter-widgets/controls",
     "model_module_version": "1.5.0",
     "model_name": "HBoxModel",
     "state": {
      "_dom_classes": [],
      "_model_module": "@jupyter-widgets/controls",
      "_model_module_version": "1.5.0",
      "_model_name": "HBoxModel",
      "_view_count": null,
      "_view_module": "@jupyter-widgets/controls",
      "_view_module_version": "1.5.0",
      "_view_name": "HBoxView",
      "box_style": "",
      "children": [
       "IPY_MODEL_c0d973d1345f4ef1a1259f1b10aade17",
       "IPY_MODEL_02fc2cf1c6214bd38e8aeeed32764945",
       "IPY_MODEL_bf575de63be54215bd7fc9f2dbd1939b"
      ],
      "layout": "IPY_MODEL_3513e6d7fd1c41689609d3d7e248bcc5"
     }
    },
    "eb47f36899804b38a972b604ccfbf231": {
     "model_module": "@jupyter-widgets/controls",
     "model_module_version": "1.5.0",
     "model_name": "HTMLModel",
     "state": {
      "_dom_classes": [],
      "_model_module": "@jupyter-widgets/controls",
      "_model_module_version": "1.5.0",
      "_model_name": "HTMLModel",
      "_view_count": null,
      "_view_module": "@jupyter-widgets/controls",
      "_view_module_version": "1.5.0",
      "_view_name": "HTMLView",
      "description": "",
      "description_tooltip": null,
      "layout": "IPY_MODEL_477bd1e0ee704e9ba06cb09466fc8910",
      "placeholder": "​",
      "style": "IPY_MODEL_612bb681b4724a9ca3a3ca93c4c47bc5",
      "value": " 1/1 [00:00&lt;00:00, 34.62it/s]"
     }
    },
    "ecff5387e6a0439cab7d8d4e7088e3de": {
     "model_module": "@jupyter-widgets/base",
     "model_module_version": "1.2.0",
     "model_name": "LayoutModel",
     "state": {
      "_model_module": "@jupyter-widgets/base",
      "_model_module_version": "1.2.0",
      "_model_name": "LayoutModel",
      "_view_count": null,
      "_view_module": "@jupyter-widgets/base",
      "_view_module_version": "1.2.0",
      "_view_name": "LayoutView",
      "align_content": null,
      "align_items": null,
      "align_self": null,
      "border": null,
      "bottom": null,
      "display": null,
      "flex": null,
      "flex_flow": null,
      "grid_area": null,
      "grid_auto_columns": null,
      "grid_auto_flow": null,
      "grid_auto_rows": null,
      "grid_column": null,
      "grid_gap": null,
      "grid_row": null,
      "grid_template_areas": null,
      "grid_template_columns": null,
      "grid_template_rows": null,
      "height": null,
      "justify_content": null,
      "justify_items": null,
      "left": null,
      "margin": null,
      "max_height": null,
      "max_width": null,
      "min_height": null,
      "min_width": null,
      "object_fit": null,
      "object_position": null,
      "order": null,
      "overflow": null,
      "overflow_x": null,
      "overflow_y": null,
      "padding": null,
      "right": null,
      "top": null,
      "visibility": null,
      "width": null
     }
    },
    "f06f8d382f434a03afc1d3f94221776a": {
     "model_module": "@jupyter-widgets/base",
     "model_module_version": "1.2.0",
     "model_name": "LayoutModel",
     "state": {
      "_model_module": "@jupyter-widgets/base",
      "_model_module_version": "1.2.0",
      "_model_name": "LayoutModel",
      "_view_count": null,
      "_view_module": "@jupyter-widgets/base",
      "_view_module_version": "1.2.0",
      "_view_name": "LayoutView",
      "align_content": null,
      "align_items": null,
      "align_self": null,
      "border": null,
      "bottom": null,
      "display": null,
      "flex": null,
      "flex_flow": null,
      "grid_area": null,
      "grid_auto_columns": null,
      "grid_auto_flow": null,
      "grid_auto_rows": null,
      "grid_column": null,
      "grid_gap": null,
      "grid_row": null,
      "grid_template_areas": null,
      "grid_template_columns": null,
      "grid_template_rows": null,
      "height": null,
      "justify_content": null,
      "justify_items": null,
      "left": null,
      "margin": null,
      "max_height": null,
      "max_width": null,
      "min_height": null,
      "min_width": null,
      "object_fit": null,
      "object_position": null,
      "order": null,
      "overflow": null,
      "overflow_x": null,
      "overflow_y": null,
      "padding": null,
      "right": null,
      "top": null,
      "visibility": null,
      "width": null
     }
    }
   }
  }
 },
 "nbformat": 4,
 "nbformat_minor": 4
}
