{
  "cells": [
    {
      "cell_type": "markdown",
      "metadata": {
        "id": "rEbE1QyzB_w0"
      },
      "source": [
        "#** Tarea Unidad 6 \"Machine Learning\"**\n",
        "\n",
        "Grupo M:\n",
        "Lucia Cortes\n",
        "María Fernanda Farias\n",
        "Favio Ruggieri\n",
        "Alejandro Gomez\n",
        "Sergio Salanitri\n",
        "Karina Calvo"
      ]
    },
    {
      "cell_type": "markdown",
      "metadata": {
        "id": "d_N9UJQDBAsE"
      },
      "source": [
        "## Predicción de Diabetes\n",
        "El archivo contiene datos médicos y demográficos de pacientes junto con su estado de diabetes, ya sea positivo o negativo.\n",
        "Las características son edad, género, índice de masa corporal (IMC), hipertensión, enfermedad cardíaca, historial de tabaquismo, nivel de HbA1c y nivel de glucosa en sangre.\n",
        "El trabajo busca utilizar este dataset para construir modelos de aprendizaje automático que pueden predecir la probabilidad de diabetes en función de su historial médico y detalles demográficos.\n",
        "Dataset disponible en https://www.kaggle.com/datasets/iammustafatz/diabetes-prediction-dataset"
      ]
    },
    {
      "cell_type": "markdown",
      "metadata": {
        "id": "oDuL5MQ_IjwN"
      },
      "source": [
        "## Análisis Exploratorio de Datos"
      ]
    },
    {
      "cell_type": "code",
      "execution_count": null,
      "metadata": {
        "colab": {
          "base_uri": "https://localhost:8080/"
        },
        "id": "9_COBrsIvIah",
        "outputId": "30fffee2-e380-47c8-967b-1fc3dd3acca3"
      },
      "outputs": [],
      "source": [
        "# Intalación de librerias\n",
        "# !pip install missingno"
      ]
    },
    {
      "cell_type": "code",
      "execution_count": 48,
      "metadata": {
        "id": "aM8QeH3uvIai"
      },
      "outputs": [],
      "source": [
        "# Intalación de librerias\n",
        "import pandas as pd\n",
        "import numpy as np\n",
        "import missingno as msno\n",
        "import seaborn as sns\n",
        "import matplotlib.pyplot as plt\n",
        "import warnings\n",
        "warnings.filterwarnings(\"ignore\")\n",
        "from scipy.stats import zscore\n",
        "from sklearn.preprocessing import LabelEncoder"
      ]
    },
    {
      "cell_type": "code",
      "execution_count": 49,
      "metadata": {
        "id": "NVWBhhIKvIaj"
      },
      "outputs": [],
      "source": [
        "# 1. Cargar dataset\n",
        "df=pd.read_csv(\"diabetes_prediction_dataset.csv\", sep=',', low_memory=False)"
      ]
    },
    {
      "cell_type": "code",
      "execution_count": 50,
      "metadata": {
        "colab": {
          "base_uri": "https://localhost:8080/"
        },
        "id": "fp_9AQluvIaj",
        "outputId": "22b639fb-38fc-48e0-91c8-8f13ab0dd5b3"
      },
      "outputs": [
        {
          "data": {
            "text/plain": [
              "(100000, 9)"
            ]
          },
          "execution_count": 50,
          "metadata": {},
          "output_type": "execute_result"
        }
      ],
      "source": [
        "# 2. Info del dataset\n",
        "df.shape"
      ]
    },
    {
      "cell_type": "code",
      "execution_count": 51,
      "metadata": {
        "colab": {
          "base_uri": "https://localhost:8080/",
          "height": 206
        },
        "id": "9ZKsBbwCvIaj",
        "outputId": "1b75202d-5d9e-40e7-ec45-2bbddf6141d6"
      },
      "outputs": [
        {
          "data": {
            "application/vnd.microsoft.datawrangler.viewer.v0+json": {
              "columns": [
                {
                  "name": "index",
                  "rawType": "int64",
                  "type": "integer"
                },
                {
                  "name": "gender",
                  "rawType": "object",
                  "type": "string"
                },
                {
                  "name": "age",
                  "rawType": "float64",
                  "type": "float"
                },
                {
                  "name": "hypertension",
                  "rawType": "int64",
                  "type": "integer"
                },
                {
                  "name": "heart_disease",
                  "rawType": "int64",
                  "type": "integer"
                },
                {
                  "name": "smoking_history",
                  "rawType": "object",
                  "type": "string"
                },
                {
                  "name": "bmi",
                  "rawType": "float64",
                  "type": "float"
                },
                {
                  "name": "HbA1c_level",
                  "rawType": "float64",
                  "type": "float"
                },
                {
                  "name": "blood_glucose_level",
                  "rawType": "int64",
                  "type": "integer"
                },
                {
                  "name": "diabetes",
                  "rawType": "int64",
                  "type": "integer"
                }
              ],
              "ref": "cac2b5e3-7ed7-4af8-a249-bae6e36c30ef",
              "rows": [
                [
                  "0",
                  "Female",
                  "80.0",
                  "0",
                  "1",
                  "never",
                  "25.19",
                  "6.6",
                  "140",
                  "0"
                ],
                [
                  "1",
                  "Female",
                  "54.0",
                  "0",
                  "0",
                  "No Info",
                  "27.32",
                  "6.6",
                  "80",
                  "0"
                ],
                [
                  "2",
                  "Male",
                  "28.0",
                  "0",
                  "0",
                  "never",
                  "27.32",
                  "5.7",
                  "158",
                  "0"
                ],
                [
                  "3",
                  "Female",
                  "36.0",
                  "0",
                  "0",
                  "current",
                  "23.45",
                  "5.0",
                  "155",
                  "0"
                ],
                [
                  "4",
                  "Male",
                  "76.0",
                  "1",
                  "1",
                  "current",
                  "20.14",
                  "4.8",
                  "155",
                  "0"
                ]
              ],
              "shape": {
                "columns": 9,
                "rows": 5
              }
            },
            "text/html": [
              "<div>\n",
              "<style scoped>\n",
              "    .dataframe tbody tr th:only-of-type {\n",
              "        vertical-align: middle;\n",
              "    }\n",
              "\n",
              "    .dataframe tbody tr th {\n",
              "        vertical-align: top;\n",
              "    }\n",
              "\n",
              "    .dataframe thead th {\n",
              "        text-align: right;\n",
              "    }\n",
              "</style>\n",
              "<table border=\"1\" class=\"dataframe\">\n",
              "  <thead>\n",
              "    <tr style=\"text-align: right;\">\n",
              "      <th></th>\n",
              "      <th>gender</th>\n",
              "      <th>age</th>\n",
              "      <th>hypertension</th>\n",
              "      <th>heart_disease</th>\n",
              "      <th>smoking_history</th>\n",
              "      <th>bmi</th>\n",
              "      <th>HbA1c_level</th>\n",
              "      <th>blood_glucose_level</th>\n",
              "      <th>diabetes</th>\n",
              "    </tr>\n",
              "  </thead>\n",
              "  <tbody>\n",
              "    <tr>\n",
              "      <th>0</th>\n",
              "      <td>Female</td>\n",
              "      <td>80.0</td>\n",
              "      <td>0</td>\n",
              "      <td>1</td>\n",
              "      <td>never</td>\n",
              "      <td>25.19</td>\n",
              "      <td>6.6</td>\n",
              "      <td>140</td>\n",
              "      <td>0</td>\n",
              "    </tr>\n",
              "    <tr>\n",
              "      <th>1</th>\n",
              "      <td>Female</td>\n",
              "      <td>54.0</td>\n",
              "      <td>0</td>\n",
              "      <td>0</td>\n",
              "      <td>No Info</td>\n",
              "      <td>27.32</td>\n",
              "      <td>6.6</td>\n",
              "      <td>80</td>\n",
              "      <td>0</td>\n",
              "    </tr>\n",
              "    <tr>\n",
              "      <th>2</th>\n",
              "      <td>Male</td>\n",
              "      <td>28.0</td>\n",
              "      <td>0</td>\n",
              "      <td>0</td>\n",
              "      <td>never</td>\n",
              "      <td>27.32</td>\n",
              "      <td>5.7</td>\n",
              "      <td>158</td>\n",
              "      <td>0</td>\n",
              "    </tr>\n",
              "    <tr>\n",
              "      <th>3</th>\n",
              "      <td>Female</td>\n",
              "      <td>36.0</td>\n",
              "      <td>0</td>\n",
              "      <td>0</td>\n",
              "      <td>current</td>\n",
              "      <td>23.45</td>\n",
              "      <td>5.0</td>\n",
              "      <td>155</td>\n",
              "      <td>0</td>\n",
              "    </tr>\n",
              "    <tr>\n",
              "      <th>4</th>\n",
              "      <td>Male</td>\n",
              "      <td>76.0</td>\n",
              "      <td>1</td>\n",
              "      <td>1</td>\n",
              "      <td>current</td>\n",
              "      <td>20.14</td>\n",
              "      <td>4.8</td>\n",
              "      <td>155</td>\n",
              "      <td>0</td>\n",
              "    </tr>\n",
              "  </tbody>\n",
              "</table>\n",
              "</div>"
            ],
            "text/plain": [
              "   gender   age  hypertension  heart_disease smoking_history    bmi  \\\n",
              "0  Female  80.0             0              1           never  25.19   \n",
              "1  Female  54.0             0              0         No Info  27.32   \n",
              "2    Male  28.0             0              0           never  27.32   \n",
              "3  Female  36.0             0              0         current  23.45   \n",
              "4    Male  76.0             1              1         current  20.14   \n",
              "\n",
              "   HbA1c_level  blood_glucose_level  diabetes  \n",
              "0          6.6                  140         0  \n",
              "1          6.6                   80         0  \n",
              "2          5.7                  158         0  \n",
              "3          5.0                  155         0  \n",
              "4          4.8                  155         0  "
            ]
          },
          "execution_count": 51,
          "metadata": {},
          "output_type": "execute_result"
        }
      ],
      "source": [
        "df.head()"
      ]
    },
    {
      "cell_type": "code",
      "execution_count": 14,
      "metadata": {
        "colab": {
          "base_uri": "https://localhost:8080/",
          "height": 206
        },
        "id": "CwJHJB-CvIaj",
        "outputId": "e3f463bc-bcca-41a9-df38-b9517d94a6cb"
      },
      "outputs": [
        {
          "data": {
            "application/vnd.microsoft.datawrangler.viewer.v0+json": {
              "columns": [
                {
                  "name": "index",
                  "rawType": "int64",
                  "type": "integer"
                },
                {
                  "name": "gender",
                  "rawType": "object",
                  "type": "string"
                },
                {
                  "name": "age",
                  "rawType": "float64",
                  "type": "float"
                },
                {
                  "name": "hypertension",
                  "rawType": "int64",
                  "type": "integer"
                },
                {
                  "name": "heart_disease",
                  "rawType": "int64",
                  "type": "integer"
                },
                {
                  "name": "smoking_history",
                  "rawType": "object",
                  "type": "string"
                },
                {
                  "name": "bmi",
                  "rawType": "float64",
                  "type": "float"
                },
                {
                  "name": "HbA1c_level",
                  "rawType": "float64",
                  "type": "float"
                },
                {
                  "name": "blood_glucose_level",
                  "rawType": "int64",
                  "type": "integer"
                },
                {
                  "name": "diabetes",
                  "rawType": "int64",
                  "type": "integer"
                }
              ],
              "ref": "f1bebf84-ee17-4dc3-a5ab-3c8a08d4715f",
              "rows": [
                [
                  "99995",
                  "Female",
                  "80.0",
                  "0",
                  "0",
                  "No Info",
                  "27.32",
                  "6.2",
                  "90",
                  "0"
                ],
                [
                  "99996",
                  "Female",
                  "2.0",
                  "0",
                  "0",
                  "No Info",
                  "17.37",
                  "6.5",
                  "100",
                  "0"
                ],
                [
                  "99997",
                  "Male",
                  "66.0",
                  "0",
                  "0",
                  "former",
                  "27.83",
                  "5.7",
                  "155",
                  "0"
                ],
                [
                  "99998",
                  "Female",
                  "24.0",
                  "0",
                  "0",
                  "never",
                  "35.42",
                  "4.0",
                  "100",
                  "0"
                ],
                [
                  "99999",
                  "Female",
                  "57.0",
                  "0",
                  "0",
                  "current",
                  "22.43",
                  "6.6",
                  "90",
                  "0"
                ]
              ],
              "shape": {
                "columns": 9,
                "rows": 5
              }
            },
            "text/html": [
              "<div>\n",
              "<style scoped>\n",
              "    .dataframe tbody tr th:only-of-type {\n",
              "        vertical-align: middle;\n",
              "    }\n",
              "\n",
              "    .dataframe tbody tr th {\n",
              "        vertical-align: top;\n",
              "    }\n",
              "\n",
              "    .dataframe thead th {\n",
              "        text-align: right;\n",
              "    }\n",
              "</style>\n",
              "<table border=\"1\" class=\"dataframe\">\n",
              "  <thead>\n",
              "    <tr style=\"text-align: right;\">\n",
              "      <th></th>\n",
              "      <th>gender</th>\n",
              "      <th>age</th>\n",
              "      <th>hypertension</th>\n",
              "      <th>heart_disease</th>\n",
              "      <th>smoking_history</th>\n",
              "      <th>bmi</th>\n",
              "      <th>HbA1c_level</th>\n",
              "      <th>blood_glucose_level</th>\n",
              "      <th>diabetes</th>\n",
              "    </tr>\n",
              "  </thead>\n",
              "  <tbody>\n",
              "    <tr>\n",
              "      <th>99995</th>\n",
              "      <td>Female</td>\n",
              "      <td>80.0</td>\n",
              "      <td>0</td>\n",
              "      <td>0</td>\n",
              "      <td>No Info</td>\n",
              "      <td>27.32</td>\n",
              "      <td>6.2</td>\n",
              "      <td>90</td>\n",
              "      <td>0</td>\n",
              "    </tr>\n",
              "    <tr>\n",
              "      <th>99996</th>\n",
              "      <td>Female</td>\n",
              "      <td>2.0</td>\n",
              "      <td>0</td>\n",
              "      <td>0</td>\n",
              "      <td>No Info</td>\n",
              "      <td>17.37</td>\n",
              "      <td>6.5</td>\n",
              "      <td>100</td>\n",
              "      <td>0</td>\n",
              "    </tr>\n",
              "    <tr>\n",
              "      <th>99997</th>\n",
              "      <td>Male</td>\n",
              "      <td>66.0</td>\n",
              "      <td>0</td>\n",
              "      <td>0</td>\n",
              "      <td>former</td>\n",
              "      <td>27.83</td>\n",
              "      <td>5.7</td>\n",
              "      <td>155</td>\n",
              "      <td>0</td>\n",
              "    </tr>\n",
              "    <tr>\n",
              "      <th>99998</th>\n",
              "      <td>Female</td>\n",
              "      <td>24.0</td>\n",
              "      <td>0</td>\n",
              "      <td>0</td>\n",
              "      <td>never</td>\n",
              "      <td>35.42</td>\n",
              "      <td>4.0</td>\n",
              "      <td>100</td>\n",
              "      <td>0</td>\n",
              "    </tr>\n",
              "    <tr>\n",
              "      <th>99999</th>\n",
              "      <td>Female</td>\n",
              "      <td>57.0</td>\n",
              "      <td>0</td>\n",
              "      <td>0</td>\n",
              "      <td>current</td>\n",
              "      <td>22.43</td>\n",
              "      <td>6.6</td>\n",
              "      <td>90</td>\n",
              "      <td>0</td>\n",
              "    </tr>\n",
              "  </tbody>\n",
              "</table>\n",
              "</div>"
            ],
            "text/plain": [
              "       gender   age  hypertension  heart_disease smoking_history    bmi  \\\n",
              "99995  Female  80.0             0              0         No Info  27.32   \n",
              "99996  Female   2.0             0              0         No Info  17.37   \n",
              "99997    Male  66.0             0              0          former  27.83   \n",
              "99998  Female  24.0             0              0           never  35.42   \n",
              "99999  Female  57.0             0              0         current  22.43   \n",
              "\n",
              "       HbA1c_level  blood_glucose_level  diabetes  \n",
              "99995          6.2                   90         0  \n",
              "99996          6.5                  100         0  \n",
              "99997          5.7                  155         0  \n",
              "99998          4.0                  100         0  \n",
              "99999          6.6                   90         0  "
            ]
          },
          "execution_count": 14,
          "metadata": {},
          "output_type": "execute_result"
        }
      ],
      "source": [
        "df.tail()"
      ]
    },
    {
      "cell_type": "code",
      "execution_count": 52,
      "metadata": {
        "colab": {
          "base_uri": "https://localhost:8080/"
        },
        "id": "iNaS1zhxvIaj",
        "outputId": "95e6f62b-67d4-4fa5-8126-0cfaaea6c9ad"
      },
      "outputs": [
        {
          "name": "stdout",
          "output_type": "stream",
          "text": [
            "<class 'pandas.core.frame.DataFrame'>\n",
            "RangeIndex: 100000 entries, 0 to 99999\n",
            "Data columns (total 9 columns):\n",
            " #   Column               Non-Null Count   Dtype  \n",
            "---  ------               --------------   -----  \n",
            " 0   gender               100000 non-null  object \n",
            " 1   age                  100000 non-null  float64\n",
            " 2   hypertension         100000 non-null  int64  \n",
            " 3   heart_disease        100000 non-null  int64  \n",
            " 4   smoking_history      100000 non-null  object \n",
            " 5   bmi                  100000 non-null  float64\n",
            " 6   HbA1c_level          100000 non-null  float64\n",
            " 7   blood_glucose_level  100000 non-null  int64  \n",
            " 8   diabetes             100000 non-null  int64  \n",
            "dtypes: float64(3), int64(4), object(2)\n",
            "memory usage: 6.9+ MB\n"
          ]
        }
      ],
      "source": [
        "df.info()"
      ]
    },
    {
      "cell_type": "code",
      "execution_count": 53,
      "metadata": {
        "colab": {
          "base_uri": "https://localhost:8080/"
        },
        "id": "2EaqNc_KvIak",
        "outputId": "f5ccac51-7b86-4d55-ee6f-3035cca912b0"
      },
      "outputs": [
        {
          "name": "stdout",
          "output_type": "stream",
          "text": [
            "Number of unique values in gender: 3\n",
            "Number of unique values in age: 102\n",
            "Number of unique values in hypertension: 2\n",
            "Number of unique values in heart_disease: 2\n",
            "Number of unique values in smoking_history: 6\n",
            "Number of unique values in bmi: 4247\n",
            "Number of unique values in HbA1c_level: 18\n",
            "Number of unique values in blood_glucose_level: 18\n",
            "Number of unique values in diabetes: 2\n"
          ]
        }
      ],
      "source": [
        "for column in df.columns:\n",
        "    num_unique_values = df[column].nunique()\n",
        "    print(f'Number of unique values in {column}: {num_unique_values}')"
      ]
    },
    {
      "cell_type": "code",
      "execution_count": 17,
      "metadata": {
        "colab": {
          "base_uri": "https://localhost:8080/",
          "height": 414
        },
        "id": "Han5CgwtvIak",
        "outputId": "78990898-0e2e-4f3b-d53a-cf3616765f59"
      },
      "outputs": [
        {
          "data": {
            "application/vnd.microsoft.datawrangler.viewer.v0+json": {
              "columns": [
                {
                  "name": "index",
                  "rawType": "object",
                  "type": "string"
                },
                {
                  "name": "gender",
                  "rawType": "object",
                  "type": "unknown"
                },
                {
                  "name": "age",
                  "rawType": "float64",
                  "type": "float"
                },
                {
                  "name": "hypertension",
                  "rawType": "float64",
                  "type": "float"
                },
                {
                  "name": "heart_disease",
                  "rawType": "float64",
                  "type": "float"
                },
                {
                  "name": "smoking_history",
                  "rawType": "object",
                  "type": "unknown"
                },
                {
                  "name": "bmi",
                  "rawType": "float64",
                  "type": "float"
                },
                {
                  "name": "HbA1c_level",
                  "rawType": "float64",
                  "type": "float"
                },
                {
                  "name": "blood_glucose_level",
                  "rawType": "float64",
                  "type": "float"
                },
                {
                  "name": "diabetes",
                  "rawType": "float64",
                  "type": "float"
                }
              ],
              "ref": "eaa76d03-5dd0-4a49-8890-65e4e5e1846a",
              "rows": [
                [
                  "count",
                  "100000",
                  "100000.0",
                  "100000.0",
                  "100000.0",
                  "100000",
                  "100000.0",
                  "100000.0",
                  "100000.0",
                  "100000.0"
                ],
                [
                  "unique",
                  "3",
                  null,
                  null,
                  null,
                  "6",
                  null,
                  null,
                  null,
                  null
                ],
                [
                  "top",
                  "Female",
                  null,
                  null,
                  null,
                  "No Info",
                  null,
                  null,
                  null,
                  null
                ],
                [
                  "freq",
                  "58552",
                  null,
                  null,
                  null,
                  "35816",
                  null,
                  null,
                  null,
                  null
                ],
                [
                  "mean",
                  null,
                  "41.885856",
                  "0.07485",
                  "0.03942",
                  null,
                  "27.3207671",
                  "5.527507",
                  "138.05806",
                  "0.085"
                ],
                [
                  "std",
                  null,
                  "22.516839871617023",
                  "0.2631504702289164",
                  "0.1945930169980995",
                  null,
                  "6.636783416648369",
                  "1.0706720918835437",
                  "40.708136048704134",
                  "0.27888308976662174"
                ],
                [
                  "min",
                  null,
                  "0.08",
                  "0.0",
                  "0.0",
                  null,
                  "10.01",
                  "3.5",
                  "80.0",
                  "0.0"
                ],
                [
                  "25%",
                  null,
                  "24.0",
                  "0.0",
                  "0.0",
                  null,
                  "23.63",
                  "4.8",
                  "100.0",
                  "0.0"
                ],
                [
                  "50%",
                  null,
                  "43.0",
                  "0.0",
                  "0.0",
                  null,
                  "27.32",
                  "5.8",
                  "140.0",
                  "0.0"
                ],
                [
                  "75%",
                  null,
                  "60.0",
                  "0.0",
                  "0.0",
                  null,
                  "29.58",
                  "6.2",
                  "159.0",
                  "0.0"
                ],
                [
                  "max",
                  null,
                  "80.0",
                  "1.0",
                  "1.0",
                  null,
                  "95.69",
                  "9.0",
                  "300.0",
                  "1.0"
                ]
              ],
              "shape": {
                "columns": 9,
                "rows": 11
              }
            },
            "text/html": [
              "<div>\n",
              "<style scoped>\n",
              "    .dataframe tbody tr th:only-of-type {\n",
              "        vertical-align: middle;\n",
              "    }\n",
              "\n",
              "    .dataframe tbody tr th {\n",
              "        vertical-align: top;\n",
              "    }\n",
              "\n",
              "    .dataframe thead th {\n",
              "        text-align: right;\n",
              "    }\n",
              "</style>\n",
              "<table border=\"1\" class=\"dataframe\">\n",
              "  <thead>\n",
              "    <tr style=\"text-align: right;\">\n",
              "      <th></th>\n",
              "      <th>gender</th>\n",
              "      <th>age</th>\n",
              "      <th>hypertension</th>\n",
              "      <th>heart_disease</th>\n",
              "      <th>smoking_history</th>\n",
              "      <th>bmi</th>\n",
              "      <th>HbA1c_level</th>\n",
              "      <th>blood_glucose_level</th>\n",
              "      <th>diabetes</th>\n",
              "    </tr>\n",
              "  </thead>\n",
              "  <tbody>\n",
              "    <tr>\n",
              "      <th>count</th>\n",
              "      <td>100000</td>\n",
              "      <td>100000.000000</td>\n",
              "      <td>100000.00000</td>\n",
              "      <td>100000.000000</td>\n",
              "      <td>100000</td>\n",
              "      <td>100000.000000</td>\n",
              "      <td>100000.000000</td>\n",
              "      <td>100000.000000</td>\n",
              "      <td>100000.000000</td>\n",
              "    </tr>\n",
              "    <tr>\n",
              "      <th>unique</th>\n",
              "      <td>3</td>\n",
              "      <td>NaN</td>\n",
              "      <td>NaN</td>\n",
              "      <td>NaN</td>\n",
              "      <td>6</td>\n",
              "      <td>NaN</td>\n",
              "      <td>NaN</td>\n",
              "      <td>NaN</td>\n",
              "      <td>NaN</td>\n",
              "    </tr>\n",
              "    <tr>\n",
              "      <th>top</th>\n",
              "      <td>Female</td>\n",
              "      <td>NaN</td>\n",
              "      <td>NaN</td>\n",
              "      <td>NaN</td>\n",
              "      <td>No Info</td>\n",
              "      <td>NaN</td>\n",
              "      <td>NaN</td>\n",
              "      <td>NaN</td>\n",
              "      <td>NaN</td>\n",
              "    </tr>\n",
              "    <tr>\n",
              "      <th>freq</th>\n",
              "      <td>58552</td>\n",
              "      <td>NaN</td>\n",
              "      <td>NaN</td>\n",
              "      <td>NaN</td>\n",
              "      <td>35816</td>\n",
              "      <td>NaN</td>\n",
              "      <td>NaN</td>\n",
              "      <td>NaN</td>\n",
              "      <td>NaN</td>\n",
              "    </tr>\n",
              "    <tr>\n",
              "      <th>mean</th>\n",
              "      <td>NaN</td>\n",
              "      <td>41.885856</td>\n",
              "      <td>0.07485</td>\n",
              "      <td>0.039420</td>\n",
              "      <td>NaN</td>\n",
              "      <td>27.320767</td>\n",
              "      <td>5.527507</td>\n",
              "      <td>138.058060</td>\n",
              "      <td>0.085000</td>\n",
              "    </tr>\n",
              "    <tr>\n",
              "      <th>std</th>\n",
              "      <td>NaN</td>\n",
              "      <td>22.516840</td>\n",
              "      <td>0.26315</td>\n",
              "      <td>0.194593</td>\n",
              "      <td>NaN</td>\n",
              "      <td>6.636783</td>\n",
              "      <td>1.070672</td>\n",
              "      <td>40.708136</td>\n",
              "      <td>0.278883</td>\n",
              "    </tr>\n",
              "    <tr>\n",
              "      <th>min</th>\n",
              "      <td>NaN</td>\n",
              "      <td>0.080000</td>\n",
              "      <td>0.00000</td>\n",
              "      <td>0.000000</td>\n",
              "      <td>NaN</td>\n",
              "      <td>10.010000</td>\n",
              "      <td>3.500000</td>\n",
              "      <td>80.000000</td>\n",
              "      <td>0.000000</td>\n",
              "    </tr>\n",
              "    <tr>\n",
              "      <th>25%</th>\n",
              "      <td>NaN</td>\n",
              "      <td>24.000000</td>\n",
              "      <td>0.00000</td>\n",
              "      <td>0.000000</td>\n",
              "      <td>NaN</td>\n",
              "      <td>23.630000</td>\n",
              "      <td>4.800000</td>\n",
              "      <td>100.000000</td>\n",
              "      <td>0.000000</td>\n",
              "    </tr>\n",
              "    <tr>\n",
              "      <th>50%</th>\n",
              "      <td>NaN</td>\n",
              "      <td>43.000000</td>\n",
              "      <td>0.00000</td>\n",
              "      <td>0.000000</td>\n",
              "      <td>NaN</td>\n",
              "      <td>27.320000</td>\n",
              "      <td>5.800000</td>\n",
              "      <td>140.000000</td>\n",
              "      <td>0.000000</td>\n",
              "    </tr>\n",
              "    <tr>\n",
              "      <th>75%</th>\n",
              "      <td>NaN</td>\n",
              "      <td>60.000000</td>\n",
              "      <td>0.00000</td>\n",
              "      <td>0.000000</td>\n",
              "      <td>NaN</td>\n",
              "      <td>29.580000</td>\n",
              "      <td>6.200000</td>\n",
              "      <td>159.000000</td>\n",
              "      <td>0.000000</td>\n",
              "    </tr>\n",
              "    <tr>\n",
              "      <th>max</th>\n",
              "      <td>NaN</td>\n",
              "      <td>80.000000</td>\n",
              "      <td>1.00000</td>\n",
              "      <td>1.000000</td>\n",
              "      <td>NaN</td>\n",
              "      <td>95.690000</td>\n",
              "      <td>9.000000</td>\n",
              "      <td>300.000000</td>\n",
              "      <td>1.000000</td>\n",
              "    </tr>\n",
              "  </tbody>\n",
              "</table>\n",
              "</div>"
            ],
            "text/plain": [
              "        gender            age  hypertension  heart_disease smoking_history  \\\n",
              "count   100000  100000.000000  100000.00000  100000.000000          100000   \n",
              "unique       3            NaN           NaN            NaN               6   \n",
              "top     Female            NaN           NaN            NaN         No Info   \n",
              "freq     58552            NaN           NaN            NaN           35816   \n",
              "mean       NaN      41.885856       0.07485       0.039420             NaN   \n",
              "std        NaN      22.516840       0.26315       0.194593             NaN   \n",
              "min        NaN       0.080000       0.00000       0.000000             NaN   \n",
              "25%        NaN      24.000000       0.00000       0.000000             NaN   \n",
              "50%        NaN      43.000000       0.00000       0.000000             NaN   \n",
              "75%        NaN      60.000000       0.00000       0.000000             NaN   \n",
              "max        NaN      80.000000       1.00000       1.000000             NaN   \n",
              "\n",
              "                  bmi    HbA1c_level  blood_glucose_level       diabetes  \n",
              "count   100000.000000  100000.000000        100000.000000  100000.000000  \n",
              "unique            NaN            NaN                  NaN            NaN  \n",
              "top               NaN            NaN                  NaN            NaN  \n",
              "freq              NaN            NaN                  NaN            NaN  \n",
              "mean        27.320767       5.527507           138.058060       0.085000  \n",
              "std          6.636783       1.070672            40.708136       0.278883  \n",
              "min         10.010000       3.500000            80.000000       0.000000  \n",
              "25%         23.630000       4.800000           100.000000       0.000000  \n",
              "50%         27.320000       5.800000           140.000000       0.000000  \n",
              "75%         29.580000       6.200000           159.000000       0.000000  \n",
              "max         95.690000       9.000000           300.000000       1.000000  "
            ]
          },
          "execution_count": 17,
          "metadata": {},
          "output_type": "execute_result"
        }
      ],
      "source": [
        "# 3. Estadística descriptiva\n",
        "df.describe(include=\"all\")"
      ]
    },
    {
      "cell_type": "code",
      "execution_count": 54,
      "metadata": {
        "colab": {
          "base_uri": "https://localhost:8080/",
          "height": 366
        },
        "id": "EPKBZgobvIak",
        "outputId": "990c672c-06a6-4bdd-887f-d953ebecf60b"
      },
      "outputs": [
        {
          "data": {
            "application/vnd.microsoft.datawrangler.viewer.v0+json": {
              "columns": [
                {
                  "name": "index",
                  "rawType": "object",
                  "type": "string"
                },
                {
                  "name": "0",
                  "rawType": "int64",
                  "type": "integer"
                }
              ],
              "ref": "005d582a-ffc1-45a7-bd0f-769ea8294916",
              "rows": [
                [
                  "gender",
                  "0"
                ],
                [
                  "age",
                  "0"
                ],
                [
                  "hypertension",
                  "0"
                ],
                [
                  "heart_disease",
                  "0"
                ],
                [
                  "smoking_history",
                  "0"
                ],
                [
                  "bmi",
                  "0"
                ],
                [
                  "HbA1c_level",
                  "0"
                ],
                [
                  "blood_glucose_level",
                  "0"
                ],
                [
                  "diabetes",
                  "0"
                ]
              ],
              "shape": {
                "columns": 1,
                "rows": 9
              }
            },
            "text/plain": [
              "gender                 0\n",
              "age                    0\n",
              "hypertension           0\n",
              "heart_disease          0\n",
              "smoking_history        0\n",
              "bmi                    0\n",
              "HbA1c_level            0\n",
              "blood_glucose_level    0\n",
              "diabetes               0\n",
              "dtype: int64"
            ]
          },
          "execution_count": 54,
          "metadata": {},
          "output_type": "execute_result"
        }
      ],
      "source": [
        "# 4. Limpieza de datos\n",
        "df.isnull().sum()\n"
      ]
    },
    {
      "cell_type": "code",
      "execution_count": 55,
      "metadata": {
        "id": "mXHWwiLSvIal"
      },
      "outputs": [],
      "source": [
        "# Remover filas duplicadas y actualizar el DataFrame\n",
        "df_cleaned = df.drop_duplicates()"
      ]
    },
    {
      "cell_type": "code",
      "execution_count": 11,
      "metadata": {
        "colab": {
          "base_uri": "https://localhost:8080/"
        },
        "id": "KzqilyLSm3tK",
        "outputId": "4b6654fc-5cac-43d1-b1a6-33c2befc5d03"
      },
      "outputs": [
        {
          "data": {
            "text/plain": [
              "(96146, 9)"
            ]
          },
          "execution_count": 11,
          "metadata": {},
          "output_type": "execute_result"
        }
      ],
      "source": [
        "df_cleaned.shape\n"
      ]
    },
    {
      "cell_type": "code",
      "execution_count": 56,
      "metadata": {},
      "outputs": [
        {
          "name": "stdout",
          "output_type": "stream",
          "text": [
            "Filas duplicadas eliminadas: 3854\n"
          ]
        }
      ],
      "source": [
        "print(f'Filas duplicadas eliminadas: {df.shape[0] - df_cleaned.shape[0]}')"
      ]
    },
    {
      "cell_type": "code",
      "execution_count": 57,
      "metadata": {
        "colab": {
          "base_uri": "https://localhost:8080/",
          "height": 405
        },
        "id": "K4chOyCevIal",
        "outputId": "c78a7ebf-dd52-468b-96fd-94cb78367ec4"
      },
      "outputs": [
        {
          "data": {
            "text/plain": [
              "<Axes: xlabel='age'>"
            ]
          },
          "execution_count": 57,
          "metadata": {},
          "output_type": "execute_result"
        },
        {
          "data": {
            "image/png": "[encoded data removed]",
            "text/plain": [
              "<Figure size 600x400 with 1 Axes>"
            ]
          },
          "metadata": {},
          "output_type": "display_data"
        }
      ],
      "source": [
        "# 5. Detección de outliers\n",
        "\n",
        "# Detección de outliers AGE\n",
        "plt.figure(figsize=(6, 4))\n",
        "sns.boxplot(x=df_cleaned['age'], color='lightgreen')"
      ]
    },
    {
      "cell_type": "code",
      "execution_count": 14,
      "metadata": {
        "colab": {
          "base_uri": "https://localhost:8080/",
          "height": 405
        },
        "id": "YxRrGM3gpNmq",
        "outputId": "f5faed0e-cf67-4307-acef-4c2fb07fbee4"
      },
      "outputs": [
        {
          "data": {
            "text/plain": [
              "<Axes: xlabel='bmi'>"
            ]
          },
          "execution_count": 14,
          "metadata": {},
          "output_type": "execute_result"
        },
        {
          "data": {
            "image/png": "[encoded data removed]",
            "text/plain": [
              "<Figure size 600x400 with 1 Axes>"
            ]
          },
          "metadata": {},
          "output_type": "display_data"
        }
      ],
      "source": [
        "# Detección de outliers BMI\n",
        "plt.figure(figsize=(6, 4))\n",
        "sns.boxplot(x=df_cleaned['bmi'], color='lightblue')"
      ]
    },
    {
      "cell_type": "code",
      "execution_count": 58,
      "metadata": {
        "colab": {
          "base_uri": "https://localhost:8080/",
          "height": 410
        },
        "id": "A03DpTXMsXAV",
        "outputId": "8e4980b8-449c-48cb-e6a8-d020fb3010d9"
      },
      "outputs": [
        {
          "data": {
            "image/png": "[encoded data removed]",
            "text/plain": [
              "<Figure size 600x400 with 1 Axes>"
            ]
          },
          "metadata": {},
          "output_type": "display_data"
        }
      ],
      "source": [
        "# Calculate Q1, Q3, and IQR for 'bmi'\n",
        "Q1_bmi = df_cleaned['bmi'].quantile(0.25)\n",
        "Q3_bmi = df_cleaned['bmi'].quantile(0.75)\n",
        "IQR_bmi = Q3_bmi - Q1_bmi\n",
        "\n",
        "# Define bounds for extreme outliers\n",
        "lower_bound_extreme = Q1_bmi - 3 * IQR_bmi\n",
        "upper_bound_extreme = Q3_bmi + 3 * IQR_bmi\n",
        "\n",
        "# Re-plot the boxplot with outlier bounds marked\n",
        "plt.figure(figsize=(6, 4))\n",
        "sns.boxplot(x=df_cleaned['bmi'], color='lightblue')\n",
        "\n",
        "# Add vertical lines for the extreme outlier bounds\n",
        "plt.axvline(lower_bound_extreme, color='red', linestyle='dashed', linewidth=1, label=f'Extreme Lower Bound ({lower_bound_extreme:.2f})')\n",
        "plt.axvline(upper_bound_extreme, color='red', linestyle='dashed', linewidth=1, label=f'Extreme Upper Bound ({upper_bound_extreme:.2f})')\n",
        "\n",
        "plt.title('Boxplot of BMI with Extreme Outlier Bounds')\n",
        "plt.legend()\n",
        "plt.show()"
      ]
    },
    {
      "cell_type": "code",
      "execution_count": 59,
      "metadata": {
        "colab": {
          "base_uri": "https://localhost:8080/"
        },
        "id": "V2YT20i4vXMe",
        "outputId": "515435fe-97a7-46a9-ff8e-a97318ef35d4"
      },
      "outputs": [
        {
          "name": "stdout",
          "output_type": "stream",
          "text": [
            "Number of individuals with BMI greater than 50: 778\n"
          ]
        }
      ],
      "source": [
        "# Count the number of BMI values greater than 50\n",
        "bmi_greater_than_50 = df_cleaned[df_cleaned['bmi'] > 50].shape[0]\n",
        "\n",
        "print(f'Number of individuals with BMI greater than 50: {bmi_greater_than_50}')"
      ]
    },
    {
      "cell_type": "code",
      "execution_count": 60,
      "metadata": {
        "colab": {
          "base_uri": "https://localhost:8080/"
        },
        "id": "lLkgjmCav1Do",
        "outputId": "5f2396be-c809-46a9-fac2-fe4ce8c46e78"
      },
      "outputs": [
        {
          "name": "stdout",
          "output_type": "stream",
          "text": [
            "Shape of the DataFrame after removing BMI outliers: (95368, 9)\n"
          ]
        }
      ],
      "source": [
        "# Exclude rows with BMI greater than 50\n",
        "df_filtered_bmi = df_cleaned[df_cleaned['bmi'] <= 50].copy()\n",
        "\n",
        "print(f'Shape of the DataFrame after removing BMI outliers: {df_filtered_bmi.shape}')"
      ]
    },
    {
      "cell_type": "code",
      "execution_count": 61,
      "metadata": {
        "colab": {
          "base_uri": "https://localhost:8080/"
        },
        "id": "d0Gi-O1vwRwb",
        "outputId": "67627263-75ea-4e88-e4f4-b57825c415d3"
      },
      "outputs": [
        {
          "data": {
            "text/plain": [
              "(95368, 9)"
            ]
          },
          "execution_count": 61,
          "metadata": {},
          "output_type": "execute_result"
        }
      ],
      "source": [
        "df_filt = df_filtered_bmi.copy()\n",
        "df_filt.shape"
      ]
    },
    {
      "cell_type": "code",
      "execution_count": 62,
      "metadata": {
        "colab": {
          "base_uri": "https://localhost:8080/",
          "height": 405
        },
        "id": "3v30DXqTxO2p",
        "outputId": "6a9cf408-0d91-4400-a537-2410ac8e0eac"
      },
      "outputs": [
        {
          "data": {
            "text/plain": [
              "<Axes: xlabel='HbA1c_level'>"
            ]
          },
          "execution_count": 62,
          "metadata": {},
          "output_type": "execute_result"
        },
        {
          "data": {
            "image/png": "[encoded data removed]",
            "text/plain": [
              "<Figure size 600x400 with 1 Axes>"
            ]
          },
          "metadata": {},
          "output_type": "display_data"
        }
      ],
      "source": [
        "# Detección de outliers # Detección de outliers HbA1c_level\n",
        "plt.figure(figsize=(6, 4))\n",
        "sns.boxplot(x=df_filt['HbA1c_level'], color='pink')\n"
      ]
    },
    {
      "cell_type": "code",
      "execution_count": 63,
      "metadata": {
        "colab": {
          "base_uri": "https://localhost:8080/",
          "height": 410
        },
        "id": "MoXYn7KcykYZ",
        "outputId": "4251982a-3199-4bc1-9c50-c4e34ee9c9bf"
      },
      "outputs": [
        {
          "data": {
            "image/png": "[encoded data removed]",
            "text/plain": [
              "<Figure size 600x400 with 1 Axes>"
            ]
          },
          "metadata": {},
          "output_type": "display_data"
        }
      ],
      "source": [
        "# Calculate Q1, Q3, and IQR for 'HbA1c'\n",
        "Q1_HbA1c = df_filt['HbA1c_level'].quantile(0.25)\n",
        "Q3_HbA1c = df_filt['HbA1c_level'].quantile(0.75)\n",
        "IQR_HbA1c = Q3_HbA1c - Q1_HbA1c\n",
        "\n",
        "# Define bounds for extreme outliers\n",
        "lower_bound_extreme = Q1_HbA1c - 3 * IQR_HbA1c\n",
        "upper_bound_extreme = Q3_HbA1c + 3 * IQR_HbA1c\n",
        "\n",
        "# Re-plot the boxplot with outlier bounds marked\n",
        "plt.figure(figsize=(6, 4))\n",
        "sns.boxplot(x=df_filt['HbA1c_level'], color='pink')\n",
        "\n",
        "# Add vertical lines for the extreme outlier bounds\n",
        "plt.axvline(lower_bound_extreme, color='red', linestyle='dashed', linewidth=1, label=f'Extreme Lower Bound ({lower_bound_extreme:.2f})')\n",
        "plt.axvline(upper_bound_extreme, color='red', linestyle='dashed', linewidth=1, label=f'Extreme Upper Bound ({upper_bound_extreme:.2f})')\n",
        "\n",
        "plt.title('Boxplot of HbA1c_level with Extreme Outlier Bounds')\n",
        "plt.legend()\n",
        "plt.show()"
      ]
    },
    {
      "cell_type": "markdown",
      "metadata": {
        "id": "WaO3CmAnz5d6"
      },
      "source": [
        "No hay outlier extremos en los niveles de HbA1c"
      ]
    },
    {
      "cell_type": "code",
      "execution_count": 64,
      "metadata": {
        "colab": {
          "base_uri": "https://localhost:8080/",
          "height": 405
        },
        "id": "o1H1arN00B_r",
        "outputId": "5df1cc45-c27d-4e72-c3a5-e8ce1b24942e"
      },
      "outputs": [
        {
          "data": {
            "text/plain": [
              "<Axes: xlabel='blood_glucose_level'>"
            ]
          },
          "execution_count": 64,
          "metadata": {},
          "output_type": "execute_result"
        },
        {
          "data": {
            "image/png": "[encoded data removed]",
            "text/plain": [
              "<Figure size 600x400 with 1 Axes>"
            ]
          },
          "metadata": {},
          "output_type": "display_data"
        }
      ],
      "source": [
        "# Detección de outliers blood_glucose_level\n",
        "plt.figure(figsize=(6, 4))\n",
        "sns.boxplot(x=df_filt['blood_glucose_level'], color='yellow')"
      ]
    },
    {
      "cell_type": "code",
      "execution_count": 65,
      "metadata": {
        "colab": {
          "base_uri": "https://localhost:8080/",
          "height": 410
        },
        "id": "m9tjHogj01nK",
        "outputId": "31924b3d-4c4e-4a2a-fcfc-fe66719931ea"
      },
      "outputs": [
        {
          "data": {
            "image/png": "[encoded data removed]",
            "text/plain": [
              "<Figure size 600x400 with 1 Axes>"
            ]
          },
          "metadata": {},
          "output_type": "display_data"
        }
      ],
      "source": [
        "# Calculate Q1, Q3, and IQR for 'blood_glucose_level'\n",
        "Q1_blood_glucose_level = df_filt['blood_glucose_level'].quantile(0.25)\n",
        "Q3_blood_glucose_level = df_filt['blood_glucose_level'].quantile(0.75)\n",
        "IQR_blood_glucose_level = Q3_blood_glucose_level - Q1_blood_glucose_level\n",
        "\n",
        "# Define bounds for extreme outliers\n",
        "lower_bound_extreme = Q1_blood_glucose_level - 3 * IQR_blood_glucose_level\n",
        "upper_bound_extreme = Q3_blood_glucose_level + 3 * IQR_blood_glucose_level\n",
        "\n",
        "# Re-plot the boxplot with outlier bounds marked\n",
        "plt.figure(figsize=(6, 4))\n",
        "sns.boxplot(x=df_filt['blood_glucose_level'], color='yellow')\n",
        "\n",
        "# Add vertical lines for the extreme outlier bounds\n",
        "plt.axvline(lower_bound_extreme, color='red', linestyle='dashed', linewidth=1, label=f'Extreme Lower Bound ({lower_bound_extreme:.2f})')\n",
        "plt.axvline(upper_bound_extreme, color='red', linestyle='dashed', linewidth=1, label=f'Extreme Upper Bound ({upper_bound_extreme:.2f})')\n",
        "\n",
        "plt.title('Boxplot of blood_glucose_level with Extreme Outlier Bounds')\n",
        "plt.legend()\n",
        "plt.show()"
      ]
    },
    {
      "cell_type": "markdown",
      "metadata": {
        "id": "Ur2E7rZi1WZM"
      },
      "source": [
        "No hay outlier extremos en los niveles de glucosa"
      ]
    },
    {
      "cell_type": "code",
      "execution_count": 66,
      "metadata": {
        "colab": {
          "base_uri": "https://localhost:8080/",
          "height": 655
        },
        "id": "kwjuF-JIvIal",
        "outputId": "424de88b-a20f-4a6e-8d97-5152f7c4074e"
      },
      "outputs": [
        {
          "data": {
            "text/plain": [
              "([<matplotlib.patches.Wedge at 0x21e43f301d0>,\n",
              "  <matplotlib.patches.Wedge at 0x21e43f50a50>,\n",
              "  <matplotlib.patches.Wedge at 0x21e43f65890>],\n",
              " [Text(-1.0630075780880062, -0.28286903140406117, 'Female'),\n",
              "  Text(1.0631751601709782, 0.28223851401857797, 'Male'),\n",
              "  Text(0.00065213238622099, 1.0999998066924153, 'Other')],\n",
              " [Text(-0.5798223153207306, -0.1542921989476697, '58.3%'),\n",
              "  Text(0.5799137237296245, 0.15394828037376979, '41.7%'),\n",
              "  Text(0.00035570857430235816, 0.5999998945594992, '0.0%')])"
            ]
          },
          "execution_count": 66,
          "metadata": {},
          "output_type": "execute_result"
        },
        {
          "data": {
            "image/png": "[encoded data removed]",
            "text/plain": [
              "<Figure size 1000x600 with 1 Axes>"
            ]
          },
          "metadata": {},
          "output_type": "display_data"
        }
      ],
      "source": [
        "gender_counts = df_filt['gender'].value_counts()\n",
        "plt.figure(figsize=(10, 6))\n",
        "plt.pie(gender_counts, labels=gender_counts.index, autopct='%1.1f%%', startangle=90, colors=sns.color_palette('Blues'))"
      ]
    },
    {
      "cell_type": "code",
      "execution_count": 67,
      "metadata": {
        "colab": {
          "base_uri": "https://localhost:8080/",
          "height": 467
        },
        "id": "2PC07RMhvIam",
        "outputId": "c6d7720f-c03c-4f3f-ebcd-9cd18c90d67b"
      },
      "outputs": [
        {
          "data": {
            "text/plain": [
              "<Axes: xlabel='HbA1c_level', ylabel='Count'>"
            ]
          },
          "execution_count": 67,
          "metadata": {},
          "output_type": "execute_result"
        },
        {
          "data": {
            "image/png": "[encoded data removed]",
            "text/plain": [
              "<Figure size 640x480 with 1 Axes>"
            ]
          },
          "metadata": {},
          "output_type": "display_data"
        }
      ],
      "source": [
        "# 6. Análisis univariado HbA1c_level\n",
        "sns.histplot(df_filt['HbA1c_level'], bins=15, kde=True, color='pink')"
      ]
    },
    {
      "cell_type": "code",
      "execution_count": 68,
      "metadata": {
        "colab": {
          "base_uri": "https://localhost:8080/",
          "height": 467
        },
        "id": "9UGIxAGF-9xf",
        "outputId": "0e18f10b-1113-4ba5-cd2b-1719b4dc7431"
      },
      "outputs": [
        {
          "data": {
            "text/plain": [
              "<Axes: xlabel='blood_glucose_level', ylabel='Count'>"
            ]
          },
          "execution_count": 68,
          "metadata": {},
          "output_type": "execute_result"
        },
        {
          "data": {
            "image/png": "[encoded data removed]",
            "text/plain": [
              "<Figure size 640x480 with 1 Axes>"
            ]
          },
          "metadata": {},
          "output_type": "display_data"
        }
      ],
      "source": [
        "# 6. Análisis univariado blood_glucose_level\n",
        "sns.histplot(df_filt['blood_glucose_level'], bins=15, kde=True, color='yellow')"
      ]
    },
    {
      "cell_type": "code",
      "execution_count": 69,
      "metadata": {
        "colab": {
          "base_uri": "https://localhost:8080/",
          "height": 206
        },
        "id": "Zia-DAdqF3W8",
        "outputId": "5a1321ed-d278-4b99-fd1a-d2ff2633e945"
      },
      "outputs": [
        {
          "data": {
            "application/vnd.microsoft.datawrangler.viewer.v0+json": {
              "columns": [
                {
                  "name": "index",
                  "rawType": "int64",
                  "type": "integer"
                },
                {
                  "name": "smoking_history",
                  "rawType": "object",
                  "type": "string"
                },
                {
                  "name": "smoking_history_encoded",
                  "rawType": "int64",
                  "type": "integer"
                }
              ],
              "ref": "38581099-2b0b-4e50-a002-626bed8e8880",
              "rows": [
                [
                  "0",
                  "never",
                  "1"
                ],
                [
                  "1",
                  "No Info",
                  "6"
                ],
                [
                  "2",
                  "never",
                  "1"
                ],
                [
                  "3",
                  "current",
                  "4"
                ],
                [
                  "4",
                  "current",
                  "4"
                ]
              ],
              "shape": {
                "columns": 2,
                "rows": 5
              }
            },
            "text/html": [
              "<div>\n",
              "<style scoped>\n",
              "    .dataframe tbody tr th:only-of-type {\n",
              "        vertical-align: middle;\n",
              "    }\n",
              "\n",
              "    .dataframe tbody tr th {\n",
              "        vertical-align: top;\n",
              "    }\n",
              "\n",
              "    .dataframe thead th {\n",
              "        text-align: right;\n",
              "    }\n",
              "</style>\n",
              "<table border=\"1\" class=\"dataframe\">\n",
              "  <thead>\n",
              "    <tr style=\"text-align: right;\">\n",
              "      <th></th>\n",
              "      <th>smoking_history</th>\n",
              "      <th>smoking_history_encoded</th>\n",
              "    </tr>\n",
              "  </thead>\n",
              "  <tbody>\n",
              "    <tr>\n",
              "      <th>0</th>\n",
              "      <td>never</td>\n",
              "      <td>1</td>\n",
              "    </tr>\n",
              "    <tr>\n",
              "      <th>1</th>\n",
              "      <td>No Info</td>\n",
              "      <td>6</td>\n",
              "    </tr>\n",
              "    <tr>\n",
              "      <th>2</th>\n",
              "      <td>never</td>\n",
              "      <td>1</td>\n",
              "    </tr>\n",
              "    <tr>\n",
              "      <th>3</th>\n",
              "      <td>current</td>\n",
              "      <td>4</td>\n",
              "    </tr>\n",
              "    <tr>\n",
              "      <th>4</th>\n",
              "      <td>current</td>\n",
              "      <td>4</td>\n",
              "    </tr>\n",
              "  </tbody>\n",
              "</table>\n",
              "</div>"
            ],
            "text/plain": [
              "  smoking_history  smoking_history_encoded\n",
              "0           never                        1\n",
              "1         No Info                        6\n",
              "2           never                        1\n",
              "3         current                        4\n",
              "4         current                        4"
            ]
          },
          "metadata": {},
          "output_type": "display_data"
        }
      ],
      "source": [
        "smoking_mapping = {\n",
        "    'never': 1,\n",
        "    'not current': 2,\n",
        "    'former': 3,\n",
        "    'current': 4,\n",
        "    'ever': 5,\n",
        "    'No Info': 6\n",
        "}\n",
        "\n",
        "df_filt['smoking_history_encoded'] = df_filt['smoking_history'].map(smoking_mapping)\n",
        "\n",
        "display(df_filt[['smoking_history', 'smoking_history_encoded']].head())"
      ]
    },
    {
      "cell_type": "code",
      "execution_count": 70,
      "metadata": {
        "id": "lHorDIBFvIam"
      },
      "outputs": [],
      "source": [
        "# 7. Análisis Bivariado\n",
        "# Select only numeric columns for correlation matrix\n",
        "df_numeric = df_filt.select_dtypes(include=np.number)\n",
        "\n",
        "# Computar matriz de correlación\n",
        "corr_matrix = df_numeric.corr()"
      ]
    },
    {
      "cell_type": "code",
      "execution_count": 71,
      "metadata": {
        "colab": {
          "base_uri": "https://localhost:8080/",
          "height": 853
        },
        "id": "M_eecNIFvIam",
        "outputId": "333e156f-ad35-47b4-a64b-793b40054748"
      },
      "outputs": [
        {
          "data": {
            "image/png": "[encoded data removed]",
            "text/plain": [
              "<Figure size 1200x800 with 2 Axes>"
            ]
          },
          "metadata": {},
          "output_type": "display_data"
        }
      ],
      "source": [
        "# Generate heatmap\n",
        "plt.figure(figsize=(12, 8))\n",
        "sns.heatmap(corr_matrix, annot=True, cmap='coolwarm', square=True)\n",
        "plt.title('Correlation Matrix of Numeric Features')\n",
        "plt.show()"
      ]
    },
    {
      "cell_type": "code",
      "execution_count": null,
      "metadata": {
        "colab": {
          "base_uri": "https://localhost:8080/",
          "height": 922
        },
        "id": "6INq-PtxvIan",
        "outputId": "5f898deb-acb0-44e5-ce71-07fa48204dcc"
      },
      "outputs": [],
      "source": [
        "sns.pairplot(df_filt, hue='diabetes')"
      ]
    },
    {
      "cell_type": "markdown",
      "metadata": {
        "id": "as9a5DUWI2lw"
      },
      "source": [
        "## Evaluación de Modelos de Árboles de Decisión"
      ]
    },
    {
      "cell_type": "code",
      "execution_count": 72,
      "metadata": {
        "id": "8zCsfyJTJFci"
      },
      "outputs": [],
      "source": [
        "# LIBRERIAS\n",
        "\n",
        "import numpy as np\n",
        "import pandas as pd\n",
        "import matplotlib.pyplot as plt\n",
        "import seaborn as sns\n",
        "sns.set()\n",
        "import warnings\n",
        "warnings.filterwarnings('ignore')\n",
        "\n",
        "from sklearn.metrics import confusion_matrix\n",
        "from sklearn.metrics import accuracy_score, recall_score, precision_score, f1_score, roc_auc_score\n",
        "from sklearn.model_selection import train_test_split\n",
        "from sklearn.model_selection import GridSearchCV\n",
        "\n",
        "# PARAMETROS\n",
        "\n",
        "rnd_state = 42"
      ]
    },
    {
      "cell_type": "code",
      "execution_count": 73,
      "metadata": {
        "colab": {
          "base_uri": "https://localhost:8080/"
        },
        "id": "-fM88W-RKPBD",
        "outputId": "162fad5c-fb4f-4dcf-fd1b-5ac2713515e7"
      },
      "outputs": [
        {
          "data": {
            "text/plain": [
              "array([0, 0, 0, ..., 0, 0, 0])"
            ]
          },
          "execution_count": 73,
          "metadata": {},
          "output_type": "execute_result"
        }
      ],
      "source": [
        "# Diabetes es el target = 1, lo que buscamos. Para otro caso, es 0\n",
        "target = np.where(df_filt['diabetes'], 1, 0)\n",
        "target"
      ]
    },
    {
      "cell_type": "code",
      "execution_count": 74,
      "metadata": {
        "colab": {
          "base_uri": "https://localhost:8080/"
        },
        "id": "FcRT9PEdNM9V",
        "outputId": "b9219827-a7a7-42d1-e0a9-91763520f261"
      },
      "outputs": [
        {
          "name": "stdout",
          "output_type": "stream",
          "text": [
            "Porcentaje de positivos: 8.65%\n"
          ]
        }
      ],
      "source": [
        "positivos = np.sum(target)\n",
        "total = np.size(target)\n",
        "print('Porcentaje de positivos: {:.2f}%'.format(100 * positivos / total))"
      ]
    },
    {
      "cell_type": "code",
      "execution_count": 75,
      "metadata": {
        "id": "zNjgZz-LRS63"
      },
      "outputs": [],
      "source": [
        "df_filt.drop(['diabetes'], axis=1, inplace=True)\n",
        "df_filt['target']=target"
      ]
    },
    {
      "cell_type": "code",
      "execution_count": 76,
      "metadata": {
        "colab": {
          "base_uri": "https://localhost:8080/",
          "height": 398
        },
        "id": "Cr1MyipxPAzh",
        "outputId": "ee98c89d-0a25-454f-e17f-99aae6f238d4"
      },
      "outputs": [
        {
          "data": {
            "application/vnd.microsoft.datawrangler.viewer.v0+json": {
              "columns": [
                {
                  "name": "index",
                  "rawType": "object",
                  "type": "string"
                },
                {
                  "name": "0",
                  "rawType": "object",
                  "type": "unknown"
                }
              ],
              "ref": "9bdb13e5-69b6-4a7f-a15e-58e477bade2d",
              "rows": [
                [
                  "gender",
                  "object"
                ],
                [
                  "age",
                  "float64"
                ],
                [
                  "hypertension",
                  "int64"
                ],
                [
                  "heart_disease",
                  "int64"
                ],
                [
                  "smoking_history",
                  "object"
                ],
                [
                  "bmi",
                  "float64"
                ],
                [
                  "HbA1c_level",
                  "float64"
                ],
                [
                  "blood_glucose_level",
                  "int64"
                ],
                [
                  "smoking_history_encoded",
                  "int64"
                ],
                [
                  "target",
                  "int64"
                ]
              ],
              "shape": {
                "columns": 1,
                "rows": 10
              }
            },
            "text/plain": [
              "gender                      object\n",
              "age                        float64\n",
              "hypertension                 int64\n",
              "heart_disease                int64\n",
              "smoking_history             object\n",
              "bmi                        float64\n",
              "HbA1c_level                float64\n",
              "blood_glucose_level          int64\n",
              "smoking_history_encoded      int64\n",
              "target                       int64\n",
              "dtype: object"
            ]
          },
          "execution_count": 76,
          "metadata": {},
          "output_type": "execute_result"
        }
      ],
      "source": [
        "df_filt.dtypes\n"
      ]
    },
    {
      "cell_type": "code",
      "execution_count": 77,
      "metadata": {
        "colab": {
          "base_uri": "https://localhost:8080/",
          "height": 226
        },
        "id": "twUTggu2S9l1",
        "outputId": "c45121ac-ec51-4e4f-8c3c-011420ada7ce"
      },
      "outputs": [
        {
          "data": {
            "application/vnd.microsoft.datawrangler.viewer.v0+json": {
              "columns": [
                {
                  "name": "index",
                  "rawType": "int64",
                  "type": "integer"
                },
                {
                  "name": "gender",
                  "rawType": "object",
                  "type": "string"
                },
                {
                  "name": "age",
                  "rawType": "float64",
                  "type": "float"
                },
                {
                  "name": "hypertension",
                  "rawType": "int64",
                  "type": "integer"
                },
                {
                  "name": "heart_disease",
                  "rawType": "int64",
                  "type": "integer"
                },
                {
                  "name": "bmi",
                  "rawType": "float64",
                  "type": "float"
                },
                {
                  "name": "HbA1c_level",
                  "rawType": "float64",
                  "type": "float"
                },
                {
                  "name": "blood_glucose_level",
                  "rawType": "int64",
                  "type": "integer"
                },
                {
                  "name": "smoking_history_encoded",
                  "rawType": "int64",
                  "type": "integer"
                },
                {
                  "name": "target",
                  "rawType": "int64",
                  "type": "integer"
                }
              ],
              "ref": "82b5f756-c2f6-4af5-9bd8-a39a8d48f3e1",
              "rows": [
                [
                  "0",
                  "Female",
                  "80.0",
                  "0",
                  "1",
                  "25.19",
                  "6.6",
                  "140",
                  "1",
                  "0"
                ],
                [
                  "1",
                  "Female",
                  "54.0",
                  "0",
                  "0",
                  "27.32",
                  "6.6",
                  "80",
                  "6",
                  "0"
                ],
                [
                  "2",
                  "Male",
                  "28.0",
                  "0",
                  "0",
                  "27.32",
                  "5.7",
                  "158",
                  "1",
                  "0"
                ],
                [
                  "3",
                  "Female",
                  "36.0",
                  "0",
                  "0",
                  "23.45",
                  "5.0",
                  "155",
                  "4",
                  "0"
                ],
                [
                  "4",
                  "Male",
                  "76.0",
                  "1",
                  "1",
                  "20.14",
                  "4.8",
                  "155",
                  "4",
                  "0"
                ]
              ],
              "shape": {
                "columns": 9,
                "rows": 5
              }
            },
            "text/html": [
              "<div>\n",
              "<style scoped>\n",
              "    .dataframe tbody tr th:only-of-type {\n",
              "        vertical-align: middle;\n",
              "    }\n",
              "\n",
              "    .dataframe tbody tr th {\n",
              "        vertical-align: top;\n",
              "    }\n",
              "\n",
              "    .dataframe thead th {\n",
              "        text-align: right;\n",
              "    }\n",
              "</style>\n",
              "<table border=\"1\" class=\"dataframe\">\n",
              "  <thead>\n",
              "    <tr style=\"text-align: right;\">\n",
              "      <th></th>\n",
              "      <th>gender</th>\n",
              "      <th>age</th>\n",
              "      <th>hypertension</th>\n",
              "      <th>heart_disease</th>\n",
              "      <th>bmi</th>\n",
              "      <th>HbA1c_level</th>\n",
              "      <th>blood_glucose_level</th>\n",
              "      <th>smoking_history_encoded</th>\n",
              "      <th>target</th>\n",
              "    </tr>\n",
              "  </thead>\n",
              "  <tbody>\n",
              "    <tr>\n",
              "      <th>0</th>\n",
              "      <td>Female</td>\n",
              "      <td>80.0</td>\n",
              "      <td>0</td>\n",
              "      <td>1</td>\n",
              "      <td>25.19</td>\n",
              "      <td>6.6</td>\n",
              "      <td>140</td>\n",
              "      <td>1</td>\n",
              "      <td>0</td>\n",
              "    </tr>\n",
              "    <tr>\n",
              "      <th>1</th>\n",
              "      <td>Female</td>\n",
              "      <td>54.0</td>\n",
              "      <td>0</td>\n",
              "      <td>0</td>\n",
              "      <td>27.32</td>\n",
              "      <td>6.6</td>\n",
              "      <td>80</td>\n",
              "      <td>6</td>\n",
              "      <td>0</td>\n",
              "    </tr>\n",
              "    <tr>\n",
              "      <th>2</th>\n",
              "      <td>Male</td>\n",
              "      <td>28.0</td>\n",
              "      <td>0</td>\n",
              "      <td>0</td>\n",
              "      <td>27.32</td>\n",
              "      <td>5.7</td>\n",
              "      <td>158</td>\n",
              "      <td>1</td>\n",
              "      <td>0</td>\n",
              "    </tr>\n",
              "    <tr>\n",
              "      <th>3</th>\n",
              "      <td>Female</td>\n",
              "      <td>36.0</td>\n",
              "      <td>0</td>\n",
              "      <td>0</td>\n",
              "      <td>23.45</td>\n",
              "      <td>5.0</td>\n",
              "      <td>155</td>\n",
              "      <td>4</td>\n",
              "      <td>0</td>\n",
              "    </tr>\n",
              "    <tr>\n",
              "      <th>4</th>\n",
              "      <td>Male</td>\n",
              "      <td>76.0</td>\n",
              "      <td>1</td>\n",
              "      <td>1</td>\n",
              "      <td>20.14</td>\n",
              "      <td>4.8</td>\n",
              "      <td>155</td>\n",
              "      <td>4</td>\n",
              "      <td>0</td>\n",
              "    </tr>\n",
              "  </tbody>\n",
              "</table>\n",
              "</div>"
            ],
            "text/plain": [
              "   gender   age  hypertension  heart_disease    bmi  HbA1c_level  \\\n",
              "0  Female  80.0             0              1  25.19          6.6   \n",
              "1  Female  54.0             0              0  27.32          6.6   \n",
              "2    Male  28.0             0              0  27.32          5.7   \n",
              "3  Female  36.0             0              0  23.45          5.0   \n",
              "4    Male  76.0             1              1  20.14          4.8   \n",
              "\n",
              "   blood_glucose_level  smoking_history_encoded  target  \n",
              "0                  140                        1       0  \n",
              "1                   80                        6       0  \n",
              "2                  158                        1       0  \n",
              "3                  155                        4       0  \n",
              "4                  155                        4       0  "
            ]
          },
          "metadata": {},
          "output_type": "display_data"
        }
      ],
      "source": [
        "df_filt.drop('smoking_history', axis=1, inplace=True)\n",
        "display(df_filt.head())"
      ]
    },
    {
      "cell_type": "code",
      "execution_count": 78,
      "metadata": {
        "id": "kXu3cXFJPpuU"
      },
      "outputs": [],
      "source": [
        "categorical_columns = ['gender', 'age', 'hypertension', 'heart_disease', 'bmi', 'HbA1c_level', 'blood_glucose_level', 'smoking_history_encoded']\n",
        "\n",
        "for col in categorical_columns:\n",
        "    df_filt[col] = df_filt[col].astype(\"category\")"
      ]
    },
    {
      "cell_type": "markdown",
      "metadata": {
        "id": "RpoU8HsGQm8z"
      },
      "source": [
        "## XGBoost"
      ]
    },
    {
      "cell_type": "code",
      "execution_count": 79,
      "metadata": {
        "id": "WzxkSuUZQsZD"
      },
      "outputs": [],
      "source": [
        "from xgboost import XGBClassifier"
      ]
    },
    {
      "cell_type": "code",
      "execution_count": 81,
      "metadata": {
        "id": "aNnwDXiLQ2BE"
      },
      "outputs": [],
      "source": [
        "X = df_filt.drop('target', axis=1)\n",
        "y = df_filt['target']\n",
        "X_train, X_test, y_train, y_test = train_test_split(X, y, test_size=0.3, random_state=rnd_state, stratify=y)"
      ]
    },
    {
      "cell_type": "code",
      "execution_count": 84,
      "metadata": {
        "id": "50lab3c_R7OM"
      },
      "outputs": [],
      "source": [
        "def my_XGB_report(X_train, y_train, X_test, y_test, model=None):\n",
        "\n",
        "    # Entrenar modelo si no se pasa uno ya entrenado\n",
        "    if model is None:\n",
        "        model = XGBClassifier(\n",
        "            random_state=42,\n",
        "            use_label_encoder=False,\n",
        "            eval_metric='logloss',\n",
        "            enable_categorical=True\n",
        "        )\n",
        "        model.fit(X_train, y_train)\n",
        "\n",
        "    # Predicciones\n",
        "    y_hat = model.predict(X_test)\n",
        "\n",
        "    # Métricas\n",
        "    cm = confusion_matrix(y_test, y_hat)\n",
        "    accuracy = round(accuracy_score(y_test, y_hat), 5)\n",
        "    error_rate = round(1 - accuracy, 4)\n",
        "    precision = round(precision_score(y_test, y_hat), 5)\n",
        "    recall = round(recall_score(y_test, y_hat), 5)\n",
        "    f1score = round(f1_score(y_test, y_hat), 5)\n",
        "    roc_auc = round(roc_auc_score(y_test, y_hat), 5)\n",
        "\n",
        "    cm_labeled = pd.DataFrame(cm,\n",
        "                              index=['Actual : negativos', 'Actual : positivos'],\n",
        "                              columns=['Predicción : negativos', 'Predicción : positivos'])\n",
        "\n",
        "    # Reporte\n",
        "    print(\"-----------------------------------------\")\n",
        "    print(\"Dataset\")\n",
        "    print('Tamaño train: {}'.format(X_train.shape[0]))\n",
        "    print('Tamaño test: {}'.format(X_test.shape[0]))\n",
        "    print('Porcentaje de positivos: {:.2f}%'.format(100 * np.sum(y_train) / np.size(y_train)))\n",
        "    print(\"-----------------------------------------\")\n",
        "    print(\"Resultados\")\n",
        "    print('Accuracy  = {}'.format(accuracy))\n",
        "    print('Error_rate  = {}'.format(error_rate))\n",
        "    print('Precision = {}'.format(precision))\n",
        "    print('Recall    = {}'.format(recall))\n",
        "    print('f1_score  = {}'.format(f1score))\n",
        "    print('roc_auc   = {}'.format(roc_auc))\n",
        "    print(\"-----------------------------------------\")\n",
        "\n",
        "    return cm_labeled"
      ]
    },
    {
      "cell_type": "code",
      "execution_count": 85,
      "metadata": {
        "colab": {
          "base_uri": "https://localhost:8080/",
          "height": 684
        },
        "id": "YboCC5NfSJ71",
        "outputId": "c447f537-0137-48b2-9030-a77b2cd5c493"
      },
      "outputs": [
        {
          "name": "stdout",
          "output_type": "stream",
          "text": [
            "-----------------------------------------\n",
            "Dataset\n",
            "Tamaño train: 66757\n",
            "Tamaño test: 28611\n",
            "Porcentaje de positivos: 8.65%\n",
            "-----------------------------------------\n",
            "Resultados\n",
            "Accuracy  = 0.97085\n",
            "Error_rate  = 0.0292\n",
            "Precision = 0.95915\n",
            "Recall    = 0.69253\n",
            "f1_score  = 0.80432\n",
            "roc_auc   = 0.84487\n",
            "-----------------------------------------\n"
          ]
        },
        {
          "data": {
            "image/png": "[encoded data removed]",
            "text/plain": [
              "<Figure size 640x480 with 2 Axes>"
            ]
          },
          "metadata": {},
          "output_type": "display_data"
        }
      ],
      "source": [
        "cm = my_XGB_report(X_train, y_train, X_test, y_test)\n",
        "sns.heatmap(cm, annot=True, cmap=\"Blues\", fmt='d')\n",
        "plt.title(\"Matriz de Confusión - XGBoost\")\n",
        "plt.show()"
      ]
    },
    {
      "cell_type": "code",
      "execution_count": 86,
      "metadata": {
        "colab": {
          "base_uri": "https://localhost:8080/",
          "height": 701
        },
        "id": "YR7bsDwBUs-V",
        "outputId": "bf055dca-beca-43b6-f958-175ace3b3a37"
      },
      "outputs": [
        {
          "name": "stdout",
          "output_type": "stream",
          "text": [
            "Fitting 3 folds for each of 48 candidates, totalling 144 fits\n",
            "-----------------------------------------\n",
            "Dataset\n",
            "Tamaño train: 66757\n",
            "Tamaño test: 28611\n",
            "Porcentaje de positivos: 8.65%\n",
            "-----------------------------------------\n",
            "Resultados\n",
            "Accuracy  = 0.97155\n",
            "Error_rate  = 0.0284\n",
            "Precision = 0.99229\n",
            "Recall    = 0.67636\n",
            "f1_score  = 0.80442\n",
            "roc_auc   = 0.83793\n",
            "-----------------------------------------\n"
          ]
        },
        {
          "data": {
            "image/png": "[encoded data removed]",
            "text/plain": [
              "<Figure size 640x480 with 2 Axes>"
            ]
          },
          "metadata": {},
          "output_type": "display_data"
        }
      ],
      "source": [
        "# Grid de hiperparámetros para XGBoost\n",
        "param_grid_xgb = {\n",
        "    'n_estimators': [100, 200],\n",
        "    'max_depth': [3, 5, 7],\n",
        "    'learning_rate': [0.01, 0.1],\n",
        "    'subsample': [0.8, 1.0],\n",
        "    'colsample_bytree': [0.8, 1.0]\n",
        "}\n",
        "\n",
        "# Instanciamos el clasificador base\n",
        "xgb = XGBClassifier(\n",
        "    random_state=42,\n",
        "    use_label_encoder=False,\n",
        "    eval_metric='logloss',\n",
        "    enable_categorical=True\n",
        ")\n",
        "\n",
        "# GridSearchCV\n",
        "grid_search_xgb = GridSearchCV(\n",
        "    estimator=xgb,\n",
        "    param_grid=param_grid_xgb,\n",
        "    cv=3,\n",
        "    scoring='f1',\n",
        "    verbose=1,\n",
        "    n_jobs=-1\n",
        ")\n",
        "\n",
        "# Entrenamiento con los datos\n",
        "grid_search_xgb.fit(X_train, y_train)\n",
        "\n",
        "# Mejor modelo\n",
        "best_xgb_model = grid_search_xgb.best_estimator_\n",
        "\n",
        "# Reporte\n",
        "cm_xgb_tuned = my_XGB_report(X_train, y_train, X_test, y_test, model=best_xgb_model)\n",
        "sns.heatmap(cm_xgb_tuned, annot=True, cmap=\"Purples\", fmt='d')\n",
        "plt.title(\"Matriz de Confusión - XGBoost Tuned\")\n",
        "plt.show()"
      ]
    },
    {
      "cell_type": "code",
      "execution_count": null,
      "metadata": {},
      "outputs": [],
      "source": [
        "# Validaciones pre uso de LighGBM en un entonrno local\n",
        "import sys, subprocess, pkgutil\n",
        "print(sys.executable)\n",
        "print(\"lightgbm instalado?\", pkgutil.find_loader(\"lightgbm\") is not None)\n",
        "subprocess.run([sys.executable, \"-m\", \"pip\", \"show\", \"lightgbm\"])\n",
        "\n",
        "# Si lightgbm no está isntalado\n",
        "# en PowerShell o CMD, dentro del venv\n",
        "#python -m pip install -U pip ipykernel\n",
        "#python -m ipykernel install --user --name \"ds-venv\" --display-name \"Python (ds-venv)\"\n",
        "#Luego, en Jupyter, elegí Python (ds-venv).\n",
        "\n",
        "#Opcion 1: Usar Virtual Env\n",
        "# python -m venv .venv\n",
        "# .\\.venv\\Scripts\\activate\n",
        "# python -m pip install -U pip setuptools wheel\n",
        "# pip install numpy scipy scikit-learn\n",
        "# pip install lightgbm\n",
        "# en Windows suele pedir Microsoft C++ Build Tools (Visual Studio 2022 o bajarlse aparte)\n",
        "# Si no querés instalar compiladores, usar Mamba/Conda o Docker.\n"
      ]
    },
    {
      "cell_type": "code",
      "execution_count": null,
      "metadata": {},
      "outputs": [],
      "source": [
        "#Prueba mínima (predicción + “importancias” de árbol)\n",
        "from lightgbm import LGBMClassifier\n",
        "from sklearn.datasets import load_iris\n",
        "from sklearn.model_selection import train_test_split\n",
        "\n",
        "X, y = load_iris(return_X_y=True)\n",
        "Xtr, Xte, ytr, yte = train_test_split(X, y, test_size=0.2, random_state=42)\n",
        "\n",
        "clf = LGBMClassifier(n_estimators=200, random_state=42)\n",
        "clf.fit(Xtr, ytr)\n",
        "print(\"ACC:\", clf.score(Xte, yte))\n",
        "print(\"Importancias:\", clf.feature_importances_)\n",
        "pred = clf.predict(Xte[:5])\n",
        "print(\"Predicciones:\", pred)\n"
      ]
    },
    {
      "cell_type": "markdown",
      "metadata": {
        "id": "kCgBU1PgWl2T"
      },
      "source": [
        "## LIGHTGBM"
      ]
    },
    {
      "cell_type": "code",
      "execution_count": 87,
      "metadata": {
        "id": "APU1F4FrWvMd"
      },
      "outputs": [
        {
          "ename": "ModuleNotFoundError",
          "evalue": "No module named 'lightgbm'",
          "output_type": "error",
          "traceback": [
            "\u001b[31m---------------------------------------------------------------------------\u001b[39m",
            "\u001b[31mModuleNotFoundError\u001b[39m                       Traceback (most recent call last)",
            "\u001b[36mCell\u001b[39m\u001b[36m \u001b[39m\u001b[32mIn[87]\u001b[39m\u001b[32m, line 1\u001b[39m\n\u001b[32m----> \u001b[39m\u001b[32m1\u001b[39m \u001b[38;5;28;01mfrom\u001b[39;00m\u001b[38;5;250m \u001b[39m\u001b[34;01mlightgbm\u001b[39;00m\u001b[38;5;250m \u001b[39m\u001b[38;5;28;01mimport\u001b[39;00m LGBMClassifier\n",
            "\u001b[31mModuleNotFoundError\u001b[39m: No module named 'lightgbm'"
          ]
        }
      ],
      "source": [
        "from lightgbm import LGBMClassifier"
      ]
    },
    {
      "cell_type": "code",
      "execution_count": null,
      "metadata": {
        "id": "jywZGbm2W3St"
      },
      "outputs": [],
      "source": [
        "def my_LGBM_report(X_train, y_train, X_test, y_test, model=None):\n",
        "    # Entrenar modelo si no se pasa uno ya entrenado\n",
        "    if model is None:\n",
        "        model = LGBMClassifier(\n",
        "            random_state=42,\n",
        "            verbose=-1\n",
        "        )\n",
        "        model.fit(X_train, y_train)\n",
        "\n",
        "    # Predicciones\n",
        "    y_hat = model.predict(X_test)\n",
        "\n",
        "    # Métricas\n",
        "    cm = confusion_matrix(y_test, y_hat)\n",
        "    accuracy = round(accuracy_score(y_test, y_hat), 4)\n",
        "    error_rate = round(1 - accuracy, 4)\n",
        "    precision = round(precision_score(y_test, y_hat), 2)\n",
        "    recall = round(recall_score(y_test, y_hat), 2)\n",
        "    f1score = round(f1_score(y_test, y_hat), 2)\n",
        "\n",
        "    cm_labeled = pd.DataFrame(cm,\n",
        "                              index=['Actual : negativos', 'Actual : positivos'],\n",
        "                              columns=['Predicción : negativos', 'Predicción : positivos'])\n",
        "\n",
        "    # Reporte\n",
        "    print(\"-----------------------------------------\")\n",
        "    print(\"Dataset\")\n",
        "    print('Tamaño train: {}'.format(X_train.shape[0]))\n",
        "    print('Tamaño test: {}'.format(X_test.shape[0]))\n",
        "    print('Porcentaje de positivos: {:.2f}%'.format(100 * np.sum(y_train) / np.size(y_train)))\n",
        "    print(\"-----------------------------------------\")\n",
        "    print(\"Resultados\")\n",
        "    print('Accuracy  = {}'.format(accuracy))\n",
        "    print('Error_rate  = {}'.format(error_rate))\n",
        "    print('Precision = {}'.format(precision))\n",
        "    print('Recall    = {}'.format(recall))\n",
        "    print('f1_score  = {}'.format(f1score))\n",
        "    print(\"-----------------------------------------\")\n",
        "\n",
        "    return cm_labeled"
      ]
    },
    {
      "cell_type": "code",
      "execution_count": null,
      "metadata": {
        "colab": {
          "base_uri": "https://localhost:8080/",
          "height": 684
        },
        "id": "UF-MnxnZXAjF",
        "outputId": "a9ef3c7e-b824-490d-8ce8-e263393b50da"
      },
      "outputs": [],
      "source": [
        "cm_lgbm = my_LGBM_report(X_train, y_train, X_test, y_test)\n",
        "sns.heatmap(cm_lgbm, annot=True, cmap=\"Greens\", fmt='d')\n",
        "plt.title(\"Matriz de Confusión - LightGBM\")\n",
        "plt.show()"
      ]
    },
    {
      "cell_type": "code",
      "execution_count": null,
      "metadata": {
        "colab": {
          "base_uri": "https://localhost:8080/",
          "height": 701
        },
        "id": "wwH08FZbXMOw",
        "outputId": "264eb6a9-5ab3-4b38-f5be-e419c2894402"
      },
      "outputs": [],
      "source": [
        "# Grid de hiperparámetros\n",
        "param_grid = {\n",
        "    'n_estimators': [100, 200],\n",
        "    'max_depth': [3, 5, 7],\n",
        "    'learning_rate': [0.01, 0.1],\n",
        "    'num_leaves': [15, 31],\n",
        "    'min_child_samples': [10, 20]\n",
        "}\n",
        "\n",
        "# Instanciamos el clasificador base\n",
        "lgbm = LGBMClassifier(random_state=42, verbose=-1)\n",
        "\n",
        "# GridSearchCV\n",
        "grid_search = GridSearchCV(\n",
        "    estimator=lgbm,\n",
        "    param_grid=param_grid,\n",
        "    cv=3,\n",
        "    scoring='f1',\n",
        "    verbose=1,\n",
        "    n_jobs=-1\n",
        ")\n",
        "\n",
        "# Entrenamos con el conjunto de entrenamiento\n",
        "grid_search.fit(X_train, y_train)\n",
        "\n",
        "# Mejor modelo encontrado\n",
        "best_model = grid_search.best_estimator_\n",
        "\n",
        "# Reporte con el mejor modelo\n",
        "cm_lgbm_tuned = my_LGBM_report(X_train, y_train, X_test, y_test, model=best_model)\n",
        "sns.heatmap(cm_lgbm_tuned, annot=True, cmap=\"Oranges\", fmt='d')\n",
        "plt.title(\"Matriz de Confusión - LightGBM Tuned\")\n",
        "plt.show()"
      ]
    },
    {
      "cell_type": "markdown",
      "metadata": {
        "id": "lnwsCVjOYABV"
      },
      "source": [
        "FALTA CAT BOOST Y COMPARATIVA FINAL"
      ]
    }
  ],
  "metadata": {
    "colab": {
      "provenance": []
    },
    "kernelspec": {
      "display_name": "venv_python311 (3.11.9)",
      "language": "python",
      "name": "python3"
    },
    "language_info": {
      "codemirror_mode": {
        "name": "ipython",
        "version": 3
      },
      "file_extension": ".py",
      "mimetype": "text/x-python",
      "name": "python",
      "nbconvert_exporter": "python",
      "pygments_lexer": "ipython3",
      "version": "3.11.9"
    }
  },
  "nbformat": 4,
  "nbformat_minor": 0
}
