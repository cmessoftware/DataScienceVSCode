version https://git-lfs.github.com/spec/v1
oid sha256:19fffc5e5088c7505ce9ad8cb9f99af60b37ee3e6b0b562af61dcc8d492b0bb2
size 2151451
