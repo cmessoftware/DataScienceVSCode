{
 "cells": [
  {
   "cell_type": "code",
   "execution_count": 2,
   "id": "e3a5efb4",
   "metadata": {},
   "outputs": [
    {
     "name": "stdout",
     "output_type": "stream",
     "text": [
      "P(X <= 3) = 0.1216 + 0.2702+ 0.2852 + 0.1901 =  0.8671\n",
      "a) La probabilidad de que contenga 3 piezas defectuosas como máximo es:  0.8671\n"
     ]
    }
   ],
   "source": [
    "# Ejercicio n°1 Distribución Binomial\n",
    "# El 10% de las piezas que produce una máquina son defectuosas. Si se toma al azar una muestra de 20 piezas.\n",
    "# a)\n",
    "# ¿Cuál es la probabilidad de que contenga 3 piezas defectuosas como máximo?\n",
    "\n",
    "n = 20\n",
    "x = 3\n",
    "p = 0.1\n",
    "q = 1 - p  \n",
    "from scipy.stats import binom\n",
    "from math import factorial as f\n",
    "from math import pow as power\n",
    "\n",
    "# a)\n",
    "# P(X <= 3) = P(X=0) + P(X=1) + P(X=2) + P(X=3) \n",
    "p_0 = round(binom.pmf(0, n, p),4)\n",
    "p_1 = round(binom.pmf(1, n, p),4)\n",
    "p_2 = round(binom.pmf(2, n, p),4)\n",
    "p_3 = round(binom.pmf(3, n, p),4)\n",
    "p_total = p_0 + p_1 + p_2 + p_3\n",
    "p_total = round(p_total,4)\n",
    "print(f\"P(X <= 3) = {p_0} + {p_1}+ {p_2} + {p_3} = \", p_total)\n",
    "print(\"a) La probabilidad de que contenga 3 piezas defectuosas como máximo es: \", p_total)"
   ]
  },
  {
   "cell_type": "code",
   "execution_count": 3,
   "id": "d4a6a069",
   "metadata": {},
   "outputs": [],
   "source": [
    "# c)\n",
    "# ¿Cuál es la probabilidad de que se den los dos sucesos descriptos anteriormente?"
   ]
  },
  {
   "cell_type": "code",
   "execution_count": 4,
   "id": "7aef6e1d",
   "metadata": {},
   "outputs": [
    {
     "name": "stdout",
     "output_type": "stream",
     "text": [
      "P(X >= 3) = 1 - (0.1216 + 0.2702 + 0.2852) = 0.323\n",
      "b) La probabilidad de que contenga 3 piezas defectuosas como mínimo es:  0.323\n"
     ]
    }
   ],
   "source": [
    "# b)\n",
    "# ¿Cuál es la probabilidad de que contenga 3 piezas defectuosas como mínimo?\n",
    "# P(X >= 3) = 1 - P(X <= 2)\n",
    "p_less_than_3 = p_0 + p_1 + p_2\n",
    "p_min_3 = 1 - round(p_less_than_3,4)\n",
    "p_min_3 = round(p_min_3, 4)\n",
    "print(f\"P(X >= 3) = 1 - ({p_0} + {p_1} + {p_2}) = {p_min_3}\")\n",
    "print(\"b) La probabilidad de que contenga 3 piezas defectuosas como mínimo es: \", p_min_3)"
   ]
  },
  {
   "cell_type": "code",
   "execution_count": 5,
   "id": "4653a338",
   "metadata": {},
   "outputs": [
    {
     "name": "stdout",
     "output_type": "stream",
     "text": [
      "c) La probabilidad de que se den los dos sucesos descriptos anteriormente es: 0.2801\n"
     ]
    }
   ],
   "source": [
    "# c)\n",
    "# ¿Cuál es la probabilidad de que se den los dos sucesos descriptos anteriormente?\n",
    "# como P(X <= 3) y P(X >= 3) son independientes, se multiplican.\n",
    "# Son independiente porque P(X <= 3) ∩ P(X >= 3) = ∅ => no tienen elementos en común.\n",
    "\n",
    "p_both = round(p_total * p_min_3, 4)\n",
    "print(f\"c) La probabilidad de que se den los dos sucesos descriptos anteriormente es: {p_both}\")"
   ]
  }
 ],
 "metadata": {
  "kernelspec": {
   "display_name": "DataScienceCourse",
   "language": "python",
   "name": "python3"
  },
  "language_info": {
   "codemirror_mode": {
    "name": "ipython",
    "version": 3
   },
   "file_extension": ".py",
   "mimetype": "text/x-python",
   "name": "python",
   "nbconvert_exporter": "python",
   "pygments_lexer": "ipython3",
   "version": "3.12.9"
  }
 },
 "nbformat": 4,
 "nbformat_minor": 5
}
