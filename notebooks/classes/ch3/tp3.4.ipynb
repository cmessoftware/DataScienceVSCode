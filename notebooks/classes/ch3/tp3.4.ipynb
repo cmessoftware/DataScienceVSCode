{
 "cells": [
  {
   "cell_type": "code",
   "execution_count": 24,
   "id": "aeb51035",
   "metadata": {},
   "outputs": [],
   "source": [
    "from math import factorial\n",
    "\n",
    "def Cn(n, x):\n",
    "\treturn factorial(n) // (factorial(x) * factorial(n - x))\n",
    "\n",
    "def binomial(n, p, x):\n",
    "    return Cn(n,x) * p**n * (1-p)**(n-x)"
   ]
  },
  {
   "cell_type": "code",
   "execution_count": 1,
   "id": "11185d82",
   "metadata": {},
   "outputs": [
    {
     "name": "stdout",
     "output_type": "stream",
     "text": [
      "La probabilidad de que, en un día cualquiera, este activo haya brindado un retorno entre el 0,42% y el 0,90%, si se sabe que fue superior al 0,51%, es: 0.9687 (96.87%)\n"
     ]
    }
   ],
   "source": [
    "# Ejercicio n°4 Normal\n",
    "# El retorno diario de cierto activo financiero sigue una distribución normal, con una media de 0,60% y un desvío típico de 0,15%.\n",
    "# a)¿Cuál es la probabilidad de que, en un día cualquiera, este activo haya brindado un retorno entre el 0,42% y el 0,90%, \n",
    "# si se sabe que fue superior al 0,51%?\n",
    "\n",
    "import scipy.stats as stats\n",
    "import numpy as np\n",
    "import matplotlib.pyplot as plt\n",
    "import seaborn as sns\n",
    "import pandas as pd\n",
    "import statsmodels.api as sm\n",
    "import statsmodels.formula.api as smf\n",
    "\n",
    "mu = 0.006\n",
    "sigma = 0.0015\n",
    "\n",
    "# a)¿Cuál es la probabilidad de que, en un día cualquiera, este activo haya brindado un retorno entre el 0,42% y el 0,90%, \n",
    "# si se sabe que fue superior al 0,51%?\n",
    "\n",
    "#Es un ejercicio de probabilidad condicional, por lo que se puede aplicar la fórmula:\n",
    "#P(A|B) = P(A ∩ B) / P(B)\n",
    "#Donde A es el evento de que el retorno esté entre 0.42% y 0.90% y B es el evento de que el retorno sea superior a 0.51%.\n",
    "\n",
    "#P(A ∩ B) = P(0.42% < X < 0.90% y X > 0.51%) = P(0.51% < X < 0.90%)\n",
    "#P(B) = P(X > 0.51%)\n",
    "#P(A|B) = P(0.51% < X < 0.90%) / P(X > 0.51%)\n",
    "#P(X > 0.51%) = 1 - P(X < 0.51%)\n",
    "px_minor_0_0051 = stats.norm.cdf(0.0051, mu, sigma)\n",
    "p_minor_0_009 = stats.norm.cdf(0.0090, mu, sigma)\n",
    "p_minor_0_042 = stats.norm.cdf(0.0042, mu, sigma)\n",
    "\n",
    "p_a_cond_b = (p_minor_0_009 - px_minor_0_0051) / (1 - px_minor_0_0051)\n",
    "print(f'La probabilidad de que, en un día cualquiera, este activo haya brindado un retorno entre el 0,42% y el 0,90%, si se sabe que fue superior al 0,51%, es: {p_a_cond_b:.4f} ({p_a_cond_b*100:.2f}%)')\n",
    "\n"
   ]
  },
  {
   "cell_type": "code",
   "execution_count": 20,
   "id": "1f35c754",
   "metadata": {},
   "outputs": [
    {
     "name": "stdout",
     "output_type": "stream",
     "text": [
      "El retorno diario que no es superado el 1% de las veces es: 0.0025 (0.251%)\n"
     ]
    }
   ],
   "source": [
    "# b)¿Cuál es el retorno diario que no es superado el 1% de las veces?\n",
    "\n",
    "#Para calcular el retorno diario que no es superado el 1% de las veces, se puede utilizar la función percentil de la distribución normal.\n",
    "#Esto se puede hacer utilizando la función ppf (percent point function) de la librería scipy.stats.\n",
    "percentil_1 = stats.norm.ppf(0.99, mu, sigma)\n",
    "\n",
    "# El valor de Z correspondiente al percentil 1% es -2.326 ( que representa el punto donde el 1% de los datos están a la izquierda en una normal estándar.)\n",
    "z = stats.norm.ppf(0.01)\n",
    "\n",
    "# Calculamos el retorno diario que no es superado el 1% de las veces\n",
    "x = mu + z * sigma\n",
    "print(f'El retorno diario que no es superado el 1% de las veces es: {x:.4f} ({x*100:.4}%)')\n"
   ]
  },
  {
   "cell_type": "code",
   "execution_count": null,
   "id": "b799235d",
   "metadata": {},
   "outputs": [
    {
     "name": "stdout",
     "output_type": "stream",
     "text": [
      "Probabilidad de un día con rentabilidad > 0.75%: 0.1587\n",
      "Probabilidad de que más de 2 días superen 0.75%: 0.4334\n"
     ]
    }
   ],
   "source": [
    "# c)# Un inversor piensa comprar acciones de este activo y venderlas 15 ruedas más tarde (es decir, 15 días hábiles posteriores) y \n",
    "# desea saber la probabilidad de que, en más de dos ruedas, la rentabilidad diaria sea por lo menos del 0,75%\n",
    "\n",
    "from scipy.stats import norm, binom\n",
    "\n",
    "# Distribución normal de la rentabilidad diaria\n",
    "mu = 0.006       # 0,60%\n",
    "sigma = 0.0015     # 0,15%\n",
    "\n",
    "# Calculamos P(X > 0.0075) usando la normal\n",
    "p = 1 - norm.cdf(0.0075, loc=mu, scale=sigma)\n",
    "\n",
    "print(f\"Probabilidad de un día con rentabilidad > 0.75%: {p:.4f}\")\n",
    "\n",
    "# Ahora usamos ese p en la distribución binomial\n",
    "n = 15  # número de ruedas\n",
    "\n",
    "# Probabilidad de que más de 2 días superen 0.75%\n",
    "p_0 = binom.pmf(0,n,p)\n",
    "print(f\"Probabilidad de que 0 días superen 0.75%: {p_0:.4f}\")\n",
    "p_1 = binom.pmf(1,n,p)\n",
    "print(f\"Probabilidad de que 1 día supere 0.75%: {p_1:.4f}\")\n",
    "p_2 = binom.pmf(2,n,p)\n",
    "print(f\"Probabilidad de que 2 días superen 0.75%: {p_2:.4f}\")\n",
    "    \n",
    "prob = 1 - p_0 - p_1 - p_2  #binom.cdf(2, n, p)\n",
    "\n",
    "print(f\"Probabilidad de que más de 2 días superen 0.75%: {prob:.4f}\")\n"
   ]
  },
  {
   "cell_type": "code",
   "execution_count": 39,
   "id": "167c247a",
   "metadata": {},
   "outputs": [
    {
     "data": {
      "image/png": "[encoded data removed]",
      "text/plain": [
       "<Figure size 640x480 with 1 Axes>"
      ]
     },
     "metadata": {},
     "output_type": "display_data"
    },
    {
     "name": "stdout",
     "output_type": "stream",
     "text": [
      "Probabilidad de que más de 2 días superen 0.75%: 0.4334\n"
     ]
    }
   ],
   "source": [
    "import matplotlib.pyplot as plt\n",
    "from scipy.stats import norm, binom\n",
    "import numpy as np\n",
    "\n",
    "# Parámetros\n",
    "media = 0.006\n",
    "desvio = 0.0015\n",
    "umbral = 0.0075\n",
    "n = 15\n",
    "\n",
    "# Probabilidad diaria de superar el umbral\n",
    "p = 1 - norm.cdf(umbral, loc=media, scale=desvio)\n",
    "\n",
    "# Distribución binomial\n",
    "x = np.arange(0, n+1)\n",
    "pmf_vals = binom.pmf(x, n, p)\n",
    "\n",
    "# Gráfico\n",
    "plt.bar(x, pmf_vals, color=[\"#90ee90\" if xi <= 2 else \"#ff9999\" for xi in x])\n",
    "plt.axvline(2.5, color=\"gray\", linestyle=\"--\")\n",
    "plt.title(f\"Distribución Binomial - n={n}, p={p:.4f}\")\n",
    "plt.xlabel(\"Cantidad de días con rentabilidad > 0.75%\")\n",
    "plt.ylabel(\"Probabilidad\")\n",
    "plt.grid(axis=\"y\", alpha=0.3)\n",
    "plt.show()\n",
    "\n",
    "# Resultado numérico\n",
    "prob_mas_de_2 = 1 - binom.cdf(2, n, p)\n",
    "print(f\"Probabilidad de que más de 2 días superen 0.75%: {prob_mas_de_2:.4f}\")\n"
   ]
  }
 ],
 "metadata": {
  "kernelspec": {
   "display_name": "Python 3",
   "language": "python",
   "name": "python3"
  },
  "language_info": {
   "codemirror_mode": {
    "name": "ipython",
    "version": 3
   },
   "file_extension": ".py",
   "mimetype": "text/x-python",
   "name": "python",
   "nbconvert_exporter": "python",
   "pygments_lexer": "ipython3",
   "version": "3.11.12"
  }
 },
 "nbformat": 4,
 "nbformat_minor": 5
}
