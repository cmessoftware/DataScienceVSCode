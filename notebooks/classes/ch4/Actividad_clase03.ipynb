{
  "nbformat": 4,
  "nbformat_minor": 0,
  "metadata": {
    "colab": {
      "provenance": []
    },
    "kernelspec": {
      "name": "python3",
      "display_name": "Python 3"
    },
    "language_info": {
      "name": "python"
    }
  },
  "cells": [
    {
      "cell_type": "markdown",
      "source": [
        "![Image in a markdown cell](https://cursos.utnba.centrodeelearning.com/pluginfile.php/1/theme_space/customlogo/1738330016/Logo%20UTN%20Horizontal.png)"
      ],
      "metadata": {
        "id": "XDj4gNFnno8q"
      }
    },
    {
      "cell_type": "markdown",
      "source": [
        "---"
      ],
      "metadata": {
        "id": "rj-tUzTqnudg"
      }
    },
    {
      "cell_type": "markdown",
      "source": [
        "# **Diplomado en Ciencia de datos**"
      ],
      "metadata": {
        "id": "vYZerW3UnsNz"
      }
    },
    {
      "cell_type": "markdown",
      "source": [
        "# Actividades Tema 2 y 3: Manipulación de Datos con Python"
      ],
      "metadata": {
        "id": "qd43jIbEoEPO"
      }
    },
    {
      "cell_type": "markdown",
      "source": [
        "**Instrucciones:**\n",
        "\n",
        "Esta actividad tiene como objetivo evaluar tu comprensión de la librería Pandas en Python.\n",
        "Utilizarás el dataset 'mpg' disponible en Seaborn para responder a las preguntas planteadas.\n",
        "\n",
        "Sigue las instrucciones cuidadosamente y escribe el código necesario para cada tarea."
      ],
      "metadata": {
        "id": "f3B-ME3HoYHJ"
      }
    },
    {
      "cell_type": "code",
      "source": [
        "import pandas as pd\n",
        "import seaborn as sns"
      ],
      "metadata": {
        "id": "mCsLOadrohXo"
      },
      "execution_count": 2,
      "outputs": []
    },
    {
      "cell_type": "markdown",
      "source": [
        "## **Dataset**"
      ],
      "metadata": {
        "id": "Btg0GCl2o7eO"
      }
    },
    {
      "cell_type": "code",
      "source": [
        "df = sns.load_dataset('mpg')"
      ],
      "metadata": {
        "id": "8kYc5Ve2pA-0"
      },
      "execution_count": 3,
      "outputs": []
    },
    {
      "cell_type": "markdown",
      "source": [
        "## 1. Conociendo el Dataset\n",
        "Investiga sobre el dataset con el que vamos a trabajar. El dataset es parte de la librería Seaborn y se llama mpg. Determina:\n",
        "* Información general del dataset\n",
        "* Variables que contiene y una breve descripción de las mismas\n"
      ],
      "metadata": {
        "id": "yleGqIj4o3hz"
      }
    },
    {
      "cell_type": "code",
      "source": [],
      "metadata": {
        "id": "XZKW6k2crx49"
      },
      "execution_count": null,
      "outputs": []
    },
    {
      "cell_type": "markdown",
      "source": [
        "\n",
        "## 2. Visualización del Dataset\n",
        "* Imprime las primeras 5 filas del DataFrame para verificar la carga.\n",
        "* Imprimi la últimas 5 filas del dataframe"
      ],
      "metadata": {
        "id": "X_lUthHEoo7V"
      }
    },
    {
      "cell_type": "code",
      "source": [],
      "metadata": {
        "id": "HAll09rPry4E"
      },
      "execution_count": null,
      "outputs": []
    },
    {
      "cell_type": "markdown",
      "source": [
        "## 3. Información General del DataFrame\n",
        "* Utiliza el método adecuado de Pandas para obtener un resumen de la información del DataFrame,\n",
        "* incluyendo el tipo de datos de cada columna y la cantidad de valores no nulos."
      ],
      "metadata": {
        "id": "WFdZH8fwrzz3"
      }
    },
    {
      "cell_type": "code",
      "source": [],
      "metadata": {
        "id": "TRG6VZnlr4Ia"
      },
      "execution_count": null,
      "outputs": []
    },
    {
      "cell_type": "markdown",
      "source": [
        "## 4. Estadísticas Descriptivas\n",
        "* Calcula las estadísticas descriptivas (media, desviación estándar, mínimo, máximo, etc.) para las columnas numéricas del DataFrame."
      ],
      "metadata": {
        "id": "GSdl686Xr4jP"
      }
    },
    {
      "cell_type": "code",
      "source": [],
      "metadata": {
        "id": "ZZG6gvysr8oi"
      },
      "execution_count": null,
      "outputs": []
    },
    {
      "cell_type": "markdown",
      "source": [
        "## 5. Selección de Columnas\n",
        "* Crea un nuevo DataFrame llamado 'df_subset' que contenga solo las columnas 'mpg', 'cylinders', 'displacement' y 'horsepower'.\n",
        "* Imprime las primeras 5 filas del nuevo DataFrame."
      ],
      "metadata": {
        "id": "2mz-cF2OsAiI"
      }
    },
    {
      "cell_type": "code",
      "source": [],
      "metadata": {
        "id": "5LE-9npBsESn"
      },
      "execution_count": null,
      "outputs": []
    },
    {
      "cell_type": "markdown",
      "source": [
        "## 6. Manejo de Valores Nulos\n",
        "* Cuenta la cantidad de valores nulos en cada columna del DataFrame 'df'.\n",
        "* Luego, reemplaza los valores nulos en la columna 'horsepower' con la mediana de esa columna.\n",
        "* Verifica que no queden valores nulos en la columna 'horsepower' después del reemplazo.\n",
        "\n"
      ],
      "metadata": {
        "id": "AmToLhf1oetQ"
      }
    },
    {
      "cell_type": "code",
      "source": [],
      "metadata": {
        "id": "_WliftY3sHH_"
      },
      "execution_count": null,
      "outputs": []
    },
    {
      "cell_type": "markdown",
      "source": [
        "## 7. Agrupación de Datos\n",
        "* Agrupa el DataFrame 'df' por la columna 'origin' y calcula la media de la columna 'mpg' para cada origen.\n",
        "* Imprime el resultado."
      ],
      "metadata": {
        "id": "4qFEwRWmsLYk"
      }
    },
    {
      "cell_type": "code",
      "source": [],
      "metadata": {
        "id": "VrE0OjresTTz"
      },
      "execution_count": null,
      "outputs": []
    },
    {
      "cell_type": "markdown",
      "source": [
        "## 8. Creación de una Nueva Columna\n",
        "* Crea una nueva columna en el DataFrame 'df' llamada 'efficiency' que clasifique los vehículos en los siguientes grupos:\n",
        "  * 'Bajo' si mpg < 20\n",
        "  * 'Medio' si 20 <= mpg < 30\n",
        "  * 'Alto' si mpg >= 30\n",
        "* Imprime las primeras 10 filas del DataFrame con la nueva columna."
      ],
      "metadata": {
        "id": "AhjNfFC5sTwF"
      }
    },
    {
      "cell_type": "code",
      "source": [],
      "metadata": {
        "id": "fd_FvPRgsm_L"
      },
      "execution_count": null,
      "outputs": []
    },
    {
      "cell_type": "markdown",
      "source": [
        "## 9. Ordenamiento de Datos\n",
        "* Ordena el DataFrame 'df' por la columna 'mpg' en orden descendente.\n",
        "* Imprime las primeras 5 filas del DataFrame ordenado.\n"
      ],
      "metadata": {
        "id": "hd_3WimpsrvM"
      }
    },
    {
      "cell_type": "code",
      "source": [],
      "metadata": {
        "id": "Wfnsvwhwszya"
      },
      "execution_count": null,
      "outputs": []
    },
    {
      "cell_type": "markdown",
      "source": [
        "## 10. Guardar el DataFrame Modificado\n",
        "* Guarda el DataFrame 'df' modificado en un archivo CSV llamado 'mpg_modificado.csv',\n",
        "* sin incluir el índice."
      ],
      "metadata": {
        "id": "q0768cajs0Rp"
      }
    },
    {
      "cell_type": "markdown",
      "source": [
        "---"
      ],
      "metadata": {
        "id": "ytFhpUqgodZ6"
      }
    },
    {
      "cell_type": "code",
      "execution_count": null,
      "metadata": {
        "id": "ynBGeTFwnkzS"
      },
      "outputs": [],
      "source": []
    }
  ]
}