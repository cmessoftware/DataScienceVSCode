{
  "nbformat": 4,
  "nbformat_minor": 0,
  "metadata": {
    "colab": {
      "provenance": []
    },
    "kernelspec": {
      "name": "python3",
      "display_name": "Python 3"
    },
    "language_info": {
      "name": "python"
    }
  },
  "cells": [
    {
      "cell_type": "markdown",
      "source": [
        "![Image in a markdown cell](https://cursos.utnba.centrodeelearning.com/pluginfile.php/1/theme_space/customlogo/1738330016/Logo%20UTN%20Horizontal.png)"
      ],
      "metadata": {
        "id": "lPLdTMuQW8gw"
      }
    },
    {
      "cell_type": "markdown",
      "source": [
        "---"
      ],
      "metadata": {
        "id": "OlrQxIOoXC1t"
      }
    },
    {
      "cell_type": "markdown",
      "source": [
        "# **Diplomado en Ciencia de datos**"
      ],
      "metadata": {
        "id": "Pi4XOZpHXHD3"
      }
    },
    {
      "cell_type": "markdown",
      "source": [
        "# **Actividades Tema 1: Introducción a Python**"
      ],
      "metadata": {
        "id": "K2QsuDghXN6q"
      }
    },
    {
      "cell_type": "markdown",
      "source": [
        "## **Actividad 1: Jugando con Variables y Tipos de Datos**\n",
        "\n",
        "**Objetivo:**\n",
        "\n",
        "*  Familiarizarse con la declaración y asignación de variables.\n",
        "\n",
        "*  Comprender los diferentes tipos de datos básicos en Python (string, entero, float, booleano).\n",
        "\n",
        "*  Practicar la conversión entre tipos de datos."
      ],
      "metadata": {
        "id": "BP7_kEVlXijM"
      }
    },
    {
      "cell_type": "markdown",
      "source": [
        "**Instrucciones:**\n",
        "\n",
        "1. Crea una variable llamada **nombre** y asígnale tu nombre. Usa el comando input() para ingresar el valor\n",
        "\n",
        "2. Crea una variable llamada **edad** y asígnale tu edad (como un número entero). Usa de igual manera el método input() y verifica si la variable luego de ingresarla es entera.\n",
        "\n",
        "3. Crea una variable llamada **altura** y asígnale tu altura en metros (como un número decimal).\n",
        "\n",
        "4. Crea una variable llamada **es_estudiante** y asígnale True si eres estudiante, o False si no lo eres.\n",
        "\n",
        "5. Imprime el tipo de dato de cada variable usando la función type().\n",
        "\n",
        "6. Convierte tu edad a un número decimal y guárdalo en una nueva variable llamada **edad_decimal**.\n",
        "\n",
        "7. Convierte tu altura a centímetros (multiplicando por 100) y guárdalo en una variable llamada **altura_cm**.\n",
        "\n",
        "8. Imprime un mensaje que incluya tu nombre, edad, altura y si eres estudiante o no. Utiliza f-strings para formatear el mensaje."
      ],
      "metadata": {
        "id": "mEE7gwzQX8T8"
      }
    },
    {
      "cell_type": "code",
      "source": [
        "# Desarrolla tus respuestas\n",
        "\n"
      ],
      "metadata": {
        "id": "qZmmISNkZrlN"
      },
      "execution_count": null,
      "outputs": []
    },
    {
      "cell_type": "markdown",
      "source": [
        "---"
      ],
      "metadata": {
        "id": "aUSIoXVMZR1z"
      }
    },
    {
      "cell_type": "markdown",
      "source": [
        "## **Actividad 2: Manipulando Strings: El Editor de Textos Básico**\n",
        "\n",
        "**Objetivo:**\n",
        "\n",
        "* Practicar el uso de métodos de strings para manipular texto.\n",
        "\n",
        "* Combinar diferentes métodos para lograr un resultado específico."
      ],
      "metadata": {
        "id": "iUFqY13vZZUu"
      }
    },
    {
      "cell_type": "markdown",
      "source": [
        "**Instrucciones:**\n",
        "\n",
        "1. Crea una variable llamada **texto** y asígnale la siguiente frase: \" Python es un lenguaje genial! \".\n",
        "\n",
        "2. Elimina los espacios en blanco al principio y al final del texto utilizando el método strip().\n",
        "\n",
        "3. Convierte todo el texto a mayúsculas utilizando el método upper().\n",
        "\n",
        "4. Reemplaza la palabra \"GENIAL\" con la palabra \"FANTÁSTICO\" utilizando el método replace().\n",
        "\n",
        "5. Verifica si la palabra \"Python\" está presente en el texto utilizando el operador in.\n",
        "\n",
        "6. Divide el texto en una lista de palabras utilizando el método split().\n",
        "\n",
        "7. Imprime cada paso del proceso para ver cómo se transforma el texto."
      ],
      "metadata": {
        "id": "397Pr88QZxiv"
      }
    },
    {
      "cell_type": "code",
      "source": [
        "# Desarrolla tus respuestas aquí\n",
        "\n",
        "\n"
      ],
      "metadata": {
        "id": "EFqSu_JaaGOt"
      },
      "execution_count": null,
      "outputs": []
    },
    {
      "cell_type": "markdown",
      "source": [
        "---"
      ],
      "metadata": {
        "id": "OMfSxcGUaSGl"
      }
    },
    {
      "cell_type": "markdown",
      "source": [
        "## **Actividad 3: Explorando Diccionarios: El Directorio de Contactos**\n",
        "\n",
        "**Objetivo:**\n",
        "\n",
        "* Familiarizarse con la creación y manipulación de diccionarios.\n",
        "\n",
        "* Practicar el acceso, la modificación y la adición de elementos en un diccionario."
      ],
      "metadata": {
        "id": "hFAo54UTbNxE"
      }
    },
    {
      "cell_type": "markdown",
      "source": [
        "**Instrucciones:**\n",
        "\n",
        "1. Crea un diccionario llamado contactos para almacenar información de contactos. Cada contacto debe tener un nombre, un número de teléfono y un correo electrónico.\n",
        "\n",
        "2. Agrega al menos tres contactos al diccionario.\n",
        "\n",
        "3. Imprime el diccionario completo.\n",
        "\n",
        "4. Accede al número de teléfono de uno de los contactos e imprímelo.\n",
        "\n",
        "5. Modifica el correo electrónico de uno de los contactos.\n",
        "\n",
        "6. Agrega un nuevo contacto al diccionario.\n",
        "\n",
        "7. Elimina uno de los contactos del diccionario.\n",
        "\n",
        "8. Verifica si un nombre específico está presente como clave en el diccionario.\n",
        "\n",
        "9. Imprime las claves y los valores del diccionario por separado."
      ],
      "metadata": {
        "id": "zjC8sE_GbmDb"
      }
    },
    {
      "cell_type": "code",
      "source": [
        "# Desarrolla tus respuestas aquí\n",
        "\n"
      ],
      "metadata": {
        "id": "AYAMxQR0aSpm"
      },
      "execution_count": null,
      "outputs": []
    },
    {
      "cell_type": "markdown",
      "source": [
        "---"
      ],
      "metadata": {
        "id": "mYedDBOVdSlc"
      }
    },
    {
      "cell_type": "markdown",
      "source": [
        "## **Actividad 4: Dominando Listas: La Lista de Tareas Pendientes**\n",
        "\n",
        "**Objetivo:**\n",
        "\n",
        "* Familiarizarse con la creación y manipulación de listas.\n",
        "\n",
        "* Practicar el acceso, la modificación, la adición y la eliminación de elementos en una lista."
      ],
      "metadata": {
        "id": "fCtQZDfrcFSj"
      }
    },
    {
      "cell_type": "markdown",
      "source": [
        "**Instrucciones:**\n",
        "\n",
        "1. Crea una lista llamada tareas para almacenar una lista de tareas pendientes.\n",
        "\n",
        "2. Agrega al menos cinco tareas a la lista.\n",
        "\n",
        "3. Imprime la lista completa.\n",
        "\n",
        "4. Accede a la primera tarea de la lista e imprímela.\n",
        "\n",
        "5. Modifica la segunda tarea de la lista.\n",
        "\n",
        "6. Agrega una nueva tarea al final de la lista utilizando el método append().\n",
        "\n",
        "7. Inserta una nueva tarea en una posición específica de la lista utilizando el método insert().\n",
        "\n",
        "8. Elimina la última tarea de la lista utilizando el método pop().\n",
        "\n",
        "9. Elimina una tarea específica de la lista utilizando el método remove().\n",
        "\n",
        "10. Ordena la lista alfabéticamente utilizando el método sort().\n",
        "\n",
        "11. Imprime la longitud de la lista utilizando la función len()."
      ],
      "metadata": {
        "id": "7PivFchecghf"
      }
    },
    {
      "cell_type": "code",
      "source": [
        "# Desarrolla tus respuestas aquí\n"
      ],
      "metadata": {
        "id": "W-6PCshecMn1"
      },
      "execution_count": null,
      "outputs": []
    },
    {
      "cell_type": "markdown",
      "source": [
        "---"
      ],
      "metadata": {
        "id": "KcSPina9dzaO"
      }
    },
    {
      "cell_type": "markdown",
      "source": [
        "## **Actividad 5: Interactuando con el Usuario: El Calculador de Propiedades**"
      ],
      "metadata": {
        "id": "N0AMwtFAd51l"
      }
    },
    {
      "cell_type": "markdown",
      "source": [
        "**Objetivo:**\n",
        "\n",
        "* Practicar la entrada de datos con la función input().\n",
        "\n",
        "* Practicar la salida de datos con la función print().\n",
        "\n",
        "* Utilizar f-strings para crear mensajes personalizados.\n",
        "\n",
        "* Realizar cálculos básicos con variables numéricas."
      ],
      "metadata": {
        "id": "Cd66MINceEZs"
      }
    },
    {
      "cell_type": "markdown",
      "source": [
        "**Instrucciones:**\n",
        "\n",
        "1. Pide al usuario que ingrese el nombre de una propiedad (ej. \"Mi casa\").\n",
        "\n",
        "2. Pide al usuario que ingrese el largo de la propiedad en metros.\n",
        "\n",
        "3. Pide al usuario que ingrese el ancho de la propiedad en metros.\n",
        "\n",
        "4. Calcula el área de la propiedad (largo * ancho).\n",
        "\n",
        "5. Calcula el perímetro de la propiedad (2 * (largo + ancho)).\n",
        "\n",
        "6. Pide al usuario que ingrese el precio por metro cuadrado.\n",
        "\n",
        "7. Calcula el valor total de la propiedad (área * precio por metro cuadrado).\n",
        "\n",
        "8. Imprime un resumen de la información de la propiedad, incluyendo el nombre, el área, el perímetro y el valor total. Utiliza f-strings para formatear el mensaje."
      ],
      "metadata": {
        "id": "NfXqGZaceQMF"
      }
    },
    {
      "cell_type": "code",
      "source": [
        "# Desarrolla tus respuestas aquí\n"
      ],
      "metadata": {
        "id": "ilRhT6MOd0PD"
      },
      "execution_count": null,
      "outputs": []
    }
  ]
}