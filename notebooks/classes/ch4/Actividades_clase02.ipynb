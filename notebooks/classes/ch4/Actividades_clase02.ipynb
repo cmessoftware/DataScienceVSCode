{
  "nbformat": 4,
  "nbformat_minor": 0,
  "metadata": {
    "colab": {
      "provenance": []
    },
    "kernelspec": {
      "name": "python3",
      "display_name": "Python 3"
    },
    "language_info": {
      "name": "python"
    }
  },
  "cells": [
    {
      "cell_type": "markdown",
      "source": [
        "![Image in a markdown cell](https://cursos.utnba.centrodeelearning.com/pluginfile.php/1/theme_space/customlogo/1738330016/Logo%20UTN%20Horizontal.png)"
      ],
      "metadata": {
        "id": "xeiDzMKHfgf8"
      }
    },
    {
      "cell_type": "markdown",
      "source": [
        "---"
      ],
      "metadata": {
        "id": "HxV5Oj_vflnC"
      }
    },
    {
      "cell_type": "markdown",
      "source": [
        "# **Diplomado en Ciencia de datos**"
      ],
      "metadata": {
        "id": "Q6DskIBffr2T"
      }
    },
    {
      "cell_type": "markdown",
      "source": [
        "# **Actividades Tema 2: Funciones y control de flujos en Python**"
      ],
      "metadata": {
        "id": "xsUgNgi7ftPM"
      }
    },
    {
      "cell_type": "markdown",
      "source": [
        "---"
      ],
      "metadata": {
        "id": "zkmhl9H5hIVL"
      }
    },
    {
      "cell_type": "markdown",
      "source": [
        "## **Actividad 1: El Clasificador de Edades con Condicionales**\n",
        "\n",
        "**Objetivo:**\n",
        "\n",
        "* Comprender y utilizar las estructuras condicionales if, elif y else.\n",
        "\n",
        "* Aplicar condicionales para clasificar datos según diferentes criterios."
      ],
      "metadata": {
        "id": "nS_1QkBLf6ak"
      }
    },
    {
      "cell_type": "markdown",
      "source": [
        "**Instrucciones:**\n",
        "\n",
        "1. Pide al usuario que ingrese su edad.\n",
        "\n",
        "2. Utiliza condicionales para clasificar al usuario en una de las siguientes categorías:\n",
        "\n",
        "  *  Menor de edad (menos de 18 años)\n",
        "\n",
        "  * Adulto joven (entre 18 y 30 años)\n",
        "\n",
        "  * Adulto (entre 31 y 60 años)\n",
        "\n",
        "  * Adulto mayor (más de 60 años)\n",
        "\n",
        "3. Imprime un mensaje indicando la categoría a la que pertenece el usuario."
      ],
      "metadata": {
        "id": "DV8n6XXegHLU"
      }
    },
    {
      "cell_type": "code",
      "source": [
        "# Desarrolla tus respuestas aquí\n"
      ],
      "metadata": {
        "id": "W2bxfKIBj7xC"
      },
      "execution_count": null,
      "outputs": []
    },
    {
      "cell_type": "markdown",
      "source": [
        "---"
      ],
      "metadata": {
        "id": "SKem_9Q2hNUl"
      }
    },
    {
      "cell_type": "markdown",
      "source": [
        "## **Actividad 2: El Analizador de Datos con Ciclos For**\n",
        "**Objetivo:**\n",
        "\n",
        "* Comprender y utilizar el ciclo for para iterar sobre listas.\n",
        "\n",
        "* Aplicar ciclos para analizar datos y calcular estadísticas básicas."
      ],
      "metadata": {
        "id": "kknA4zPPglMJ"
      }
    },
    {
      "cell_type": "markdown",
      "source": [
        "**Instrucciones:**\n",
        "\n",
        "1. Crea una lista de números (ej. [10, 20, 30, 40, 50]).\n",
        "\n",
        "2. Utiliza un ciclo for para calcular la suma de todos los números en la lista.\n",
        "\n",
        "3. Utiliza un ciclo for para encontrar el número más grande en la lista.\n",
        "\n",
        "4. Utiliza un ciclo for para crear una nueva lista que contenga el doble de cada número en la lista original.\n",
        "\n",
        "5. Imprime la suma, el número más grande y la nueva lista."
      ],
      "metadata": {
        "id": "UT_TsCAhgz_X"
      }
    },
    {
      "cell_type": "code",
      "source": [
        "# Desarrolla tus respuestas aquí\n"
      ],
      "metadata": {
        "id": "nxEaiq_nkFgz"
      },
      "execution_count": 1,
      "outputs": []
    },
    {
      "cell_type": "markdown",
      "source": [
        "---"
      ],
      "metadata": {
        "id": "Yc9it6C1gdB9"
      }
    },
    {
      "cell_type": "markdown",
      "source": [
        "## **Actividad 3: El Filtro de Datos con Ciclos While**\n",
        "\n",
        "**Objetivo:**\n",
        "\n",
        "* Comprender y utilizar el ciclo while para iterar hasta que se cumpla una condición.\n",
        "\n",
        "* Aplicar ciclos while para filtrar datos según diferentes criterios."
      ],
      "metadata": {
        "id": "cUPtJvgvhPv5"
      }
    },
    {
      "cell_type": "markdown",
      "source": [
        "**Instrucciones:**\n",
        "\n",
        "1. Crea una lista de números (ej. [1, 2, 3, 4, 5, 6, 7, 8, 9, 10]).\n",
        "\n",
        "2. Utiliza un ciclo while para crear una nueva lista que contenga solo los números pares de la lista original.\n",
        "\n",
        "3. Utiliza un ciclo while para eliminar los números impares de la lista original (modificando la lista original).\n",
        "\n",
        "4. Imprime las listas resultantes."
      ],
      "metadata": {
        "id": "uVz8whm2hgKj"
      }
    },
    {
      "cell_type": "code",
      "source": [
        "# Desarrolla tus respuestas aquí\n"
      ],
      "metadata": {
        "id": "mbcfyXFEkJT0"
      },
      "execution_count": null,
      "outputs": []
    },
    {
      "cell_type": "markdown",
      "source": [
        "---"
      ],
      "metadata": {
        "id": "PSQoUMPDkKa4"
      }
    },
    {
      "cell_type": "markdown",
      "source": [
        "## **Actividad 4: El Calculador de Estadísticas con Funciones**\n",
        "\n",
        "**Objetivo:**\n",
        "\n",
        "* Comprender y utilizar funciones para organizar el código y reutilizar la lógica.\n",
        "\n",
        "* Aplicar funciones para calcular estadísticas básicas sobre datos."
      ],
      "metadata": {
        "id": "TLOR8NfRi2gZ"
      }
    },
    {
      "cell_type": "markdown",
      "source": [
        "**Instrucciones:**\n",
        "\n",
        "1. Crea una función llamada **calcular_promedio** que reciba una lista de números como argumento y retorne el promedio de los números.\n",
        "\n",
        "2. Crea una función llamada **calcular_mediana** que reciba una lista de números como argumento y retorne la mediana de los números (el valor central después de ordenar la lista).\n",
        "\n",
        "3. Crea una función llamada **calcular_desviacion_estandar** que reciba una lista de números como argumento y retorne la desviación estándar de los números.\n",
        "\n",
        "4. Crea una lista de números (ej. [1, 2, 3, 4, 5]).\n",
        "\n",
        "5. Utiliza las funciones que creaste para calcular el promedio, la mediana y la desviación estándar de la lista.\n",
        "\n",
        "6. Imprime los resultados."
      ],
      "metadata": {
        "id": "8Z_qWaLIjj-t"
      }
    },
    {
      "cell_type": "code",
      "source": [
        "# Desarrolla tus respuestas aquí\n"
      ],
      "metadata": {
        "id": "fxkSSNUKkNm5"
      },
      "execution_count": 2,
      "outputs": []
    },
    {
      "cell_type": "markdown",
      "source": [
        "---"
      ],
      "metadata": {
        "id": "d9LTT9Y4ix4R"
      }
    }
  ]
}