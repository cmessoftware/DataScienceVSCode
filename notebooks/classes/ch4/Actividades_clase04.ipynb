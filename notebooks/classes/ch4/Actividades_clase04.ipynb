{
  "nbformat": 4,
  "nbformat_minor": 0,
  "metadata": {
    "colab": {
      "provenance": []
    },
    "kernelspec": {
      "name": "python3",
      "display_name": "Python 3"
    },
    "language_info": {
      "name": "python"
    }
  },
  "cells": [
    {
      "cell_type": "markdown",
      "source": [
        "![Image in a markdown cell](https://cursos.utnba.centrodeelearning.com/pluginfile.php/1/theme_space/customlogo/1738330016/Logo%20UTN%20Horizontal.png)"
      ],
      "metadata": {
        "id": "weAf6-uCtt2l"
      }
    },
    {
      "cell_type": "markdown",
      "source": [
        "---"
      ],
      "metadata": {
        "id": "vkXGN4QYtv1g"
      }
    },
    {
      "cell_type": "markdown",
      "source": [
        "# **Diplomado en Ciencia de datos**"
      ],
      "metadata": {
        "id": "40F4beBptw2a"
      }
    },
    {
      "cell_type": "markdown",
      "source": [
        "# **Actividades Tema 4: Visualización de Datos**\n"
      ],
      "metadata": {
        "id": "eynyZxCRt6rc"
      }
    },
    {
      "cell_type": "markdown",
      "source": [
        "**Instrucciones:**\n",
        "\n",
        "Esta actividad tiene como objetivo evaluar tu comprensión de las librerías Matplotlib y Seaborn en Python.\n",
        "Utilizarás un dataset creado directamente en el notebook para crear diferentes tipos de gráficos.\n",
        "\n",
        "Sigue las instrucciones cuidadosamente y escribe el código necesario para cada tarea."
      ],
      "metadata": {
        "id": "EsopeevYuZRq"
      }
    },
    {
      "cell_type": "markdown",
      "source": [
        "## Importación de librerias"
      ],
      "metadata": {
        "id": "W3JKcIUuuo8r"
      }
    },
    {
      "cell_type": "code",
      "execution_count": null,
      "metadata": {
        "id": "3j_bxyGqtrK_"
      },
      "outputs": [],
      "source": [
        "import pandas as pd\n",
        "import matplotlib.pyplot as plt\n",
        "import seaborn as sns"
      ]
    },
    {
      "cell_type": "markdown",
      "source": [
        "## 1. Creación del Dataset\n",
        "* Crea un DataFrame llamado 'df' con los siguientes datos:\n",
        "   - 'Categoría': ['A', 'B', 'C', 'A', 'B', 'C', 'A', 'B', 'C']\n",
        "   - 'Valor1': [10, 15, 7, 12, 18, 9, 14, 20, 11]\n",
        "   - 'Valor2': [5, 8, 3, 6, 10, 4, 7, 12, 5]"
      ],
      "metadata": {
        "id": "zpoZjeWxuzwW"
      }
    },
    {
      "cell_type": "code",
      "source": [],
      "metadata": {
        "id": "92dzHH7Zuvc-"
      },
      "execution_count": null,
      "outputs": []
    },
    {
      "cell_type": "markdown",
      "source": [
        "## 2. Gráfico de Líneas (Matplotlib)\n",
        "* Crea un gráfico de líneas que muestre la evolución de 'Valor1' a lo largo del índice del DataFrame.\n",
        "* Agrega un título al gráfico y etiquetas a los ejes."
      ],
      "metadata": {
        "id": "XUdNzG1JvHpB"
      }
    },
    {
      "cell_type": "code",
      "source": [],
      "metadata": {
        "id": "HKWhKH9DvPq4"
      },
      "execution_count": null,
      "outputs": []
    },
    {
      "cell_type": "markdown",
      "source": [
        "## 3. Gráfico de Barras (Matplotlib)\n",
        "* Crea un gráfico de barras que muestre la suma de 'Valor1' para cada 'Categoría'.\n",
        "* Agrega un título al gráfico y etiquetas a los ejes."
      ],
      "metadata": {
        "id": "al89cYW7vQGY"
      }
    },
    {
      "cell_type": "code",
      "source": [],
      "metadata": {
        "id": "wyJ-8zA6vWgC"
      },
      "execution_count": null,
      "outputs": []
    },
    {
      "cell_type": "markdown",
      "source": [
        "## 4. Diagrama de Dispersión (Matplotlib)\n",
        "* Crea un diagrama de dispersión que muestre la relación entre 'Valor1' y 'Valor2'.\n",
        "* Agrega un título al gráfico y etiquetas a los ejes."
      ],
      "metadata": {
        "id": "JglcjEvGvZR3"
      }
    },
    {
      "cell_type": "code",
      "source": [],
      "metadata": {
        "id": "jWitPx4mvdVH"
      },
      "execution_count": null,
      "outputs": []
    },
    {
      "cell_type": "markdown",
      "source": [
        "## 5. Histograma (Matplotlib)\n",
        "* Crea un histograma que muestre la distribución de 'Valor1'.\n",
        "* Agrega un título al gráfico y etiquetas a los ejes."
      ],
      "metadata": {
        "id": "PRmA36BFvex9"
      }
    },
    {
      "cell_type": "code",
      "source": [],
      "metadata": {
        "id": "ynxc26gTvjtx"
      },
      "execution_count": null,
      "outputs": []
    },
    {
      "cell_type": "markdown",
      "source": [
        "## 6. Diagrama de Caja (Matplotlib)\n",
        "* Crea un diagrama de caja que muestre la distribución de 'Valor1' para cada 'Categoría'.\n",
        "* Agrega un título al gráfico y etiquetas a los ejes."
      ],
      "metadata": {
        "id": "ifhtzzrtvmTt"
      }
    },
    {
      "cell_type": "code",
      "source": [],
      "metadata": {
        "id": "XriImV0XvqHh"
      },
      "execution_count": null,
      "outputs": []
    },
    {
      "cell_type": "markdown",
      "source": [
        "# 7. Gráfico de Barras Agrupadas (Seaborn)\n",
        "* Utiliza Seaborn para crear un gráfico de barras agrupadas que muestre la media de 'Valor1' y 'Valor2' para cada 'Categoría'.\n",
        "* Agrega un título al gráfico."
      ],
      "metadata": {
        "id": "jcVTk773vqxY"
      }
    },
    {
      "cell_type": "code",
      "source": [],
      "metadata": {
        "id": "a7-WmYpGvwyv"
      },
      "execution_count": null,
      "outputs": []
    },
    {
      "cell_type": "markdown",
      "source": [
        "## 8. Diagrama de Dispersión con Categorías (Seaborn)\n",
        "* Utiliza Seaborn para crear un diagrama de dispersión que muestre la relación entre 'Valor1' y 'Valor2',\n",
        "* diferenciando los puntos por 'Categoría' mediante colores.\n",
        "* Agrega un título al gráfico."
      ],
      "metadata": {
        "id": "mwAHq5nAvxaS"
      }
    },
    {
      "cell_type": "code",
      "source": [],
      "metadata": {
        "id": "na8bEs33v3aB"
      },
      "execution_count": null,
      "outputs": []
    }
  ]
}