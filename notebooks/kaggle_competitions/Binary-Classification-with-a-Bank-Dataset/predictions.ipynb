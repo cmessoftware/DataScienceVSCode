{
 "cells": [
  {
   "cell_type": "code",
   "execution_count": 1,
   "id": "fdb84281",
   "metadata": {},
   "outputs": [
    {
     "ename": "ModuleNotFoundError",
     "evalue": "No module named 'xgboost'",
     "output_type": "error",
     "traceback": [
      "\u001b[31m---------------------------------------------------------------------------\u001b[39m",
      "\u001b[31mModuleNotFoundError\u001b[39m                       Traceback (most recent call last)",
      "\u001b[36mFile \u001b[39m\u001b[32m<timed exec>:2\u001b[39m\n",
      "\u001b[31mModuleNotFoundError\u001b[39m: No module named 'xgboost'"
     ]
    }
   ],
   "source": [
    "%%time\n",
    "\n",
    "# packages\n",
    "import numpy as np, pandas as pd, xgboost as xgb, catboost as ctb, lightgbm as lgb\n",
    "import warnings; warnings.filterwarnings('ignore')\n",
    "\n",
    "# data\n",
    "path        = '.'\n",
    "train       = pd.read_csv(path + 'train.csv',             index_col = 'id')\n",
    "test        = pd.read_csv(path + 'test.csv',              index_col = 'id')\n",
    "submission  = pd.read_csv(path + 'sample_submission.csv', index_col = 'id')\n",
    "\n",
    "# preprocess\n",
    "cat_cols = ['job','marital','education','default','housing','loan','contact','month','poutcome']\n",
    "\n",
    "for feature in cat_cols:\n",
    "    train[feature] = train[feature].astype(\"category\")\n",
    "    test[feature]  = test[feature] .astype(\"category\")\n",
    "\n",
    "# features and target\n",
    "X = train.drop(columns = 'y')\n",
    "y = train.y\n",
    "\n",
    "# models\n",
    "model_xgb = xgb.XGBRegressor     (max_depth=3, n_estimators=70, enable_categorical   = True,     verbose   = 0)\n",
    "model_cat = ctb.CatBoostRegressor(max_depth=3,   iterations=70, cat_features         = cat_cols, verbose   = 0)\n",
    "model_lgb = lgb.LGBMRegressor    (max_depth=3, n_estimators=70, categorical_features = cat_cols, verbosity =-1, )\n",
    "# predictions\n",
    "cat_preds = model_cat.fit(X,y).predict(test)\n",
    "xgb_preds = model_xgb.fit(X,y).predict(test)\n",
    "lgb_preds = model_lgb.fit(X,y).predict(test)\n",
    "\n",
    "# submission\n",
    "submission['y'] = (cat_preds + xgb_preds + lgb_preds)/3\n",
    "submission.to_csv('submission.csv')\n",
    "submission\n"
   ]
  }
 ],
 "metadata": {
  "kernelspec": {
   "display_name": ".venv (3.13.2)",
   "language": "python",
   "name": "python3"
  },
  "language_info": {
   "codemirror_mode": {
    "name": "ipython",
    "version": 3
   },
   "file_extension": ".py",
   "mimetype": "text/x-python",
   "name": "python",
   "nbconvert_exporter": "python",
   "pygments_lexer": "ipython3",
   "version": "3.13.2"
  }
 },
 "nbformat": 4,
 "nbformat_minor": 5
}
