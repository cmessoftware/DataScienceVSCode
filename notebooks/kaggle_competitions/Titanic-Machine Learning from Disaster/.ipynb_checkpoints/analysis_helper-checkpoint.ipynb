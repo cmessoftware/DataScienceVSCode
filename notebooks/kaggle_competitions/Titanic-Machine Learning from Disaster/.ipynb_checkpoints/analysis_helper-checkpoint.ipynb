{
 "cells": [
  {
   "cell_type": "code",
   "execution_count": null,
   "id": "6e132f99-484b-48b5-9393-63008f77fa6e",
   "metadata": {},
   "outputs": [],
   "source": [
    "# Inicializar helper\n",
    "helper = MachineLearningPipelineHelper(features=['Pclass', 'Sex', 'Age', 'SibSp', 'Parch', 'Fare'])\n",
    "\n",
    "# Preprocesar datasets\n",
    "train_clean = helper.preprocess(train)\n",
    "test_clean = helper.preprocess(test)\n",
    "\n",
    "# Evaluación local antes de submitir\n",
    "helper.evaluate_local(train_clean, train_clean['Survived'])\n",
    "\n",
    "# Entrenar modelo final y preparar submission\n",
    "helper.train(train_clean, train_clean['Survived'])\n",
    "predictions = helper.predict(test_clean)\n",
    "helper.save_submission(test_clean['PassengerId'], predictions)\n"
   ]
  }
 ],
 "metadata": {
  "kernelspec": {
   "display_name": "Python 3 (ipykernel)",
   "language": "python",
   "name": "python3"
  },
  "language_info": {
   "codemirror_mode": {
    "name": "ipython",
    "version": 3
   },
   "file_extension": ".py",
   "mimetype": "text/x-python",
   "name": "python",
   "nbconvert_exporter": "python",
   "pygments_lexer": "ipython3",
   "version": "3.11.13"
  }
 },
 "nbformat": 4,
 "nbformat_minor": 5
}
