{
 "cells": [
  {
   "cell_type": "markdown",
   "id": "6b7d0926",
   "metadata": {},
   "source": [
    "## Tutorial para usar MLflow UI"
   ]
  },
  {
   "cell_type": "markdown",
   "id": "3c40d493",
   "metadata": {},
   "source": [
    "## 🚀 Cómo usar MLflow UI\n",
    "\n",
    "Para visualizar todos los experimentos en la interfaz web de MLflow:\n",
    "\n",
    "### 1. Abrir terminal/PowerShell\n",
    "```bash\n",
    "# En la carpeta del proyecto\n",
    "mlflow ui\n",
    "```\n",
    "\n",
    "### 2. Abrir navegador\n",
    "Ve a: http://localhost:5000\n",
    "\n",
    "### 3. Explorar experimentos\n",
    "- 📊 Ver todos los runs y métricas\n",
    "- 📈 Comparar modelos lado a lado\n",
    "- 📁 Descargar artefactos (gráficos, modelos)\n",
    "- 🔍 Filtrar y ordenar resultados\n",
    "- 📝 Agregar notas y tags\n",
    "\n",
    "### 4. Funcionalidades útiles\n",
    "- **Compare runs**: Seleccionar múltiples runs para comparar\n",
    "- **Parallel coordinates**: Visualizar relaciones entre parámetros y métricas\n",
    "- **Scatter plots**: Gráficos de dispersión de métricas\n",
    "- **Model registry**: Registrar los mejores modelos\n",
    "\n",
    "### 5. En Docker\n",
    "```powershell\n",
    "# Si usas Docker\n",
    ".\\docker-helper.ps1 shell\n",
    "# Dentro del contenedor:\n",
    "mlflow ui --host 0.0.0.0 --port 5000\n",
    "```"
   ]
  },
  {
   "cell_type": "markdown",
   "id": "04bd5b2a",
   "metadata": {},
   "source": [
    "## Próximos pasos\n",
    "\n",
    "### 🎯 Sugerencias para experimentar más:\n",
    "\n",
    "1. **Más datasets**: Probar con `loan_data.csv` completo\n",
    "2. **Feature engineering**: Crear nuevas características\n",
    "3. **Más modelos**: XGBoost, LightGBM, Neural Networks\n",
    "4. **Hyperparameter tuning**: Grid search, Random search\n",
    "5. **Ensemble methods**: Voting, Stacking\n",
    "6. **Cross-validation**: Más estrategias de validación\n",
    "7. **Model registry**: Registrar modelos en producción\n",
    "8. **A/B testing**: Comparar modelos en producción\n",
    "\n",
    "### 📚 Recursos adicionales:\n",
    "- [MLflow Documentation](https://mlflow.org/docs/latest/index.html)\n",
    "- [MLflow Examples](https://github.com/mlflow/mlflow/tree/master/examples)\n",
    "- [MLflow Tutorials](https://mlflow.org/docs/latest/tutorials-and-examples/index.html)"
   ]
  },
  {
   "cell_type": "code",
   "execution_count": 1,
   "id": "42f01f22-9396-418b-8edf-1d9a7600850d",
   "metadata": {},
   "outputs": [
    {
     "name": "stdout",
     "output_type": "stream",
     "text": [
      "mlflow.get_tracking_uri(): file:///C:/Users/sergiosal/source/repos/DataScienceVSCode/notebooks/mlflow_experiments/mlruns\n",
      "MLFLOW_TRACKING_URI env: None\n",
      "Create or use experiment: Iris Species Classification\n"
     ]
    }
   ],
   "source": [
    "from mlflow.tracking import MlflowClient\n",
    "#Que store de mklflow estoy usando \n",
    "import mlflow, os\n",
    "print(\"mlflow.get_tracking_uri():\", mlflow.get_tracking_uri())\n",
    "print(\"MLFLOW_TRACKING_URI env:\", os.environ.get(\"MLFLOW_TRACKING_URI\"))\n",
    "\n",
    "#Import MLflow utils \n",
    "from ds_utils import MLflowUtils\n",
    "\n",
    "mlflow_uri = \"http://127.0.0.1:5000\"\n",
    "mlflow_experiment = \"Iris Species Classification\"\n",
    "\n",
    "mlflow_utils = MLflowUtils()\n",
    "mlflow_utils.init_mlflow(mlflow_uri, mlflow_experiment)\n",
    "\n"
   ]
  },
  {
   "cell_type": "code",
   "execution_count": 9,
   "id": "29ec40c2",
   "metadata": {},
   "outputs": [
    {
     "name": "stdout",
     "output_type": "stream",
     "text": [
      "🧹 Archivos temporales limpiados\n",
      "\n",
      "✅ ¡Notebook completado!\n",
      "🚀 Ejecuta 'mlflow ui' en terminal para explorar los resultados\n"
     ]
    }
   ],
   "source": [
    "# Limpiar archivos temporales\n",
    "import os\n",
    "import glob\n",
    "\n",
    "# Eliminar archivos de imágenes temporales\n",
    "for file in glob.glob(\"*.png\"):\n",
    "    try:\n",
    "        os.remove(file)\n",
    "    except:\n",
    "        pass\n",
    "\n",
    "for file in glob.glob(\"*.txt\"):\n",
    "    try:\n",
    "        os.remove(file)\n",
    "    except:\n",
    "        pass\n",
    "\n",
    "print(\"🧹 Archivos temporales limpiados\")\n",
    "print(\"\\n✅ ¡Notebook completado!\")\n",
    "print(\"🚀 Ejecuta 'mlflow ui' en terminal para explorar los resultados\")"
   ]
  },
  {
   "cell_type": "markdown",
   "id": "d46ee3b3",
   "metadata": {},
   "source": [
    "# Ejemplo clásico: Dataset Iris\n",
    "\n",
    "Ahora vamos a demostrar MLflow con el famoso dataset Iris, un ejemplo clásico de clasificación multiclase en machine learning.\n",
    "\n",
    "## Sobre el dataset Iris:\n",
    "- **150 muestras** de flores iris\n",
    "- **4 características**: longitud y ancho de sépalo y pétalo\n",
    "- **3 clases**: Iris-setosa, Iris-versicolor, Iris-virginica\n",
    "- **Problema**: Clasificación multiclase\n",
    "- **Objetivo**: Predecir la especie de iris basándose en las medidas florales"
   ]
  },
  {
   "cell_type": "code",
   "execution_count": 2,
   "id": "0de0d06d",
   "metadata": {},
   "outputs": [
    {
     "name": "stdout",
     "output_type": "stream",
     "text": [
      "target_names: [0 1]\n",
      "🌸 Dataset Diabetes cargado exitosamente\n",
      "📊 Forma del dataset: (100000, 9)\n",
      "🏷️ Características: ['gender', 'age', 'hypertension', 'heart_disease', 'smoking_history', 'bmi', 'HbA1c_level', 'blood_glucose_level', 'diabetes']\n"
     ]
    },
    {
     "ename": "NameError",
     "evalue": "name 'iris' is not defined",
     "output_type": "error",
     "traceback": [
      "\u001b[31m---------------------------------------------------------------------------\u001b[39m",
      "\u001b[31mNameError\u001b[39m                                 Traceback (most recent call last)",
      "\u001b[36mCell\u001b[39m\u001b[36m \u001b[39m\u001b[32mIn[2]\u001b[39m\u001b[32m, line 22\u001b[39m\n\u001b[32m     20\u001b[39m \u001b[38;5;28mprint\u001b[39m(\u001b[33mf\u001b[39m\u001b[33m\"\u001b[39m\u001b[33m📊 Forma del dataset: \u001b[39m\u001b[38;5;132;01m{\u001b[39;00mdiabetes_df.shape\u001b[38;5;132;01m}\u001b[39;00m\u001b[33m\"\u001b[39m)\n\u001b[32m     21\u001b[39m \u001b[38;5;28mprint\u001b[39m(\u001b[33mf\u001b[39m\u001b[33m\"\u001b[39m\u001b[33m🏷️ Características: \u001b[39m\u001b[38;5;132;01m{\u001b[39;00m\u001b[38;5;28mlist\u001b[39m(diabetes_df.columns)\u001b[38;5;132;01m}\u001b[39;00m\u001b[33m\"\u001b[39m)\n\u001b[32m---> \u001b[39m\u001b[32m22\u001b[39m \u001b[38;5;28mprint\u001b[39m(\u001b[33mf\u001b[39m\u001b[33m\"\u001b[39m\u001b[33m🎯 Clases: \u001b[39m\u001b[38;5;132;01m{\u001b[39;00m\u001b[38;5;28mlist\u001b[39m(\u001b[43miris\u001b[49m.target_names)\u001b[38;5;132;01m}\u001b[39;00m\u001b[33m\"\u001b[39m)\n\u001b[32m     23\u001b[39m \u001b[38;5;28mprint\u001b[39m(\u001b[33mf\u001b[39m\u001b[33m\"\u001b[39m\u001b[33m📈 Distribución de clases: \u001b[39m\u001b[38;5;132;01m{\u001b[39;00mpd.Series(target_col).value_counts().sort_index().to_dict()\u001b[38;5;132;01m}\u001b[39;00m\u001b[33m\"\u001b[39m)\n\u001b[32m     25\u001b[39m \u001b[38;5;66;03m# Mostrar primeras filas\u001b[39;00m\n",
      "\u001b[31mNameError\u001b[39m: name 'iris' is not defined"
     ]
    }
   ],
   "source": [
    "# Cargar dataset Iris\n",
    "from sklearn.datasets import load_iris\n",
    "import pandas as pd\n",
    "from sklearn.preprocessing import StandardScaler\n",
    "\n",
    "# Cargar datos\n",
    "# iris = load_iris()\n",
    "# X_iris = iris.data\n",
    "# y_iris = iris.target\n",
    "diabetes_df = pd.read_csv('./data/diabetes_prediction_dataset.csv')\n",
    "target_col = 'diabetes'\n",
    "target_names = diabetes_df[target_col].unique()\n",
    "print(f'target_names: {target_names}')\n",
    "\n",
    "# Crear DataFrame para mejor visualización\n",
    "#iris_df = pd.DataFrame(X_iris, columns=iris.feature_names)\n",
    "#iris_df['species_name'] = iris_df['species'].map({0: 'setosa', 1: 'versicolor', 2: 'virginica'})\n",
    "\n",
    "print(\"🌸 Dataset Diabetes cargado exitosamente\")\n",
    "print(f\"📊 Forma del dataset: {diabetes_df.shape}\")\n",
    "print(f\"🏷️ Características: {list(diabetes_df.columns)}\")\n",
    "print(f\"🎯 Clases: {list(iris.target_names)}\")\n",
    "print(f\"📈 Distribución de clases: {pd.Series(target_col).value_counts().sort_index().to_dict()}\")\n",
    "\n",
    "# Mostrar primeras filas\n",
    "print(\"\\n📋 Primeras 5 filas del dataset:\")\n",
    "display(diabetes_df.head(5))\n"
   ]
  },
  {
   "cell_type": "markdown",
   "id": "dca8cc23-f4e5-4939-8706-c24d434a35fa",
   "metadata": {},
   "source": [
    "## EDA Detallado"
   ]
  },
  {
   "cell_type": "code",
   "execution_count": 15,
   "id": "0755e485-78a3-49bd-8b17-9fc2a7f26ac1",
   "metadata": {},
   "outputs": [
    {
     "ename": "ModuleNotFoundError",
     "evalue": "No module named 'ds_utils'",
     "output_type": "error",
     "traceback": [
      "\u001b[31m---------------------------------------------------------------------------\u001b[39m",
      "\u001b[31mModuleNotFoundError\u001b[39m                       Traceback (most recent call last)",
      "\u001b[36mCell\u001b[39m\u001b[36m \u001b[39m\u001b[32mIn[15]\u001b[39m\u001b[32m, line 1\u001b[39m\n\u001b[32m----> \u001b[39m\u001b[32m1\u001b[39m \u001b[38;5;28;01mimport\u001b[39;00m\u001b[38;5;250m \u001b[39m\u001b[34;01mds_utils\u001b[39;00m\n\u001b[32m      2\u001b[39m \u001b[38;5;28;01mfrom\u001b[39;00m\u001b[38;5;250m \u001b[39m\u001b[34;01mds_utils\u001b[39;00m\u001b[34;01m.\u001b[39;00m\u001b[34;01meda\u001b[39;00m\u001b[38;5;250m \u001b[39m\u001b[38;5;28;01mimport\u001b[39;00m generate_full_report\n\u001b[32m      5\u001b[39m generate_full_report(iris_df, target_col = \u001b[33m\"\u001b[39m\u001b[33mspecies\u001b[39m\u001b[33m\"\u001b[39m, \n\u001b[32m      6\u001b[39m            name=\u001b[33m\"\u001b[39m\u001b[33mDataset\u001b[39m\u001b[33m\"\u001b[39m, correlation_threshold= \u001b[32m0.7\u001b[39m)\n",
      "\u001b[31mModuleNotFoundError\u001b[39m: No module named 'ds_utils'"
     ]
    }
   ],
   "source": [
    "import ds_utils\n",
    "from ds_utils.eda import generate_full_report\n",
    "\n",
    "\n",
    "generate_full_report(iris_df, target_col = \"species\", \n",
    "           name=\"Dataset\", correlation_threshold= 0.7)\n",
    "\n"
   ]
  },
  {
   "cell_type": "markdown",
   "id": "f0cb0803",
   "metadata": {},
   "source": [
    "## Preparación de datos Diabetes para MLflow"
   ]
  },
  {
   "cell_type": "code",
   "execution_count": 6,
   "id": "b0f60deb",
   "metadata": {},
   "outputs": [],
   "source": [
    "def train_and_log_iris_model(model, model_name, X_train, X_test, y_train, y_test, params=None):\n",
    "    \"\"\"\n",
    "    Entrena un modelo multiclase para Iris y registra métricas en MLflow\n",
    "    \"\"\"\n",
    "    with mlflow.start_run(run_name=f\"Iris - {model_name}\"):\n",
    "        # Registrar parámetros\n",
    "        mlflow.log_param(\"model_type\", model_name)\n",
    "        mlflow.log_param(\"dataset\", \"Iris\")\n",
    "        mlflow.log_param(\"problem_type\", \"multiclass_classification\")\n",
    "        mlflow.log_param(\"n_classes\", 3)\n",
    "        mlflow.log_param(\"train_samples\", len(X_train))\n",
    "        mlflow.log_param(\"test_samples\", len(X_test))\n",
    "        mlflow.log_param(\"n_features\", X_train.shape[1])\n",
    "        \n",
    "        if params:\n",
    "            for key, value in params.items():\n",
    "                mlflow.log_param(key, value)\n",
    "        \n",
    "        # Entrenar modelo\n",
    "        model.fit(X_train, y_train)\n",
    "        \n",
    "        # Predicciones\n",
    "        y_pred = model.predict(X_test)\n",
    "        y_pred_proba = model.predict_proba(X_test) if hasattr(model, 'predict_proba') else None\n",
    "        \n",
    "        # Calcular métricas\n",
    "        accuracy = accuracy_score(y_test, y_pred)\n",
    "        precision = precision_score(y_test, y_pred, average='weighted')\n",
    "        recall = recall_score(y_test, y_pred, average='weighted')\n",
    "        f1 = f1_score(y_test, y_pred, average='weighted')\n",
    "        \n",
    "        # Métricas por clase\n",
    "        precision_macro = precision_score(y_test, y_pred, average='macro')\n",
    "        recall_macro = recall_score(y_test, y_pred, average='macro')\n",
    "        f1_macro = f1_score(y_test, y_pred, average='macro')\n",
    "        \n",
    "        # Registrar métricas\n",
    "        mlflow.log_metric(\"accuracy\", accuracy)\n",
    "        mlflow.log_metric(\"precision_weighted\", precision)\n",
    "        mlflow.log_metric(\"recall_weighted\", recall)\n",
    "        mlflow.log_metric(\"f1_weighted\", f1)\n",
    "        mlflow.log_metric(\"precision_macro\", precision_macro)\n",
    "        mlflow.log_metric(\"recall_macro\", recall_macro)\n",
    "        mlflow.log_metric(\"f1_macro\", f1_macro)\n",
    "        \n",
    "        # AUC multiclase (One-vs-Rest)\n",
    "        if y_pred_proba is not None:\n",
    "            auc_ovr = roc_auc_score(y_test, y_pred_proba, multi_class='ovr')\n",
    "            auc_ovo = roc_auc_score(y_test, y_pred_proba, multi_class='ovo')\n",
    "            mlflow.log_metric(\"auc_ovr\", auc_ovr)\n",
    "            mlflow.log_metric(\"auc_ovo\", auc_ovo)\n",
    "        \n",
    "        # Cross-validation\n",
    "        cv_scores = cross_val_score(model, X_train, y_train, cv=5, scoring='accuracy')\n",
    "        mlflow.log_metric(\"cv_mean\", cv_scores.mean())\n",
    "        mlflow.log_metric(\"cv_std\", cv_scores.std())\n",
    "        \n",
    "        # Registrar modelo\n",
    "        mlflow.sklearn.log_model(model, \"model\")\n",
    "        \n",
    "        # Matriz de confusión\n",
    "        cm = confusion_matrix(y_test, y_pred)\n",
    "        plt.figure(figsize=(8, 6))\n",
    "        sns.heatmap(cm, annot=True, fmt='d', cmap='Blues', \n",
    "                   xticklabels=iris.target_names, yticklabels=iris.target_names)\n",
    "        plt.title(f'Matriz de Confusión - {model_name} (Iris)')\n",
    "        plt.xlabel('Predicción')\n",
    "        plt.ylabel('Actual')\n",
    "        plt.tight_layout()\n",
    "        \n",
    "        # Guardar gráfico\n",
    "        confusion_file = f\"iris_confusion_matrix_{model_name.replace(' ', '_')}.png\"\n",
    "        plt.savefig(confusion_file)\n",
    "        mlflow.log_artifact(confusion_file)\n",
    "        plt.show()\n",
    "        \n",
    "        # Reporte de clasificación\n",
    "        report = classification_report(y_test, y_pred, target_names=iris.target_names)\n",
    "        report_file = f\"iris_classification_report_{model_name.replace(' ', '_')}.txt\"\n",
    "        with open(report_file, \"w\") as f:\n",
    "            f.write(report)\n",
    "        mlflow.log_artifact(report_file)\n",
    "        \n",
    "        print(f\"🌸 {model_name} entrenado en dataset Iris\")\n",
    "        print(f\"📊 Accuracy: {accuracy:.4f}\")\n",
    "        print(f\"📊 F1-Score (weighted): {f1:.4f}\")\n",
    "        print(f\"📊 F1-Score (macro): {f1_macro:.4f}\")\n",
    "        if y_pred_proba is not None:\n",
    "            print(f\"📊 AUC (OvR): {auc_ovr:.4f}\")\n",
    "            print(f\"📊 AUC (OvO): {auc_ovo:.4f}\")\n",
    "        print(f\"📊 CV Score: {cv_scores.mean():.4f} (+/- {cv_scores.std() * 2:.4f})\")\n",
    "        print(\"-\" * 60)\n",
    "        \n",
    "        return model"
   ]
  },
  {
   "cell_type": "code",
   "execution_count": 7,
   "id": "f533916c",
   "metadata": {},
   "outputs": [
    {
     "name": "stdout",
     "output_type": "stream",
     "text": [
      "X_iris:\n"
     ]
    },
    {
     "data": {
      "text/plain": [
       "array([[5.1, 3.5, 1.4, 0.2],\n",
       "       [4.9, 3. , 1.4, 0.2],\n",
       "       [4.7, 3.2, 1.3, 0.2],\n",
       "       [4.6, 3.1, 1.5, 0.2],\n",
       "       [5. , 3.6, 1.4, 0.2]])"
      ]
     },
     "metadata": {},
     "output_type": "display_data"
    },
    {
     "name": "stdout",
     "output_type": "stream",
     "text": [
      "y_iris:\n"
     ]
    },
    {
     "data": {
      "text/plain": [
       "array([0, 0, 0, 0, 0])"
      ]
     },
     "metadata": {},
     "output_type": "display_data"
    },
    {
     "name": "stdout",
     "output_type": "stream",
     "text": [
      "X_train_iris:\n"
     ]
    },
    {
     "data": {
      "text/plain": [
       "array([[4.4, 2.9, 1.4, 0.2],\n",
       "       [4.9, 2.5, 4.5, 1.7],\n",
       "       [6.8, 2.8, 4.8, 1.4],\n",
       "       [4.9, 3.1, 1.5, 0.1],\n",
       "       [5.5, 2.5, 4. , 1.3]])"
      ]
     },
     "metadata": {},
     "output_type": "display_data"
    },
    {
     "name": "stdout",
     "output_type": "stream",
     "text": [
      "X_test_iris:\n"
     ]
    },
    {
     "data": {
      "text/plain": [
       "array([[4.4, 3. , 1.3, 0.2],\n",
       "       [6.1, 3. , 4.9, 1.8],\n",
       "       [4.9, 2.4, 3.3, 1. ],\n",
       "       [5. , 2.3, 3.3, 1. ],\n",
       "       [4.4, 3.2, 1.3, 0.2]])"
      ]
     },
     "metadata": {},
     "output_type": "display_data"
    },
    {
     "name": "stdout",
     "output_type": "stream",
     "text": [
      "X_train_iris_scaled:\n"
     ]
    },
    {
     "data": {
      "text/plain": [
       "array([[-1.72156775, -0.33210111, -1.34572231, -1.32327558],\n",
       "       [-1.12449223, -1.22765467,  0.41450518,  0.6517626 ],\n",
       "       [ 1.14439475, -0.5559895 ,  0.58484978,  0.25675496],\n",
       "       [-1.12449223,  0.11567567, -1.28894078, -1.45494479],\n",
       "       [-0.40800161, -1.22765467,  0.13059752,  0.12508575]])"
      ]
     },
     "metadata": {},
     "output_type": "display_data"
    },
    {
     "name": "stdout",
     "output_type": "stream",
     "text": [
      "X_test_iris_scaled:\n"
     ]
    },
    {
     "data": {
      "text/plain": [
       "array([[-1.72156775, -0.10821272, -1.40250384, -1.32327558],\n",
       "       [ 0.30848902, -0.10821272,  0.64163131,  0.78343181],\n",
       "       [-1.12449223, -1.45154306, -0.2668732 , -0.26992188],\n",
       "       [-1.00507713, -1.67543145, -0.2668732 , -0.26992188],\n",
       "       [-1.72156775,  0.33956406, -1.40250384, -1.32327558]])"
      ]
     },
     "metadata": {},
     "output_type": "display_data"
    },
    {
     "name": "stdout",
     "output_type": "stream",
     "text": [
      "🌸 Datos Iris preparados:\n",
      "📊 Entrenamiento: 120 muestras\n",
      "📊 Prueba: 30 muestras\n",
      "🏷️ Características: ['sepal length (cm)', 'sepal width (cm)', 'petal length (cm)', 'petal width (cm)']\n",
      "🎯 Clases: ['setosa' 'versicolor' 'virginica']\n",
      "\n",
      "🔬 Experimento Iris creado: Iris Species Classification\n",
      "📁 Experiment ID: 4\n"
     ]
    }
   ],
   "source": [
    "from sklearn.model_selection import train_test_split\n",
    "\n",
    "\n",
    "# Preparar datos Iris para machine learning\n",
    "X_iris = iris.data\n",
    "y_iris = iris.target\n",
    "\n",
    "print('X_iris:')\n",
    "display(X_iris[:5])\n",
    "print('y_iris:')\n",
    "display(y_iris[:5])\n",
    "\n",
    "\n",
    "# División train/test\n",
    "X_train_iris, X_test_iris, y_train_iris, y_test_iris = train_test_split(\n",
    "    X_iris, y_iris, test_size=0.2, random_state=42, stratify=y_iris\n",
    ")\n",
    "\n",
    "print('X_train_iris:')\n",
    "display(X_train_iris[:5])\n",
    "print('X_test_iris:')\n",
    "display(X_test_iris[:5])\n",
    "\n",
    "\n",
    "# Escalado de características\n",
    "scaler_iris = StandardScaler()\n",
    "X_train_iris_scaled = scaler_iris.fit_transform(X_train_iris)\n",
    "X_test_iris_scaled = scaler_iris.transform(X_test_iris)\n",
    "\n",
    "print('X_train_iris_scaled:')\n",
    "display(X_train_iris_scaled[:5])\n",
    "print('X_test_iris_scaled:')\n",
    "display(X_test_iris_scaled[:5])\n",
    "\n",
    "print(f\"🌸 Datos Iris preparados:\")\n",
    "print(f\"📊 Entrenamiento: {X_train_iris.shape[0]} muestras\")\n",
    "print(f\"📊 Prueba: {X_test_iris.shape[0]} muestras\") \n",
    "print(f\"🏷️ Características: {iris.feature_names}\")\n",
    "print(f\"🎯 Clases: {iris.target_names}\")\n",
    "\n",
    "# Crear nuevo experimento para Iris\n",
    "iris_experiment_name = \"Iris Species Classification\"\n",
    "mlflow.set_experiment(iris_experiment_name)\n",
    "\n",
    "iris_experiment = mlflow.get_experiment_by_name(iris_experiment_name)\n",
    "print(f\"\\n🔬 Experimento Iris creado: {iris_experiment.name}\")\n",
    "print(f\"📁 Experiment ID: {iris_experiment.experiment_id}\")\n"
   ]
  },
  {
   "cell_type": "markdown",
   "id": "66e09c2c",
   "metadata": {},
   "source": [
    "## Entrenar múltiples modelos con Iris\n",
    "\n",
    "Vamos a probar diferentes algoritmos de machine learning con el dataset Iris para comparar su rendimiento en clasificación multiclase."
   ]
  },
  {
   "cell_type": "code",
   "execution_count": null,
   "id": "e1458631",
   "metadata": {},
   "outputs": [
    {
     "name": "stdout",
     "output_type": "stream",
     "text": [
      "🚀 Iniciando entrenamiento de modelos con dataset Iris...\n",
      "\n",
      "<class 'numpy.ndarray'>\n",
      "🔄 Entrenando Logistic Regression con Iris...\n"
     ]
    },
    {
     "name": "stderr",
     "output_type": "stream",
     "text": [
      "2025/08/12 02:41:01 WARNING mlflow.models.model: `artifact_path` is deprecated. Please use `name` instead.\n",
      "2025/08/12 02:41:05 WARNING mlflow.models.model: Model logged without a signature and input example. Please set `input_example` parameter when logging the model to auto infer the model signature.\n"
     ]
    },
    {
     "data": {
      "image/png": "[encoded data removed]",
      "text/plain": [
       "<Figure size 640x480 with 2 Axes>"
      ]
     },
     "metadata": {},
     "output_type": "display_data"
    },
    {
     "name": "stdout",
     "output_type": "stream",
     "text": [
      "🌸 Logistic Regression entrenado en dataset Iris\n",
      "📊 Accuracy: 0.9333\n",
      "📊 F1-Score (weighted): 0.9333\n",
      "📊 F1-Score (macro): 0.9333\n",
      "📊 CV Score: 0.9583 (+/- 0.0527)\n",
      "------------------------------------------------------------\n",
      "🏃 View run Iris - Logistic Regression at: http://127.0.0.1:5000/#/experiments/4/runs/b5db788a7b234c93a271df3408788f95\n",
      "🧪 View experiment at: http://127.0.0.1:5000/#/experiments/4\n",
      "🔄 Entrenando Random Forest con Iris...\n"
     ]
    },
    {
     "name": "stderr",
     "output_type": "stream",
     "text": [
      "2025/08/12 02:41:07 WARNING mlflow.models.model: `artifact_path` is deprecated. Please use `name` instead.\n",
      "2025/08/12 02:41:10 WARNING mlflow.models.model: Model logged without a signature and input example. Please set `input_example` parameter when logging the model to auto infer the model signature.\n"
     ]
    },
    {
     "data": {
      "image/png": "[encoded data removed]",
      "text/plain": [
       "<Figure size 640x480 with 2 Axes>"
      ]
     },
     "metadata": {},
     "output_type": "display_data"
    },
    {
     "name": "stdout",
     "output_type": "stream",
     "text": [
      "🌸 Random Forest entrenado en dataset Iris\n",
      "📊 Accuracy: 0.9000\n",
      "📊 F1-Score (weighted): 0.8997\n",
      "📊 F1-Score (macro): 0.8997\n",
      "📊 CV Score: 0.9500 (+/- 0.0333)\n",
      "------------------------------------------------------------\n",
      "🏃 View run Iris - Random Forest at: http://127.0.0.1:5000/#/experiments/4/runs/80838ffc25834f1ebc814ebd92f9e452\n",
      "🧪 View experiment at: http://127.0.0.1:5000/#/experiments/4\n",
      "🔄 Entrenando Support Vector Machine con Iris...\n"
     ]
    },
    {
     "name": "stderr",
     "output_type": "stream",
     "text": [
      "2025/08/12 02:41:11 WARNING mlflow.models.model: `artifact_path` is deprecated. Please use `name` instead.\n",
      "2025/08/12 02:41:14 WARNING mlflow.models.model: Model logged without a signature and input example. Please set `input_example` parameter when logging the model to auto infer the model signature.\n"
     ]
    },
    {
     "data": {
      "image/png": "[encoded data removed]",
      "text/plain": [
       "<Figure size 640x480 with 2 Axes>"
      ]
     },
     "metadata": {},
     "output_type": "display_data"
    },
    {
     "name": "stdout",
     "output_type": "stream",
     "text": [
      "🌸 Support Vector Machine entrenado en dataset Iris\n",
      "📊 Accuracy: 0.9667\n",
      "📊 F1-Score (weighted): 0.9666\n",
      "📊 F1-Score (macro): 0.9666\n",
      "📊 CV Score: 0.9667 (+/- 0.0624)\n",
      "------------------------------------------------------------\n",
      "🏃 View run Iris - Support Vector Machine at: http://127.0.0.1:5000/#/experiments/4/runs/af2a9751541f4ce889c7a4c4ffd510fe\n",
      "🧪 View experiment at: http://127.0.0.1:5000/#/experiments/4\n",
      "🔄 Entrenando Naive Bayes con Iris...\n"
     ]
    },
    {
     "name": "stderr",
     "output_type": "stream",
     "text": [
      "2025/08/12 02:41:15 WARNING mlflow.models.model: `artifact_path` is deprecated. Please use `name` instead.\n",
      "2025/08/12 02:41:18 WARNING mlflow.models.model: Model logged without a signature and input example. Please set `input_example` parameter when logging the model to auto infer the model signature.\n"
     ]
    },
    {
     "data": {
      "image/png": "[encoded data removed]",
      "text/plain": [
       "<Figure size 640x480 with 2 Axes>"
      ]
     },
     "metadata": {},
     "output_type": "display_data"
    },
    {
     "name": "stdout",
     "output_type": "stream",
     "text": [
      "🌸 Naive Bayes entrenado en dataset Iris\n",
      "📊 Accuracy: 0.9667\n",
      "📊 F1-Score (weighted): 0.9666\n",
      "📊 F1-Score (macro): 0.9666\n",
      "📊 CV Score: 0.9583 (+/- 0.0527)\n",
      "------------------------------------------------------------\n",
      "🏃 View run Iris - Naive Bayes at: http://127.0.0.1:5000/#/experiments/4/runs/2528f4108de64455bc09c720bc9248d8\n",
      "🧪 View experiment at: http://127.0.0.1:5000/#/experiments/4\n",
      "🔄 Entrenando Decision Tree con Iris...\n"
     ]
    },
    {
     "name": "stderr",
     "output_type": "stream",
     "text": [
      "2025/08/12 02:41:18 WARNING mlflow.models.model: `artifact_path` is deprecated. Please use `name` instead.\n",
      "2025/08/12 02:41:21 WARNING mlflow.models.model: Model logged without a signature and input example. Please set `input_example` parameter when logging the model to auto infer the model signature.\n"
     ]
    },
    {
     "data": {
      "image/png": "[encoded data removed]",
      "text/plain": [
       "<Figure size 640x480 with 2 Axes>"
      ]
     },
     "metadata": {},
     "output_type": "display_data"
    },
    {
     "name": "stdout",
     "output_type": "stream",
     "text": [
      "🌸 Decision Tree entrenado en dataset Iris\n",
      "📊 Accuracy: 0.9333\n",
      "📊 F1-Score (weighted): 0.9333\n",
      "📊 F1-Score (macro): 0.9333\n",
      "📊 CV Score: 0.9417 (+/- 0.0408)\n",
      "------------------------------------------------------------\n",
      "🏃 View run Iris - Decision Tree at: http://127.0.0.1:5000/#/experiments/4/runs/1c7346fc0c7a47e69d5051273b221c2d\n",
      "🧪 View experiment at: http://127.0.0.1:5000/#/experiments/4\n",
      "🔄 Entrenando K-Nearest Neighbors con Iris...\n"
     ]
    },
    {
     "name": "stderr",
     "output_type": "stream",
     "text": [
      "2025/08/12 02:41:22 WARNING mlflow.models.model: `artifact_path` is deprecated. Please use `name` instead.\n",
      "2025/08/12 02:41:26 WARNING mlflow.models.model: Model logged without a signature and input example. Please set `input_example` parameter when logging the model to auto infer the model signature.\n"
     ]
    },
    {
     "data": {
      "image/png": "[encoded data removed]",
      "text/plain": [
       "<Figure size 640x480 with 2 Axes>"
      ]
     },
     "metadata": {},
     "output_type": "display_data"
    },
    {
     "name": "stdout",
     "output_type": "stream",
     "text": [
      "🌸 K-Nearest Neighbors entrenado en dataset Iris\n",
      "📊 Accuracy: 0.9333\n",
      "📊 F1-Score (weighted): 0.9327\n",
      "📊 F1-Score (macro): 0.9327\n",
      "📊 CV Score: 0.9667 (+/- 0.0624)\n",
      "------------------------------------------------------------\n",
      "🏃 View run Iris - K-Nearest Neighbors at: http://127.0.0.1:5000/#/experiments/4/runs/8cc5fa6b885f43be98d3f74f7f1a51aa\n",
      "🧪 View experiment at: http://127.0.0.1:5000/#/experiments/4\n",
      "🔄 Entrenando Gradient Boosting con Iris...\n"
     ]
    },
    {
     "name": "stderr",
     "output_type": "stream",
     "text": [
      "2025/08/12 02:41:28 WARNING mlflow.models.model: `artifact_path` is deprecated. Please use `name` instead.\n",
      "2025/08/12 02:41:32 WARNING mlflow.models.model: Model logged without a signature and input example. Please set `input_example` parameter when logging the model to auto infer the model signature.\n"
     ]
    }
   ],
   "source": [
    "# Importar modelos adicionales para Iris\n",
    "from sklearn.ensemble import GradientBoostingClassifier,RandomForestClassifier\n",
    "from sklearn.neighbors import KNeighborsClassifier\n",
    "from sklearn.linear_model import RidgeClassifier,LogisticRegression\n",
    "from sklearn.svm import SVC\n",
    "from sklearn.naive_bayes import GaussianNB\n",
    "from sklearn.tree import DecisionTreeClassifier\n",
    "from sklearn.model_selection import cross_val_score\n",
    "from sklearn.metrics import (accuracy_score,\n",
    "                             log_loss,\n",
    "                             precision_score,\n",
    "                             recall_score,\n",
    "                             f1_score,\n",
    "                             roc_auc_score,\n",
    "                             confusion_matrix,\n",
    "                             classification_report)\n",
    "\n",
    "# Definir modelos específicos para Iris\n",
    "iris_models = [\n",
    "    (LogisticRegression(random_state=42, max_iter=1000), \"Logistic Regression\", \n",
    "     {\"C\": 1.0, \"solver\": \"liblinear\", \"multi_class\": \"ovr\"}),\n",
    "    \n",
    "    (RandomForestClassifier(random_state=42), \"Random Forest\", \n",
    "     {\"n_estimators\": 100, \"max_depth\": None, \"min_samples_split\": 2}),\n",
    "    \n",
    "    (SVC(random_state=42, probability=True), \"Support Vector Machine\", \n",
    "     {\"C\": 1.0, \"kernel\": \"rbf\", \"gamma\": \"scale\"}),\n",
    "    \n",
    "    (GaussianNB(), \"Naive Bayes\", {\"var_smoothing\": 1e-9}),\n",
    "    \n",
    "    (DecisionTreeClassifier(random_state=42), \"Decision Tree\", \n",
    "     {\"max_depth\": None, \"min_samples_split\": 2, \"criterion\": \"gini\"}),\n",
    "    \n",
    "    (KNeighborsClassifier(), \"K-Nearest Neighbors\", \n",
    "     {\"n_neighbors\": 5, \"weights\": \"uniform\", \"algorithm\": \"auto\"}),\n",
    "    \n",
    "    (GradientBoostingClassifier(random_state=42), \"Gradient Boosting\", \n",
    "     {\"n_estimators\": 100, \"learning_rate\": 0.1, \"max_depth\": 3}),\n",
    "    \n",
    "    (RidgeClassifier(random_state=42), \"Ridge Classifier\", \n",
    "     {\"alpha\": 1.0, \"solver\": \"auto\"}),\n",
    "\n",
    "    (DecisionTreeClassifier(random_state=42), \"Decision Tree\", \n",
    "     {\"max_depth\": None, \"min_samples_split\": 2})\n",
    "]\n",
    "\n",
    "print(\"🚀 Iniciando entrenamiento de modelos con dataset Iris...\\n\")\n",
    "\n",
    "iris_trained_models = {}\n",
    "targets_str_col_name = 'species_name'\n",
    "\n",
    "print(type(X_train_iris_scaled))\n",
    "\n",
    "for model, name, params in iris_models:\n",
    "    print(f\"🔄 Entrenando {name} con Iris...\")\n",
    "    trained_model = mlflow_utils.train_and_log_multiclass_model(\n",
    "        model=model,\n",
    "        model_name=name,\n",
    "        X_train=X_train_iris_scaled,\n",
    "        X_test=X_test_iris_scaled,\n",
    "        y_train=y_train_iris,\n",
    "        y_test=y_test_iris,\n",
    "        dataset_name=\"Iris\",\n",
    "        params=params,\n",
    "        targets_str_col_name=targets_str_col_name\n",
    "    )\n",
    "    iris_trained_models[name] = trained_model\n",
    "\n",
    "print(\"\\n🎉 ¡Todos los modelos Iris han sido entrenados y registrados!\")\n",
    "print(f\"📊 Total de modelos entrenados: {len(iris_trained_models)}\")\n",
    "print(f\"🔬 Experimento: {iris_experiment_name}\")\n",
    "print(f\"🌐 Ver resultados en MLflow UI: http://localhost:5000\")"
   ]
  },
  {
   "cell_type": "markdown",
   "id": "b3dfc7ca-0786-47d7-a682-122e8eeb5d36",
   "metadata": {},
   "source": [
    "## Analisis de resultados"
   ]
  },
  {
   "cell_type": "code",
   "execution_count": null,
   "id": "6fd1f13f",
   "metadata": {},
   "outputs": [],
   "source": [
    "# Análisis de resultados Iris\n",
    "\n",
    "\n",
    "print(\"🔍 Analizando resultados del experimento Iris...\\n\")\n",
    "\n",
    "# Obtener runs del experimento Iris\n",
    "mlflow_client = MlflowClient()\n",
    "iris_runs = mlflow_client.search_runs(iris_experiment.experiment_id)\n",
    "\n",
    "print(f\"📊 Total de runs en experimento Iris: {len(iris_runs)}\")\n",
    "print(\"\\n🏆 Resumen de resultados Iris:\")\n",
    "print(\"=\" * 100)\n",
    "\n",
    "# Crear DataFrame con resultados Iris\n",
    "iris_results_data = []\n",
    "for run in iris_runs:\n",
    "    metrics = run.data.metrics\n",
    "    params = run.data.params\n",
    "    \n",
    "    iris_results_data.append({\n",
    "        'run_id': run.info.run_id[:8],\n",
    "        'model_type': params.get('model_type', 'Unknown'),\n",
    "        'accuracy': metrics.get('accuracy', 0),\n",
    "        'f1_weighted': metrics.get('f1_weighted', 0),\n",
    "        'f1_macro': metrics.get('f1_macro', 0),\n",
    "        'auc_ovr': metrics.get('auc_ovr', 0),\n",
    "        'auc_ovo': metrics.get('auc_ovo', 0),\n",
    "        'cv_mean': metrics.get('cv_mean', 0),\n",
    "        'cv_std': metrics.get('cv_std', 0)\n",
    "    })\n",
    "\n",
    "iris_results_df = pd.DataFrame(iris_results_data)\n",
    "iris_results_df = iris_results_df.sort_values('accuracy', ascending=False)\n",
    "\n",
    "# Mostrar resultados\n",
    "print(iris_results_df.round(4).to_string(index=False))\n",
    "\n",
    "# Mejor modelo Iris\n",
    "best_iris_model = iris_results_df.iloc[0]\n",
    "print(f\"\\n🥇 Mejor modelo Iris: {best_iris_model['model_type']}\")\n",
    "print(f\"📊 Accuracy: {best_iris_model['accuracy']:.4f}\")\n",
    "print(f\"📊 F1-Score (weighted): {best_iris_model['f1_weighted']:.4f}\")\n",
    "print(f\"📊 F1-Score (macro): {best_iris_model['f1_macro']:.4f}\")\n",
    "print(f\"📊 AUC (OvR): {best_iris_model['auc_ovr']:.4f}\")\n",
    "print(f\"📊 CV Score: {best_iris_model['cv_mean']:.4f} (+/- {best_iris_model['cv_std'] * 2:.4f})\")\n",
    "\n",
    "# Estadísticas del experimento\n",
    "print(f\"\\n📈 Estadísticas del experimento Iris:\")\n",
    "print(f\"📊 Accuracy promedio: {iris_results_df['accuracy'].mean():.4f}\")\n",
    "print(f\"📊 Accuracy máxima: {iris_results_df['accuracy'].max():.4f}\")\n",
    "print(f\"📊 Accuracy mínima: {iris_results_df['accuracy'].min():.4f}\")\n",
    "print(f\"📊 Desviación estándar: {iris_results_df['accuracy'].std():.4f}\")\n",
    "\n",
    "# Modelos con accuracy perfecta\n",
    "perfect_models = iris_results_df[iris_results_df['accuracy'] == 1.0]['model_type'].tolist()\n",
    "if perfect_models:\n",
    "    print(f\"\\n🎯 Modelos con accuracy perfecta (100%): {', '.join(perfect_models)}\")\n",
    "else:\n",
    "    print(f\"\\n⚠️ Ningún modelo alcanzó accuracy perfecta\")"
   ]
  },
  {
   "cell_type": "code",
   "execution_count": null,
   "id": "e3a37fc1",
   "metadata": {},
   "outputs": [],
   "source": [
    "# Visualizaciones comparativas para Iris\n",
    "fig, axes = plt.subplots(2, 3, figsize=(18, 12))\n",
    "fig.suptitle('🌸 Comparación de Modelos - Dataset Iris', fontsize=16, fontweight='bold')\n",
    "\n",
    "# 1. Accuracy\n",
    "axes[0, 0].barh(iris_results_df['model_type'], iris_results_df['accuracy'], color='skyblue')\n",
    "axes[0, 0].set_xlabel('Accuracy')\n",
    "axes[0, 0].set_title('Accuracy por Modelo')\n",
    "axes[0, 0].set_xlim(0, 1)\n",
    "axes[0, 0].grid(axis='x', alpha=0.3)\n",
    "\n",
    "# 2. F1-Score Weighted\n",
    "axes[0, 1].barh(iris_results_df['model_type'], iris_results_df['f1_weighted'], color='lightgreen')\n",
    "axes[0, 1].set_xlabel('F1-Score (Weighted)')\n",
    "axes[0, 1].set_title('F1-Score Weighted por Modelo')\n",
    "axes[0, 1].set_xlim(0, 1)\n",
    "axes[0, 1].grid(axis='x', alpha=0.3)\n",
    "\n",
    "# 3. F1-Score Macro\n",
    "axes[0, 2].barh(iris_results_df['model_type'], iris_results_df['f1_macro'], color='lightcoral')\n",
    "axes[0, 2].set_xlabel('F1-Score (Macro)')\n",
    "axes[0, 2].set_title('F1-Score Macro por Modelo')\n",
    "axes[0, 2].set_xlim(0, 1)\n",
    "axes[0, 2].grid(axis='x', alpha=0.3)\n",
    "\n",
    "# 4. AUC OvR\n",
    "auc_ovr_data = iris_results_df[iris_results_df['auc_ovr'] > 0]\n",
    "if not auc_ovr_data.empty:\n",
    "    axes[1, 0].barh(auc_ovr_data['model_type'], auc_ovr_data['auc_ovr'], color='gold')\n",
    "    axes[1, 0].set_xlabel('AUC (One-vs-Rest)')\n",
    "    axes[1, 0].set_title('AUC OvR por Modelo')\n",
    "    axes[1, 0].set_xlim(0, 1)\n",
    "    axes[1, 0].grid(axis='x', alpha=0.3)\n",
    "else:\n",
    "    axes[1, 0].text(0.5, 0.5, 'No hay datos AUC', ha='center', va='center')\n",
    "    axes[1, 0].set_title('AUC OvR por Modelo')\n",
    "\n",
    "# 5. Cross-Validation Mean\n",
    "axes[1, 1].barh(iris_results_df['model_type'], iris_results_df['cv_mean'], color='mediumpurple')\n",
    "axes[1, 1].set_xlabel('CV Mean Accuracy')\n",
    "axes[1, 1].set_title('Cross-Validation Mean por Modelo')\n",
    "axes[1, 1].set_xlim(0, 1)\n",
    "axes[1, 1].grid(axis='x', alpha=0.3)\n",
    "\n",
    "# 6. Scatter plot: Accuracy vs F1-Score\n",
    "scatter = axes[1, 2].scatter(iris_results_df['accuracy'], iris_results_df['f1_weighted'], \n",
    "                           s=100, alpha=0.7, c=range(len(iris_results_df)), cmap='viridis')\n",
    "axes[1, 2].set_xlabel('Accuracy')\n",
    "axes[1, 2].set_ylabel('F1-Score (Weighted)')\n",
    "axes[1, 2].set_title('Accuracy vs F1-Score')\n",
    "axes[1, 2].grid(True, alpha=0.3)\n",
    "\n",
    "# Añadir etiquetas a los puntos\n",
    "for i, model in enumerate(iris_results_df['model_type']):\n",
    "    axes[1, 2].annotate(model.split()[0][:3], \n",
    "                       (iris_results_df.iloc[i]['accuracy'], iris_results_df.iloc[i]['f1_weighted']),\n",
    "                       xytext=(5, 5), textcoords='offset points', fontsize=8)\n",
    "\n",
    "plt.tight_layout()\n",
    "plt.savefig('iris_model_comparison.png', dpi=300, bbox_inches='tight')\n",
    "plt.show()\n",
    "\n",
    "# Registrar visualización en MLflow\n",
    "with mlflow.start_run(run_name=\"Iris Model Comparison Summary\"):\n",
    "    mlflow.log_artifact('iris_model_comparison.png')\n",
    "    mlflow.log_metric(\"total_iris_models\", len(iris_results_df))\n",
    "    mlflow.log_metric(\"best_iris_accuracy\", iris_results_df['accuracy'].max())\n",
    "    mlflow.log_metric(\"avg_iris_accuracy\", iris_results_df['accuracy'].mean())\n",
    "    mlflow.log_param(\"best_iris_model\", best_iris_model['model_type'])\n",
    "    mlflow.log_param(\"dataset\", \"Iris\")\n",
    "    mlflow.log_param(\"problem_type\", \"multiclass_classification\")\n",
    "\n",
    "print(\"📊 Visualizaciones guardadas en MLflow\")\n",
    "print(\"🎯 Resumen registrado como run separado\")"
   ]
  },
  {
   "cell_type": "markdown",
   "id": "03859ae0",
   "metadata": {},
   "source": [
    "## Experimento con hiperparámetros - K-Nearest Neighbors\n",
    "\n",
    "KNN es particularmente interesante con Iris ya que las especies están bien separadas en el espacio de características. Vamos a experimentar con diferentes valores de K."
   ]
  },
  {
   "cell_type": "code",
   "execution_count": null,
   "id": "6fbc1084",
   "metadata": {},
   "outputs": [],
   "source": [
    "# Experimentar con diferentes configuraciones de KNN para Iris\n",
    "print(\"🔬 Experimentando con K-Nearest Neighbors en Iris...\\n\")\n",
    "\n",
    "# Diferentes configuraciones de KNN\n",
    "knn_configs = [\n",
    "    {\"n_neighbors\": 1, \"weights\": \"uniform\"},\n",
    "    {\"n_neighbors\": 3, \"weights\": \"uniform\"},\n",
    "    {\"n_neighbors\": 5, \"weights\": \"uniform\"},\n",
    "    {\"n_neighbors\": 7, \"weights\": \"uniform\"},\n",
    "    {\"n_neighbors\": 9, \"weights\": \"uniform\"},\n",
    "    {\"n_neighbors\": 3, \"weights\": \"distance\"},\n",
    "    {\"n_neighbors\": 5, \"weights\": \"distance\"},\n",
    "    {\"n_neighbors\": 7, \"weights\": \"distance\"},\n",
    "    {\"n_neighbors\": 11, \"weights\": \"uniform\"},\n",
    "    {\"n_neighbors\": 15, \"weights\": \"uniform\"}\n",
    "]\n",
    "\n",
    "knn_results = []\n",
    "\n",
    "for i, config in enumerate(knn_configs):\n",
    "    model = KNeighborsClassifier(**config)\n",
    "    model_name = f\"KNN - K={config['n_neighbors']}, weights={config['weights']}\"\n",
    "    \n",
    "    print(f\"🔄 Probando {model_name}...\")\n",
    "    \n",
    "    # Entrenar y registrar\n",
    "    trained_model = train_and_log_iris_model(\n",
    "        model, model_name,\n",
    "        X_train_iris_scaled, X_test_iris_scaled,\n",
    "        y_train_iris, y_test_iris, config\n",
    "    )\n",
    "    \n",
    "    # Guardar resultados para análisis\n",
    "    accuracy = accuracy_score(y_test_iris, trained_model.predict(X_test_iris_scaled))\n",
    "    knn_results.append({\n",
    "        'k': config['n_neighbors'],\n",
    "        'weights': config['weights'],\n",
    "        'accuracy': accuracy,\n",
    "        'model_name': model_name\n",
    "    })\n",
    "\n",
    "print(\"\\n✅ Experimentos KNN completados!\")\n",
    "\n",
    "# Análisis de resultados KNN\n",
    "knn_df = pd.DataFrame(knn_results)\n",
    "print(f\"\\n📊 Resultados de experimentos KNN:\")\n",
    "print(knn_df.sort_values('accuracy', ascending=False).to_string(index=False))\n",
    "\n",
    "# Encontrar mejor configuración\n",
    "best_knn = knn_df.loc[knn_df['accuracy'].idxmax()]\n",
    "print(f\"\\n🥇 Mejor configuración KNN:\")\n",
    "print(f\"📊 K = {best_knn['k']}, Weights = {best_knn['weights']}\")\n",
    "print(f\"📊 Accuracy = {best_knn['accuracy']:.4f}\")\n",
    "\n",
    "# Visualizar resultados KNN\n",
    "plt.figure(figsize=(12, 8))\n",
    "\n",
    "# Subplot 1: Accuracy vs K para different weights\n",
    "plt.subplot(2, 2, 1)\n",
    "uniform_data = knn_df[knn_df['weights'] == 'uniform']\n",
    "distance_data = knn_df[knn_df['weights'] == 'distance']\n",
    "\n",
    "plt.plot(uniform_data['k'], uniform_data['accuracy'], 'o-', label='uniform', linewidth=2, markersize=8)\n",
    "plt.plot(distance_data['k'], distance_data['accuracy'], 's-', label='distance', linewidth=2, markersize=8)\n",
    "plt.xlabel('K (número de vecinos)')\n",
    "plt.ylabel('Accuracy')\n",
    "plt.title('KNN: Accuracy vs K')\n",
    "plt.legend()\n",
    "plt.grid(True, alpha=0.3)\n",
    "\n",
    "# Subplot 2: Bar plot de todas las configuraciones\n",
    "plt.subplot(2, 2, 2)\n",
    "colors = ['lightblue' if w == 'uniform' else 'lightcoral' for w in knn_df['weights']]\n",
    "bars = plt.bar(range(len(knn_df)), knn_df['accuracy'], color=colors)\n",
    "plt.xlabel('Configuración')\n",
    "plt.ylabel('Accuracy')\n",
    "plt.title('Accuracy por Configuración KNN')\n",
    "plt.xticks(range(len(knn_df)), [f\"K={row['k']}\\n{row['weights']}\" for _, row in knn_df.iterrows()], \n",
    "           rotation=45, ha='right')\n",
    "plt.grid(axis='y', alpha=0.3)\n",
    "\n",
    "# Añadir leyenda de colores\n",
    "from matplotlib.patches import Patch\n",
    "legend_elements = [Patch(facecolor='lightblue', label='uniform'),\n",
    "                  Patch(facecolor='lightcoral', label='distance')]\n",
    "plt.legend(handles=legend_elements, title='Weights')\n",
    "\n",
    "# Subplot 3: Heatmap de accuracy\n",
    "plt.subplot(2, 2, 3)\n",
    "pivot_data = knn_df.pivot(index='weights', columns='k', values='accuracy')\n",
    "sns.heatmap(pivot_data, annot=True, cmap='YlOrRd', fmt='.3f', cbar_kws={'label': 'Accuracy'})\n",
    "plt.title('Heatmap: Accuracy por K y Weights')\n",
    "plt.xlabel('K (número de vecinos)')\n",
    "plt.ylabel('Weights')\n",
    "\n",
    "# Subplot 4: Box plot comparando weights\n",
    "plt.subplot(2, 2, 4)\n",
    "uniform_acc = knn_df[knn_df['weights'] == 'uniform']['accuracy']\n",
    "distance_acc = knn_df[knn_df['weights'] == 'distance']['accuracy']\n",
    "plt.boxplot([uniform_acc, distance_acc], labels=['uniform', 'distance'])\n",
    "plt.ylabel('Accuracy')\n",
    "plt.title('Distribución de Accuracy por Weights')\n",
    "plt.grid(axis='y', alpha=0.3)\n",
    "\n",
    "plt.tight_layout()\n",
    "plt.savefig('iris_knn_analysis.png', dpi=300, bbox_inches='tight')\n",
    "plt.show()\n",
    "\n",
    "# Registrar análisis KNN en MLflow\n",
    "with mlflow.start_run(run_name=\"Iris KNN Hyperparameter Analysis\"):\n",
    "    mlflow.log_artifact('iris_knn_analysis.png')\n",
    "    mlflow.log_metric(\"best_knn_accuracy\", best_knn['accuracy'])\n",
    "    mlflow.log_param(\"best_k\", best_knn['k'])\n",
    "    mlflow.log_param(\"best_weights\", best_knn['weights'])\n",
    "    mlflow.log_param(\"total_knn_configs\", len(knn_configs))\n",
    "    mlflow.log_metric(\"knn_accuracy_mean\", knn_df['accuracy'].mean())\n",
    "    mlflow.log_metric(\"knn_accuracy_std\", knn_df['accuracy'].std())\n",
    "\n",
    "print(\"📊 Análisis KNN guardado en MLflow\")"
   ]
  },
  {
   "cell_type": "markdown",
   "id": "251c401e",
   "metadata": {},
   "source": [
    "## Comparación final: Préstamos vs Iris\n",
    "\n",
    "Comparemos los resultados obtenidos en ambos datasets para entender las diferencias entre problemas de clasificación binaria y multiclase."
   ]
  },
  {
   "cell_type": "code",
   "execution_count": null,
   "id": "81a63c08",
   "metadata": {},
   "outputs": [],
   "source": [
    "# Comparación de experimentos: Préstamos vs Iris\n",
    "print(\"🔄 Recopilando resultados de ambos experimentos...\")\n",
    "\n",
    "# Obtener runs del experimento de préstamos\n",
    "loan_experiment = mlflow.get_experiment_by_name(\"Loan Default Classification\")\n",
    "\n",
    "print(loan_experiment)\n",
    "\n",
    "if(not loan_experiment):\n",
    "    print('Unable to load Loan Default Classification experiment')\n",
    "    \n",
    "\n",
    "loan_runs = mlflow_client.search_runs(loan_experiment.experiment_id)\n",
    "\n",
    "# Recopilar datos de préstamos (excluyendo runs de resumen)\n",
    "loan_data = []\n",
    "for run in loan_runs:\n",
    "    if \"Summary\" not in run.data.tags.get('mlflow.runName', ''):\n",
    "        metrics = run.data.metrics\n",
    "        params = run.data.params\n",
    "        \n",
    "        loan_data.append({\n",
    "            'dataset': 'Préstamos',\n",
    "            'model_type': params.get('model_type', 'Unknown'),\n",
    "            'accuracy': metrics.get('accuracy', 0),\n",
    "            'f1_score': metrics.get('f1_score', 0),\n",
    "            'problem_type': 'Binary Classification'\n",
    "        })\n",
    "\n",
    "# Recopilar datos de Iris (excluyendo runs de resumen y KNN específicos)\n",
    "iris_data = []\n",
    "for run in iris_runs:\n",
    "    if \"Summary\" not in run.data.tags.get('mlflow.runName', '') and \"KNN -\" not in run.data.tags.get('mlflow.runName', ''):\n",
    "        metrics = run.data.metrics\n",
    "        params = run.data.params\n",
    "        \n",
    "        iris_data.append({\n",
    "            'dataset': 'Iris',\n",
    "            'model_type': params.get('model_type', 'Unknown'),\n",
    "            'accuracy': metrics.get('accuracy', 0),\n",
    "            'f1_score': metrics.get('f1_weighted', 0),  # Usar f1_weighted para Iris\n",
    "            'problem_type': 'Multiclass Classification'\n",
    "        })\n",
    "\n",
    "# Combinar datos\n",
    "all_data = loan_data + iris_data\n",
    "comparison_df = pd.DataFrame(all_data)\n",
    "\n",
    "print(f\"📊 Datos recopilados:\")\n",
    "print(f\"   - Préstamos: {len(loan_data)} modelos\")\n",
    "print(f\"   - Iris: {len(iris_data)} modelos\")\n",
    "print(f\"   - Total: {len(all_data)} modelos\")\n",
    "\n",
    "# Estadísticas por dataset\n",
    "print(\"\\n📈 Estadísticas por dataset:\")\n",
    "stats_by_dataset = comparison_df.groupby('dataset').agg({\n",
    "    'accuracy': ['mean', 'std', 'min', 'max'],\n",
    "    'f1_score': ['mean', 'std', 'min', 'max']\n",
    "}).round(4)\n",
    "\n",
    "print(stats_by_dataset)\n",
    "\n",
    "# Estadísticas por tipo de modelo\n",
    "print(\"\\n🤖 Estadísticas por tipo de modelo:\")\n",
    "stats_by_model = comparison_df.groupby('model_type').agg({\n",
    "    'accuracy': ['mean', 'std', 'count'],\n",
    "    'f1_score': ['mean', 'std']\n",
    "}).round(4)\n",
    "\n",
    "print(stats_by_model)\n",
    "\n",
    "# Visualización comparativa\n",
    "fig, axes = plt.subplots(2, 2, figsize=(15, 12))\n",
    "fig.suptitle('📊 Comparación: Préstamos vs Iris', fontsize=16, fontweight='bold')\n",
    "\n",
    "# 1. Box plot de accuracy por dataset\n",
    "axes[0, 0].boxplot([comparison_df[comparison_df['dataset'] == 'Préstamos']['accuracy'],\n",
    "                   comparison_df[comparison_df['dataset'] == 'Iris']['accuracy']], \n",
    "                   labels=['Préstamos\\n(Binary)', 'Iris\\n(Multiclass)'])\n",
    "axes[0, 0].set_ylabel('Accuracy')\n",
    "axes[0, 0].set_title('Distribución de Accuracy por Dataset')\n",
    "axes[0, 0].grid(axis='y', alpha=0.3)\n",
    "\n",
    "# 2. Box plot de F1-score por dataset\n",
    "axes[0, 1].boxplot([comparison_df[comparison_df['dataset'] == 'Préstamos']['f1_score'],\n",
    "                   comparison_df[comparison_df['dataset'] == 'Iris']['f1_score']], \n",
    "                   labels=['Préstamos\\n(Binary)', 'Iris\\n(Multiclass)'])\n",
    "axes[0, 1].set_ylabel('F1-Score')\n",
    "axes[0, 1].set_title('Distribución de F1-Score por Dataset')\n",
    "axes[0, 1].grid(axis='y', alpha=0.3)\n",
    "\n",
    "# 3. Scatter plot: Accuracy vs F1-Score coloreado por dataset\n",
    "loan_subset = comparison_df[comparison_df['dataset'] == 'Préstamos']\n",
    "iris_subset = comparison_df[comparison_df['dataset'] == 'Iris']\n",
    "\n",
    "axes[1, 0].scatter(loan_subset['accuracy'], loan_subset['f1_score'], \n",
    "                  alpha=0.7, s=100, label='Préstamos', color='lightcoral')\n",
    "axes[1, 0].scatter(iris_subset['accuracy'], iris_subset['f1_score'], \n",
    "                  alpha=0.7, s=100, label='Iris', color='lightblue')\n",
    "axes[1, 0].set_xlabel('Accuracy')\n",
    "axes[1, 0].set_ylabel('F1-Score')\n",
    "axes[1, 0].set_title('Accuracy vs F1-Score')\n",
    "axes[1, 0].legend()\n",
    "axes[1, 0].grid(True, alpha=0.3)\n",
    "\n",
    "# 4. Bar plot de accuracy promedio por modelo\n",
    "model_accuracy = comparison_df.groupby('model_type')['accuracy'].mean().sort_values(ascending=True)\n",
    "colors = ['lightcoral' if 'Logistic' in model else 'lightblue' if 'Random' in model \n",
    "          else 'lightgreen' if 'SVM' in model else 'gold' if 'Naive' in model \n",
    "          else 'mediumpurple' for model in model_accuracy.index]\n",
    "\n",
    "axes[1, 1].barh(model_accuracy.index, model_accuracy.values, color=colors)\n",
    "axes[1, 1].set_xlabel('Accuracy Promedio')\n",
    "axes[1, 1].set_title('Accuracy Promedio por Tipo de Modelo')\n",
    "axes[1, 1].grid(axis='x', alpha=0.3)\n",
    "\n",
    "plt.tight_layout()\n",
    "plt.savefig('loans_vs_iris_comparison.png', dpi=300, bbox_inches='tight')\n",
    "plt.show()\n",
    "\n",
    "# Análisis de diferencias\n",
    "print(\"\\n🔍 Análisis de diferencias:\")\n",
    "loan_avg_acc = comparison_df[comparison_df['dataset'] == 'Préstamos']['accuracy'].mean()\n",
    "iris_avg_acc = comparison_df[comparison_df['dataset'] == 'Iris']['accuracy'].mean()\n",
    "loan_avg_f1 = comparison_df[comparison_df['dataset'] == 'Préstamos']['f1_score'].mean()\n",
    "iris_avg_f1 = comparison_df[comparison_df['dataset'] == 'Iris']['f1_score'].mean()\n",
    "\n",
    "print(f\"📊 Accuracy promedio - Préstamos: {loan_avg_acc:.4f}, Iris: {iris_avg_acc:.4f}\")\n",
    "print(f\"📊 F1-Score promedio - Préstamos: {loan_avg_f1:.4f}, Iris: {iris_avg_f1:.4f}\")\n",
    "print(f\"📊 Diferencia de Accuracy: {abs(iris_avg_acc - loan_avg_acc):.4f}\")\n",
    "print(f\"📊 Diferencia de F1-Score: {abs(iris_avg_f1 - loan_avg_f1):.4f}\")\n",
    "\n",
    "if iris_avg_acc > loan_avg_acc:\n",
    "    print(\"🎯 Iris tiende a tener mayor accuracy (dataset más 'fácil')\")\n",
    "else:\n",
    "    print(\"🎯 Préstamos tiende a tener mayor accuracy\")\n",
    "\n",
    "# Mejores modelos por dataset\n",
    "best_loan_model = comparison_df[comparison_df['dataset'] == 'Préstamos'].loc[\n",
    "    comparison_df[comparison_df['dataset'] == 'Préstamos']['accuracy'].idxmax()]\n",
    "best_iris_model = comparison_df[comparison_df['dataset'] == 'Iris'].loc[\n",
    "    comparison_df[comparison_df['dataset'] == 'Iris']['accuracy'].idxmax()]\n",
    "\n",
    "print(f\"\\n🥇 Mejor modelo para Préstamos: {best_loan_model['model_type']} ({best_loan_model['accuracy']:.4f})\")\n",
    "print(f\"🥇 Mejor modelo para Iris: {best_iris_model['model_type']} ({best_iris_model['accuracy']:.4f})\")\n",
    "\n",
    "# Registrar comparación en MLflow\n",
    "with mlflow.start_run(run_name=\"Dataset Comparison: Loans vs Iris\"):\n",
    "    mlflow.log_artifact('loans_vs_iris_comparison.png')\n",
    "    mlflow.log_metric(\"loan_avg_accuracy\", loan_avg_acc)\n",
    "    mlflow.log_metric(\"iris_avg_accuracy\", iris_avg_acc)\n",
    "    mlflow.log_metric(\"loan_avg_f1\", loan_avg_f1)\n",
    "    mlflow.log_metric(\"iris_avg_f1\", iris_avg_f1)\n",
    "    mlflow.log_metric(\"accuracy_difference\", abs(iris_avg_acc - loan_avg_acc))\n",
    "    mlflow.log_param(\"total_models_compared\", len(comparison_df))\n",
    "    mlflow.log_param(\"best_loan_model\", best_loan_model['model_type'])\n",
    "    mlflow.log_param(\"best_iris_model\", best_iris_model['model_type'])\n",
    "\n",
    "print(\"\\n📊 Comparación guardada en MLflow\")\n",
    "print(\"🎉 ¡Análisis completo finalizado!\")"
   ]
  },
  {
   "cell_type": "code",
   "execution_count": null,
   "id": "79be63d6-580e-492c-a63b-134d5c50a6df",
   "metadata": {},
   "outputs": [],
   "source": []
  }
 ],
 "metadata": {
  "kernelspec": {
   "display_name": "Python (ds)",
   "language": "python",
   "name": "ds"
  },
  "language_info": {
   "codemirror_mode": {
    "name": "ipython",
    "version": 3
   },
   "file_extension": ".py",
   "mimetype": "text/x-python",
   "name": "python",
   "nbconvert_exporter": "python",
   "pygments_lexer": "ipython3",
   "version": "3.11.13"
  }
 },
 "nbformat": 4,
 "nbformat_minor": 5
}
