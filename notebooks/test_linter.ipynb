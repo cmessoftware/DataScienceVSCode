{
 "cells": [
  {
   "cell_type": "code",
   "execution_count": 1,
   "id": "559a302b",
   "metadata": {},
   "outputs": [
    {
     "name": "stdout",
     "output_type": "stream",
     "text": [
      "🔍 Estado de linters y formateadores:\n",
      "❌ pylint\n",
      "❌ flake8\n",
      "❌ black\n",
      "❌ mypy\n",
      "❌ bandit\n",
      "❌ ruff\n"
     ]
    }
   ],
   "source": [
    "import importlib.util\n",
    "\n",
    "def check_installed(packages):\n",
    "    results = {}\n",
    "    for pkg in packages:\n",
    "        spec = importlib.util.find_spec(pkg)\n",
    "        results[pkg] = spec is not None\n",
    "    return results\n",
    "\n",
    "tools = [\n",
    "    \"pylint\",\n",
    "    \"flake8\",\n",
    "    \"black\",\n",
    "    \"mypy\",\n",
    "    \"bandit\",\n",
    "    \"ruff\"\n",
    "]\n",
    "\n",
    "installed = check_installed(tools)\n",
    "\n",
    "print(\"🔍 Estado de linters y formateadores:\")\n",
    "for tool, is_installed in installed.items():\n",
    "    print(f\"✅ {tool}\" if is_installed else f\"❌ {tool}\")\n"
   ]
  }
 ],
 "metadata": {
  "kernelspec": {
   "display_name": ".venv (3.13.2)",
   "language": "python",
   "name": "python3"
  },
  "language_info": {
   "codemirror_mode": {
    "name": "ipython",
    "version": 3
   },
   "file_extension": ".py",
   "mimetype": "text/x-python",
   "name": "python",
   "nbconvert_exporter": "python",
   "pygments_lexer": "ipython3",
   "version": "3.13.2"
  }
 },
 "nbformat": 4,
 "nbformat_minor": 5
}
