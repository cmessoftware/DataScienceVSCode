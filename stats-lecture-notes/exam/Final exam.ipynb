{
 "metadata": {
  "name": "Final exam"
 },
 "nbformat": 3,
 "nbformat_minor": 0,
 "worksheets": [
  {
   "cells": [
    {
     "cell_type": "markdown",
     "metadata": {},
     "source": [
      "# Question 1\n",
      "\n",
      "A survey was carried out senior high school students, asking them if they had ever used cigarettes, alcohol or marijuana.\n",
      "The resulting data is summarized below:"
     ]
    },
    {
     "cell_type": "code",
     "collapsed": false,
     "input": [
      "%%R\n",
      "\n",
      "# alcohol use\n",
      "A = c(F,F,F,F,T,T,T,T)\n",
      "\n",
      "# cigarette use\n",
      "C = c(F,T,F,T,F,T,F,T)\n",
      "\n",
      "# marijuana use\n",
      "M = c(F,F,T,T,F,F,T,T)\n",
      "\n",
      "# counts\n",
      "Y = c(279,43,2,3,456,538,44,911)\n",
      "\n",
      "D = xtabs(Y ~ A+C+M)\n",
      "print(D)"
     ],
     "language": "python",
     "metadata": {},
     "outputs": [
      {
       "metadata": {},
       "output_type": "display_data",
       "text": [
        ", , M = FALSE\n",
        "\n",
        "       C\n",
        "A       FALSE TRUE\n",
        "  FALSE   279   43\n",
        "  TRUE    456  538\n",
        "\n",
        ", , M = TRUE\n",
        "\n",
        "       C\n",
        "A       FALSE TRUE\n",
        "  FALSE     2    3\n",
        "  TRUE     44  911\n",
        "\n"
       ]
      }
     ],
     "prompt_number": 1
    },
    {
     "cell_type": "markdown",
     "metadata": {},
     "source": [
      "## Part A\n",
      "\n",
      "Assume the sample consists of $N=2276$ independent draws from some population. Each draw results in a triple $(A,C,M)$ of binary outcomes. Write down an explicit exponential family\n",
      "model for this dataset, including sufficient statistic, reference measure and cumulant generating function.\n",
      "\n",
      "## Part B\n",
      "\n",
      "Suppose we wish to test the hypothesis that, in this population, alcohol use is independent of marijuana use given cigarette use. Write this model as an exponential family as in A (i.e. sufficient statistics, reference measure, etc.).\n",
      "What is the relation between the two models?\n",
      "\n",
      "## Part C\n",
      "\n",
      "Below is the result from `R`'s fitting a particular model to the above count data. Describe how the quantities `Null deviance` and `Residual deviance` are computed. You can assume that\n",
      "you have been given the vector $\\hat{\\mu}$ of fitted means for this model."
     ]
    },
    {
     "cell_type": "code",
     "collapsed": false,
     "input": [
      "%%R\n",
      "model1 = glm(Y~M+A+C,family=poisson())\n",
      "print(summary(model1))"
     ],
     "language": "python",
     "metadata": {},
     "outputs": [
      {
       "metadata": {},
       "output_type": "display_data",
       "text": [
        "\n",
        "Call:\n",
        "glm(formula = Y ~ M + A + C, family = poisson())\n",
        "\n",
        "Deviance Residuals: \n",
        "      1        2        3        4        5        6        7        8  \n",
        " 19.639   -8.436   -8.832  -12.440    3.426   -7.817  -17.683   14.522  \n",
        "\n",
        "Coefficients:\n",
        "            Estimate Std. Error z value Pr(>|z|)    \n",
        "(Intercept)  4.17254    0.06496  64.234  < 2e-16 ***\n",
        "MTRUE       -0.31542    0.04244  -7.431 1.08e-13 ***\n",
        "ATRUE        1.78511    0.05976  29.872  < 2e-16 ***\n",
        "CTRUE        0.64931    0.04415  14.707  < 2e-16 ***\n",
        "---\n",
        "Signif. codes:  0 \u2018***\u2019 0.001 \u2018**\u2019 0.01 \u2018*\u2019 0.05 \u2018.\u2019 0.1 \u2018 \u2019 1 \n",
        "\n",
        "(Dispersion parameter for poisson family taken to be 1)\n",
        "\n",
        "    Null deviance: 2851.5  on 7  degrees of freedom\n",
        "Residual deviance: 1286.0  on 4  degrees of freedom\n",
        "AIC: 1343.1\n",
        "\n",
        "Number of Fisher Scoring iterations: 6\n",
        "\n"
       ]
      }
     ],
     "prompt_number": 2
    },
    {
     "cell_type": "markdown",
     "metadata": {},
     "source": [
      "## Part D\n",
      "\n",
      "Below are 4 other models fit to the same data. Which of these models `(model1, model2, model3, model4, model5)`, if any, correspond to your model in Part A? Which, if any, correspond to the model in Part B?"
     ]
    },
    {
     "cell_type": "code",
     "collapsed": false,
     "input": [
      "%%R\n",
      "# independence\n",
      "model2 = glm(Y~A*(M+C), family=poisson())\n",
      "model3 = glm(Y~C*(A+M), family=poisson())\n",
      "model4 = glm(Y~C*(M+A), family=poisson())\n",
      "model5 = glm(Y~C*M*A, family=poisson())\n",
      "\n"
     ],
     "language": "python",
     "metadata": {},
     "outputs": [],
     "prompt_number": 3
    },
    {
     "cell_type": "markdown",
     "metadata": {},
     "source": [
      "## Part E\n",
      "\n",
      "Describe how you would test the hypothesis described in Part B, on the basis of having the fitted values $(\\hat{\\mu}_1, \\dots, \\hat{\\mu}_5)$ of the above 5 models.\n"
     ]
    },
    {
     "cell_type": "markdown",
     "metadata": {},
     "source": [
      "# Question 2\n",
      "\n",
      "In this question, we consider a $2$-component normal mixture model on $\\mathbb{R}$ which can be described \n",
      "by simulating from the following distribution:\n",
      "$$\n",
      "\\begin{aligned}\n",
      "Z | \\pi & \\sim \\text{Bernoulli}(\\pi)  \\\\\n",
      "Y|Z=i,\\mu_i,\\sigma_i & \\sim N(\\mu_i, \\sigma^2_i).\n",
      "\\end{aligned}\n",
      "$$\n",
      "\n",
      "In a frequentist model, we must estimate $(\\mu_1, \\mu_2, \\sigma^2_1, \\sigma^2_2, \\pi)$. In this question, we consider a Bayesian model\n",
      "with a prior on $\\pi$ and, for simplicity, consider $(\\mu_1,\\mu_2, \\sigma^2_1, \\sigma^2_2)$ to be fixed. The prior on $\\pi$ is taken to be \n",
      "$\\text{Beta}(\\alpha,\\beta)$.\n",
      "\n",
      "## Part A\n",
      "\n",
      "Write out the log-likelihood based on observing an IID sample of size $n$ from this model. That is, the observed data\n",
      "is $Y=(Y_1, \\dots, Y_n)$. What are the parameters in the likelihood? Does the posterior distribution  of $\\pi|Y$ have a simple form?\n",
      "\n",
      "## Part B\n",
      "\n",
      "Write out the joint distribution of $(Y,Z,\\pi)$ where $Z=(Z_1,\\dots,Z_n)$ are the unobserved\n",
      "assignments in the hierarchical model. Up to a normalizing constant, what is the conditional distribution \n",
      "$(Z,\\pi)|Y$? \n",
      "\n",
      "## Part C\n",
      "\n",
      "Describe the Gibbs sampler for sampling from the above posterior distribution. Instead of sampling a coordinate at a time,\n",
      " describe how to sample all the $Z$'s having fixed $\\pi$, then how to sample $\\pi$ having fixed all the $Z$'s. \n",
      "How can this be used to estimate $$\\mathbb{E}(h(\\pi)|Y)$$ for some $h:\\mathbb{R} \\rightarrow \\mathbb{R}$?\n",
      "What parameters does the above expectation depend on?\n",
      "\n",
      "## Part D\n",
      "\n",
      "Suppose we included priors on $(\\mu_1, \\mu_2, \\sigma_1^2, \\sigma_2^2)$. Describe the main changes  to the \n",
      "Gibbs sampler in Parts A-C.\n"
     ]
    },
    {
     "cell_type": "markdown",
     "metadata": {},
     "source": [
      "# Question 3\n",
      "\n",
      "Suppose we observe measurements of the form\n",
      "$$\n",
      "\\begin{aligned}\n",
      "Y_i &= \\mu + \\alpha_i + \\epsilon_i, \\qquad 1 \\leq i \\leq n\\\\\n",
      "\\end{aligned}\n",
      "$$\n",
      "where $\\mu \\in \\mathbb{R}$ is a *fixed effect*, $\\alpha \\in \\mathbb{R}^n$ are *random effects* and $\\epsilon \\in \\mathbb{R}^n$ are *measurement errors*.\n",
      "\n",
      "We make the following assumptions\n",
      "$$\n",
      "\\begin{pmatrix}\\alpha \\\\ \\epsilon \\end{pmatrix}  \\sim N\\left( 0, \\begin{pmatrix}  \\gamma^2 \\cdot I_{n \\times n}  & 0 \\\\ 0 & \\text{diag}(\\sigma^2_1, \\dots, \\sigma^2_n) \\end{pmatrix}\\right)\n",
      "$$\n",
      "where the $\\sigma^2_i$'s are assumed known from the measurement device. The unknowns in the problem are $(\\mu,\\gamma^2)$.\n",
      "\n",
      "## Part A\n",
      "\n",
      "Write out the log-likelihood, score and Fisher information for the parameters $(\\mu,\\gamma^2)$.\n",
      "\n",
      "## Part B\n",
      "\n",
      "Outline the steps of  a Newton-Raphson algorithm to find the MLE of $(\\mu, \\gamma^2)$.\n",
      "\n",
      "## Part C\n",
      "\n",
      "Having estimated $(\\mu,\\gamma^2)$ describe how to construct approximate 95% confidence intervals for each of $(\\mu,\\gamma^2)$."
     ]
    },
    {
     "cell_type": "markdown",
     "metadata": {},
     "source": [
      "# Question 4\n",
      "\n",
      "Consider the same random effects model as Question 3. In this question, we will approach\n",
      "the problem using the EM algorithm.\n",
      "\n",
      "## Part A\n",
      "\n",
      "Consider the random  variables $\\alpha$  as *missing*. Write out the complete likelihood for\n",
      "$(\\mu,\\gamma^2)$ as an exponential family. What is the complete data in this setting? \n",
      "What are the sufficient statistics?\n",
      "\n",
      "## Part B\n",
      "\n",
      "What is the conditional distribution of $\\alpha | Y$ where $Y=(Y_1, \\dots, Y_n)$ is the observed data? Use this information to carry out the\n",
      "$E$ step. That is, given current values $(\\mu_{\\text{cur}}, {\\gamma^2}_{\\text{cur}})$ work out the appropriate conditional\n",
      "expectations of the sufficient statistics from Part A given the observed data.\n",
      "\n",
      "## Part C\n",
      "\n",
      "Describe the $M$-step of this EM algorithm. That is, given the pseudo-sufficient statistics from Part B, how do\n",
      "we update our estimate of $(\\mu, \\gamma^2)$?\n",
      "\n",
      "## Part D\n",
      "\n",
      "Describe the full EM algorithm to estimate $(\\mu,\\gamma^2)$.\n",
      "\n",
      "## Part E\n",
      "\n",
      "Having used the EM algorithm to estimate $(\\mu, \\gamma^2)$, describe how to construct approximate\n",
      "95% confidence intervals for each of $(\\mu,\\gamma^2)$."
     ]
    },
    {
     "cell_type": "code",
     "collapsed": false,
     "input": [],
     "language": "python",
     "metadata": {},
     "outputs": [],
     "prompt_number": 3
    }
   ],
   "metadata": {}
  }
 ]
}