{
 "metadata": {
  "celltoolbar": "Slideshow",
  "name": "",
  "signature": "sha256:4de5e816879da21137e3ce704448773077739e813b76f0fc4ddea031d8c2a5d1"
 },
 "nbformat": 3,
 "nbformat_minor": 0,
 "worksheets": [
  {
   "cells": [
    {
     "cell_type": "markdown",
     "metadata": {
      "slideshow": {
       "slide_type": "slide"
      }
     },
     "source": [
      "## Logistic regression\n",
      "\n",
      "Binary outcomes\n",
      "\n",
      "* Most models so far have had response $Y$ as continuous.\n",
      "* Many responses in practice fall into the $YES/NO$ framework.\n",
      "* Examples:\n",
      "*     1. medical: presence or absence of cancer\n",
      "      1. financial: bankrupt or solvent\n",
      "      1. industrial: passes a quality control test or not"
     ]
    },
    {
     "cell_type": "markdown",
     "metadata": {
      "slideshow": {
       "slide_type": "slide"
      }
     },
     "source": [
      "### Modelling probabilities\n",
      "\n",
      "* For $0-1$ responses we need to model $\\pi(x_1, \\dots, x_p) = P(Y=1|X_1=x_1,\\dots, X_p=x_p)$\n",
      "* That is, $Y$ is Bernoulli with a probability that depends on covariates $\\{X_1, \\dots, X_p\\}$.\n",
      "* **Note:**\n",
      "   $\\text{Var}(Y) = \\pi ( 1 - \\pi) = E(Y) \\cdot ( 1-  E(Y))$\n",
      "* **Or,**\n",
      "   the binary nature forces a relation between mean and variance of $Y$."
     ]
    },
    {
     "cell_type": "markdown",
     "metadata": {
      "slideshow": {
       "slide_type": "slide"
      }
     },
     "source": [
      "### Flu shot example\n",
      "\n",
      "* A local health clinic sent fliers to its clients to encourage everyone, but especially older persons at high risk of complications, to get a flu shot in time for protection against an expected flu epidemic.\n",
      "* In a pilot follow-up study, 50 clients were randomly selected and asked whether they actually received a flu shot. $Y={\\tt Shot}$\n",
      "* In addition, data were collected on their age $X_1={\\tt Age}$ and their health awareness $X_2={\\tt Health.Aware}$"
     ]
    },
    {
     "cell_type": "markdown",
     "metadata": {
      "slideshow": {
       "slide_type": "slide"
      }
     },
     "source": [
      "### A possible model\n",
      "\n",
      "- Simplest model $\\pi(X_1,X_2) = \\beta_0 + \\beta_1 X_1 + \\beta_2 X_2$\n",
      "- Problems:\n",
      "     - We must have $0 \\leq E(Y) = \\pi(X_1,X_2) \\leq 1$. OLS will not force this.\n",
      "     - Ordinary least squares will not work because of relation between mean and variance."
     ]
    },
    {
     "cell_type": "markdown",
     "metadata": {},
     "source": [
      "### Logistic model\n",
      "\n",
      "* Logistic model $\\pi(X_1,X_2) = \\frac{\\exp(\\beta_0 + \\beta_1 X_1 + \\beta_2 X_2)}{1 + \\exp(\\beta_0 + \\beta_1 X_1 + \\beta_2 X_2)}$\n",
      "* This automatically fixes $0 \\leq E(Y) = \\pi(X_1,X_2) \\leq 1$.\n",
      "* **Note:**\n",
      "   $\\text{logit}(\\pi(X_1, X_2)) = \\log\\left(\\frac{\\pi(X_1, X_2)}{1 - \\pi(X_1,X_2)}\\right) = \\beta_0 + \\beta_1 X_1 + \\beta_2 X_2$"
     ]
    },
    {
     "cell_type": "heading",
     "level": 3,
     "metadata": {
      "slideshow": {
       "slide_type": "slide"
      }
     },
     "source": [
      "Logistic curve"
     ]
    },
    {
     "cell_type": "code",
     "collapsed": false,
     "input": [
      "%%R\n",
      "g <- function(p) {\n",
      "  return(log(p / (1 - p)))\n",
      "}\n",
      "\n",
      "g.inv <- function(x) {\n",
      "  return(exp(x) / (1 + exp(x)))\n",
      "}\n",
      "\n",
      "x = seq(g(0.01), g(0.99), length=200)\n",
      "plot(x, g.inv(x), lwd=2, type='l', col='red')"
     ],
     "language": "python",
     "metadata": {},
     "outputs": [
      {
       "metadata": {},
       "output_type": "display_data",
       "png": "[encoded data removed]"
      }
     ],
     "prompt_number": 1
    },
    {
     "cell_type": "heading",
     "level": 3,
     "metadata": {
      "slideshow": {
       "slide_type": "slide"
      }
     },
     "source": [
      "Logistic transform"
     ]
    },
    {
     "cell_type": "code",
     "collapsed": false,
     "input": [
      "%%R\n",
      "p = seq(0.01,0.99,length=200)\n",
      "plot(p, g(p), lwd=2, type='l', col='red')"
     ],
     "language": "python",
     "metadata": {},
     "outputs": [
      {
       "metadata": {},
       "output_type": "display_data",
       "png": "[encoded data removed]"
      }
     ],
     "prompt_number": 2
    },
    {
     "cell_type": "markdown",
     "metadata": {},
     "source": [
      "### Binary regression models\n",
      "\n",
      "* Models $E(Y)$ as some increasing function of $\\beta_0 + \\beta_1 X_1 + \\beta_2 X_2$.\n",
      "* The logistic model uses the function $f(x)=e^x/(1+e^x)$.\n",
      "* Can be fit using Maximum Likelihood / Iteratively Reweighted Least Squares.\n",
      "* For logistic regression, coefficients have nice interpretation in terms of **odds ratios**\n",
      "  \n",
      "* What about inference?"
     ]
    },
    {
     "cell_type": "markdown",
     "metadata": {},
     "source": [
      "### Criterion used to fit model\n",
      "\n",
      "Instead of sum of squares, logistic regression \n",
      "uses *deviance*:\n",
      "\n",
      "* $DEV(\\mu| Y) = -2 \\log L(\\mu| Y) + 2 \\log L(Y| Y)$ where $\\mu$ is a location estimator for $Y$.\n",
      "* If $Y$ is Gaussian with independent $N(\\mu_i,\\sigma^2)$ entries $DEV(\\mu| Y) = \\frac{1}{\\sigma^2}\\sum_{i=1}^n(Y_i - \\mu_i)^2$\n",
      "* If $Y$ is a binary vector, with mean vector $\\pi$ $\\begin{aligned}\n",
      "     DEV(\\pi| Y) &= -2 \\sum_{i=1}^n \\left( Y_i \\log(\\pi_i) + (1-Y_i) \\log(1-\\pi_i) \\right) \\\\\n",
      "     \\end{aligned}$"
     ]
    },
    {
     "cell_type": "markdown",
     "metadata": {},
     "source": [
      "### Deviance for logistic regression\n",
      "\n",
      "* For any binary regression model, the deviance is:\n",
      "$$\\begin{aligned}\n",
      "     DEV(\\beta| Y) &=  -2 \\sum_{i=1}^n \\left( Y_i {\\text{logit}}(\\pi_i(\\beta)) + \\log(1-\\pi_i(\\beta)) \\right)\n",
      "     \\end{aligned}$$\n",
      "     \n",
      "* For the logistic model, the RHS is:\n",
      "$$\n",
      "\\begin{aligned}\n",
      "    -2 \\left[ (X\\beta)^Ty + \\sum_{i=1}^n\\log \\left(1 + \\exp \\left(\\sum_{j=1}^p X_ij \\beta_j\\right) \\right)\\right]\n",
      "     \\end{aligned}$$\n",
      "   \n",
      "* The logistic model is special in that $\\text{logit}(\\pi(\\beta))=X\\beta$. If we used\n",
      "a different transformation, the first part would not be linear in $X\\beta$."
     ]
    },
    {
     "cell_type": "code",
     "collapsed": false,
     "input": [
      "%%R\n",
      "flu.table <- read.table('http://stats191.stanford.edu/data/flu.table', header=T)\n",
      "flu.glm = glm(Shot ~ Age + Health.Aware, data=flu.table, family=binomial())\n",
      "print(summary(flu.glm))"
     ],
     "language": "python",
     "metadata": {},
     "outputs": [
      {
       "metadata": {},
       "output_type": "display_data",
       "text": [
        "\n",
        "Call:\n",
        "glm(formula = Shot ~ Age + Health.Aware, family = binomial(), \n",
        "    data = flu.table)\n",
        "\n",
        "Deviance Residuals: \n",
        "    Min       1Q   Median       3Q      Max  \n",
        "-1.5522  -0.2962  -0.1124   0.4208   2.3244  \n",
        "\n",
        "Coefficients:\n",
        "              Estimate Std. Error z value Pr(>|z|)    \n",
        "(Intercept)  -21.58458    6.41824  -3.363 0.000771 ***\n",
        "Age            0.22178    0.07436   2.983 0.002858 ** \n",
        "Health.Aware   0.20351    0.06273   3.244 0.001178 ** \n",
        "---\n",
        "Signif. codes:  0 \u2018***\u2019 0.001 \u2018**\u2019 0.01 \u2018*\u2019 0.05 \u2018.\u2019 0.1 \u2018 \u2019 1\n",
        "\n",
        "(Dispersion parameter for binomial family taken to be 1)\n",
        "\n",
        "    Null deviance: 68.029  on 49  degrees of freedom\n",
        "Residual deviance: 32.416  on 47  degrees of freedom\n",
        "AIC: 38.416\n",
        "\n",
        "Number of Fisher Scoring iterations: 6\n",
        "\n"
       ]
      }
     ],
     "prompt_number": 3
    },
    {
     "cell_type": "markdown",
     "metadata": {},
     "source": [
      "### An algorithm to fit the model\n",
      "\n",
      "1. Initialize $\\widehat{\\pi}_i = \\bar{Y}, 1 \\leq i \\leq n$\n",
      "1. Define $Z_i = g(\\widehat{\\pi}_i) + g'(\\widehat{\\pi}_i) (Y_i - \\widehat{\\pi_i})$\n",
      "1. Fit weighted least squares model $Z_i = \\sum_{j=1}^p \\beta_j X_{ij}, \\qquad w_i = \\widehat{\\pi_i} (1 - \\widehat{\\pi}_i)$\n",
      "1. Set $\\widehat{\\pi}_i = \\text{logit}^{-1} \\left(\\widehat{\\beta}_0 + \\sum_{j=1}^p \\widehat{\\beta}_j X_{ij}\\right)$.\n",
      "1. Repeat steps 2-4 until convergence.\n",
      "This is *basically*\n",
      " Newton-Raphson to minimize deviance."
     ]
    },
    {
     "cell_type": "markdown",
     "metadata": {},
     "source": [
      "### Odds Ratios\n",
      "\n",
      "* One reason logistic models are popular is that the parameters have simple interpretations in terms of **odds**\n",
      "   $ODDS(A) = \\frac{P(A)}{1-P(A)}.$\n",
      "* Logistic model: $OR_{X_j} = \\frac{ODDS(Y=1|\\dots, X_j=x_j+1, \\dots)}{ODDS(Y=1|\\dots, X_j=x_j, \\dots)} = e^{\\beta_j}$\n",
      "* If $X_j \\in {0, 1}$ is dichotomous, then odds for group with $X_j = 1$ are $e^{\\beta_j}$ higher, other parameters being equal."
     ]
    },
    {
     "cell_type": "markdown",
     "metadata": {},
     "source": [
      "###  Rare disease hypothesis\n",
      "\n",
      "* When incidence is rare, $P(Y=0)\\approxeq 1$ no matter what the covariates $X_j$\u2019s are.\n",
      "* In this case, odds ratios are almost ratios of probabilities: $$OR_{X_j} \\approxeq \\frac{{\\mathbb{P}}(Y=1|\\dots, X_j=x_j+1, \\dots)}{{\\mathbb{P}}(Y=1|\\dots, X_j=x_j, \\dots)}$$\n",
      "* Hypothetical example: in a lung cancer study, if $X_j$ is an indicator of smoking or not, a $\\beta_j$ of 5 means for smoking vs. non-smoking means smokers are $e^5 \\approx 150$ times more likely to develop lung cancer\n",
      "* In flu example, the odds for a 45 year old with health awareness 50 compared to a 35 year old with the same health awareness are\n",
      "$$e^{-1.429284+3.647052}=9.18$$"
     ]
    },
    {
     "cell_type": "code",
     "collapsed": false,
     "input": [
      "%%R\n",
      "logodds = predict(flu.glm, list(Age=c(35,45),Health.Aware=c(50,50)))\n",
      "logodds"
     ],
     "language": "python",
     "metadata": {},
     "outputs": [
      {
       "metadata": {},
       "output_type": "display_data",
       "text": [
        "        1         2 \n",
        "-3.647052 -1.429284 \n"
       ]
      }
     ],
     "prompt_number": 4
    },
    {
     "cell_type": "markdown",
     "metadata": {},
     "source": [
      "The estimated probabilities are below, yielding a ratio of $0.1932/0.0254 \\approx 7.61$."
     ]
    },
    {
     "cell_type": "code",
     "collapsed": false,
     "input": [
      "%%R\n",
      "exp(logodds)/(1+exp(logodds))"
     ],
     "language": "python",
     "metadata": {},
     "outputs": [
      {
       "metadata": {},
       "output_type": "display_data",
       "text": [
        "        1         2 \n",
        "0.0254056 0.1932103 \n"
       ]
      }
     ],
     "prompt_number": 5
    },
    {
     "cell_type": "markdown",
     "metadata": {},
     "source": [
      "### Inference\n",
      "\n",
      "One reason for introducing the IRLS procedure is to see what the approximate\n",
      "limiting distribution is.\n",
      "\n",
      "* The IRLS procedure suggests using approximation $\\widehat{\\beta} \\approx N(\\beta, (X'WX)^{-1})$\n",
      "* This allows us to construct CIs, test linear hypotheses, etc.\n",
      "* Intervals formed this way are called Wald intervals"
     ]
    },
    {
     "cell_type": "code",
     "collapsed": false,
     "input": [
      "%%R\n",
      "center = coef(flu.glm)['Age']\n",
      "SE = sqrt(vcov(flu.glm)['Age', 'Age'])\n",
      "U = center + SE * qnorm(0.975)\n",
      "L = center + SE * qnorm(0.025)\n",
      "data.frame(L, center, U)\n"
     ],
     "language": "python",
     "metadata": {},
     "outputs": [
      {
       "metadata": {},
       "output_type": "display_data",
       "text": [
        "            L    center         U\n",
        "Age 0.0760395 0.2217768 0.3675141\n"
       ]
      }
     ],
     "prompt_number": 6
    },
    {
     "cell_type": "markdown",
     "metadata": {},
     "source": [
      "These are slightly different from what `R` will give you if you ask it for \n",
      "confidence intervals:"
     ]
    },
    {
     "cell_type": "code",
     "collapsed": false,
     "input": [
      "%%R\n",
      "confint(flu.glm)"
     ],
     "language": "python",
     "metadata": {},
     "outputs": [
      {
       "metadata": {},
       "output_type": "display_data",
       "text": [
        "Waiting for profiling to be done...\n",
        "                   2.5 %      97.5 %\n",
        "(Intercept)  -38.0402235 -11.6669218\n",
        "Age            0.1004533   0.4046856\n",
        "Health.Aware   0.1026984   0.3595480\n"
       ]
      }
     ],
     "prompt_number": 7
    },
    {
     "cell_type": "markdown",
     "metadata": {},
     "source": [
      "### Testing in logistic regression\n",
      "\n",
      "What about comparing full and reduced model?\n",
      "\n",
      "- For a model ${\\cal M}$, $DEV({\\cal M})$ replaces $SSE({\\cal M})$.\n",
      "- In least squares regression, we use \n",
      "$$\\frac{1}{\\sigma^2}\\left( SSE({\\cal M}_R) - SSE({\\cal M}_F) \\right) \\sim \\chi^2_{df_R-df_F}$$\n",
      "- This is replaced with \n",
      "$$DEV({\\cal M}_R) - DEV({\\cal M}_F) \\overset{n \\rightarrow \\infty}{\\sim} \\chi^2_{df_R-df_F}$$\n",
      "- Resulting tests **do not** agree with those coming from IRLS (Wald tests). Both are often used."
     ]
    },
    {
     "cell_type": "code",
     "collapsed": false,
     "input": [
      "%%R\n",
      "anova(glm(Shot ~ Health.Aware, data=flu.table, family=binomial()), flu.glm)"
     ],
     "language": "python",
     "metadata": {},
     "outputs": [
      {
       "metadata": {},
       "output_type": "display_data",
       "text": [
        "Analysis of Deviance Table\n",
        "\n",
        "Model 1: Shot ~ Health.Aware\n",
        "Model 2: Shot ~ Age + Health.Aware\n",
        "  Resid. Df Resid. Dev Df Deviance\n",
        "1        48     49.279            \n",
        "2        47     32.416  1   16.863\n"
       ]
      }
     ],
     "prompt_number": 8
    },
    {
     "cell_type": "markdown",
     "metadata": {},
     "source": [
      "We should compare this difference in deviance with a $\\chi^2_1$ random variable."
     ]
    },
    {
     "cell_type": "code",
     "collapsed": false,
     "input": [
      "%%R\n",
      "1 - pchisq(16.863,1)"
     ],
     "language": "python",
     "metadata": {},
     "outputs": [
      {
       "metadata": {},
       "output_type": "display_data",
       "text": [
        "[1] 4.017719e-05\n"
       ]
      }
     ],
     "prompt_number": 9
    },
    {
     "cell_type": "markdown",
     "metadata": {},
     "source": [
      "Let's compare this with the Wald test:"
     ]
    },
    {
     "cell_type": "code",
     "collapsed": false,
     "input": [
      "%%R\n",
      "summary(flu.glm)"
     ],
     "language": "python",
     "metadata": {},
     "outputs": [
      {
       "metadata": {},
       "output_type": "display_data",
       "text": [
        "\n",
        "Call:\n",
        "glm(formula = Shot ~ Age + Health.Aware, family = binomial(), \n",
        "    data = flu.table)\n",
        "\n",
        "Deviance Residuals: \n",
        "    Min       1Q   Median       3Q      Max  \n",
        "-1.5522  -0.2962  -0.1124   0.4208   2.3244  \n",
        "\n",
        "Coefficients:\n",
        "              Estimate Std. Error z value Pr(>|z|)    \n",
        "(Intercept)  -21.58458    6.41824  -3.363 0.000771 ***\n",
        "Age            0.22178    0.07436   2.983 0.002858 ** \n",
        "Health.Aware   0.20351    0.06273   3.244 0.001178 ** \n",
        "---\n",
        "Signif. codes:  0 \u2018***\u2019 0.001 \u2018**\u2019 0.01 \u2018*\u2019 0.05 \u2018.\u2019 0.1 \u2018 \u2019 1\n",
        "\n",
        "(Dispersion parameter for binomial family taken to be 1)\n",
        "\n",
        "    Null deviance: 68.029  on 49  degrees of freedom\n",
        "Residual deviance: 32.416  on 47  degrees of freedom\n",
        "AIC: 38.416\n",
        "\n",
        "Number of Fisher Scoring iterations: 6\n",
        "\n"
       ]
      }
     ],
     "prompt_number": 10
    },
    {
     "cell_type": "markdown",
     "metadata": {},
     "source": [
      "### Diagnostics\n",
      "\n",
      "* Similar to least square regression, only residuals used are *deviance residuals*\n",
      "   $r_i = \\text{sign}(Y_i-\\widehat{\\pi}_i) \\sqrt{DEV(\\widehat{\\pi}_i|Y_i)}.$"
     ]
    },
    {
     "cell_type": "code",
     "collapsed": false,
     "input": [
      "%%R\n",
      "par(mfrow=c(2,2))\n",
      "plot(flu.glm)"
     ],
     "language": "python",
     "metadata": {},
     "outputs": [
      {
       "metadata": {},
       "output_type": "display_data",
       "png": "[encoded data removed]"
      }
     ],
     "prompt_number": 11
    },
    {
     "cell_type": "code",
     "collapsed": false,
     "input": [
      "%%R\n",
      "influence.measures(flu.glm)"
     ],
     "language": "python",
     "metadata": {},
     "outputs": [
      {
       "metadata": {},
       "output_type": "display_data",
       "text": [
        "Influence measures of\n",
        "\t glm(formula = Shot ~ Age + Health.Aware, family = binomial(),      data = flu.table) :\n",
        "\n",
        "      dfb.1_  dfb.Age dfb.Hl.A    dffit cov.r   cook.d     hat inf\n",
        "1  -0.017208  0.01543  0.01564 -0.01763 1.083 3.66e-05 0.01604    \n",
        "2  -0.102897  0.09560  0.10416  0.13491 1.102 2.24e-03 0.05231    \n",
        "3  -0.015043  0.01280  0.01442 -0.01556 1.081 2.85e-05 0.01454    \n",
        "4  -0.058889  0.02418  0.11920  0.28755 1.040 1.18e-02 0.05850    \n",
        "5  -0.103488  0.03853  0.17167  0.23475 1.144 6.94e-03 0.09789    \n",
        "6  -0.130919  0.11898  0.11098 -0.15203 1.109 2.86e-03 0.06040    \n",
        "7  -0.066734  0.06691  0.06003  0.07761 1.104 7.22e-04 0.04249    \n",
        "8  -0.043827  0.04399  0.03438 -0.04704 1.101 2.62e-04 0.03508    \n",
        "9  -0.018883  0.01881  0.01515 -0.01980 1.085 4.62e-05 0.01867    \n",
        "10 -0.112978  0.09695  0.13265  0.20841 1.076 5.68e-03 0.05526    \n",
        "11 -0.009578  0.09584 -0.04305  0.36490 1.004 2.08e-02 0.06318    \n",
        "12  0.020212 -0.13373  0.05812 -0.43566 0.979 3.20e-02 0.07059    \n",
        "13  0.192770 -0.50776  0.11790 -0.93778 1.040 1.63e-01 0.18972   *\n",
        "14  0.372025 -0.47261 -0.14549  0.68814 0.902 1.02e-01 0.09827    \n",
        "15 -0.038716  0.03596  0.03351 -0.04035 1.095 1.93e-04 0.02970    \n",
        "16 -0.057484  0.06480  0.03735 -0.06892 1.121 5.65e-04 0.05393    \n",
        "17 -0.046412  0.13914 -0.10858 -0.47973 0.993 3.86e-02 0.08404    \n",
        "18 -0.029026  0.02499  0.03004  0.03257 1.090 1.25e-04 0.02416    \n",
        "19  0.111762  0.19947 -0.49074 -1.00669 0.979 2.10e-01 0.18084   *\n",
        "20 -0.063893  0.05199  0.06246 -0.06972 1.105 5.80e-04 0.04169    \n",
        "21 -0.148884  0.11621  0.14276 -0.19327 1.096 4.76e-03 0.06199    \n",
        "22 -0.046451  0.03665  0.05220  0.05658 1.101 3.81e-04 0.03615    \n",
        "23 -0.058938  0.03695  0.06933 -0.07587 1.116 6.87e-04 0.05121    \n",
        "24 -0.046668  0.04039  0.04338 -0.04918 1.098 2.87e-04 0.03329    \n",
        "25  0.181347 -0.10844 -0.17866  0.43049 0.921 3.50e-02 0.05453    \n",
        "26 -0.009162  0.00759  0.00903 -0.00953 1.077 1.07e-05 0.00994    \n",
        "27 -0.085845  0.05982  0.10771  0.12539 1.116 1.91e-03 0.05923    \n",
        "28 -0.030981  0.02315  0.03287 -0.03466 1.094 1.42e-04 0.02750    \n",
        "29 -0.017942  0.01549  0.01840  0.01972 1.083 4.58e-05 0.01681    \n",
        "30 -0.140841  0.11498  0.13148 -0.17269 1.103 3.74e-03 0.06098    \n",
        "31 -0.160987  0.27877  0.03379  0.40526 1.178 2.18e-02 0.14807    \n",
        "32 -0.005600  0.00447  0.00572 -0.00592 1.074 4.12e-06 0.00685    \n",
        "33 -0.094999  0.09844  0.08375  0.11838 1.107 1.71e-03 0.05249    \n",
        "34 -0.003504  0.00331  0.00324  0.00365 1.071 1.57e-06 0.00442    \n",
        "35 -0.106728  0.08563  0.10366 -0.12263 1.111 1.83e-03 0.05562    \n",
        "36 -0.019690  0.01858  0.01689 -0.02026 1.085 4.84e-05 0.01820    \n",
        "37 -0.094324  0.08615  0.09622  0.11987 1.104 1.76e-03 0.05039    \n",
        "38  0.652043 -0.52099 -0.63916  0.73958 0.630 2.72e-01 0.05275   *\n",
        "39 -0.019865  0.16852 -0.19502 -0.60555 0.998 6.42e-02 0.11145    \n",
        "40 -0.114652  0.12911  0.09175  0.15634 1.110 3.03e-03 0.06186    \n",
        "41 -0.094999  0.09844  0.08375  0.11838 1.107 1.71e-03 0.05249    \n",
        "42 -0.019865  0.16852 -0.19502 -0.60555 0.998 6.42e-02 0.11145    \n",
        "43 -0.069257 -0.23785  0.34314 -0.81279 1.267 9.58e-02 0.25544   *\n",
        "44  0.050764 -0.06530  0.01674  0.34876 0.982 1.96e-02 0.05344    \n",
        "45 -0.079968  0.08479  0.05701 -0.09176 1.121 1.01e-03 0.05710    \n",
        "46 -0.038716  0.03596  0.03351 -0.04035 1.095 1.93e-04 0.02970    \n",
        "47 -0.000879 -0.00838  0.05023  0.31156 1.001 1.49e-02 0.05090    \n",
        "48  0.040334 -0.19110  0.07980 -0.50899 0.992 4.40e-02 0.08986    \n",
        "49 -0.025666  0.02050  0.02589 -0.02749 1.089 8.92e-05 0.02260    \n",
        "50 -0.016308  0.01570  0.01369 -0.01682 1.083 3.33e-05 0.01600    \n"
       ]
      }
     ],
     "prompt_number": 12
    },
    {
     "cell_type": "markdown",
     "metadata": {},
     "source": [
      "### Model selection\n",
      "\n",
      "As the model is a likelihood based model, each fitted model has an AIC.\n",
      "Stepwise selection can be used easily \u2026"
     ]
    },
    {
     "cell_type": "code",
     "collapsed": false,
     "input": [
      "%%R\n",
      "step(flu.glm, scope=list(upper= ~.^2), direction='both')"
     ],
     "language": "python",
     "metadata": {},
     "outputs": [
      {
       "metadata": {},
       "output_type": "display_data",
       "text": [
        "Start:  AIC=38.42\n",
        "Shot ~ Age + Health.Aware\n",
        "\n",
        "                   Df Deviance    AIC\n",
        "+ Age:Health.Aware  1   24.283 32.283\n",
        "<none>                  32.416 38.416\n",
        "- Age               1   49.279 53.279\n",
        "- Health.Aware      1   56.078 60.078\n",
        "\n",
        "Step:  AIC=32.28\n",
        "Shot ~ Age + Health.Aware + Age:Health.Aware\n",
        "\n",
        "                   Df Deviance    AIC\n",
        "<none>                  24.283 32.283\n",
        "- Age:Health.Aware  1   32.416 38.416\n",
        "\n",
        "Call:  glm(formula = Shot ~ Age + Health.Aware + Age:Health.Aware, family = binomial(), \n",
        "    data = flu.table)\n",
        "\n",
        "Coefficients:\n",
        "     (Intercept)               Age      Health.Aware  Age:Health.Aware  \n",
        "        26.75944          -0.88151          -0.82239           0.02365  \n",
        "\n",
        "Degrees of Freedom: 49 Total (i.e. Null);  46 Residual\n",
        "Null Deviance:\t    68.03 \n",
        "Residual Deviance: 24.28 \tAIC: 32.28\n"
       ]
      }
     ],
     "prompt_number": 13
    },
    {
     "cell_type": "markdown",
     "metadata": {},
     "source": [
      "### Probit model\n",
      "\n",
      "* Probit regression model: $$\\Phi^{-1}({\\mathbb{E}}(Y_i))= \\sum_{j=1}^{p} \\beta_j X_{ij}$$ where $\\Phi$ is CDF of $N(0,1)$, i.e. $\\Phi(t) = {\\tt pnorm(t)}$.\n",
      "* Complementary log-log model (cloglog): $$-log(-log({\\mathbb{E}}(Y_i)) = \\sum_{j=1}^{p} \\beta_j X_{ij}.$$\n",
      "* In logit, probit and cloglog ${\\text{Var}}(Y_i)=\\pi_i(1-\\pi_i)$ but the model for the mean is different.\n",
      "* Coefficients no longer have an odds ratio interpretation.\n"
     ]
    },
    {
     "cell_type": "code",
     "collapsed": false,
     "input": [
      "%%R\n",
      "summary(glm(Shot ~ Age + Health.Aware, data=flu.table, \n",
      "            family=binomial(link='probit')))"
     ],
     "language": "python",
     "metadata": {},
     "outputs": [
      {
       "metadata": {},
       "output_type": "display_data",
       "text": [
        "\n",
        "Call:\n",
        "glm(formula = Shot ~ Age + Health.Aware, family = binomial(link = \"probit\"), \n",
        "    data = flu.table)\n",
        "\n",
        "Deviance Residuals: \n",
        "    Min       1Q   Median       3Q      Max  \n",
        "-1.5471  -0.2883  -0.0648   0.4060   2.2955  \n",
        "\n",
        "Coefficients:\n",
        "              Estimate Std. Error z value Pr(>|z|)    \n",
        "(Intercept)  -12.35039    3.22797  -3.826 0.000130 ***\n",
        "Age            0.12786    0.03887   3.289 0.001005 ** \n",
        "Health.Aware   0.11642    0.03237   3.596 0.000323 ***\n",
        "---\n",
        "Signif. codes:  0 \u2018***\u2019 0.001 \u2018**\u2019 0.01 \u2018*\u2019 0.05 \u2018.\u2019 0.1 \u2018 \u2019 1\n",
        "\n",
        "(Dispersion parameter for binomial family taken to be 1)\n",
        "\n",
        "    Null deviance: 68.029  on 49  degrees of freedom\n",
        "Residual deviance: 32.076  on 47  degrees of freedom\n",
        "AIC: 38.076\n",
        "\n",
        "Number of Fisher Scoring iterations: 7\n",
        "\n"
       ]
      }
     ],
     "prompt_number": 14
    },
    {
     "cell_type": "markdown",
     "metadata": {},
     "source": [
      "### Generalized linear models\n",
      "\n",
      "Given a dataset $(Y_i, X_{i1}, \\dots, X_{ip}), 1 \\leq i \\leq n$ we consider a model for the distribution of $Y|X_1, \\dots, X_p$.\n",
      "* If $\\eta_i=g({\\mathbb{E}}(Y_i)) = g(\\mu_i) = \\sum_{j=1}^p \\beta_j X_{ij}$ then $g$ is called the *link*\n",
      "   function for the model.\n",
      "* If ${\\text{Var}}(Y_i) = \\phi \\cdot V({\\mathbb{E}}(Y_i)) = \\phi \\cdot V(\\mu_i)$ for $\\phi > 0$ and some function $V$, then $V$ is the called *variance*\n",
      "   function for the model.\n",
      "* Canonical reference: *Generalized Linear Models*\n",
      "  , McCullagh and Nelder."
     ]
    },
    {
     "cell_type": "markdown",
     "metadata": {},
     "source": [
      "### Binary regression as GLM\n",
      "\n",
      "* For a logistic model, $g(\\mu)={\\text{logit}}(\\mu), \\qquad V(\\mu)=\\mu(1-\\mu).$\n",
      "* For a probit model, $g(\\mu)=\\Phi^{-1}(\\mu), \\qquad V(\\mu)=\\mu(1-\\mu).$\n",
      "* For a cloglog model, $g(\\mu)=-\\log(-\\log(\\mu)), \\qquad V(\\mu)=\\mu(1-\\mu).$"
     ]
    }
   ],
   "metadata": {}
  }
 ]
}