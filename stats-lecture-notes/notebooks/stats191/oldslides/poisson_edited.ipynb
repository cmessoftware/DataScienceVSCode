{
 "metadata": {
  "name": ""
 },
 "nbformat": 3,
 "nbformat_minor": 0,
 "worksheets": [
  {
   "cells": [
    {
     "cell_type": "code",
     "collapsed": false,
     "input": [
      "%load_ext rmagic"
     ],
     "language": "python",
     "metadata": {
      "slideshow": {
       "slide_type": "skip"
      }
     },
     "outputs": []
    },
    {
     "cell_type": "heading",
     "level": 3,
     "metadata": {
      "slideshow": {
       "slide_type": "slide"
      }
     },
     "source": [
      "Poisson regression"
     ]
    },
    {
     "cell_type": "markdown",
     "metadata": {},
     "source": [
      "\n",
      "Topics\n",
      "\n",
      "* Contingency tables.\n",
      "* Poisson regression.\n",
      "* Generalized linear model."
     ]
    },
    {
     "cell_type": "heading",
     "level": 3,
     "metadata": {
      "slideshow": {
       "slide_type": "slide"
      }
     },
     "source": [
      "Count data"
     ]
    },
    {
     "cell_type": "markdown",
     "metadata": {},
     "source": [
      "\n",
      "Afterlife\n",
      "\n",
      "Men and women were asked whether they believed in the after life (1991 General Social Survey).\n",
      " \n",
      "   | Y | N or U | Total\n",
      "  --- | --- | --- | ---\n",
      "  M | 435 | 147 | 582\n",
      "  F | 375 | 134 | 509\n",
      " Total | 810 | 281 | 1091\n",
      "\n",
      "Question: is belief in the afterlife independent of gender?"
     ]
    },
    {
     "cell_type": "heading",
     "level": 3,
     "metadata": {
      "slideshow": {
       "slide_type": "slide"
      }
     },
     "source": [
      "Poisson counts"
     ]
    },
    {
     "cell_type": "markdown",
     "metadata": {},
     "source": [
      "\n",
      "Definition\n",
      "\n",
      "* A random variable $Y$ is a Poisson random variable with parameter $\\lambda$ if $P(Y=j) = e^{-\\lambda} \\frac{\\lambda^j}{j!}, \\qquad \\forall j \\geq 0.$\n",
      "* Some simple calculations show that $E(Y)=\\text{Var}(Y)=\\lambda.$\n",
      "* Poisson models for counts are analogous to Gaussian for continuous outcomes."
     ]
    },
    {
     "cell_type": "heading",
     "level": 3,
     "metadata": {
      "slideshow": {
       "slide_type": "slide"
      }
     },
     "source": [
      "Count data"
     ]
    },
    {
     "cell_type": "markdown",
     "metadata": {},
     "source": [
      "\n",
      "Contingency table\n",
      "\n",
      "* Model: $Y_{ij} \\sim  Poisson(\\lambda_{ij} )$.\n",
      "* **Null:**\n",
      "   $H_0 : \\text{independence}, \\lambda_{ij} = \\lambda \\alpha_i \\cdot \\beta_j , \\sum_i \\alpha_i = 1,  \\sum_j \\beta_j = 1.$\n",
      "* **Alternative:**\n",
      "   $H_a : \\text{$\\lambda_{ij}$ 's are unrestricted}$\n",
      "* **Test statistic:**\n",
      "   Pearson\u2019s $X^2$ : $X^2 = \\sum_{ij} \\frac{(Y_{ij}-E_{ij})^2}{E_{ij}} \\approx \\chi^2_1 \\  \\text{under $H_0$}$\n",
      "* Why 1 df ? Independence model has 5 parameters, two constraints = 3 df. Unrestricted has 4 parameters.\n",
      "* This is actually a *regression model*\n",
      "   for the count data."
     ]
    },
    {
     "cell_type": "markdown",
     "metadata": {},
     "source": [
      "Count data"
     ]
    },
    {
     "cell_type": "markdown",
     "metadata": {},
     "source": [
      "\n",
      "Contingency table as regression model\n",
      "\n",
      "* Under independence $\\begin{aligned}\n",
      "       \\log(E (Y_{ij} )) &= \\log \\lambda_{ij} = \\log \\lambda  + \\log \\alpha_i + \\log \\beta_j\n",
      "     \\end{aligned}$\n",
      "* OR, the model has a *log link*\n",
      "  .\n",
      "* What about the variance? Because of Poisson assumption $Var(Y_{ij} ) = E (Y_{ij})$\n",
      "* OR, the *variance function*\n",
      "   is $V (\\mu) = \\mu.$"
     ]
    },
    {
     "cell_type": "heading",
     "level": 3,
     "metadata": {
      "slideshow": {
       "slide_type": "slide"
      }
     },
     "source": [
      "Count data"
     ]
    },
    {
     "cell_type": "markdown",
     "metadata": {},
     "source": [
      "\n",
      "Contingency table $(k \\times m)$\n",
      "\n",
      "* Suppose we had $k$ categories on one axis, $m$ on the other (i.e. previous example $k = m = 2$). We call this as $k \\times m$ contingency table.\n",
      "* Independence model: $\\log(E (Y_{ij} )) = \\log \\lambda_{ij} = \\log \\lambda  + \\log \\alpha_i + \\log \\beta_j$"
     ]
    },
    {
     "cell_type": "heading",
     "level": 3,
     "metadata": {
      "slideshow": {
       "slide_type": "slide"
      }
     },
     "source": [
      "Count data"
     ]
    },
    {
     "cell_type": "markdown",
     "metadata": {},
     "source": [
      "\n",
      "Contingency tables\n",
      "\n",
      "* Test for independence: Pearson\u2019s $X^2 = \\sum_{ij} \\frac{(Y_{ij}-E_{ij})^2}{E_{ij}} \\approx \\chi^2_{(k-1)(m-1)} \\  \\text{under $H_0$}$\n",
      "* Alternative test statistic $G = 2\\sum_{ij} Y_{ij} \\log \\left(\\frac{Y_{ij}}{E_{ij}}\\right)$"
     ]
    },
    {
     "cell_type": "heading",
     "level": 3,
     "metadata": {
      "slideshow": {
       "slide_type": "slide"
      }
     },
     "source": [
      "Count data"
     ]
    },
    {
     "cell_type": "markdown",
     "metadata": {},
     "source": [
      "\n",
      "Independence tests\n",
      "\n",
      "* Unlike in other cases, in this case the *full model*\n",
      "   has as many parameters as observations (i.e. it\u2019s saturated).\n",
      "* This test is known as a *goodness of fit*\n",
      "   test.\n",
      "* *How well does the independence model fit this data*\n",
      "  ?"
     ]
    },
    {
     "cell_type": "heading",
     "level": 3,
     "metadata": {
      "slideshow": {
       "slide_type": "slide"
      }
     },
     "source": [
      "Count data"
     ]
    },
    {
     "cell_type": "markdown",
     "metadata": {},
     "source": [
      "\n",
      "Lumber company example\n",
      "\n",
      "* $Y$ : number of customers visting store from region;\n",
      "* $X_1$ : number of housing units in region;\n",
      "* $X_2$ : average household income;\n",
      "* $X_3$ : average housing unit age in region;\n",
      "* $X_4$ : distance to nearest competitor;\n",
      "* $X_5$ : distance to store in miles."
     ]
    },
    {
     "cell_type": "heading",
     "level": 3,
     "metadata": {
      "slideshow": {
       "slide_type": "slide"
      }
     },
     "source": [
      "Count data"
     ]
    },
    {
     "cell_type": "markdown",
     "metadata": {},
     "source": [
      "\n",
      "Poisson (log-linear) regression model\n",
      "\n",
      "* Given observations and covariates $Y_i , X_{ij} , 1 \\leq i  \\leq n, 1 \\leq j  \\leq p$.\n",
      "* **Model:**\n",
      "   $Y_{i} \\sim Poisson \\left(\\exp\\left(\\beta_0 + \\sum_{j=1}^p \\beta_j X_{ij} \\right)\\right)$\n",
      "* Poisson assumption implies the variance function is $V (\\mu) = \\mu.$"
     ]
    },
    {
     "cell_type": "heading",
     "level": 3,
     "metadata": {
      "slideshow": {
       "slide_type": "slide"
      }
     },
     "source": [
      "Poisson regression"
     ]
    },
    {
     "cell_type": "markdown",
     "metadata": {},
     "source": [
      "\n",
      "Interpretation of coefficients\n",
      "\n",
      "* The log-linear model means covariates have *multiplicative*\n",
      "   effect.\n",
      "* Log-linear model model: $\\frac{E(Y|\\dots, X_j=x_j+1, \\dots)}{E(Y|\\dots, X_j=x_j, \\dots)} = e^{\\beta_j}$\n",
      "* So, one unit increase in variable $j$ results in $e^{\\beta_j}$ (multiplicative) increase the expected count, all other parameters being equal."
     ]
    },
    {
     "cell_type": "heading",
     "level": 3,
     "metadata": {
      "slideshow": {
       "slide_type": "slide"
      }
     },
     "source": [
      "Count data"
     ]
    },
    {
     "cell_type": "markdown",
     "metadata": {},
     "source": [
      "\n",
      "Generalized linear models\n",
      "\n",
      "* Logistic model: ${\\text{logit}}(\\pi) = \\beta_0 + \\sum_j \\beta_j X_j \\qquad V(\\pi)=\\pi(1-\\pi)$\n",
      "* Poisson log-linear model: $\\log(\\mu) = \\beta_0 + \\sum_j \\beta_j X_j, \\qquad V(\\mu) = \\mu$\n",
      "* These are the ingredients to a GLM \u2026"
     ]
    },
    {
     "cell_type": "heading",
     "level": 3,
     "metadata": {
      "slideshow": {
       "slide_type": "slide"
      }
     },
     "source": [
      "Generalized linear models"
     ]
    },
    {
     "cell_type": "markdown",
     "metadata": {},
     "source": [
      "\n",
      "Specifying a model\n",
      "\n",
      "* Given $(Y, X_1, \\dots, X_p)$, a GLM is specified by the (link, variance function) pair $(V, g)$.\n",
      "* Fit using IRLS like logistic.\n",
      "* Inference in terms of deviance or Pearson\u2019s $X^2$: $X^2({\\cal M}) = \\sum_{i=1}^n \\frac{(Y_i - \\widehat{\\mu}_{{\\cal M},i})^2}{V(\\widehat{\\mu}_{{\\cal M},i})}$"
     ]
    },
    {
     "cell_type": "heading",
     "level": 3,
     "metadata": {
      "slideshow": {
       "slide_type": "slide"
      }
     },
     "source": [
      "Generalized linear models"
     ]
    },
    {
     "cell_type": "markdown",
     "metadata": {},
     "source": [
      "\n",
      "Deviance\n",
      "\n",
      "* Replaces $SSE$ in least squares\n",
      "* Definition $DEV({\\cal M}) = -2 \\left(\\log L(\\widehat{\\mu}({\\cal M})|Y,X) - \\log(Y|Y,X) \\right)$\n",
      "* Difference between fitted values of ${\\cal M}$ and \"saturated model\" with $\\widehat{\\mu}=Y$.\n",
      "* Poisson deviance $DEV({\\cal M}|Y) = 2 \\sum_{i=1}^n \\left( Y_i \\log \\left(Y_i / \\widehat{\\mu}_{{\\cal M},i} \\right) + (Y_i - \\widehat{\\mu}_{{\\cal M},i} ) \\right)$"
     ]
    },
    {
     "cell_type": "heading",
     "level": 3,
     "metadata": {
      "slideshow": {
       "slide_type": "slide"
      }
     },
     "source": [
      "Generalized linear models"
     ]
    },
    {
     "cell_type": "markdown",
     "metadata": {},
     "source": [
      "\n",
      "Deviance tests\n",
      "\n",
      "* To test $H_0:{\\cal M}={\\cal M}_R$ vs. $H_a: {\\cal M}={\\cal M}_F$, we use $DEV({\\cal M}_R) - DEV({\\cal M}_F) \\sim \\chi^2_{df_R-df_F}$\n",
      "* In contingency example ${\\cal M}_R$ is the independence model $\\log(E(Y_{ij})) = \\lambda + \\alpha_i  + \\beta_j$ with ${\\cal M}_F$ being the \"saturated model.\""
     ]
    }
   ],
   "metadata": {}
  }
 ]
}