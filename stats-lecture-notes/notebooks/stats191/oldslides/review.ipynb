{
 "metadata": {
  "name": ""
 },
 "nbformat": 3,
 "nbformat_minor": 0,
 "worksheets": [
  {
   "cells": [
    {
     "cell_type": "code",
     "collapsed": false,
     "input": [
      "%load_ext rmagic"
     ],
     "language": "python",
     "metadata": {
      "slideshow": {
       "slide_type": "skip"
      }
     },
     "outputs": []
    },
    {
     "cell_type": "markdown",
     "metadata": {},
     "source": [
      "\n",
      "Outline\n",
      "\n",
      "* What is a regression model?\n",
      "* Descriptive statistics \u2013 numerical\n",
      "* Descriptive statistics \u2013 graphical\n",
      "* Inference about a population mean\n",
      "* Difference between two population means\n",
      "What is course about?\n",
      "\n",
      "* It is a course on applied statistics.\n",
      "* Hands-on: we use [R](http://cran.r-project.org), an open-source statistics software environment.\n",
      "* We will start out with a review of introductory statistics to see R\n",
      "   in action.\n",
      "* Main topic is \"(linear) regression models\": these are the *bread and butter*\n",
      "   of applied statistics.\n",
      "What is a \"regression\" model? \n",
      " A regression model is a model of the relationships between some *covariates (predictors)*\n",
      " and an *outcome*\n",
      ". Specifically, regression is a model of the *average*\n",
      " outcome *given*\n",
      " the covariates.\n",
      "Heights of couples\n",
      "\n",
      "* To study height of the wife in a couple, based on the husband\u2019s height and her parents height: Wife\n",
      "   is the outcome, and the covariates are Husband, Mother, Father\n",
      "  .\n",
      "* A mathematical model, using only Husband\n",
      "  \u2019s height: ${\\tt Wife} = f({\\tt Husband}) + \\varepsilon$ where $f$ gives the average height of the wife of a man of height Husband\n",
      "   and $\\varepsilon$ is \"error\": not *every*\n",
      "   man of height of Husband\n",
      "   marries a woman of height $f({\\tt Husband})$.\n",
      "* A statistical question: is there *any*\n",
      "   relationship between covariates and outcomes \u2013 is $f$ just a constant?\n",
      "* Here is some [data](http://stats191.stanford.edu/review.html) using only Husband\n",
      "  \u2019s height."
     ]
    },
    {
     "cell_type": "heading",
     "level": 3,
     "metadata": {
      "slideshow": {
       "slide_type": "slide"
      }
     },
     "source": [
      "Heights data"
     ]
    },
    {
     "cell_type": "code",
     "collapsed": false,
     "input": [
      "%%R\n",
      "# Load and attach the data in R\n",
      "# The sep indiciates that they are comma separated\n",
      "# the header option indicates that the first line\n",
      "# contains the variable names\n",
      "\n",
      "url = 'http://stats191.stanford.edu/data/heights.table'\n",
      "heights <- read.table(url, sep=',', header=T)\n",
      "\n",
      "# Tell R to put WIFE and HUSBAND in R's toplevel namespace\n",
      "attach(heights)\n",
      "\n",
      "# Fit simple linear regression model\n",
      "height.lm = lm(WIFE ~ HUSBAND)\n",
      "\n",
      "# Plot the data\n",
      "plot(HUSBAND, WIFE, pch=23, bg='red', cex=2)\n",
      "\n",
      "# Add a line to the plot indicating the best\n",
      "# fitting line\n",
      "\n",
      "abline(height.lm, lwd=3, col='yellow')"
     ],
     "language": "python",
     "metadata": {},
     "outputs": []
    },
    {
     "cell_type": "heading",
     "level": 3,
     "metadata": {
      "slideshow": {
       "slide_type": "slide"
      }
     },
     "source": [
      "Heights data"
     ]
    },
    {
     "cell_type": "markdown",
     "metadata": {},
     "source": [
      "\n",
      "Linear regression models\n",
      "\n",
      "* We might model the data as ${\\tt Wife} = {\\beta_{0}} + {\\beta_{1}} {\\tt Husband} + \\varepsilon.$\n",
      "* This model is *linear*\n",
      "   in Husband\n",
      "  , it is a *simple linear regression model*\n",
      "  .\n",
      "* Another model: ${\\tt Wife} = {\\beta_{0}} + {\\beta_{1}} {\\tt Husband} + {\\beta_{2}} {\\tt Mother} + {\\beta_{3}}\n",
      "     {\\tt Father} + \\varepsilon.$\n",
      "* Also linear (in Husband\n",
      "  , Mother\n",
      "  , Father\n",
      "  ).\n",
      "* Which model is better? We need a tool to compare models \u2026"
     ]
    },
    {
     "cell_type": "heading",
     "level": 3,
     "metadata": {
      "slideshow": {
       "slide_type": "slide"
      }
     },
     "source": [
      "Right-to-work example"
     ]
    },
    {
     "cell_type": "markdown",
     "metadata": {},
     "source": [
      "\n",
      "[Data](http://www.ilr.cornell.edu/~hadi/RABE4/Data4/P005.txt) description\n",
      "\n",
      "* Income: income for a four-person family\n",
      "* COL: cost of living for a four-person family\n",
      "* PD: Population density\n",
      "* URate: rate of unionization in 1978\n",
      "* Pop: Population\n",
      "* Taxes: Property taxes in 1972\n",
      "* RTWL: right-to-work indicator"
     ]
    },
    {
     "cell_type": "heading",
     "level": 3,
     "metadata": {
      "slideshow": {
       "slide_type": "slide"
      }
     },
     "source": [
      "Right-to-work vs. cost of living"
     ]
    },
    {
     "cell_type": "code",
     "collapsed": false,
     "input": [
      "%%R\n",
      "url = \"http://www.ilr.cornell.edu/~hadi/RABE4/Data4/P005.txt\"\n",
      "rtw.table <- read.table(url, header=T, sep='\\t')\n",
      "attach(rtw.table)\n",
      "boxplot(COL ~ RTWL, col='orange', pch=23, bg='red')"
     ],
     "language": "python",
     "metadata": {},
     "outputs": []
    },
    {
     "cell_type": "heading",
     "level": 3,
     "metadata": {
      "slideshow": {
       "slide_type": "slide"
      }
     },
     "source": [
      "Right-to-work vs. income"
     ]
    },
    {
     "cell_type": "code",
     "collapsed": false,
     "input": [
      "%%R\n",
      "boxplot(Income ~ RTWL, col='orange', pch=23, bg='red')"
     ],
     "language": "python",
     "metadata": {},
     "outputs": []
    },
    {
     "cell_type": "heading",
     "level": 3,
     "metadata": {
      "slideshow": {
       "slide_type": "slide"
      }
     },
     "source": [
      "Unionization vs. cost of living"
     ]
    },
    {
     "cell_type": "code",
     "collapsed": false,
     "input": [
      "%%R\n",
      "plot(URate, COL, pch=23, bg='red')"
     ],
     "language": "python",
     "metadata": {},
     "outputs": []
    },
    {
     "cell_type": "heading",
     "level": 3,
     "metadata": {
      "slideshow": {
       "slide_type": "slide"
      }
     },
     "source": [
      "Unionization vs. income"
     ]
    },
    {
     "cell_type": "code",
     "collapsed": false,
     "input": [
      "%%R\n",
      "plot(URate, Income, pch=23, bg='red')"
     ],
     "language": "python",
     "metadata": {},
     "outputs": []
    },
    {
     "cell_type": "heading",
     "level": 3,
     "metadata": {
      "slideshow": {
       "slide_type": "slide"
      }
     },
     "source": [
      "Unionization vs. income"
     ]
    },
    {
     "cell_type": "code",
     "collapsed": false,
     "input": [
      "%%R\n",
      "plot(URate, Income, pch=23, bg='red')"
     ],
     "language": "python",
     "metadata": {},
     "outputs": []
    },
    {
     "cell_type": "heading",
     "level": 3,
     "metadata": {
      "slideshow": {
       "slide_type": "slide"
      }
     },
     "source": [
      "Unionization vs. population"
     ]
    },
    {
     "cell_type": "code",
     "collapsed": false,
     "input": [
      "%%R\n",
      "plot(URate, Pop, pch=23, bg='red')"
     ],
     "language": "python",
     "metadata": {},
     "outputs": []
    },
    {
     "cell_type": "heading",
     "level": 3,
     "metadata": {
      "slideshow": {
       "slide_type": "slide"
      }
     },
     "source": [
      "Cost-of-living vs. income"
     ]
    },
    {
     "cell_type": "code",
     "collapsed": false,
     "input": [
      "%%R\n",
      "plot(COL, Income, pch=23, bg='red')"
     ],
     "language": "python",
     "metadata": {},
     "outputs": []
    },
    {
     "cell_type": "heading",
     "level": 3,
     "metadata": {
      "slideshow": {
       "slide_type": "slide"
      }
     },
     "source": [
      "Full dataset"
     ]
    },
    {
     "cell_type": "code",
     "collapsed": false,
     "input": [
      "%%R\n",
      "pairs(rtw.table, pch=23, bg='red')"
     ],
     "language": "python",
     "metadata": {},
     "outputs": []
    },
    {
     "cell_type": "heading",
     "level": 3,
     "metadata": {
      "slideshow": {
       "slide_type": "slide"
      }
     },
     "source": [
      "Without NYC"
     ]
    },
    {
     "cell_type": "code",
     "collapsed": false,
     "input": [
      "%%R\n",
      "pairs(rtw.table[-27,], pch=23, bg='red')"
     ],
     "language": "python",
     "metadata": {},
     "outputs": []
    },
    {
     "cell_type": "heading",
     "level": 3,
     "metadata": {
      "slideshow": {
       "slide_type": "slide"
      }
     },
     "source": [
      "Right-to-work example"
     ]
    },
    {
     "cell_type": "markdown",
     "metadata": {},
     "source": [
      "\n",
      "Building a model\n",
      " Some of the main goals of this course:\n",
      "* Build a statistical model describing the \"effect of RTWL\" on \"COL\"\n",
      "* This model should recognize that other variables also affect \"COL\"\n",
      "* What sort of \"statistical confidence\" do we have in our conclusion about \"RTWL\" and \"COL\"?\n",
      "* Is the model adequate do describe this dataset?\n",
      "* Are there other (simpler, more complicated) models?"
     ]
    },
    {
     "cell_type": "heading",
     "level": 3,
     "metadata": {
      "slideshow": {
       "slide_type": "slide"
      }
     },
     "source": [
      "Descriptive statistics \u2013 numerical"
     ]
    },
    {
     "cell_type": "markdown",
     "metadata": {},
     "source": [
      "\n",
      "Mean of a sample\n",
      " Given a sample of numbers $X=(X_1, \\dots, X_n)$ the sample mean, $\\overline{X}$ is $\\overline{X} = \\frac1n \\sum_{i=1}^n X_i.$\n",
      "Standard deviation of a sample\n",
      " Given a sample of numbers $X=(X_1, \\dots, X_n)$ the sample standard deviation $S_X$ is $S^2_X = \\frac{1}{n-1}  \\sum_{i=1}^n (X_i-\\overline{X})^2.$"
     ]
    },
    {
     "cell_type": "heading",
     "level": 3,
     "metadata": {
      "slideshow": {
       "slide_type": "slide"
      }
     },
     "source": [
      "Descriptive statistics \u2013 numerical"
     ]
    },
    {
     "cell_type": "markdown",
     "metadata": {},
     "source": [
      "\n",
      "Median of a sample\n",
      " Given a sample of numbers $X=(X_1, \\dots, X_n)$ the sample median is the \"middle\" of the sample: if $n$ is even, it is the average of the middle two points. If $n$ is odd, it is the midpoint.\n",
      "Quantiles of a sample\n",
      " Given a sample of numbers $X=(X_1, \\dots, X_n)$ the $q$-th quantile is a point $x_q$ in the data such that $q \\cdot 100\\%$ of the data lie to the left of $x_q$.\n",
      "**Example:**\n",
      " the $0.5$-quantile is the median: half of the data lie to the right of the median."
     ]
    },
    {
     "cell_type": "heading",
     "level": 3,
     "metadata": {
      "slideshow": {
       "slide_type": "slide"
      }
     },
     "source": [
      "Histogram"
     ]
    },
    {
     "cell_type": "code",
     "collapsed": false,
     "input": [
      "%%R\n",
      "hist(treated, main='', xlab='Decrease', col='orange')"
     ],
     "language": "python",
     "metadata": {},
     "outputs": []
    },
    {
     "cell_type": "heading",
     "level": 3,
     "metadata": {
      "slideshow": {
       "slide_type": "slide"
      }
     },
     "source": [
      "Inference about a population mean"
     ]
    },
    {
     "cell_type": "markdown",
     "metadata": {},
     "source": [
      "\n",
      "A testing scenario\n",
      "\n",
      "* Suppose we want to determine the efficacy of a new drug on blood pressure.\n",
      "* Our study design is: we will treat a large patient population with the drug and measure their blood pressure before and after taking the drug.\n",
      "* One way to conclude that the drug is effective if the blood pressure has decreased. That is, if the average difference is negative."
     ]
    },
    {
     "cell_type": "heading",
     "level": 3,
     "metadata": {
      "slideshow": {
       "slide_type": "slide"
      }
     },
     "source": [
      "Testing hypotheses"
     ]
    },
    {
     "cell_type": "markdown",
     "metadata": {},
     "source": [
      "\n",
      "Setting up the test\n",
      "\n",
      "* We could set this up as drawing from a box of *differences in blood pressure*\n",
      "  .\n",
      "* The *null hypothesis*\n",
      "  , $H_0$ is: \"the average difference is greater than zero.\"\n",
      "* The *alternative hypothesis*\n",
      "  , $H_a$, is: \"the average difference is less than zero.\"\n",
      "* Sometimes, people will test the alternative, $H_a$: \"the average difference is not zero\" and $H_0$: \"the average difference is zero.\"\n",
      "* We test the null with observed data by estimating the average difference and converting to standardized units."
     ]
    },
    {
     "cell_type": "heading",
     "level": 3,
     "metadata": {
      "slideshow": {
       "slide_type": "slide"
      }
     },
     "source": [
      "Sample of blood pressures"
     ]
    },
    {
     "cell_type": "code",
     "collapsed": false,
     "input": [
      "from matplotlib import rc\n",
      "import pylab, numpy as np, sys\n",
      "np.random.seed(0);import random; random.seed(0)\n",
      "sys.path.append('/private/var/folders/dq/4_9bwd013ln6vvf_q110mwrh0000gn/T/tmpLuOCfp')\n",
      "f=pylab.gcf(); f.set_size_inches(8.0,6.0)\n",
      "datadir ='/private/var/folders/dq/4_9bwd013ln6vvf_q110mwrh0000gn/T/tmpLuOCfp/data'\n",
      "import random\n",
      "X = np.mgrid[0:1:10j,0:1:5j].reshape((2,50)) + np.random.sample((2,50)) * 0.05\n",
      "X = X.T\n",
      "sample = [random.randint(-6,3) for _  in range(50)]\n",
      "for i in range(50):\n",
      "    pylab.text(X[i,0], X[i,1], '%d' % sample[i])\n",
      "\n",
      "    pylab.gca().set_xticks([]);    pylab.gca().set_xlim([-0.1,1.1])\n",
      "    pylab.gca().set_yticks([]);    pylab.gca().set_ylim([-0.1,1.1])\n",
      "pylab.title(r\"$\\bar{X}$=average(sample)=%0.1f, $S_X$=SD$^+$(sample)=%0.1f\" % (np.mean(sample), np.std(sample) * np.sqrt(50/49.)))"
     ],
     "language": "python",
     "metadata": {},
     "outputs": []
    },
    {
     "cell_type": "markdown",
     "metadata": {},
     "source": [
      "\n",
      "Sample of 50"
     ]
    },
    {
     "cell_type": "heading",
     "level": 3,
     "metadata": {
      "slideshow": {
       "slide_type": "slide"
      }
     },
     "source": [
      "Inference about a population mean"
     ]
    },
    {
     "cell_type": "markdown",
     "metadata": {},
     "source": [
      "\n",
      "Testing whether mean is 0: two-sided\n",
      "\n",
      "* Suppose we want a two-sided test of whether $\\mu=0$ based on a sample $X$, at level $\\alpha$.\n",
      "* Compute $T = \\frac{\\overline{X}}{S_X/\\sqrt{n}} = \\frac{-0.7}{2.7/\\sqrt{50}}=-1.8$\n",
      "* If $|T| > t_{n-1, 1-\\alpha/2}$, then reject $H_0:\\mu=0$.\n",
      "* Above, $t_{n-1, 1-\\alpha/2}$ is the $1-\\frac \\alpha 2$ quantile of $t_{n-1}$ random variable, defined by ${\\mathbb{P}}(T_{n-1} \\leq t_{n-1,1-\\alpha/2}) = 1 - \\frac\\alpha 2.$\n",
      "* With $df=49, \\alpha=0.05$, we see that $t_{49,0.975}=2.00$. So, we do not reject $H_0$."
     ]
    },
    {
     "cell_type": "heading",
     "level": 3,
     "metadata": {
      "slideshow": {
       "slide_type": "slide"
      }
     },
     "source": [
      "Student\u2019s $T$"
     ]
    },
    {
     "cell_type": "code",
     "collapsed": false,
     "input": [
      "from matplotlib import rc\n",
      "import pylab, numpy as np, sys\n",
      "np.random.seed(0);import random; random.seed(0)\n",
      "sys.path.append('/private/var/folders/dq/4_9bwd013ln6vvf_q110mwrh0000gn/T/tmpLuOCfp')\n",
      "f=pylab.gcf(); f.set_size_inches(8.0,6.0)\n",
      "datadir ='/private/var/folders/dq/4_9bwd013ln6vvf_q110mwrh0000gn/T/tmpLuOCfp/data'\n",
      "import pylab, numpy as np\n",
      "import scipy.stats\n",
      "\n",
      "df = 49\n",
      "x = np.linspace(-4,4,101)\n",
      "pylab.plot(x,scipy.stats.t.pdf(x, df)*100, linewidth=2, label=r'$T$, df=49')\n",
      "\n",
      "# The t region\n",
      "\n",
      "x2 = np.linspace(scipy.stats.t.isf(0.025,df),4, 101)\n",
      "y2 = scipy.stats.t.pdf(x2, df)\n",
      "xf, yf = pylab.poly_between(x2, 0*x2, y2*100)\n",
      "pylab.fill(xf, yf, facecolor='gray', hatch='\\\\', alpha=0.5)\n",
      "\n",
      "x2 = np.linspace(-4,-scipy.stats.t.isf(0.025,df), 101)\n",
      "y2 = scipy.stats.t.pdf(x2, df)\n",
      "xf, yf = pylab.poly_between(x2, 0*x2, y2*100)\n",
      "pylab.fill(xf, yf, facecolor='gray', hatch='\\\\', alpha=0.5)\n",
      "\n",
      "pylab.gca().set_xlabel('standardized units')\n",
      "pylab.gca().set_ylabel('% per standardized unit')\n",
      "pylab.legend()\n",
      "#pylab.gca().set_xlim([-2,4])\n",
      "#pylab.gca().set_yticks([])"
     ],
     "language": "python",
     "metadata": {},
     "outputs": []
    },
    {
     "cell_type": "markdown",
     "metadata": {},
     "source": [
      "\n",
      "Two-sided  5% rejection rule\n",
      ", df=49"
     ]
    },
    {
     "cell_type": "heading",
     "level": 3,
     "metadata": {
      "slideshow": {
       "slide_type": "slide"
      }
     },
     "source": [
      "Inference about a population mean"
     ]
    },
    {
     "cell_type": "markdown",
     "metadata": {},
     "source": [
      "\n",
      "Testing whether mean is $<$ 0: one-sided\n",
      "\n",
      "* Suppose we want a one-sided test of whether $\\mu < 0$ based on a sample $X$, at level $\\alpha$.\n",
      "* For this test, the *null*\n",
      "   is $H_0:\\mu \\geq 0$ and the alternative is $H_a: \\mu < 0$.\n",
      "* Compute $T = \\frac{\\overline{X}}{S_X/\\sqrt{n}} = \\frac{-0.7}{2.7/\\sqrt{50}}=-1.8$\n",
      "* If $T < t_{n-1, \\alpha}$, then reject $H_0:\\mu=0$.\n",
      "* With $df=49, \\alpha=0.05$, we see that $t_{49,0.05}=-1.68$. So, we reject $H_0$."
     ]
    },
    {
     "cell_type": "heading",
     "level": 3,
     "metadata": {
      "slideshow": {
       "slide_type": "slide"
      }
     },
     "source": [
      "Student\u2019s $T$"
     ]
    },
    {
     "cell_type": "code",
     "collapsed": false,
     "input": [
      "from matplotlib import rc\n",
      "import pylab, numpy as np, sys\n",
      "np.random.seed(0);import random; random.seed(0)\n",
      "sys.path.append('/private/var/folders/dq/4_9bwd013ln6vvf_q110mwrh0000gn/T/tmpLuOCfp')\n",
      "f=pylab.gcf(); f.set_size_inches(8.0,6.0)\n",
      "datadir ='/private/var/folders/dq/4_9bwd013ln6vvf_q110mwrh0000gn/T/tmpLuOCfp/data'\n",
      "import pylab, numpy as np\n",
      "import scipy.stats\n",
      "\n",
      "df = 49\n",
      "x = np.linspace(-4,4,101)\n",
      "pylab.plot(x,scipy.stats.t.pdf(x, df)*100, linewidth=2, label=r'$T$, df=49')\n",
      "\n",
      "# The t region\n",
      "\n",
      "#x2 = np.linspace(scipy.stats.t.isf(0.025,df),4, 101)\n",
      "#y2 = scipy.stats.t.pdf(x2, df)\n",
      "#xf, yf = pylab.poly_between(x2, 0*x2, y2*100)\n",
      "#pylab.fill(xf, yf, facecolor='gray', hatch='\\\\', alpha=0.5)\n",
      "\n",
      "x2 = np.linspace(-4,-scipy.stats.t.isf(0.05,df), 101)\n",
      "y2 = scipy.stats.t.pdf(x2, df)\n",
      "xf, yf = pylab.poly_between(x2, 0*x2, y2*100)\n",
      "pylab.fill(xf, yf, facecolor='gray', hatch='\\\\', alpha=0.5)\n",
      "\n",
      "pylab.gca().set_xlabel('standardized units')\n",
      "pylab.gca().set_ylabel('% per standardized unit')\n",
      "pylab.legend()\n",
      "#pylab.gca().set_xlim([-2,4])\n",
      "#pylab.gca().set_yticks([])"
     ],
     "language": "python",
     "metadata": {},
     "outputs": []
    },
    {
     "cell_type": "markdown",
     "metadata": {},
     "source": [
      "\n",
      "One-sided  5% rejection rule\n",
      " for $H_0:\\mu \\geq 0$, df=49"
     ]
    },
    {
     "cell_type": "heading",
     "level": 3,
     "metadata": {
      "slideshow": {
       "slide_type": "slide"
      }
     },
     "source": [
      "Student\u2019s $T$"
     ]
    },
    {
     "cell_type": "code",
     "collapsed": false,
     "input": [
      "from matplotlib import rc\n",
      "import pylab, numpy as np, sys\n",
      "np.random.seed(0);import random; random.seed(0)\n",
      "sys.path.append('/private/var/folders/dq/4_9bwd013ln6vvf_q110mwrh0000gn/T/tmpLuOCfp')\n",
      "f=pylab.gcf(); f.set_size_inches(8.0,6.0)\n",
      "datadir ='/private/var/folders/dq/4_9bwd013ln6vvf_q110mwrh0000gn/T/tmpLuOCfp/data'\n",
      "import pylab, numpy as np\n",
      "import scipy.stats\n",
      "\n",
      "df = 5\n",
      "x = np.linspace(-4,4,101)\n",
      "pylab.plot(x,scipy.stats.t.pdf(x, df)*100, linewidth=2, label=r'$T$, df=5')\n",
      "\n",
      "# The t region\n",
      "\n",
      "#x2 = np.linspace(scipy.stats.t.isf(0.025,df),4, 101)\n",
      "#y2 = scipy.stats.t.pdf(x2, df)\n",
      "#xf, yf = pylab.poly_between(x2, 0*x2, y2*100)\n",
      "#pylab.fill(xf, yf, facecolor='gray', hatch='\\\\', alpha=0.5)\n",
      "\n",
      "x2 = np.linspace(-4,-scipy.stats.t.isf(0.05,df), 101)\n",
      "y2 = scipy.stats.t.pdf(x2, df)\n",
      "xf, yf = pylab.poly_between(x2, 0*x2, y2*100)\n",
      "pylab.fill(xf, yf, facecolor='gray', hatch='\\\\', alpha=0.5)\n",
      "\n",
      "pylab.gca().set_xlabel('standardized units')\n",
      "pylab.gca().set_ylabel('% per standardized unit')\n",
      "pylab.legend()\n",
      "#pylab.gca().set_xlim([-2,4])\n",
      "#pylab.gca().set_yticks([])"
     ],
     "language": "python",
     "metadata": {},
     "outputs": []
    },
    {
     "cell_type": "markdown",
     "metadata": {},
     "source": [
      "\n",
      "One-sided  5% rejection rule\n",
      " for $H_0:\\mu \\geq 0$, df=5"
     ]
    },
    {
     "cell_type": "heading",
     "level": 3,
     "metadata": {
      "slideshow": {
       "slide_type": "slide"
      }
     },
     "source": [
      "Inference about a population mean"
     ]
    },
    {
     "cell_type": "markdown",
     "metadata": {},
     "source": [
      "\n",
      "Confidence interval\n",
      "\n",
      "* If $(X_1, \\dots, X_n)$ are independent, all having a normal distribution $N(\\mu, \\sigma^2)$, then a $(1 - \\alpha)$-confidence interval for $\\mu$ is $\\overline{ X} \\pm t_{n-1, 1 - \\alpha/2}\\cdot S_X / \\sqrt{n}$\n",
      "* That is, if $\\alpha=0.05$, and we repeat the experiment many times then 95% of the time, the true $\\mu$ will be in the interval $[\\overline{ X} - t_{n-1, 1 - \\alpha/2}\\cdot S_X / \\sqrt{n},\\overline{ X} + t_{n-1, 1 - \\alpha/2}\\cdot S_X / \\sqrt{n}]$\n",
      "* Again, $t_{n-1, 1-\\alpha/2}$ is the $1-\\frac \\alpha 2$ quantile of $t_{n-1}$ random variable, defined by ${\\mathbb{P}}(T_{n-1} \\leq t_{n-1,1-\\alpha/2}) = 1 - \\frac\\alpha 2.$"
     ]
    },
    {
     "cell_type": "heading",
     "level": 3,
     "metadata": {
      "slideshow": {
       "slide_type": "slide"
      }
     },
     "source": [
      "20 different confidence 85% intervals"
     ]
    },
    {
     "cell_type": "code",
     "collapsed": false,
     "input": [
      "%%R\n",
      "mu = 2\n",
      "nsample <- 500 # how many samples to generate\n",
      "nobs <- 10  # how many observations in each sample\n",
      "alpha <- 0.15\n",
      "\n",
      "CI.data <- matrix(0, nrow=nsample, ncol=2) # a matrix to store the data\n",
      "\n",
      "cover <- numeric(nsample) # a counter to see how many CIs contain 0\n",
      "for (i in 1:nsample) {\n",
      "  CI.data[i,] <- t.test(rnorm(nobs) + mu, conf.level=1-alpha)$conf.int\n",
      "  cover[i] <- (CI.data[i,1] < mu) * (CI.data[i,2] > mu) # add 1 if\n",
      "                                        # CI contains 0\n",
      "}\n",
      "print(sum(cover)/nsample) # coverage percentage, should be approx 1-alpha\n",
      "\n",
      "simulate = function() {\n",
      "nplot <- 20 # how many intervals to plot\n",
      "\n",
      "plot(c(-2+mu,2+mu), c(1, nplot), type='n', xlab='Confidence Intervals', ylab='Sample')\n",
      "for (i in 1:min(nsample, 20)) {\n",
      "  if (cover[i]) {\n",
      "    lines(CI.data[i,], rep(i,2), col='red', lwd=2) # add a red bar for\n",
      "                                        # each CI that covers\n",
      "  }\n",
      "  else {\n",
      "    lines(CI.data[i,], rep(i,2), col='blue', lwd=2) # add a red bar for\n",
      "                                        # each CI that covers\n",
      "  }\n",
      "}\n",
      "}\n",
      "simulate()"
     ],
     "language": "python",
     "metadata": {},
     "outputs": []
    },
    {
     "cell_type": "heading",
     "level": 3,
     "metadata": {
      "slideshow": {
       "slide_type": "slide"
      }
     },
     "source": [
      "Another 20"
     ]
    },
    {
     "cell_type": "code",
     "collapsed": false,
     "input": [
      "%%R\n",
      "mu = 2\n",
      "x=3\n",
      "nsample <- 500 # how many samples to generate\n",
      "nobs <- 10  # how many observations in each sample\n",
      "alpha <- 0.15\n",
      "\n",
      "CI.data <- matrix(0, nrow=nsample, ncol=2) # a matrix to store the data\n",
      "\n",
      "cover <- numeric(nsample) # a counter to see how many CIs contain 0\n",
      "for (i in 1:nsample) {\n",
      "  CI.data[i,] <- t.test(rnorm(nobs) + mu, conf.level=1-alpha)$conf.int\n",
      "  cover[i] <- (CI.data[i,1] < mu) * (CI.data[i,2] > mu) # add 1 if\n",
      "                                        # CI contains 0\n",
      "}\n",
      "print(sum(cover)/nsample) # coverage percentage, should be approx 1-alpha\n",
      "\n",
      "simulate = function() {\n",
      "nplot <- 20 # how many intervals to plot\n",
      "\n",
      "plot(c(-2+mu,2+mu), c(1, nplot), type='n', xlab='Confidence Intervals', ylab='Sample')\n",
      "for (i in 1:min(nsample, 20)) {\n",
      "  if (cover[i]) {\n",
      "    lines(CI.data[i,], rep(i,2), col='red', lwd=2) # add a red bar for\n",
      "                                        # each CI that covers\n",
      "  }\n",
      "  else {\n",
      "    lines(CI.data[i,], rep(i,2), col='blue', lwd=2) # add a red bar for\n",
      "                                        # each CI that covers\n",
      "  }\n",
      "}\n",
      "}\n",
      "simulate()"
     ],
     "language": "python",
     "metadata": {},
     "outputs": []
    },
    {
     "cell_type": "heading",
     "level": 3,
     "metadata": {
      "slideshow": {
       "slide_type": "slide"
      }
     },
     "source": [
      "Yet another 20"
     ]
    },
    {
     "cell_type": "code",
     "collapsed": false,
     "input": [
      "%%R\n",
      "mu = 2\n",
      "x=4\n",
      "nsample <- 500 # how many samples to generate\n",
      "nobs <- 10  # how many observations in each sample\n",
      "alpha <- 0.15\n",
      "\n",
      "CI.data <- matrix(0, nrow=nsample, ncol=2) # a matrix to store the data\n",
      "\n",
      "cover <- numeric(nsample) # a counter to see how many CIs contain 0\n",
      "for (i in 1:nsample) {\n",
      "  CI.data[i,] <- t.test(rnorm(nobs) + mu, conf.level=1-alpha)$conf.int\n",
      "  cover[i] <- (CI.data[i,1] < mu) * (CI.data[i,2] > mu) # add 1 if\n",
      "                                        # CI contains 0\n",
      "}\n",
      "print(sum(cover)/nsample) # coverage percentage, should be approx 1-alpha\n",
      "\n",
      "simulate = function() {\n",
      "nplot <- 20 # how many intervals to plot\n",
      "\n",
      "plot(c(-2+mu,2+mu), c(1, nplot), type='n', xlab='Confidence Intervals', ylab='Sample')\n",
      "for (i in 1:min(nsample, 20)) {\n",
      "  if (cover[i]) {\n",
      "    lines(CI.data[i,], rep(i,2), col='red', lwd=2) # add a red bar for\n",
      "                                        # each CI that covers\n",
      "  }\n",
      "  else {\n",
      "    lines(CI.data[i,], rep(i,2), col='blue', lwd=2) # add a red bar for\n",
      "                                        # each CI that covers\n",
      "  }\n",
      "}\n",
      "}\n",
      "simulate()"
     ],
     "language": "python",
     "metadata": {},
     "outputs": []
    },
    {
     "cell_type": "heading",
     "level": 3,
     "metadata": {
      "slideshow": {
       "slide_type": "slide"
      }
     },
     "source": [
      "Yes, 20 more"
     ]
    },
    {
     "cell_type": "code",
     "collapsed": false,
     "input": [
      "%%R\n",
      "mu = 2\n",
      "x=5\n",
      "nsample <- 500 # how many samples to generate\n",
      "nobs <- 10  # how many observations in each sample\n",
      "alpha <- 0.15\n",
      "\n",
      "CI.data <- matrix(0, nrow=nsample, ncol=2) # a matrix to store the data\n",
      "\n",
      "cover <- numeric(nsample) # a counter to see how many CIs contain 0\n",
      "for (i in 1:nsample) {\n",
      "  CI.data[i,] <- t.test(rnorm(nobs) + mu, conf.level=1-alpha)$conf.int\n",
      "  cover[i] <- (CI.data[i,1] < mu) * (CI.data[i,2] > mu) # add 1 if\n",
      "                                        # CI contains 0\n",
      "}\n",
      "print(sum(cover)/nsample) # coverage percentage, should be approx 1-alpha\n",
      "\n",
      "simulate = function() {\n",
      "nplot <- 20 # how many intervals to plot\n",
      "\n",
      "plot(c(-2+mu,2+mu), c(1, nplot), type='n', xlab='Confidence Intervals', ylab='Sample')\n",
      "for (i in 1:min(nsample, 20)) {\n",
      "  if (cover[i]) {\n",
      "    lines(CI.data[i,], rep(i,2), col='red', lwd=2) # add a red bar for\n",
      "                                        # each CI that covers\n",
      "  }\n",
      "  else {\n",
      "    lines(CI.data[i,], rep(i,2), col='blue', lwd=2) # add a red bar for\n",
      "                                        # each CI that covers\n",
      "  }\n",
      "}\n",
      "}\n",
      "simulate()"
     ],
     "language": "python",
     "metadata": {},
     "outputs": []
    },
    {
     "cell_type": "heading",
     "level": 3,
     "metadata": {
      "slideshow": {
       "slide_type": "slide"
      }
     },
     "source": [
      "A final 20"
     ]
    },
    {
     "cell_type": "code",
     "collapsed": false,
     "input": [
      "%%R\n",
      "mu = 2\n",
      "x=6\n",
      "nsample <- 500 # how many samples to generate\n",
      "nobs <- 10  # how many observations in each sample\n",
      "alpha <- 0.15\n",
      "\n",
      "CI.data <- matrix(0, nrow=nsample, ncol=2) # a matrix to store the data\n",
      "\n",
      "cover <- numeric(nsample) # a counter to see how many CIs contain 0\n",
      "for (i in 1:nsample) {\n",
      "  CI.data[i,] <- t.test(rnorm(nobs) + mu, conf.level=1-alpha)$conf.int\n",
      "  cover[i] <- (CI.data[i,1] < mu) * (CI.data[i,2] > mu) # add 1 if\n",
      "                                        # CI contains 0\n",
      "}\n",
      "print(sum(cover)/nsample) # coverage percentage, should be approx 1-alpha\n",
      "\n",
      "simulate = function() {\n",
      "nplot <- 20 # how many intervals to plot\n",
      "\n",
      "plot(c(-2+mu,2+mu), c(1, nplot), type='n', xlab='Confidence Intervals', ylab='Sample')\n",
      "for (i in 1:min(nsample, 20)) {\n",
      "  if (cover[i]) {\n",
      "    lines(CI.data[i,], rep(i,2), col='red', lwd=2) # add a red bar for\n",
      "                                        # each CI that covers\n",
      "  }\n",
      "  else {\n",
      "    lines(CI.data[i,], rep(i,2), col='blue', lwd=2) # add a red bar for\n",
      "                                        # each CI that covers\n",
      "  }\n",
      "}\n",
      "}\n",
      "simulate()"
     ],
     "language": "python",
     "metadata": {},
     "outputs": []
    },
    {
     "cell_type": "markdown",
     "metadata": {},
     "source": [
      "\n",
      "Out of 100, 90 covered the true mean..."
     ]
    },
    {
     "cell_type": "heading",
     "level": 3,
     "metadata": {
      "slideshow": {
       "slide_type": "slide"
      }
     },
     "source": [
      "Review"
     ]
    },
    {
     "cell_type": "markdown",
     "metadata": {},
     "source": [
      "\n",
      "Effect of calcium on BP\n",
      "\n",
      "* A study was conducted to study the effect of calcium supplements on blood pressure.\n",
      "* More detailed data description can be found [ here\n",
      "  \n",
      "  ](http://lib.stat.cmu.edu/DASL/Datafiles/Calcium.html).\n",
      "Questions\n",
      "\n",
      "* What is the mean decrease in BP in the treated group? placebo group?\n",
      "* What is the median decrease in BP in the treated group? placebo group?\n",
      "* What is the standard deviation of decrease in BP in the treated group? placebo group?\n",
      "* Is there a difference between the two groups? Did BP decrease more in the treated group?"
     ]
    },
    {
     "cell_type": "heading",
     "level": 3,
     "metadata": {
      "slideshow": {
       "slide_type": "slide"
      }
     },
     "source": [
      "Boxplot"
     ]
    },
    {
     "cell_type": "code",
     "collapsed": false,
     "input": [
      "%%R\n",
      "url = 'http://lib.stat.cmu.edu/DASL/Datafiles/Calcium.html'\n",
      "calcium.table <- read.table(url,header=T,skip=28,nrow=21)\n",
      "\n",
      "# Attach the table so R can find the variables Decrease and Treatment\n",
      "\n",
      "attach(calcium.table)\n",
      "\n",
      "# Numerical summaries of the two groups\n",
      "\n",
      "treated <- Decrease[(Treatment == 'Calcium')]\n",
      "placebo <- Decrease[(Treatment == 'Placebo')]\n",
      "\n",
      "boxplot(Decrease ~ Treatment, col='orange', pch=23, bg='red')"
     ],
     "language": "python",
     "metadata": {},
     "outputs": []
    },
    {
     "cell_type": "heading",
     "level": 3,
     "metadata": {
      "slideshow": {
       "slide_type": "slide"
      }
     },
     "source": [
      "Histogram of Treated response"
     ]
    },
    {
     "cell_type": "code",
     "collapsed": false,
     "input": [
      "%%R\n",
      "hist(treated, main='', xlab='Decrease', col='orange')"
     ],
     "language": "python",
     "metadata": {},
     "outputs": []
    },
    {
     "cell_type": "heading",
     "level": 3,
     "metadata": {
      "slideshow": {
       "slide_type": "slide"
      }
     },
     "source": [
      "Histogram of Placebo response"
     ]
    },
    {
     "cell_type": "code",
     "collapsed": false,
     "input": [
      "%%R\n",
      "hist(placebo, main='', xlab='Decrease', col='orange')"
     ],
     "language": "python",
     "metadata": {},
     "outputs": []
    },
    {
     "cell_type": "heading",
     "level": 3,
     "metadata": {
      "slideshow": {
       "slide_type": "slide"
      }
     },
     "source": [
      "Difference between means"
     ]
    },
    {
     "cell_type": "markdown",
     "metadata": {},
     "source": [
      "\n",
      "BP example\n",
      "\n",
      "* In our setting, we have two groups that we have reason to believe are different.\n",
      "* We have two samples:\n",
      "*     1. $(X_1, \\dots, X_{10})$ (Calcium)\n",
      "      1. $(Z_1, \\dots, Z_{11})$ (Placebo)\n",
      "* Does treatment have an effect?\n",
      "* We can answer this statistically by testing the null hypothesis $H_0:\\mu_X = \\mu_Z$?"
     ]
    },
    {
     "cell_type": "heading",
     "level": 3,
     "metadata": {
      "slideshow": {
       "slide_type": "slide"
      }
     },
     "source": [
      "Difference between means"
     ]
    },
    {
     "cell_type": "markdown",
     "metadata": {},
     "source": [
      "\n",
      "Testing $H_0:\\mu_X=\\mu_Z$\n",
      "\n",
      "* If variances are assumed equal, pooled $t$-test is appropriate $T = \\frac{\\overline{X} - \\overline{Z}}{S_P \\sqrt{\\frac{1}{10}\n",
      "     + \\frac{1}{11}}}, \\qquad S^2_P = \\frac{9 \\cdot S^2_X + 10 \\cdot S^2_Z}{19}.$\n",
      "* For two-sided test at level $\\alpha=0.05$, reject if $|T| > t_{19, 0.975}$.\n",
      "* Confidence interval: for example, a $90\\%$ confidence interval for $\\mu_X-\\mu_Z$ is $\\overline{X}-\\overline{Z} \\pm S_P \\sqrt{\\frac{1}{10}\n",
      "     + \\frac{1}{11}} \\cdot  t_{19,0.95}$"
     ]
    },
    {
     "cell_type": "heading",
     "level": 3,
     "metadata": {
      "slideshow": {
       "slide_type": "slide"
      }
     },
     "source": [
      "Difference between means"
     ]
    },
    {
     "cell_type": "markdown",
     "metadata": {},
     "source": [
      "\n",
      "Pooled estimate $S_P$\n",
      "\n",
      "* The rule for the $SD$ of differences is $SD(\\overline{X}-\\overline{Z}) = \\sqrt{SD(\\overline{X})^2+SD(\\overline{Z})^2}.$\n",
      "* By this rule, we might take our estimate to be $\\widehat{SD(\\overline{X}-\\overline{Z})} = \\sqrt{\\frac{S^2_X}{10} + \\frac{S^2_Z}{11}}$\n",
      "* But, the pooled estimate assumes ${\\mathbb{E}}(S^2_X)={\\mathbb{E}}(S^2_Z)=\\sigma^2$ and replaces the $S^2$\u2019s above with $S^2_P$, a \"better\" estimate of $\\sigma^2$ than either $S^2_X$ or $S^2_Z$."
     ]
    },
    {
     "cell_type": "heading",
     "level": 3,
     "metadata": {
      "slideshow": {
       "slide_type": "slide"
      }
     },
     "source": [
      "Difference between means"
     ]
    },
    {
     "cell_type": "markdown",
     "metadata": {},
     "source": [
      "\n",
      "Pooled estimate $S_P$\n",
      "\n",
      "* Where do we get 19 degrees of freedom?\n",
      "* Well, the $X$ (Treatment\n",
      "  ) sample has $10-1=9$ degrees of freedom to estimate $\\sigma^2$ while the $Z$ (Placebo\n",
      "  ) sample has $11-1=10$ degrees of freedom.\n",
      "* The total degrees of freedom is $9+10=19$."
     ]
    },
    {
     "cell_type": "heading",
     "level": 3,
     "metadata": {
      "slideshow": {
       "slide_type": "slide"
      }
     },
     "source": [
      "Our first regression model"
     ]
    },
    {
     "cell_type": "markdown",
     "metadata": {},
     "source": [
      "\n",
      "Unified dataset\n",
      "\n",
      "* Put two samples together: $Y=(X_1,\\dots, X_{10}, Z_1, \\dots, Z_{11}).$\n",
      "* Under the same assumptions as the pooled $t$-test: $\\begin{aligned}\n",
      "     Y_i &\\sim N(\\mu_i, \\sigma^2)\\\\\n",
      "     \\mu_i &=\n",
      "     \\begin{cases}\n",
      "     \\mu_X & 1 \\leq i \\leq 10 \\\\ \\mu_Z & 11 \\leq i \\leq 21\n",
      "     \\end{cases}\n",
      "     \\end{aligned}$"
     ]
    },
    {
     "cell_type": "heading",
     "level": 3,
     "metadata": {
      "slideshow": {
       "slide_type": "slide"
      }
     },
     "source": [
      "Our first regression model"
     ]
    },
    {
     "cell_type": "markdown",
     "metadata": {},
     "source": [
      "\n",
      "$t$-test as regression model\n",
      "\n",
      "* This is a (regression) model for the sample $Y$. The (qualitative) variable **Treatment **\n",
      "  \n",
      "   is called a \"covariate\" or \"predictor\".\n",
      "* The decrease in BP is an outcome variable.\n",
      "* We assume that the relationship between treatment and average decrease in BP is simple: it depends only on which group a subject is in.\n",
      "* This relationship is \"modelled\" through the mean vector $\\mu=(\\mu_1, \\dots, \\mu_{21})$."
     ]
    }
   ],
   "metadata": {}
  }
 ]
}