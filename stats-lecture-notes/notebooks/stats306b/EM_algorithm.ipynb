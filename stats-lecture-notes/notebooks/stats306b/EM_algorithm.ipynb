{
 "metadata": {
  "name": "EM_algorithm"
 },
 "nbformat": 3,
 "nbformat_minor": 0,
 "worksheets": [
  {
   "cells": [
    {
     "cell_type": "heading",
     "level": 1,
     "metadata": {
      "slideshow": {
       "slide_type": "slide"
      }
     },
     "source": [
      "The EM algorithm"
     ]
    },
    {
     "cell_type": "markdown",
     "metadata": {
      "slideshow": {
       "slide_type": "fragment"
      }
     },
     "source": [
      "In this set of notes, we discuss the *EM (Expectation-Maximization)* algorithm, which\n",
      "is a common algorithm used in statistical estimation to try and find the MLE. \n",
      "\n",
      "It is often used in situations that are *not* exponential families, but are derived from\n",
      "exponential families. A common mechanism by which these likelihoods are derived is through\n",
      "missing data, i.e. we only observe some of the sufficient statistics of the\n",
      "family."
     ]
    },
    {
     "cell_type": "heading",
     "level": 2,
     "metadata": {
      "slideshow": {
       "slide_type": "slide"
      }
     },
     "source": [
      "Mixture model"
     ]
    },
    {
     "cell_type": "markdown",
     "metadata": {
      "exercise": {
       "start": true
      },
      "slideshow": {
       "slide_type": "fragment"
      }
     },
     "source": [
      "A canonical application of the EM algorithm is its use in fitting a mixture model where\n",
      "we assume we observe an IID sample of $(X_i)_{1 \\leq i \\leq n}$ from\n",
      "$$\n",
      "\\begin{aligned}\n",
      "Y &\\sim \\text{Multinomial}(1,\\pi), \\qquad \\pi \\in \\real^L \\\\\n",
      "X|Y=l &\\sim \\Pp_{\\eta_l}\n",
      "\\end{aligned}\n",
      "$$\n",
      "with the simplest example of $\\Pp_{\\eta}$ being the univariate normal model \n",
      "$$\n",
      "\\Pp_{\\eta_l} = N(\\mu_l, \\sigma^2_l)\n",
      "$$\n",
      "keeping in mind that the parameters on the right are the mean space parameters, not the \n",
      "natural parameters."
     ]
    },
    {
     "cell_type": "markdown",
     "metadata": {
      "exercise": {
       "input": true,
       "start": false
      },
      "slideshow": {
       "slide_type": "fragment"
      }
     },
     "source": [
      "### *Exercise*\n",
      "\n",
      "1. Show that the joint distribution of $(X,Y)$ is an exponential family. What is\n",
      "its reference measure, its sufficient statistics? Write out the log-likelihood\n",
      "based on observing an IID sample $(X_i,Y_i)_{1 \\leq i \\leq n}$ for this model.\n",
      "Call this $\\ell_c(\\eta;X,Y)$ the complete likelihood.\n",
      "\n",
      "2. What is the marginal density of $X$? \n",
      "\n",
      "3. Write out the log-likelihood $\\ell(\\eta;X)$ based on observing an IID sample $(X_i)_{1 \\leq i \\leq n}$ from this model. What are its parameters?"
     ]
    },
    {
     "cell_type": "markdown",
     "metadata": {
      "slideshow": {
       "slide_type": "fragment"
      }
     },
     "source": [
      "In the mixture model, we only observe $X$, though the marginal distribution of $X$ is the same as if we had generated pairs $(X,Y)$ and marginalized over $Y$. In this problem, $Y$ is *missing data* which we might call $M$, and $X$ is observed data which we might call $O$. Formally, then, we partition our sufficient statistic into two sets: those observed, and those missing."
     ]
    },
    {
     "cell_type": "heading",
     "level": 2,
     "metadata": {
      "slideshow": {
       "slide_type": "slide"
      }
     },
     "source": [
      "The EM algorithm"
     ]
    },
    {
     "cell_type": "markdown",
     "metadata": {
      "slideshow": {
       "slide_type": "fragment"
      }
     },
     "source": [
      "The EM algorithm usually has two steps, both of which are based on the following function\n",
      "$$\n",
      "Q(\\eta; \\tilde{\\eta}) = \\Ee_{\\tilde{\\eta}} \\left( \\ell_c(\\eta;O,M) \\bigl|O \\right)\n",
      "$$"
     ]
    },
    {
     "cell_type": "markdown",
     "metadata": {
      "slideshow": {
       "slide_type": "fragment"
      }
     },
     "source": [
      "The basis of the EM algorithm is the following result:\n",
      "$$\n",
      "Q(\\eta;\\tilde{\\eta}) \\geq Q(\\tilde{\\eta};\\tilde{\\eta}) \\implies \\ell(\\eta;O) \\geq \\ell(\\tilde{\\eta};O).\n",
      "$$\n",
      "\n",
      "Therefore, any sequence $(\\eta^{(k)})_{k \\geq 1}$ satisfying\n",
      "$$\n",
      "Q(\\eta^{(k+1)};\\eta^{(k)}) \\geq Q(\\eta^{(k)};\\eta^{(k)})\n",
      "$$\n",
      "has $\\ell(\\eta^{(k)};O)$ non-decreasing. An algorithm that produces such a sequence is called a *GEM* algorithm (generalized EM algorithm)."
     ]
    },
    {
     "cell_type": "markdown",
     "metadata": {
      "slideshow": {
       "slide_type": "fragment"
      }
     },
     "source": [
      "The proof of this is fairly straightforward after some initial slight of hand.\n",
      "After this slight of hand, we see the main ingredient in the proof is\n",
      "deviance of the conditional distribution of $M|O$. In the general case, this deviance\n",
      "is not expressed in terms natural parameters but the argument is the same."
     ]
    },
    {
     "cell_type": "markdown",
     "metadata": {
      "slideshow": {
       "slide_type": "slide"
      }
     },
     "source": [
      "Here is the proof: writing the joint distribution of $(O,M)$ (assuming it has a\n",
      "density with respect to $\\Pp_0$) as\n",
      "$$\n",
      " \\frac{d\\Pp_{\\eta}}{d\\Pp_0}  = f_{\\eta,(O,M)}(o,m) = f_{\\eta,O}(o) \\cdot f_{\\eta,M|O}(m|o)\n",
      "$$\n",
      "where the $f$'s are densities with respect to $\\Pp_0$.\n",
      "Or,\n",
      "$$\n",
      "f_{\\eta,O}(o) = \\frac{f_{\\eta,(O,M)}(o,m)}{ f_{\\eta,M|O}(m|o)}.\n",
      "$$\n",
      "Although the RHS seems to depend on $m$, the above equality shows that it is \n",
      "actually measurable with respect to $o$."
     ]
    },
    {
     "cell_type": "markdown",
     "metadata": {
      "slideshow": {
       "slide_type": "fragment"
      }
     },
     "source": [
      "We see that\n",
      "$$\n",
      "\\begin{aligned}\n",
      "\\ell(\\eta;O) &=\n",
      "\\sum_{i=1}^n \\log f_{\\eta}(O_i) \\\\ &= \\sum_{i=1}^n \\left[\\log f_{\\eta}(O_i,M_i) - \\log f_{\\eta}(M_i|O_i)\\right] \\\\\n",
      "\\\\ &= \\sum_{i=1}^n \\left[\\log f_{\\eta}(O_i,M_i) - \\log f_{\\eta}(M_i|O_i)\\right] \\\\\n",
      "\\end{aligned}\n",
      "$$\n",
      "where we know that $f_{\\eta}(m|o)$ is an exponential family for $O$ fixed."
     ]
    },
    {
     "cell_type": "markdown",
     "metadata": {
      "slideshow": {
       "slide_type": "slide"
      }
     },
     "source": [
      "The right hand side is measurable with respect to $O$ so its conditional expectation with respect to $O$ leaves it unchanged. Therefore, for any $\\tilde{\\eta}$ we have the equality\n",
      "$$\n",
      "\\begin{aligned}\n",
      "\\ell(\\eta;O) &=\n",
      "\\sum_{i=1}^n \\log f_{\\eta}(O_i) \\\\ &= \\sum_{i=1}^n \\left[\\log f_{\\eta}(O_i,M_i) - \\log f_{\\eta}(M_i|O_i)\\right] \\\\\n",
      "\\\\ &= \\sum_{i=1}^n \\left[\\Ee_{\\tilde{\\eta}}\\left(\\log f_{\\eta}(O_i,M_i)  \\bigl|O\\right) - \\Ee_{\\tilde{\\eta}}\\left(\\log f_{\\eta}(M_i|O_i)\\bigr| O \\right)\\right] \\\\\n",
      "&= \\Ee_{\\tilde{\\eta}} \\left(\\ell_c(\\eta;O,M) \\bigr| O \\right) - \\sum_{i=1}^n \\Ee_{\\tilde{\\eta}}\\left(\\log f_{\\eta}(M_i|O_i)\\bigr| O_i \\right) \\\\\n",
      "&= Q(\\eta;\\tilde{\\eta}) - \\sum_{i=1}^n \\Ee_{\\tilde{\\eta}}\\left(\\log f_{\\eta}(M_i|O_i)\\bigr| O_i \\right).\n",
      "\\end{aligned}\n",
      "$$"
     ]
    },
    {
     "cell_type": "markdown",
     "metadata": {
      "slideshow": {
       "slide_type": "fragment"
      }
     },
     "source": [
      "Now,\n",
      "$$\n",
      "\\begin{aligned}\n",
      "\\ell(\\eta;O) - \\ell(\\tilde{\\eta};O) &= Q(\\eta;\\tilde{\\eta}) - Q(\\tilde{\\eta};\\tilde{\\eta}) \\\\\n",
      "& \\qquad + \\   \\sum_{i=1}^n \\left[ \\Ee_{\\tilde{\\eta}}\\left(\\log f_{\\tilde{\\eta}}(M_i|O_i)\\bigr| O_i \\right) - \\Ee_{\\tilde{\\eta}}\\left(\\log f_{\\eta}(M_i|O_i)\\bigr| O_i \\right)  \\right]\n",
      "\\end{aligned}\n",
      "$$"
     ]
    },
    {
     "cell_type": "markdown",
     "metadata": {
      "slideshow": {
       "slide_type": "slide"
      }
     },
     "source": [
      "The term\n",
      "$$\n",
      "\\sum_{i=1}^n \\left[ \\Ee_{\\tilde{\\eta}}\\left(\\log f_{\\tilde{\\eta}}(M_i|O_i)\\bigr| O \\right) - \\Ee_{\\tilde{\\eta}}\\left(\\log f_{\\eta}(M_i|O_i)\\bigr| O \\right)  \\right]\n",
      "$$\n",
      "is essentially half the deviance of the exponential family of conditional distributions\n",
      "for $M|O$ with sufficient statistics $M$."
     ]
    },
    {
     "cell_type": "markdown",
     "metadata": {
      "slideshow": {
       "slide_type": "fragment"
      }
     },
     "source": [
      "To see this, recall our general form of the conditional density of $T_1|T_2=s_2$\n",
      "for an $\\real^p$ valued sufficient statistic partitioned as $T_1 \\in \\real^k, T_2 \\in \\real^{p-k}$:\n",
      "$$\n",
      "\\begin{aligned}\n",
      "f_{T_1|T_2=s_2}(t_1) &=\n",
      " \\frac{f_{T_1,T_2}(t_1,s_2)}{\\int_{\\real^{k}} f_{T_1,T_2}(s_1,s_2) \\; ds_1} \\\\\n",
      "&  = \\frac{e^{\\eta_1^Tt_1+\\eta_2^Ts_2} \\tilde{m}_0(t_1,s_2)}{\\int_{\\real^{k}} e^{\\eta_1^Ts_1+\\eta_2^Ts_2} \\tilde{m}_0(s_1,s_2)  \\; ds_1} \\\\\n",
      "&= \\frac{e^{\\eta_1^Tt_1} \\tilde{m}_0(t_1,s_2)}{\\int_{\\real^{k}} e^{\\eta_1^Ts_1} \\tilde{m}_0(s_1,s_2)  \\; ds_1} \\\\\n",
      "\\end{aligned}\n",
      "$$"
     ]
    },
    {
     "cell_type": "markdown",
     "metadata": {
      "slideshow": {
       "slide_type": "slide"
      }
     },
     "source": [
      "Therefore, with $C$ a function independent of $\\eta$\n",
      "$$\n",
      "\\begin{aligned}\n",
      "\\log f_{\\eta}(M_i|O_i) &= {\\eta}_M^TM_i  - \\log \\left(\\int_{\\real^{k}} e^{{\\eta}_M^Ts} \\tilde{m}_0(s,O_i)  \\; ds \\right)  + C(M_i,O_i) \\\\\n",
      "&= {\\eta}_M^TM_i - \\tilde{\\CGF}({\\eta}_M,O_i) + C(M_i,O_i)\n",
      "\\end{aligned}\n",
      "$$\n",
      "where $\\tilde{\\CGF}(\\eta_M,O_i)$ is the appropriate CGF for this conditional distribution.\n",
      "\n",
      "We see then, that\n",
      "$$\n",
      "\\begin{aligned}\n",
      "\\log f_{\\tilde{\\eta}}(M_i|O_i) - \\log f_{\\eta}(M_i|O_i)\n",
      "&= \\tilde{\\CGF}({\\eta}_M,O_i) - \\tilde{\\CGF}(\\tilde{\\eta}_M,O_i) - (\\eta_M-\\tilde{\\eta}_M)^TM_i.\n",
      "\\end{aligned}\n",
      "$$\n",
      "\n",
      "Taking conditional expectation with respect to $O$ yields at $\\tilde{\\eta}$ yields\n",
      "$$\n",
      "\\sum_{i=1}^n \\Ee_{\\tilde{\\eta}}\\left(\\log f_{\\tilde{\\eta}}(M_i|O_i) - \\log f_{\\eta}(M_i|O_i) \\bigl|O \\right) = \\frac{1}{2} D(\\tilde{\\eta};\\eta|O) \\geq 0.\n",
      "$$"
     ]
    },
    {
     "cell_type": "heading",
     "level": 2,
     "metadata": {
      "slideshow": {
       "slide_type": "slide"
      }
     },
     "source": [
      "The two basic steps"
     ]
    },
    {
     "cell_type": "markdown",
     "metadata": {
      "slideshow": {
       "slide_type": "fragment"
      }
     },
     "source": [
      "The algorithm is often described as having two steps the *E* step and the *M* step.\n",
      "Formally, the *E* step can be described as evaluating $Q(\\eta;\\tilde{\\eta})$ with\n",
      "$\\tilde{\\eta}$ fixed. That is, fix $\\tilde{\\eta}$ and compute\n",
      "$$\n",
      "q_{\\tilde{\\eta}}(\\eta) = \\Ee_{\\tilde{\\eta}}\\left(\\ell_c(\\eta;O,M) \\bigl| O \\right)\n",
      "$$\n",
      "as a function of $\\eta$.\n",
      "\n",
      "The *M* is the maximization step and amounts to finding\n",
      "$$\n",
      "\\hat{\\eta}(\\tilde{\\eta}) \\in \\argmax_{\\eta} Q(\\eta;\\tilde{\\eta}) = \\argmax_{\\eta} q_{\\tilde{\\eta}}(\\eta).\n",
      "$$"
     ]
    },
    {
     "cell_type": "heading",
     "level": 2,
     "metadata": {
      "slideshow": {
       "slide_type": "slide"
      }
     },
     "source": [
      "EM algorithm for exponential families"
     ]
    },
    {
     "cell_type": "markdown",
     "metadata": {
      "slideshow": {
       "slide_type": "fragment"
      }
     },
     "source": [
      "The EM algorithm for exponential families takes a particularly nice form when the MLE map is nice in the complete data problem. Expressed sequentially, it can \n",
      "be expressed by the recursion\n",
      "$$\n",
      "\\hat{\\eta}^{(k+1)} = \\argmax_{\\eta} \\left[\\eta^T\\Ee_{\\eta^{(k)}}((M,O)|O) - \\CGF(\\eta)\\right].\n",
      "$$\n",
      "In other words, we need to form the conditional expectation of all the sufficient\n",
      "statistics given the sufficient statistics we did observe. Following this, we just\n",
      "return the MLE as if we had observed those sufficient statistics.\n",
      "\n",
      "Another way to phrase this is\n",
      "$$\n",
      "\\hat{\\eta}^{(k+1)} = \\nabla \\CGF^* \\left(\\Ee_{\\eta^{(k)}}((M,O)|O)\\right)\n",
      "$$"
     ]
    },
    {
     "cell_type": "heading",
     "level": 2,
     "metadata": {
      "slideshow": {
       "slide_type": "slide"
      }
     },
     "source": [
      "Mixture model example"
     ]
    },
    {
     "cell_type": "markdown",
     "metadata": {
      "slideshow": {
       "slide_type": "fragment"
      }
     },
     "source": [
      "In the mixture model, if we write $Y_i=(Y_{i1}, \\dots, Y_{iL})$ example the sufficient statistics can be taken to be\n",
      "$$\n",
      "t(X,Y) = \\left(\\sum_{i=1}^nY_{ij}, \\sum_{i=1}^nY_{ij}X_i, \\sum_{i=1}^nY_{ij}X_i^2 \\right)_{1 \\leq j \\leq L}.\n",
      "$$\n",
      "where only $\\sum_{j=1}^L Y_{ij} X_i=X_i, 1 \\leq i \\leq n$ is observed. "
     ]
    },
    {
     "cell_type": "markdown",
     "metadata": {
      "exercise": {
       "start": true
      },
      "slideshow": {
       "slide_type": "fragment"
      }
     },
     "source": [
      "### *Exercise*\n",
      "\n",
      "Use Bayes rule to show that, in our univariat e normal mixture model\n",
      "$$\n",
      "\\Pp_{\\eta}(Y=l|X=x) = \\frac{\\pi_l\\phi(x,\\mu_l,\\sigma^2_l)}{\\sum_{j=1}^L \\pi_j \\phi(x,\\mu_j,\\sigma^2_l)}\n",
      "$$\n",
      "where $\\phi(x,\\mu,\\sigma^2)$ is the univariate density of $N(\\mu,\\sigma^2_l)$."
     ]
    },
    {
     "cell_type": "markdown",
     "metadata": {
      "slideshow": {
       "slide_type": "slide"
      }
     },
     "source": [
      "If we set\n",
      "$$\n",
      "\\hat{\\gamma}_l(x,\\tilde{\\eta}) = \\Pp_{\\tilde{\\eta}}(Y=l|X=x)\n",
      "$$\n",
      "The above exercise shows that \n",
      "$$\n",
      "\\begin{aligned}\n",
      "\\Ee_{\\tilde{\\eta}} \\left( \\sum_{i=1}^n Y_{il}X_i \\bigl |X\\right) &= \\sum_{i=1}^n\\hat{\\gamma}_l(X_i,\\tilde{\\eta})X_i \\\\\n",
      "\\Ee_{\\tilde{\\eta}} \\left( \\sum_{i=1}^n Y_{il}X_i^2  \\bigl| X\\right) &= \\sum_{i=1}^n\\hat{\\gamma}_l(X_i,\\tilde{\\eta})X_i^2 \\\\\n",
      "\\Ee_{\\tilde{\\eta}} \\left( \\sum_{i=1}^n Y_{il}  \\bigl| X\\right) &= \\sum_{i=1}^n\\hat{\\gamma}_l(X_i,\\tilde{\\eta})\n",
      "\\end{aligned}\n",
      "$$"
     ]
    },
    {
     "cell_type": "markdown",
     "metadata": {
      "slideshow": {
       "slide_type": "slide"
      }
     },
     "source": [
      "The usual MLE map (for the mean parameters) in this model can be expressed as\n",
      "$$\n",
      "\\begin{aligned}\n",
      "\\hat{\\pi}_l &= \\sum_{i=1}^n Y_{il}/n \\\\\n",
      "\\hat{\\mu}_l &= \\frac{\\sum_{i=1}^n Y_{il} X_i}{\\sum_{i=1}^n Y_{il}} \\\\\n",
      "\\hat{\\sigma}^2_l &= \\frac{\\sum_{i=1}^n Y_{il}(X_i - \\hat{\\mu}_l)^2}{\\sum_{i=1}^n  Y_{il}} \\\\\n",
      "&= \\frac{\\sum_{i=1}^n Y_{il} X_i^2}{\\sum_{i=1}^n  Y_{il}} - \\left(\\frac{\\sum_{i=1}^n Y_{il} X_i}{\\sum_{i=1}^n  Y_{il}} \\right)^2 \\\\\n",
      "\\end{aligned}\n",
      "$$"
     ]
    },
    {
     "cell_type": "markdown",
     "metadata": {
      "slideshow": {
       "slide_type": "slide"
      }
     },
     "source": [
      "This leads to the algorithm, given an initial set of parameters $\\eta^{(0)}$ we repeat the following updates for $k \\geq 0$:\n",
      "\n",
      "* Form the *responsibilities* $\\hat{\\gamma}_l(X_i; \\eta^{(k)}), 1 \\leq l \\leq L, 1 \\leq i \\leq n$.\n",
      "\n",
      "* Compute \n",
      "$$\n",
      "\\begin{aligned}\n",
      "\\hat{\\pi}_l^{(k+1)} &= \\sum_{i=1}^n \\hat{\\gamma}_l(X_i; \\eta^{(k)}) / n \\\\\n",
      "\\hat{\\mu}_l^{(k+1)} &= \\frac{\\sum_{i=1}^n \\hat{\\gamma}_l(X_i; \\eta^{(k)}) X_i}{\\sum_{i=1}^n \\hat{\\gamma}_l(X_i; \\eta^{(k)})} \\\\\n",
      "\\hat{\\sigma^2}_l^{(k+1)} &= \\frac{\\sum_{i=1}^n \\hat{\\gamma}_l(X_i; \\eta^{(k)}) X_i^2}{\\sum_{i=1}^n \\hat{\\gamma}_l(X_i; \\eta^{(k)})} - \\left(\\hat{\\mu}_l^{(k+1)}\\right)^2 \\\\\n",
      "\\end{aligned}\n",
      "$$\n",
      "\n",
      "* Repeat"
     ]
    },
    {
     "cell_type": "markdown",
     "metadata": {
      "slideshow": {
       "slide_type": "slide"
      }
     },
     "source": [
      "Let's test out our algorithm on some data from the mixture model."
     ]
    },
    {
     "cell_type": "code",
     "collapsed": false,
     "input": [
      "mu1, sigma1 = 2, 1\n",
      "mu2, sigma2 = -1, 0.8\n",
      "\n",
      "X1 = np.random.standard_normal(200)*sigma1 + mu1\n",
      "X2 = np.random.standard_normal(600)*sigma2 + mu2\n",
      "X = np.hstack([X1,X2])\n",
      "%R -i X plot(density(X))"
     ],
     "language": "python",
     "metadata": {
      "slideshow": {
       "slide_type": "fragment"
      }
     },
     "outputs": [
      {
       "metadata": {},
       "output_type": "display_data",
       "png": "[encoded data removed]"
      }
     ],
     "prompt_number": 95
    },
    {
     "cell_type": "code",
     "collapsed": false,
     "input": [
      "def phi(x, mu, sigma):\n",
      "    \"\"\"\n",
      "    Normal density\n",
      "    \"\"\"\n",
      "    return np.exp(-(x-mu)**2 / (2 * sigma**2)) / np.sqrt(2 * np.pi * sigma**2)\n",
      "\n",
      "def responsibilities(X, params):\n",
      "    \"\"\"\n",
      "    Compute the responsibilites, as well as the likelihood at the\n",
      "    same time.\n",
      "    \"\"\"\n",
      "    mu1, mu2, sigma1, sigma2, pi1, pi2 = params\n",
      "    gamma1 = phi(X, mu1, sigma1) * pi1\n",
      "    gamma2 = phi(X, mu2, sigma2) * pi2\n",
      "    denom = gamma1 + gamma2\n",
      "    gamma1 /= denom\n",
      "    gamma2 /= denom\n",
      "    \n",
      "    return np.array([gamma1, gamma2]).T, np.log(denom).sum()\n",
      "\n",
      "mu1, mu2, sigma1, sigma2, pi1, pi2 = 0, 1, 1, 4, 0.5, 0.5\n",
      "\n",
      "gamma, likelihood = responsibilities(X, (mu1, mu2, sigma1, sigma2, pi1, pi2))\n"
     ],
     "language": "python",
     "metadata": {
      "slideshow": {
       "slide_type": "slide"
      }
     },
     "outputs": [],
     "prompt_number": 96
    },
    {
     "cell_type": "markdown",
     "metadata": {
      "slideshow": {
       "slide_type": "slide"
      }
     },
     "source": [
      "Here is our recursive estimation procedure, which is fairly straightforward here."
     ]
    },
    {
     "cell_type": "code",
     "collapsed": false,
     "input": [
      "niter = 20\n",
      "n = X.shape[0]\n",
      "\n",
      "values = []\n",
      "for _ in range(niter):\n",
      "    gamma, likelihood = responsibilities(X, (mu1, mu2, sigma1, sigma2, pi1, pi2))\n",
      "    pi1, pi2  = gamma.sum(0) / n\n",
      "    mu1 = (gamma[:,0] * X).sum() / (pi1*n)\n",
      "    mu2 = (gamma[:,1] * X).sum() / (pi2*n)\n",
      "    sigma1_sq = (gamma[:,0] * X**2).sum() / (n*pi1) - mu1**2\n",
      "    sigma2_sq = (gamma[:,1] * X**2).sum() / (n*pi2) - mu2**2\n",
      "    sigma1 = np.sqrt(sigma1_sq)\n",
      "    sigma2 = np.sqrt(sigma2_sq)\n",
      "    \n",
      "    values.append(likelihood)"
     ],
     "language": "python",
     "metadata": {
      "slideshow": {
       "slide_type": "fragment"
      }
     },
     "outputs": [],
     "prompt_number": 97
    },
    {
     "cell_type": "markdown",
     "metadata": {
      "slideshow": {
       "slide_type": "slide"
      }
     },
     "source": [
      "We can track the value of the likelihood and, since we have an EM algorithm, the\n",
      "likelihood should be monotone with iterations."
     ]
    },
    {
     "cell_type": "code",
     "collapsed": false,
     "input": [
      "plt.plot(values)\n",
      "plt.gca().set_ylabel(r'$\\ell^{(k)}$')\n",
      "plt.gca().set_xlabel(r'Iteration $k$')"
     ],
     "language": "python",
     "metadata": {
      "slideshow": {
       "slide_type": "fragment"
      }
     },
     "outputs": [
      {
       "metadata": {},
       "output_type": "pyout",
       "prompt_number": 100,
       "text": [
        "<matplotlib.text.Text at 0xdbd6fb0>"
       ]
      },
      {
       "metadata": {},
       "output_type": "display_data",
       "png": "[encoded data removed]",
       "text": [
        "<matplotlib.figure.Figure at 0x97ccff0>"
       ]
      }
     ],
     "prompt_number": 100
    },
    {
     "cell_type": "markdown",
     "metadata": {
      "slideshow": {
       "slide_type": "slide"
      }
     },
     "source": [
      "Let's plot our density estimate to see how well the mixture model was fit."
     ]
    },
    {
     "cell_type": "code",
     "collapsed": false,
     "input": [
      "%%R -i pi1,pi2,sigma1,sigma2,mu1,mu2\n",
      "X = sort(X)\n",
      "plot(X, pi1*dnorm(X,mu1,sigma1)+pi2*dnorm(X,mu2,sigma2), col='red', lwd=2, type='l', ylab='Density')\n",
      "lines(density(X))"
     ],
     "language": "python",
     "metadata": {
      "slideshow": {
       "slide_type": "fragment"
      }
     },
     "outputs": [
      {
       "metadata": {},
       "output_type": "display_data",
       "png": "[encoded data removed]"
      }
     ],
     "prompt_number": 101
    },
    {
     "cell_type": "markdown",
     "metadata": {
      "exercise": {
       "start": true
      },
      "slideshow": {
       "slide_type": "slide"
      }
     },
     "source": [
      "### *Exercise*\n",
      "\n",
      "1. Refit the mixture model assuming the variance is the same within each class, i.e. $\\sigma^2_l=\\sigma^2$, independent of class $l$.\n",
      "\n",
      "2. Try fitting 3 and 4 component mixture models to the above data which only has two. What do you expect to see in the fitted density?"
     ]
    },
    {
     "cell_type": "heading",
     "level": 2,
     "metadata": {
      "slideshow": {
       "slide_type": "slide"
      }
     },
     "source": [
      "Gaussian random effects model"
     ]
    },
    {
     "cell_type": "markdown",
     "metadata": {
      "slideshow": {
       "slide_type": "fragment"
      }
     },
     "source": [
      "Another application of the EM algorithm is to random or linear mixed effects models. \n",
      "One version of a linear mixed effect model is\n",
      "$$\n",
      "Y \\bigl| X,Z \\sim N\\left(X\\beta, \\sigma^2 I + Z\\Sigma Z^T \\right)\n",
      "$$\n",
      "where $X$ is a fixed effects design matrix, $Z$ is a random effect\n",
      "design matrix and $\\Sigma$ is a covariance matrix that must be estimated along with \n",
      "$\\sigma$. \n",
      "\n",
      "The covariance matrix $\\Sigma$ might not be estimated in a completely unrestricted fashion. In the example below, the model is $\\Sigma =\\sigma^2_{\\alpha} \\cdot I$ for some constant."
     ]
    },
    {
     "cell_type": "markdown",
     "metadata": {
      "slideshow": {
       "slide_type": "fragment"
      }
     },
     "source": [
      "This distribution is the same as the distribution of\n",
      "$$\n",
      "X\\beta + Z\\alpha + \\epsilon \\bigl | X, Z\n",
      "$$\n",
      "where $\\alpha \\sim N(0,\\Sigma), \\epsilon \\sim N(0, \\sigma^2 I)$ independently given $X, Z$."
     ]
    },
    {
     "cell_type": "markdown",
     "metadata": {
      "exercise": {
       "start": true
      },
      "slideshow": {
       "slide_type": "fragment"
      }
     },
     "source": [
      "The simplest version of such a random effects model would one in which observations were\n",
      "grouped by subjects and each subject had a random intercept\n",
      "$$\n",
      "\\begin{aligned}\n",
      "Y_{ij} &= X_i^T\\beta + \\alpha_i + \\epsilon_{ij}, \\qquad 1 \\leq i \\leq n, 1 \\leq j \\leq n_i \\\\\n",
      "\\epsilon_{ij} &\\sim N(0,\\sigma^2) \\\\\n",
      "\\alpha_i & \\sim N(0,\\sigma^2_{\\alpha})\n",
      "\\end{aligned}\n",
      "$$\n",
      "with the $\\epsilon$'s and $\\alpha$'s being independent.\n",
      "\n",
      "This corresponds to $Z$ being a design matrix of indicator variables for a factor that has $n$ levels, i.e. `subject`. Here, the matrix $\\Sigma= \\sigma^2_{\\alpha} \\cdot I_{n \\times n}$."
     ]
    },
    {
     "cell_type": "markdown",
     "metadata": {
      "exercise": {
       "input": true
      },
      "slideshow": {
       "slide_type": "slide"
      }
     },
     "source": [
      "### *Exercise*\n",
      "\n",
      "Define the complete data to be $(Y_{ij}, \\alpha_i, X_i)_{1 \\leq i \\leq n, 1 \\leq j \\leq n_i}$ and assume you are only\n",
      "able to observe $(Y_{ij}, X_i)_{1 \\leq i \\leq n, 1 \\leq j \\leq n_i}$.\n",
      "\n",
      "1. What are the sufficient statistics for the joint likelihood of the complete data (conditional on $X$)?\n",
      "\n",
      "2. What is the conditional distribution of $\\alpha_i | Y_{ij}, X_i 1 \\leq j \\leq n$?\n",
      "\n",
      "3. Describe the EM algorithm to estimate $(\\beta,\\sigma^2, \\sigma^2_{\\alpha})$. \n",
      "\n",
      "4. How would you estimate the accuracy of $\\sigma^2_{\\alpha}$?"
     ]
    },
    {
     "cell_type": "code",
     "collapsed": false,
     "input": [],
     "language": "python",
     "metadata": {},
     "outputs": []
    }
   ],
   "metadata": {}
  }
 ]
}