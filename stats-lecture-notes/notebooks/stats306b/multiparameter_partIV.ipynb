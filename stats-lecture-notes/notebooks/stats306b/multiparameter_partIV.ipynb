{
 "metadata": {
  "name": "multiparameter_partIV"
 },
 "nbformat": 3,
 "nbformat_minor": 0,
 "worksheets": [
  {
   "cells": [
    {
     "cell_type": "heading",
     "level": 1,
     "metadata": {
      "slideshow": {
       "slide_type": "slide"
      }
     },
     "source": [
      "General properties"
     ]
    },
    {
     "cell_type": "markdown",
     "metadata": {
      "slideshow": {
       "slide_type": "fragment"
      }
     },
     "source": [
      "By this point, we've seen many examples of exponential families as well as some algorithms related to them:\n",
      "\n",
      "1. maximum likelihood estimation $\\CGF^*$ via Newton-Raphson, constrained to remain in $\\D(\\CGF)$;\n",
      "\n",
      "2. constrained MLE: the Lagrange multiplier method;\n",
      "    \n",
      "3. stochastic approximation: when the $\\CGF$ is too complicated to compute;\n",
      "    \n",
      "4. Gibbs sampler: to simulate from $\\Pp_{\\eta}$;\n",
      "    \n",
      "5. pseudo-likelihood.\n",
      "\n"
     ]
    },
    {
     "cell_type": "markdown",
     "metadata": {
      "slideshow": {
       "slide_type": "fragment"
      }
     },
     "source": [
      "We now remind ourselves of a few general properties before considering the most \n",
      "*popular* class of exponential families: *generalized linear models*.\n",
      "   "
     ]
    },
    {
     "cell_type": "heading",
     "level": 2,
     "metadata": {
      "slideshow": {
       "slide_type": "slide"
      }
     },
     "source": [
      "Likelihoods, scores, and Fisher information"
     ]
    },
    {
     "cell_type": "markdown",
     "metadata": {
      "slideshow": {
       "slide_type": "fragment"
      }
     },
     "source": [
      "The definitions introduced for one-parameter families are readily generalized to the multiparameter situation. Indeed, we have already been using some of them. Below,\n",
      "we assume that we have sampled $Y_i \\overset{IID}{\\sim} \\Pp_{\\eta}, 1 \\leq i \\leq n.$\n",
      "\n",
      "1. The *log-likelihood* is\n",
      "$$\n",
      "\\ell(\\eta;\\yy) = \\ell(\\eta)  =  n[\\etabold^T\\bar{\\yy}\\\n",
      " -\\CGF(\\etabold)].\n",
      "$$\n",
      "\n",
      "2. The  *score function for $\\etabold$* is\n",
      "$$\n",
      "%\\label{eqn:score-etavector}\n",
      "\\nabla \\ell(\\eta)      =  n(\\bar{\\yy} - \\mubold).\n",
      "$$\n",
      "\n",
      "3. The *Fisher information for $\\etabold$*, denoted $\\ii_{\\etabold}^{(n)}$, is\n",
      "$$\n",
      "\\ii_{\\etabold}^{(n)}  \\equiv  \\EE_{\\etabold}\\left( \\nabla \\ell_{\\eta} \\nabla \\ell_{\\eta}^T\\right)  =  n\\VV_{\\eta}   = \\VV^{(n)}_{\\eta}\n",
      " =  -\\nabla^2 \\ell_{\\etabold}.\n",
      "$$\n",
      "\n",
      "4. The *score function for $\\mubold$* is\n",
      "$$\n",
      "\\frac{\\partial}{\\partial\\mubold}\\ell_{\\etabold}(\\yy) \\,\\, = \\,\\, \\left(\\frac{\\VV_{\\eta}}{n}\\right)^{-1}(\\bar{\\yy}-\\mubold).\n",
      "$$\n",
      "\n",
      "\n",
      "\n",
      "5. The *Fisher information for $\\mubold$*, denoted $\\ii_{\\etabold}^{(n)}(\\mubold)$, is\n",
      "$$\n",
      "\\ii_{\\etabold}^{(n)}(\\mubold)  =  \\VV^{-1}_{\\eta}i_{\\etabold}^{(n)}\\VV^{-1}_{\\eta}  =  n\\VV^{-1}_{\\eta}.\n",
      "$$"
     ]
    },
    {
     "cell_type": "markdown",
     "metadata": {
      "slideshow": {
       "slide_type": "fragment"
      }
     },
     "source": [
      "By differentiating the score function for $\\eta$, we see that $\\ell_{\\etabold}(\\yy)$ is a concave function of $\\etabold$, since $\\ddot{\\ell}_{\\etabold}=-n\\VV_{\\etabold} \\leq 0$.  In other words, the density \n",
      "$$\n",
      "\\frac{d\\Pp_{\\eta}}{dm}\n",
      "$$\n",
      "is *log-concave*.\n"
     ]
    },
    {
     "cell_type": "heading",
     "level": 2,
     "metadata": {
      "slideshow": {
       "slide_type": "slide"
      }
     },
     "source": [
      "Cramer-Rao lower bound"
     ]
    },
    {
     "cell_type": "markdown",
     "metadata": {
      "slideshow": {
       "slide_type": "fragment"
      }
     },
     "source": [
      "For real-valued $\\zeta=h(\\etabold)$, the *Cramer-Rao lower bound* for any unbiased estimator $\\bar{\\zeta}$ is\n",
      "$$\n",
      "\\begin{aligned}\n",
      "\\Vv_{\\eta}(\\bar{\\zeta})& \\geq \\frac{\\nabla{h}^T_{\\eta} \\VV^{-1}_{\\eta}\\nabla{h}_{\\eta}}{n}  \\\\\n",
      "& = \\nabla{h}_{\\eta}^T(\\ii_{\\etabold}^{(n)})^{-1}\\nabla{h}_{\\eta},\n",
      "\\end{aligned}\n",
      "$$\n",
      "\n",
      "For $\\zeta=H(\\mubold)$, the bound takes the form is\n",
      "$$\n",
      "\\Vv_{\\eta}(\\bar{\\zeta}) \\geq \\nabla H_{\\mu}^T[{\\ii_{\\etabold}^{(n)}(\\mubold)}]^{-1}\n",
      " \\nabla H_{\\mu}.\n",
      "$$\n"
     ]
    },
    {
     "cell_type": "markdown",
     "metadata": {
      "slideshow": {
       "slide_type": "fragment"
      }
     },
     "source": [
      "Notice that $ \\nabla H_{\\mu} ^T[{\\ii_{\\etabold}^{(n)}(\\mubold)}]^{-1} \\nabla H_{\\mu} $ is the delta method estimate of variance for $\\hat{\\zeta}=H(\\hat{\\mubold})=H(\\bar{\\yy})$.  In practice the variance estimate often used is\n",
      "$$\n",
      "\\widehat{\\Vv}_{\\etabold}(\\hat{\\zeta}) = \n",
      "\\nabla h_{\\hat{\\eta}}^T (\\ii_{\\hat{\\eta}}^{(n)})^{-1}\\nabla{h}_{\\hat{\\eta}}.\n",
      "$$"
     ]
    },
    {
     "cell_type": "markdown",
     "metadata": {
      "slideshow": {
       "slide_type": "fragment"
      }
     },
     "source": [
      "For the $\\mubold$ itself, $\\hat{\\mubold} = \\bar{\\yy}$ is unbiased. We also see that\n",
      "it achieves the CRLB:\n",
      "\\begin{eqnarray}\n",
      "\\Vv_{\\etabold}(\\hat{\\mubold}) \\overset{\\rm CRLB}{=} \\VV_{\\eta}/n  =  {i_{\\etabold}^{(n)}(\\mubold)}^{-1}\n",
      "\\end{eqnarray}"
     ]
    },
    {
     "cell_type": "heading",
     "level": 3,
     "metadata": {
      "slideshow": {
       "slide_type": "slide"
      }
     },
     "source": [
      "Distribution of the MLE"
     ]
    },
    {
     "cell_type": "markdown",
     "metadata": {
      "slideshow": {
       "slide_type": "fragment"
      }
     },
     "source": [
      "The CLT based on repeated sampling asserts that\n",
      "$$\n",
      "\\hat{\\mu} \\approx N(\\mu, \\VV_{\\eta}/n).\n",
      "$$\n",
      "While the mean and variance are correct, the approximation above is in the distribution,\n",
      "i.e. the distributional sense.\n",
      "\n",
      "Applying the delta rule yields\n",
      "$$\n",
      "\\hat{\\eta} \\approx N(\\eta, \\VV_{\\eta}^{-1}/n).\n",
      "$$\n",
      "In this case, the mean and variance are not exact, nor is the distribution exactly normal."
     ]
    },
    {
     "cell_type": "heading",
     "level": 3,
     "metadata": {
      "slideshow": {
       "slide_type": "slide"
      }
     },
     "source": [
      "Skewness and kurtosis"
     ]
    },
    {
     "cell_type": "markdown",
     "metadata": {
      "slideshow": {
       "slide_type": "fragment"
      }
     },
     "source": [
      "For multiparameter families, the mean is a $p$-vector, the covariance a $p \\times p$ matrix. These are, of course, just derivatives of $\\CGF$. Higher order derivatives\n",
      "are *tensors*. \n",
      "\n",
      "For skewness, there is a $p \\times p \\times p$ tensor, or multidimensional array\n",
      "that takes three vectors as argument. That is,\n",
      "$$\n",
      "\\nabla^3 \\CGF_{\\eta}(U,V,W) \\in \\real.\n",
      "$$"
     ]
    },
    {
     "cell_type": "markdown",
     "metadata": {
      "slideshow": {
       "slide_type": "fragment"
      }
     },
     "source": [
      "Formally, the power series for $\\CGF$ can be written as\n",
      "$$\n",
      "\\CGF(\\eta + \\Delta) = \\sum_{j=0}^{\\infty} \\frac{1}{j!} \\nabla^j \\CGF_{\\eta}(\\otimes^j \\Delta).\n",
      "$$"
     ]
    },
    {
     "cell_type": "markdown",
     "metadata": {
      "exercise": {
       "start": true
      },
      "slideshow": {
       "slide_type": "slide"
      }
     },
     "source": [
      "### *Exercise: skewness of a one-parameter subfamily*\n",
      "\n",
      "Suppose we consider the one-parameter subfamily\n",
      "$$\n",
      "\\left\\{\\eta=\\eta_0 + s \\cdot v, s \\in \\real, \\eta \\in \\D(\\CGF)\\right\\}.\n",
      "$$\n",
      "\n",
      "1. What is the sufficient statistic of this one-parameter subfamily (denote the \n",
      "sufficient statistic of the original family by $t(x)$).   \n",
      "\n",
      "2. Express the skewness and kurtosis of this sufficient statistic in terms of the\n",
      "derivatives of $\\CGF$."
     ]
    },
    {
     "cell_type": "heading",
     "level": 2,
     "metadata": {
      "slideshow": {
       "slide_type": "slide"
      }
     },
     "source": [
      "Stein's least favorable family"
     ]
    },
    {
     "cell_type": "markdown",
     "metadata": {
      "exercise": {
       "start": true
      },
      "slideshow": {
       "slide_type": "fragment"
      }
     },
     "source": [
      "Suppose we want to estimate $\\zeta=h(\\eta)=h(\\nabla \\CGF^*(\\mu))=s(\\mu)$, a real-valued\n",
      "function of $\\eta$.\n",
      "\n",
      "Stein's least favorable family is a one-parameter subfamily of the original family, determined by some hypothesized true value, say, $\\eta_0$ and the function $h$ (or, equivalently, $s$).\n",
      "\n",
      "The family is\n",
      "$$\n",
      "\\left\\{\\eta: \\eta=\\eta_0 + \\theta \\cdot \\VV_{\\eta_0}^{-1} \\nabla h_{\\eta_0}, \n",
      "\\theta \\in \\real, \\eta \\in \\D(\\CGF) \\right\\}.\n",
      "$$\n"
     ]
    },
    {
     "cell_type": "markdown",
     "metadata": {
      "exercise": {
       "input": false,
       "start": true
      },
      "slideshow": {
       "slide_type": "slide"
      }
     },
     "source": [
      "### *Exercise: Stein's least favorable family*\n",
      "\n",
      "1. Show that the CRLB for the above one-parameter family is the same as the\n",
      "CRLB in the full $p$-parameter family.\n",
      "\n"
     ]
    },
    {
     "cell_type": "heading",
     "level": 3,
     "metadata": {
      "slideshow": {
       "slide_type": "slide"
      }
     },
     "source": [
      "Deviance"
     ]
    },
    {
     "cell_type": "markdown",
     "metadata": {
      "slideshow": {
       "slide_type": "fragment"
      }
     },
     "source": [
      "Everything we saw previously about deviance remains true in the\n",
      "multiparameter case.\n",
      "\n",
      "$$\n",
      "\\begin{aligned}\n",
      "D(\\eta_1;\\eta_2) &= D(\\Pp_{\\eta_1};\\Pp_{\\eta_2})  \\\\\n",
      "&= 2 \\left[\\CGF(\\eta_2)-\\CGF(\\eta_1) - \\nabla \\CGF(\\eta_1)^T(\\eta_2-\\eta_1)\\right] \\\\\n",
      "&= 2 \\left[\\CGF^*(\\mu_1)-\\CGF^*(\\mu_2) - \\nabla \\CGF^*(\\mu_2)^T(\\mu_1-\\mu_2) \\right] \\\\\n",
      "&= \\tilde{D}(\\mu_1;\\mu_2).\n",
      "\\end{aligned}\n",
      "$$\n",
      "with $\\mu_i=\\nabla \\CGF(\\eta_i)$."
     ]
    },
    {
     "cell_type": "markdown",
     "metadata": {
      "slideshow": {
       "slide_type": "slide"
      }
     },
     "source": [
      "The deviance and Fisher information are both related to \n",
      "Taylor series expansions of $\\CGF$.\n",
      "\n",
      "$$\n",
      "\\begin{aligned}\n",
      "D(\\eta_1;\\eta_2) &= \\nabla^2 \\CGF_{\\eta_1}(\\eta_2-\\eta_1,\\eta_2-\\eta_1) + O (\\|\\eta_2-\\eta_1\\|^3) \\\\\n",
      "&= (\\eta_2-\\eta_1)^T \\ii_{\\etabold}^{(n)}(\\eta_2-\\eta_1) + O (\\|\\eta_2-\\eta_1\\|^3).\n",
      "\\end{aligned}\n",
      "$$\n",
      "where the constant in the remainder can be expressed in terms of a Lipschitz constant of\n",
      "$\\nabla^3 \\CGF$ near $\\eta_1$."
     ]
    },
    {
     "cell_type": "markdown",
     "metadata": {
      "exercise": {
       "start": true
      },
      "slideshow": {
       "slide_type": "slide"
      }
     },
     "source": [
      "### *Exercise: monotone mapping*\n",
      "\n",
      "Show that, in general\n",
      "$$\n",
      "(\\eta_2-\\eta_1)^T(\\mu_2-\\mu_1) = \\frac{1}{2} \\left[D(\\eta_1;\\eta_2)+D(\\eta_2;\\eta_1)\\right] \\geq 0\n",
      "$$\n",
      "with $\\mu_i = \\nabla \\CGF_{\\eta_i}$.\n",
      "\n",
      "This demonstrates that the relationship between is globally monotone, and is an example\n",
      "of the general concept of a [monotone mapping](http://www.stanford.edu/class/ee364b/lectures/monotone_slides.pdf), the canonical example being the (sub)gradient of a convex function."
     ]
    },
    {
     "cell_type": "heading",
     "level": 1,
     "metadata": {
      "slideshow": {
       "slide_type": "slide"
      }
     },
     "source": [
      "Generalized linear models"
     ]
    },
    {
     "cell_type": "markdown",
     "metadata": {
      "slideshow": {
       "slide_type": "fragment"
      }
     },
     "source": [
      "A generalized linear model (GLM) is a model the conditional\n",
      "distribution \n",
      "$${\\cal Y}|{\\cal X}, {\\cal X} \\in \\real^p, {\\cal Y} \\in \\real.$$\n",
      "\n",
      "The distribution of ${\\cal Y}|{\\cal X}$ is assumed to be in some\n",
      "one parameter exponential family $\\Pp_{\\eta}$ with sufficient statistic ${\\cal Y}$.\n",
      "\n",
      "(I am using ${\\cal X, Y}$ to ensure there is no confusion with the observed data $Y \\in \\real^n, X \\in \\real^{n \\times p}$ below)\n",
      "\n",
      "Therefore,\n",
      "$$\n",
      "{\\cal Y}|{\\cal X} \\sim \\Pp_{\\eta(X)}.\n",
      "$$"
     ]
    },
    {
     "cell_type": "markdown",
     "metadata": {
      "slideshow": {
       "slide_type": "slide"
      }
     },
     "source": [
      "The *linear* in GLM refers to the assumption that\n",
      "$$\n",
      "\\eta(x) = x^T\\beta, \\beta \\in \\real^p.\n",
      "$$\n",
      "\n",
      "The *model* refers to the assumption that we observe\n",
      "$$\n",
      "{\\cal Y}_i | {\\cal X}_i=x_i \\overset{\\text{indep}} {\\sim} \\Pp_{\\eta(x_i)}, \\qquad 1 \\leq i \\leq n,\n",
      "$$\n",
      "where the independence here is a statement on the distribution of the vector $Y=({\\cal Y}_1, \\dots, {\\cal Y}_n)$ given the\n",
      "matrix \n",
      "$$\n",
      "X_{n \\times p} = \\begin{pmatrix}\n",
      "x_1^T \\\\\n",
      "\\vdots \\\\\n",
      "x_n^T\n",
      "\\end{pmatrix}\n",
      "$$"
     ]
    },
    {
     "cell_type": "markdown",
     "metadata": {
      "slideshow": {
       "slide_type": "slide"
      }
     },
     "source": [
      "The parameters of the GLM are $\\beta$, and the loglikelihood is\n",
      "$$\n",
      "\\begin{aligned}\n",
      "\\ell(\\beta) &= \\sum_{i=1}^n \\eta_i(\\beta) \\cdot y_i - \\CGF(\\eta_i(\\beta)) \\\\\n",
      "&= \\sum_{i=1}^n (x_i^T\\beta) \\cdot y_i - \\CGF(x_i^T\\beta). \\\\\n",
      "\\end{aligned}\n",
      "$$"
     ]
    },
    {
     "cell_type": "markdown",
     "metadata": {
      "slideshow": {
       "slide_type": "slide"
      }
     },
     "source": [
      "We could write this in matrix form as\n",
      "$$\n",
      "\\ell(\\beta) = (X\\beta)^TY - \\CGF^{(n)}(X\\beta) = \\beta^T(X^TY) - \\CGF^{(n)}(X\\beta)\n",
      "$$\n",
      "where\n",
      "$$\n",
      "\\CGF^{(n)}(\\eta) = \\sum_{i=1}^n \\CGF(\\eta_i), \\eta \\in \\real^n.\n",
      "$$\n",
      "\n",
      "Written in this way, we see that the GLM is actually a $p$-parameter \n",
      "exponential family with sufficient statistic $X^TY$ and CGF $\\tilde{\\CGF}(\\beta) = \\CGF^{(n)}(X\\beta)$."
     ]
    },
    {
     "cell_type": "markdown",
     "metadata": {
      "slideshow": {
       "slide_type": "slide"
      }
     },
     "source": [
      "Let's untangle this statement a little more carefully. \n",
      "\n",
      "1. If it \n",
      "is an exponential family, it should be a collection of distributions. In this\n",
      "case it is a collection of conditional distributions for $Y|X$. These are\n",
      "distributions on $\\real^n$.\n",
      "\n",
      "2. If it is an exponential family, it should have a reference measure.\n",
      "In this case, the reference measure is the product\n",
      "$$\n",
      "\\prod_{i=1}^n m(dy_i)\n",
      "$$\n",
      "where $m$ is the reference measure of $\\Pp_{\\eta}$.\n",
      "\n",
      "3. If it is an exponential family, it should have a natural parameter and\n",
      "a sufficient statistic. In this case, the natural parameter is $\\beta$ and the\n",
      "sufficient statistic is $X^TY$.\n",
      "\n",
      "4. The fact that the $\\tilde{\\CGF}(\\beta)=\\CGF^{(n)}(X\\beta)$ follows directly from the likelihood and the modelling assumption that\n",
      "$\\eta_i=x_i^T\\beta$."
     ]
    },
    {
     "cell_type": "markdown",
     "metadata": {
      "slideshow": {
       "slide_type": "slide"
      }
     },
     "source": [
      "Strictly speaking, this GLM is one in which we have used the *canonical link*, i.e.\n",
      "$$\n",
      "\\eta_i = x_i^T\\beta.\n",
      "$$\n",
      "\n",
      "A model with a non-canonical link has\n",
      "$$\n",
      "\\eta_i = F(x_i^T\\beta).\n",
      "$$\n",
      "We will see examples shortly."
     ]
    },
    {
     "cell_type": "markdown",
     "metadata": {
      "exercise": {
       "start": true
      },
      "slideshow": {
       "slide_type": "fragment"
      }
     },
     "source": [
      "### *Exercise: link functions*\n",
      "\n",
      "Suppose we use a non-canonical link function. Is the collection of distributions\n",
      "$Y|X$ an exponential family with natural parameter $\\beta$?"
     ]
    },
    {
     "cell_type": "markdown",
     "metadata": {
      "exercise": {
       "start": true
      },
      "slideshow": {
       "slide_type": "fragment"
      }
     },
     "source": [
      "### *Exercise: GLM computations*\n",
      "\n",
      "1. Show that \n",
      "$$\n",
      "\\Ee_{\\beta}(X^TY) = X^T \\nabla \\CGF^{(n)}_{X\\beta}.\n",
      "$$\n",
      "\n",
      "2. Show that\n",
      "$$\n",
      "\\begin{aligned}\n",
      "\\Vv_{\\beta}(X^TY) &= X^T \\nabla^2 \\CGF^{(n)}_{X\\beta} X \\\\\n",
      "&= X^T \\text{diag}(\\ddot \\CGF(x_i^T\\beta)) X.\n",
      "\\end{aligned}\n",
      "$$"
     ]
    },
    {
     "cell_type": "heading",
     "level": 3,
     "metadata": {
      "slideshow": {
       "slide_type": "slide"
      }
     },
     "source": [
      "Score equation, Fisher information for GLM"
     ]
    },
    {
     "cell_type": "markdown",
     "metadata": {
      "slideshow": {
       "slide_type": "fragment"
      }
     },
     "source": [
      "The score equation for $\\beta$ is \n",
      "$$\n",
      "\\nabla \\ell_{\\beta} = X^T(Y-\\nabla \\CGF^{(n)}_{X\\beta}) = X^T(Y-\\mu(\\beta))\n",
      "$$\n",
      "where\n",
      "$$\n",
      "\\mu(\\beta) = \\nabla \\CGF^{(n)}_{X\\beta} \\in \\real^n.\n",
      "$$\n",
      "\n",
      "The Fisher information for $\\beta$ is \n",
      "$$\n",
      "- \\nabla^2 \\ell_{\\beta} = X^T \\text{diag}(\\ddot \\CGF(x_i^T\\beta)) X.\n",
      "$$"
     ]
    },
    {
     "cell_type": "markdown",
     "metadata": {
      "slideshow": {
       "slide_type": "fragment"
      }
     },
     "source": [
      "This diagonal matrix can be thought of as assigning a weight to each case, so we define\n",
      "$$\n",
      "W_{\\beta} = \\text{diag}(\\ddot \\CGF(x_i^T\\beta))\n",
      "$$\n",
      "and the Fisher information has the form\n",
      "$$\n",
      "-\\nabla^2 \\ell_{\\beta} = \\ii^{(n)}_{\\beta} =  X^TW_{\\beta}X.\n",
      "$$"
     ]
    },
    {
     "cell_type": "heading",
     "level": 3,
     "metadata": {
      "slideshow": {
       "slide_type": "slide"
      }
     },
     "source": [
      "Asymptotic distribution of MLE"
     ]
    },
    {
     "cell_type": "markdown",
     "metadata": {
      "slideshow": {
       "slide_type": "fragment"
      }
     },
     "source": [
      "The general asymptotic picture for exponential families yields\n",
      "$$\n",
      "\\hat{\\beta} \\approx N(\\beta, (\\ii^{(n)}_{\\beta})^{-1}) = N(\\beta, (X^TW_{\\beta}X)^{-1}).\n",
      "$$\n",
      "Above, both the mean and variance are approximate, as is the distribution itself.\n",
      "\n",
      "The asymptotics above are, strictly speaking, for $p$ fixed and $n \\rightarrow \\infty$.\n",
      "After estimation of the MLE, this distribution is usually approximated as\n",
      "$$\n",
      "N(\\beta, X^TW_{\\hat{\\beta}}X).\n",
      "$$"
     ]
    },
    {
     "cell_type": "heading",
     "level": 2,
     "metadata": {
      "slideshow": {
       "slide_type": "slide"
      }
     },
     "source": [
      "Estimation"
     ]
    },
    {
     "cell_type": "markdown",
     "metadata": {
      "slideshow": {
       "slide_type": "fragment"
      }
     },
     "source": [
      "Most generalized linear models are such that $\\tilde{\\CGF}(\\beta)=\\real^p$ so unconstrained Newton-Raphson can be used.\n",
      "\n",
      "The algorithm looks like\n",
      "$$\n",
      "\\begin{aligned}\n",
      "\\hat{\\beta}^{(k+1)} &= \\hat{\\beta}^{(k)} - \\nabla^2 \\tilde{\\CGF}\\left(\\hat{\\beta}^{(k)}\\right)^{-1} \\left[ \\nabla \\tilde{\\CGF}\\left(\\hat{\\beta}^{(k)} \\right) - X^TY \\right] \\\\\n",
      "&= \\hat{\\beta}^{(k)} - (X^TW_{\\hat{\\beta}^{(k)}}X)^{-1} \\left[X^T \\left(\\mu(\\hat{\\beta}^{(k)})-Y \\right) \\right]\n",
      "\\end{aligned}\n",
      "$$\n",
      "\n"
     ]
    },
    {
     "cell_type": "heading",
     "level": 3,
     "metadata": {
      "slideshow": {
       "slide_type": "slide"
      }
     },
     "source": [
      "MLE map"
     ]
    },
    {
     "cell_type": "markdown",
     "metadata": {
      "slideshow": {
       "slide_type": "fragment"
      }
     },
     "source": [
      "So far, for all of our exponential families, we have written the MLE map \n",
      "in terms of the Fenchel-Legendre transform of a CGF. The GLM should be no different.\n",
      "\n",
      "The mean value space is $\\nabla \\tilde{\\CGF}(\\real^p) \\subset \\real^p$ (I am assuming the\n",
      "$\\D(\\CGF)=\\real$ here), and the MLE map should be a map from\n",
      "$\\Mm$, the convex hull of $\\nabla \\tilde{\\CGF}(\\real^p)$ back to $\\real^p$."
     ]
    },
    {
     "cell_type": "markdown",
     "metadata": {
      "slideshow": {
       "slide_type": "fragment"
      }
     },
     "source": [
      "To find the Fenchel-Legendre transform, we would have to find\n",
      "$$\n",
      "\\tilde{\\CGF}^*(\\xi) = \\sup_{\\beta} \\xi^T\\beta - \\tilde{\\CGF}(\\beta).\n",
      "$$\n",
      "Or, we would solve\n",
      "$$\n",
      "\\minimize_{\\beta} \\tilde{\\CGF}(\\beta) - \\xi^T\\beta.\n",
      "$$"
     ]
    },
    {
     "cell_type": "markdown",
     "metadata": {
      "slideshow": {
       "slide_type": "slide"
      }
     },
     "source": [
      "In the GLM case, it is somewhat easier to use a dual function rather than\n",
      "the $\\tilde{\\CGF}^*$ itself, because we have an implicit constraint, namely\n",
      "$$\n",
      "\\eta_i=x_i^T\\beta.$$\n",
      "\n",
      "Our problem could then be stated formally as\n",
      "$$\n",
      "\\minimize_{\\eta, \\beta: \\eta=X\\beta} \\CGF^{(n)}(\\eta) - \\eta^TY \\equiv\n",
      "\\minimize_{\\eta, \\beta: \\eta=X\\beta} \\tilde{\\CGF}(\\beta) - (X\\beta)^TY\n",
      "$$"
     ]
    },
    {
     "cell_type": "markdown",
     "metadata": {
      "slideshow": {
       "slide_type": "fragment"
      }
     },
     "source": [
      "Above, we have used \n",
      "$$\n",
      "\\tilde{\\CGF}(\\beta) = \\CGF^{(n)}(X\\beta) = \\sum_{i=1}^n \\CGF(x_i^T\\beta).\n",
      "$$"
     ]
    },
    {
     "cell_type": "markdown",
     "metadata": {
      "slideshow": {
       "slide_type": "fragment"
      }
     },
     "source": [
      "As we did in the one parameter case, let's form the Lagrangian\n",
      "$$\n",
      "\\begin{aligned}\n",
      "L(\\eta,\\beta;r) \n",
      "&= \\eta^TY - \\CGF^{(n)}(\\eta) + r^T(X\\beta-\\eta) \\\\\n",
      "&= \\sum_{i=1}^n\\left[\\eta_iy_i - \\CGF(\\eta_i) + r_i(x_i^T\\beta-\\eta_i)\\right] \\\\\n",
      "&= L_1(\\eta;r) + L_2(\\beta;r)\n",
      "\\end{aligned}\n",
      "$$\n",
      "where we have grouped together terms involving $\\eta$ into $L_1(\\eta;r)$ and those involving $\\beta$ into $L_2(\\beta;r)$."
     ]
    },
    {
     "cell_type": "markdown",
     "metadata": {
      "slideshow": {
       "slide_type": "fragment"
      }
     },
     "source": [
      "Specifically,\n",
      "$$\n",
      "\\begin{aligned}\n",
      "L_1(\\eta;r) &= \\eta^T(Y-r) - \\CGF^{(n)}(\\eta)\\\\\n",
      "L_2(\\beta;r) &= r^TX\\beta \\\\\n",
      "\\end{aligned}\n",
      "$$"
     ]
    },
    {
     "cell_type": "markdown",
     "metadata": {
      "slideshow": {
       "slide_type": "fragment"
      }
     },
     "source": [
      "Minimizing  $L_1(\\eta;r)$ over  $\\eta$ yields\n",
      "$$\n",
      "-\\sum_{i=1}^n \\CGF^*(y_i-r_i)\n",
      "$$\n",
      "while minimizing $L_2(\\beta;r)$ over $\\beta$ yields a constraint \n",
      "$$\n",
      "\\sum_{i=1}^n r_ix_i^T = 0.\n",
      "$$\n",
      "Or, $r \\in \\text{null}(X^T)$."
     ]
    },
    {
     "cell_type": "heading",
     "level": 4,
     "metadata": {
      "slideshow": {
       "slide_type": "slide"
      }
     },
     "source": [
      "Dual problem"
     ]
    },
    {
     "cell_type": "markdown",
     "metadata": {
      "slideshow": {
       "slide_type": "fragment"
      }
     },
     "source": [
      "This is the general dual function\n",
      "$$\n",
      "G(r) = -\\inf_{\\eta}L_1(\\eta;r) - \\inf_{\\beta}L_2(\\beta;r)\n",
      "$$\n",
      "and dual problem\n",
      "$$\n",
      "\\minimize_r G(r) \\equiv \\minimize_{r:X^Tr=0} \\sum_{i=1}^n \\CGF^*(y_i-r_i).\n",
      "$$\n",
      "\n",
      "Having found $\\hat{r}$, the same calculation we saw for the Lagrange multipliers\n",
      "in the one-parameter case tell us that\n",
      "$$\n",
      "\\begin{aligned}\n",
      "\\hat{\\eta}_i &= \\dot\\CGF^*(y_i-\\hat{r}_i) \\\\\n",
      "&= X\\hat{\\beta}_i.\n",
      "\\end{aligned}\n",
      "$$"
     ]
    },
    {
     "cell_type": "markdown",
     "metadata": {
      "slideshow": {
       "slide_type": "fragment"
      }
     },
     "source": [
      "In vector form, this reads as\n",
      "$$\n",
      "\\hat{\\eta} = \\nabla \\left(\\CGF^{(n)}\\right)^*(Y - \\hat{r}).\n",
      "$$\n",
      "\n",
      "This yields\n",
      "$$\n",
      "\\hat{\\beta} = X^{\\dagger}\\left[\\left(\\nabla{\\CGF}^{(n)} \\right)^*(Y-\\hat{r}) \\right].\n",
      "$$\n",
      "where $X^{\\dagger}$ is the pseudoinverse with\n",
      "$$\n",
      "X^{\\dagger} = (X^TX)^{-1}X^T\n",
      "$$\n",
      "when $X^TX$ is non-singular."
     ]
    },
    {
     "cell_type": "markdown",
     "metadata": {
      "exercise": {
       "start": true
      },
      "slideshow": {
       "slide_type": "slide"
      }
     },
     "source": [
      "### *Exercise: variables in the dual problem*\n",
      "\n",
      "The notation $r$ for the variables in the dual problem suggest *residual*.\n",
      "\n",
      "1. Show that \n",
      "$$\n",
      "\\begin{aligned}\n",
      "\\hat{r} &= Y - \\nabla \\CGF^{(n)}(X\\hat{\\beta}) \\\\\n",
      "&= Y - \\hat{\\mu}.\n",
      "\\end{aligned}\n",
      "$$\n",
      "                                "
     ]
    },
    {
     "cell_type": "markdown",
     "metadata": {
      "exercise": {
       "start": true
      },
      "slideshow": {
       "slide_type": "fragment"
      }
     },
     "source": [
      "### *Exercise: influence function*\n",
      "\n",
      "This exercise computes the influence function of $\\hat{\\beta}$, i.e. \n",
      "$$\n",
      "\\frac{\\partial \\hat{\\beta}}{\\partial y}.\n",
      "$$\n",
      "\n",
      "1. Show that the influence function satisfies\n",
      "$$\n",
      "X^TW_{\\hat{\\beta}}X \\frac{\\partial \\hat{\\beta}}{\\partial y} = X^T.\n",
      "$$\n",
      "\n",
      "2. Suppose $n \\geq p$ and $X^TW_{\\hat{\\beta}}X$ is invertible. Conclude that\n",
      "$$\n",
      "\\frac{\\partial \\hat{\\beta}}{\\partial y} = \\left(X^TW_{\\hat{\\beta}}X\\right)^{-1}X^T.\n",
      "$$"
     ]
    },
    {
     "cell_type": "heading",
     "level": 3,
     "metadata": {
      "slideshow": {
       "slide_type": "slide"
      }
     },
     "source": [
      "Projection picture"
     ]
    },
    {
     "cell_type": "markdown",
     "metadata": {
      "slideshow": {
       "slide_type": "fragment"
      }
     },
     "source": [
      "\n",
      "The GLM is a $p$-parameter subfamily of the $n$-parameter family\n",
      "$$\n",
      "\\prod_{i=1}^n \\Pp_{\\eta_i}.\n",
      "$$\n",
      "\n",
      "When $p > n$, it can even be the same family in the sense that\n",
      "the map\n",
      "$$\n",
      "\\beta \\mapsto X\\beta\n",
      "$$\n",
      "covers all of $\\real^n$.\n",
      "\n",
      "In this case, the MLE is not generally unique. For $p \\leq n$, the set\n",
      "$$\n",
      "\\Mm_X = \\left\\{\\nabla \\CGF^{(n)}(X \\beta), \\beta \\in \\real^p\\right\\} = \\left\\{\\mu(\\beta): \\beta \\in \\real^p \\right\\}\n",
      "$$\n",
      "describes a curved subset of $\\real^n$."
     ]
    },
    {
     "cell_type": "markdown",
     "metadata": {
      "slideshow": {
       "slide_type": "fragment"
      }
     },
     "source": [
      "The score equation for $\\beta$ is\n",
      "$$\n",
      "X^T(Y - \\mu(\\hat{\\beta}))=0.\n",
      "$$\n",
      "Brad expresses this by saying that the MLE projects $Y$ onto $\\Mm_X$ \"orthogonal\" to the columns of $X$.\n",
      "\n",
      "This same score equation almost arises when we consider the least squares\n",
      "projection of $Y$ onto $\\Mm_X$. That is, if we try to solve the following problem\n",
      "$$\n",
      "\\minimize_{\\mu \\in \\Mm_X} \\|Y-\\mu\\|^2_2.\n",
      "$$\n",
      "\n",
      "Then, we see that critical points in $\\Mm_X$, when parameterizing\n",
      "the problem by $\\beta$ satisfy\n",
      "$$\n",
      "Y-\\mu(\\hat{\\beta}) \\perp T_{\\mu(\\hat{\\beta})}\\Mm_X\n",
      "$$\n",
      "where the last expression is the tangent space to the curved surface $\\Mm_X$ at\n",
      "$\\mu=\\mu(\\hat{\\beta})$."
     ]
    },
    {
     "cell_type": "markdown",
     "metadata": {
      "exercise": {
       "start": true
      },
      "slideshow": {
       "slide_type": "slide"
      }
     },
     "source": [
      "### *Exercise: tangent space computation*\n",
      "\n",
      "1. Show that the tangent space at $\\mu(\\hat{\\beta})$ is\n",
      "made up of the span of the vectors\n",
      "$$\n",
      "\\left(x_{1j} \\ddot{\\CGF}(x_1^T\\beta), \\dots,  x_{nj} \\ddot{\\CGF}(x_n^T\\beta)\\right), 1 \\leq j \\leq p.\n",
      "$$\n",
      "\n",
      "2. Write this in matrix form.\n",
      "\n",
      "3. Use this to fully write out the stationary condition for \n",
      "$$\n",
      "\\minimize_{\\mu \\in \\Mm_X} \\|Y-\\mu\\|^2_2.\n",
      "$$\n",
      "Is this the same as the MLE stationarity equation?\n"
     ]
    },
    {
     "cell_type": "heading",
     "level": 2,
     "metadata": {
      "slideshow": {
       "slide_type": "slide"
      }
     },
     "source": [
      "Example: using Poisson regression for density estimation"
     ]
    },
    {
     "cell_type": "markdown",
     "metadata": {
      "slideshow": {
       "slide_type": "fragment"
      }
     },
     "source": [
      "In this example, we will use Poisson regression to fit a density to the\n",
      "$t$-statistics we saw in our application of Tweedie's formula.\n",
      "Recall, we had $N=6033$ $t$-statistics for comparing a healthy \n",
      "population and to a cancerous one.\n",
      "\n",
      "Our model will be that the density has the form\n",
      "$$\n",
      "f_{\\beta}(x) = \\exp \\left(\\sum_{j=0}^7 \\beta_j x^j - \\CGF(\\beta)\\right).\n",
      "$$\n",
      "This is an 8-parameter exponential family of distributions on $\\real$ with\n",
      "Lebesgue as reference measure."
     ]
    },
    {
     "cell_type": "markdown",
     "metadata": {
      "slideshow": {
       "slide_type": "slide"
      }
     },
     "source": [
      "The basic approach will be to use the Poisson trick we saw in the conditioning\n",
      "section. \n",
      "\n",
      "1. We discretize $\\real$ into $K=50$ equal\n",
      "sized bins of size $\\Delta: B_i=(L_i,U_i], 1 \\leq i \\leq K$ and\n",
      "define $$Y_i = \\# \\left\\{Z_j: Z_j \\in B_i\\right\\}$$.\n",
      "                                                                \n",
      "2. We model $Y_i \\sim \\text{Poisson}(\\mu_i)$ where\n",
      "$$\n",
      "\\mu_i = N \\cdot \\int_{(L_i,U_i]} f_{\\beta}(x) \\;dx \\approx e^{\\alpha} \\exp( \\sum_{j=1}^7\\beta_j M_i^j ) = h(M_i)\n",
      "$$                                                                \n",
      "where $N$ is the number of observed $Z$'s and $M_i=(L_i+U_i)/2$ is the midpoint of the interval.\n",
      "\n",
      "3. We fit a Poisson GLM to the $Y_i$ with design matrix\n",
      "$$\n",
      "X = \\begin{pmatrix}\n",
      "1 & M_1 & M_1^2 & \\dots & M_1^7 \\\\\n",
      "1 & M_2 & M_2^2 & \\dots & M_2^7 \\\\\n",
      "\\vdots & \\vdots & \\vdots & \\dots & \\vdots \\\\\n",
      "1 & M_K & M_K^2 & \\dots & M_K^7 \\\\\n",
      "\\end{pmatrix}\n",
      "$$\n",
      "Actually, this design matrix is highly singular. We use `R`'s `poly` function which\n",
      "produces a design matrix with the same column span but is much better conditioned.\n",
      "\n",
      "4. This yields an estimated density\n",
      "$$\n",
      "\\hat{f}_{\\beta}(x) \\propto  \\exp \\left(\\hat{\\alpha} + \\sum_{j=1}^7 \\hat{\\beta}_j x^j \\right).\n",
      "$$"
     ]
    },
    {
     "cell_type": "code",
     "collapsed": false,
     "input": [
      "%%R\n",
      "library(sda)\n",
      "data(singh2002)\n",
      "labels = singh2002$y\n",
      "print(summary(labels))\n",
      "expression_data = singh2002$x\n",
      "tvals = c()\n",
      "for (i in 1:6033) {\n",
      "    tvals = c(tvals, t.test(expression_data[,i] ~ labels, var.equal=TRUE)$statistic)\n",
      "}\n"
     ],
     "language": "python",
     "metadata": {
      "slideshow": {
       "slide_type": "slide"
      }
     },
     "outputs": [
      {
       "output_type": "display_data",
       "text": [
        "Loading required package: entropy\n",
        "Loading required package: corpcor\n",
        "Loading required package: fdrtool\n",
        " cancer healthy \n",
        "     52      50 \n",
        "Warning messages:\n",
        "1: package \u2018sda\u2019 was built under R version 2.15.3 \n",
        "2: package \u2018entropy\u2019 was built under R version 2.15.3 \n",
        "3: package \u2018corpcor\u2019 was built under R version 2.15.3 \n"
       ]
      }
     ],
     "prompt_number": 1
    },
    {
     "cell_type": "markdown",
     "metadata": {
      "slideshow": {
       "slide_type": "slide"
      }
     },
     "source": [
      "As in the previous exercise, we will convert to $Z$-scores, though this has hardly\n",
      "any effect."
     ]
    },
    {
     "cell_type": "code",
     "collapsed": false,
     "input": [
      "%%R -o zvals\n",
      "zvals = qnorm(pt(tvals, 100))"
     ],
     "language": "python",
     "metadata": {
      "slideshow": {
       "slide_type": "fragment"
      }
     },
     "outputs": [],
     "prompt_number": 2
    },
    {
     "cell_type": "code",
     "collapsed": false,
     "input": [
      "hist = plt.hist(zvals,bins=50)\n",
      "f = plt.gcf()"
     ],
     "language": "python",
     "metadata": {
      "slideshow": {
       "slide_type": "fragment"
      }
     },
     "outputs": [
      {
       "output_type": "display_data",
       "png": "[encoded data removed]",
       "text": [
        "<matplotlib.figure.Figure at 0x1080fb1d0>"
       ]
      }
     ],
     "prompt_number": 3
    },
    {
     "cell_type": "markdown",
     "metadata": {
      "slideshow": {
       "slide_type": "slide"
      }
     },
     "source": [
      "Next, let's split the data into bins, and compute the counts and the midpoints."
     ]
    },
    {
     "cell_type": "code",
     "collapsed": false,
     "input": [
      "%%R\n",
      "bins = c(-Inf, seq(-4,4,length=51), Inf)\n",
      "counts = c()\n",
      "for (i in 1:(length(bins)-1)) {\n",
      "    counts = c(counts, sum((zvals > bins[i]) * (zvals <= bins[i+1])))\n",
      "}\n",
      "midpoints = (bins[1:length(bins)-1] + bins[2:length(bins)])/2\n",
      "counts = counts[2:(length(counts)-1)]\n",
      "midpoints = midpoints[2:(length(midpoints)-1)]"
     ],
     "language": "python",
     "metadata": {
      "slideshow": {
       "slide_type": "fragment"
      }
     },
     "outputs": [],
     "prompt_number": 4
    },
    {
     "cell_type": "markdown",
     "metadata": {
      "slideshow": {
       "slide_type": "slide"
      }
     },
     "source": [
      "To fit a GLM in `R`, we use the `glm` function. The argument \n",
      "`family` says that we are using a Poisson regression model, which sets the\n",
      "family $\\Pp_{\\eta}$ above to be a Poisson family."
     ]
    },
    {
     "cell_type": "code",
     "collapsed": false,
     "input": [
      "%%R\n",
      "density.glm = glm(counts ~ poly(midpoints,7), family=poisson(link='log'))\n",
      "print(summary(density.glm))\n",
      "X = model.matrix(density.glm)\n",
      "C = density.glm$coef\n",
      "SE = summary(density.glm)$coef[,2]"
     ],
     "language": "python",
     "metadata": {
      "slideshow": {
       "slide_type": "fragment"
      }
     },
     "outputs": [
      {
       "output_type": "display_data",
       "text": [
        "\n",
        "Call:\n",
        "glm(formula = counts ~ poly(midpoints, 7), family = poisson(link = \"log\"))\n",
        "\n",
        "Deviance Residuals: \n",
        "     Min        1Q    Median        3Q       Max  \n",
        "-1.79431  -0.69422   0.01274   0.61035   2.08374  \n",
        "\n",
        "Coefficients:\n",
        "                     Estimate Std. Error z value Pr(>|z|)    \n",
        "(Intercept)           3.89067    0.03436 113.241  < 2e-16 ***\n",
        "poly(midpoints, 7)1  -0.19805    0.35327  -0.561    0.575    \n",
        "poly(midpoints, 7)2 -10.89546    0.35131 -31.014  < 2e-16 ***\n",
        "poly(midpoints, 7)3  -0.14374    0.32855  -0.437    0.662    \n",
        "poly(midpoints, 7)4   1.99022    0.30931   6.434 1.24e-10 ***\n",
        "poly(midpoints, 7)5   0.01894    0.30917   0.061    0.951    \n",
        "poly(midpoints, 7)6   0.31586    0.20410   1.548    0.122    \n",
        "poly(midpoints, 7)7   0.07490    0.20382   0.367    0.713    \n",
        "---\n",
        "Signif. codes:  0 \u2018***\u2019 0.001 \u2018**\u2019 0.01 \u2018*\u2019 0.05 \u2018.\u2019 0.1 \u2018 \u2019 1 \n",
        "\n",
        "(Dispersion parameter for poisson family taken to be 1)\n",
        "\n",
        "    Null deviance: 6707.369  on 49  degrees of freedom\n",
        "Residual deviance:   41.079  on 42  degrees of freedom\n",
        "AIC: 342.61\n",
        "\n",
        "Number of Fisher Scoring iterations: 4\n",
        "\n"
       ]
      }
     ],
     "prompt_number": 5
    },
    {
     "cell_type": "markdown",
     "metadata": {
      "slideshow": {
       "slide_type": "slide"
      }
     },
     "source": [
      "We see that `R` produces a standard error for each parameter we estimated. \n",
      "(Where does this come from?)\n",
      "\n",
      "For completeness, we show that using the Newton-Raphson algorithm above\n",
      "yields the same estimates of coefficients."
     ]
    },
    {
     "cell_type": "code",
     "collapsed": false,
     "input": [
      "%R -o X,counts,C,SE"
     ],
     "language": "python",
     "metadata": {
      "slideshow": {
       "slide_type": "fragment"
      }
     },
     "outputs": [],
     "prompt_number": 6
    },
    {
     "cell_type": "markdown",
     "metadata": {
      "slideshow": {
       "slide_type": "slide"
      }
     },
     "source": [
      "Here is a Poisson regression model in 30 or so lines (excluding comments...)"
     ]
    },
    {
     "cell_type": "code",
     "collapsed": false,
     "input": [
      "class poisson(object):\n",
      "    \n",
      "    def __init__(self, Y):\n",
      "        self.Y = Y\n",
      "        \n",
      "    def value(self, eta):\n",
      "        '''\n",
      "        .. math::\n",
      "            \n",
      "            \\Lambda^{(n)}(\\eta)-\\eta^T Y\n",
      "\n",
      "        '''\n",
      "        return (np.exp(eta) - eta*self.Y).sum()  \n",
      "    \n",
      "    def grad(self, eta):\n",
      "        '''\n",
      "        .. math::\n",
      "\n",
      "            \\dot{\\Lambda}(\\eta) - Y\n",
      "\n",
      "        '''\n",
      "        mu = np.exp(eta)\n",
      "        return mu - self.Y\n",
      "    \n",
      "    def hess(self, eta):\n",
      "        '''\n",
      "        .. math::\n",
      "            \n",
      "            \\ddot{\\Lambda}(\\eta)\n",
      "\n",
      "        '''\n",
      "        dmu_deta = np.exp(eta)\n",
      "        return dmu_deta\n"
     ],
     "language": "python",
     "metadata": {
      "slideshow": {
       "slide_type": "fragment"
      }
     },
     "outputs": [],
     "prompt_number": 7
    },
    {
     "cell_type": "code",
     "collapsed": false,
     "input": [
      "class GLM(object):\n",
      "    \n",
      "    def __init__(self, Y, X, family):\n",
      "        self.Y = Y\n",
      "        self.X = X\n",
      "        self.n, self.p = X.shape\n",
      "        self.family = family(Y)\n",
      "        \n",
      "    def value(self, beta):\n",
      "        '''\n",
      "        .. math::\n",
      "            \n",
      "            \\Lambda^{(n)}(X\\beta) - (X\\beta)^TY\n",
      "        '''\n",
      "        eta = np.dot(self.X, beta)\n",
      "        return self.family.value(eta)\n",
      "    \n",
      "    def grad(self, beta):\n",
      "        '''\n",
      "        .. math::\n",
      "\n",
      "            X^T \\left(\\nabla \\CGF^{(n)}(X\\beta) - Y)\n",
      "        '''\n",
      "        eta = np.dot(self.X, beta)\n",
      "        return np.dot(self.X.T, self.family.grad(eta))\n",
      "    \n",
      "    def hess(self, beta):\n",
      "        '''\n",
      "        .. math::\n",
      "\n",
      "            X^T \\nabla^2 \\CGF^{(n)}(X\\beta)X\n",
      "\n",
      "        '''\n",
      "        eta = np.dot(self.X, beta)\n",
      "        D = self.family.hess(eta)\n",
      "        return np.dot(self.X.T, D[:,np.newaxis] * self.X)\n",
      "    \n",
      "    def constraint(self, beta):\n",
      "        '''\n",
      "        Check to see whether the constraint is satisfied or not.\n",
      "        Most GLMs will have no constraint on $\\beta$.\n",
      "        '''\n",
      "        return True"
     ],
     "language": "python",
     "metadata": {
      "slideshow": {
       "slide_type": "slide"
      }
     },
     "outputs": [],
     "prompt_number": 8
    },
    {
     "cell_type": "markdown",
     "metadata": {
      "slideshow": {
       "slide_type": "slide"
      }
     },
     "source": [
      "Let's instantiate the model and verify we've computed our gradient correctly. If correct,\n",
      "the vector `C` from `R`'s solution should have gradient approximately 0."
     ]
    },
    {
     "cell_type": "code",
     "collapsed": false,
     "input": [
      "model = GLM(counts, X, poisson)\n",
      "model.grad(C)"
     ],
     "language": "python",
     "metadata": {
      "slideshow": {
       "slide_type": "fragment"
      }
     },
     "outputs": [
      {
       "output_type": "pyout",
       "prompt_number": 9,
       "text": [
        "array([ 0.0000001 , -0.00000002,  0.00000003, -0.00000002,  0.00000003,\n",
        "       -0.00000002,  0.00000002, -0.00000001])"
       ]
      }
     ],
     "prompt_number": 9
    },
    {
     "cell_type": "markdown",
     "metadata": {
      "slideshow": {
       "slide_type": "fragment"
      }
     },
     "source": [
      "As for the Hessian, the diagonal diagonal of its inverse should yield the standard errors. (Why?)"
     ]
    },
    {
     "cell_type": "code",
     "collapsed": false,
     "input": [
      "H = model.hess(C)\n",
      "print 'Hessian inverse:', np.sqrt(np.diag(np.linalg.inv(H)))\n",
      "print 'SE:', SE"
     ],
     "language": "python",
     "metadata": {
      "slideshow": {
       "slide_type": "fragment"
      }
     },
     "outputs": [
      {
       "output_type": "stream",
       "stream": "stdout",
       "text": [
        "Hessian inverse: [ 0.03435823  0.35327947  0.35132316  0.32856422  0.30931663  0.30917959\n",
        "  0.20410041  0.20382491]\n",
        "SE: [ 0.03435753  0.35327081  0.35131134  0.3285515   0.30930698  0.30917085\n",
        "  0.2040974   0.20382201]\n"
       ]
      }
     ],
     "prompt_number": 10
    },
    {
     "cell_type": "markdown",
     "metadata": {
      "slideshow": {
       "slide_type": "slide"
      }
     },
     "source": [
      "Now, let us fit the model using Newton-Raphson."
     ]
    },
    {
     "cell_type": "code",
     "collapsed": false,
     "input": [
      "def fit(model, niter=10):\n",
      "\n",
      "    beta = np.ones(model.p)\n",
      "    value = model.value(beta)\n",
      "\n",
      "    for _ in range(niter):\n",
      "        step = 1.\n",
      "        count = 0\n",
      "        while True:\n",
      "            proposed_beta = beta - step * np.dot(np.linalg.pinv(model.hess(beta)), model.grad(beta))\n",
      "            if (model.value(proposed_beta) > value \n",
      "                and model.constraint(proposed_beta)):\n",
      "                step *= 0.5\n",
      "            else:\n",
      "                break\n",
      "        beta = proposed_beta\n",
      "        value = model.value(beta)\n",
      "    return beta\n",
      "\n",
      "beta = fit(model)"
     ],
     "language": "python",
     "metadata": {
      "slideshow": {
       "slide_type": "fragment"
      }
     },
     "outputs": [],
     "prompt_number": 11
    },
    {
     "cell_type": "markdown",
     "metadata": {
      "slideshow": {
       "slide_type": "slide"
      }
     },
     "source": [
      "If we've converged, the gradient should be zero."
     ]
    },
    {
     "cell_type": "code",
     "collapsed": false,
     "input": [
      "print poisson(counts).value(np.dot(X,beta)) - poisson(counts).value(np.log(counts))\n",
      "model.grad(beta)"
     ],
     "language": "python",
     "metadata": {
      "slideshow": {
       "slide_type": "fragment"
      }
     },
     "outputs": [
      {
       "output_type": "stream",
       "stream": "stdout",
       "text": [
        "20.5394350112\n"
       ]
      },
      {
       "output_type": "pyout",
       "prompt_number": 12,
       "text": [
        "array([ 0.,  0., -0., -0.,  0.,  0., -0., -0.])"
       ]
      }
     ],
     "prompt_number": 12
    },
    {
     "cell_type": "markdown",
     "metadata": {},
     "source": [
      "The coefficients are the same as `R`, reassuringly..."
     ]
    },
    {
     "cell_type": "code",
     "collapsed": false,
     "input": [
      "print 'R:', C\n",
      "print 'Newton-Raphson:', beta"
     ],
     "language": "python",
     "metadata": {
      "slideshow": {
       "slide_type": "fragment"
      }
     },
     "outputs": [
      {
       "output_type": "stream",
       "stream": "stdout",
       "text": [
        "R: [  3.89067037  -0.19805055 -10.89545629  -0.14374003   1.99021697\n",
        "   0.01894121   0.31586279   0.07490286]\n",
        "Newton-Raphson: [  3.89067037  -0.19805055 -10.8954563   -0.14374002   1.99021696\n",
        "   0.01894122   0.31586278   0.07490286]\n"
       ]
      }
     ],
     "prompt_number": 13
    },
    {
     "cell_type": "markdown",
     "metadata": {
      "slideshow": {
       "slide_type": "slide"
      }
     },
     "source": [
      "Let's add our density estimate to our earlier histogram.\n"
     ]
    },
    {
     "cell_type": "code",
     "collapsed": false,
     "input": [
      "%%R -o xval,dval\n",
      "xval=seq(-4,4,length=201)\n",
      "dval=exp(predict(density.glm, list(midpoints=xval)))\n"
     ],
     "language": "python",
     "metadata": {
      "slideshow": {
       "slide_type": "fragment"
      }
     },
     "outputs": [],
     "prompt_number": 14
    },
    {
     "cell_type": "code",
     "collapsed": false,
     "input": [
      "hist = plt.hist(zvals,bins=50, normed=True)\n",
      "delta = xval[1]-xval[0]\n",
      "plt.plot(xval, (dval / dval.sum()/delta), linewidth=3)\n"
     ],
     "language": "python",
     "metadata": {
      "slideshow": {
       "slide_type": "fragment"
      }
     },
     "outputs": [
      {
       "output_type": "pyout",
       "prompt_number": 15,
       "text": [
        "[<matplotlib.lines.Line2D at 0x108019e10>]"
       ]
      },
      {
       "output_type": "display_data",
       "png": "[encoded data removed]",
       "text": [
        "<matplotlib.figure.Figure at 0x10b3213d0>"
       ]
      }
     ],
     "prompt_number": 15
    },
    {
     "cell_type": "heading",
     "level": 2,
     "metadata": {
      "slideshow": {
       "slide_type": "slide"
      }
     },
     "source": [
      "Some useful extensions"
     ]
    },
    {
     "cell_type": "heading",
     "level": 3,
     "metadata": {
      "slideshow": {
       "slide_type": "fragment"
      }
     },
     "source": [
      "Offset vector"
     ]
    },
    {
     "cell_type": "markdown",
     "metadata": {
      "slideshow": {
       "slide_type": "fragment"
      }
     },
     "source": [
      "Suppose we change the constraint\n",
      "$$\n",
      "\\eta = X\\beta\n",
      "$$\n",
      "to\n",
      "$$\n",
      "\\eta = a + X\\beta.\n",
      "$$\n",
      "\n",
      "The problem changes to\n",
      "$$\n",
      "\\minimize_{\\eta,\\beta:a+X\\beta=\\eta} \\CGF^{(n)}(\\eta) - \\eta^TY.\n",
      "$$\n",
      "\n",
      "In `R`, this offset can be included by adding an `offset` argument to `glm`."
     ]
    },
    {
     "cell_type": "markdown",
     "metadata": {
      "exercise": {
       "start": true
      },
      "slideshow": {
       "slide_type": "slide"
      }
     },
     "source": [
      "### *Exercise: adding an offset*\n",
      "\n",
      "1. How do the Newton-Raphson iterations changes for fitting the GLM with an offset `a`?\n",
      "\n",
      "2. Thinking of the prostate cancer $Z$-statistics as a perturbation of a $N(0,1)$ distribution, refit the model above to estimate this perturbation from $N(0,1)$ as a\n",
      "7th order polynomial. What offset vector does this correspond to?\n",
      "\n",
      "3. Does it change the fitted density values? Does it change the estimate of the parameters $\\hat{\\beta}$? \n"
     ]
    },
    {
     "cell_type": "heading",
     "level": 3,
     "metadata": {
      "exercise": {
       "start": false
      },
      "slideshow": {
       "slide_type": "slide"
      }
     },
     "source": [
      "Multiple observations"
     ]
    },
    {
     "cell_type": "markdown",
     "metadata": {
      "slideshow": {
       "slide_type": "fragment"
      }
     },
     "source": [
      "In some modelling scenarios, one observes several observations at the same $x_i$. \n",
      "\n",
      "\n",
      "For example, suppose ${\\cal X} \\in \\real^2$ is a pair of binary variables and ${\\cal Y}$ is also binary. (This would be a logistic regression model -- coming shortly).\n",
      "\n",
      "Then, for a sample of any reasonable size, one will eventually observe each of the \n",
      "4 combinations of ${\\cal X}$. The data can be summarized in a $2 \\times 2$ table:\n",
      "$$\n",
      "\\begin{array}{l|c|c|c}\n",
      "       & {\\cal X}_1=0 & {\\cal X}_1=1  \\\\ \\hline\n",
      "   {\\cal X}_2=0 & {\\cal Y}_{11} & {\\cal Y}_{12}  \\\\\n",
      "   {\\cal X}_2=1 & {\\cal Y}_{21} & {\\cal Y}_{22} \\\\ \\hline\n",
      "     \\end{array}\n",
      "$$\n",
      "where\n",
      "$$\n",
      "{\\cal Y}_{ij} = \\sum_{k: {\\cal X}_k=(i,j)} {\\cal Y}_k\n",
      "$$"
     ]
    },
    {
     "cell_type": "markdown",
     "metadata": {
      "slideshow": {
       "slide_type": "fragment"
      }
     },
     "source": [
      "This affects the likelihood in a fairly simple way. Let \n",
      "$$\n",
      "\\text{unique}(X) = \\left\\{X{[i]}: 1 \\leq i \\leq n\\right\\}\n",
      "$$\n",
      "denote the set of observed rows of $X_{n \\times p}$.\n",
      "\n",
      "Then, we can write\n",
      "$$\n",
      "\\begin{aligned}\n",
      "\\tilde{\\CGF}(\\beta) &= \\CGF^{(n)}(X\\beta) \\\\\n",
      "&= \\sum_{x_u \\in \\text{unique}(X)} \\CGF(x_u^T\\beta) \\cdot \\# \\left\\{i: X{\\tt [i]}=x_u\\right\\}. \\\\\n",
      "&= \\sum_{x_u \\in \\text{unique}(X)} w(x_u) \\CGF(x_u^T\\beta)  \\\\\n",
      "\\end{aligned}\n",
      "$$\n",
      "where\n",
      "$$\n",
      "w(x_u) =  \\# \\left\\{i: X{ [i]}=x_u\\right\\}. \\\\\n",
      "$$"
     ]
    },
    {
     "cell_type": "markdown",
     "metadata": {
      "slideshow": {
       "slide_type": "slide"
      }
     },
     "source": [
      "The negative log-likelihood then has the form\n",
      "$$\n",
      "\\sum_{x_u \\in \\text{unique}(X)} w_u \\left[\\CGF(x_u^T\\beta) - \\bar{Y}(x_u) \\right]\n",
      "$$\n",
      "with\n",
      "$$\n",
      "\\bar{Y}(x_u) = \\frac{1}{w_u} \\sum_{i: X{ [i]}=x_u} Y_i\n",
      "$$"
     ]
    },
    {
     "cell_type": "markdown",
     "metadata": {
      "slideshow": {
       "slide_type": "fragment"
      }
     },
     "source": [
      "This has decreased the dimension of the problem from $n$ samples to $\n",
      "\\#  \\ \\text{unique}(X).$\n",
      "\n",
      "In the binary example above, it is reduced from $n$ to $4$. In `R`, this information\n",
      "can be used using the `weights` argument to `glm`. Below, our logistic regression example\n",
      "will use these weights."
     ]
    },
    {
     "cell_type": "markdown",
     "metadata": {
      "slideshow": {
       "slide_type": "fragment"
      }
     },
     "source": [
      "This leads us to a *GLM* with case weights, which solves the corresponding problem\n",
      "$$\n",
      "\\minimize_{\\eta, \\beta:X\\beta=\\eta} \\sum_{j=1}^m \\left[w_j \\cdot \\CGF(\\eta_j) - \\eta_j^TY_j \\right].\n",
      "$$"
     ]
    },
    {
     "cell_type": "markdown",
     "metadata": {
      "exercise": {
       "start": true
      },
      "slideshow": {
       "slide_type": "slide"
      }
     },
     "source": [
      "### *Exercise: adding case weights*\n",
      "\n",
      "1. Describe the Newton-Raphson steps for a `glm` with case weights.\n",
      "\n",
      "2. When the weights come from having observed ties in the $X_i$'s, does using the\n",
      "weighted version of the `GLM` result in the same estimates of $\\eta,\\beta$?\n",
      "\n",
      "3. How does this change our estimate of the variance of $\\hat{\\beta}$?"
     ]
    },
    {
     "cell_type": "markdown",
     "metadata": {
      "exercise": {
       "start": true
      },
      "slideshow": {
       "slide_type": "fragment"
      }
     },
     "source": [
      "### *Exercise: prostate cancer*\n",
      "\n",
      "In the prostate cancer example, suppose we used unequally spaced bins in our density estimate. \n",
      "\n",
      "1. Use what we have seen about weights and offset vectors to modify the \n",
      "algorithm above to fit a histogram to our $Z$-statistics for the prostate\n",
      "cancer data set.\n",
      "\n",
      "2. Try your modified algorithm out by refitting the model using bins spaced out evenly on the normal quantile scale."
     ]
    },
    {
     "cell_type": "heading",
     "level": 2,
     "metadata": {
      "slideshow": {
       "slide_type": "slide"
      }
     },
     "source": [
      "Lindsey's method"
     ]
    },
    {
     "cell_type": "markdown",
     "metadata": {
      "slideshow": {
       "slide_type": "fragment"
      }
     },
     "source": [
      "The following is a formal generalization of what we had done above\n",
      "Suppose we observe $N$ samples $(X_1, \\dots, X_N)$ \n",
      "from an exponential family of distributions on $\\Omega$. \n",
      "\n",
      "Our exponential family\n",
      "$$\n",
      "\\Pp_{\\beta}(dx) = e^{\\beta^Tt(x) - \\CGF(\\beta)} \\cdot m(dx).\n",
      "$$\n",
      "\n",
      "The score equation for $\\beta$ is, as usual \n",
      "$$\n",
      "\\nabla \\CGF(\\hat{\\beta}) = \\frac{1}{N} \\sum_{i=1}^N t(x_i).\n",
      "$$\n",
      "\n",
      "Lindsey's method, which we describe now, is useful when there is no closed form solution for $\\CGF$."
     ]
    },
    {
     "cell_type": "markdown",
     "metadata": {
      "slideshow": {
       "slide_type": "slide"
      }
     },
     "source": [
      "Whatever $\\Omega$ is, we assume that we can partition (finely) as $\\Omega = \\cup_{k=1}^K B_k$ with each\n",
      "element having an associated center $x_k$.\n",
      "\n",
      "The data is reduced to the counts\n",
      "$$\n",
      "N_k = \\#  \\left\\{i: X_i \\in B_k\\right\\}.\n",
      "$$\n",
      "\n",
      "Standard calculations show that\n",
      "$$\n",
      "(N_1, \\dots, N_K) \\sim \\text{Mult}(N, \\pi(\\beta))\n",
      "$$\n",
      "with\n",
      "$$\n",
      "\\begin{aligned}\n",
      "\\pi_k(\\beta) &= \\int_{B_k} e^{\\beta^Tt(x) - \\CGF(\\beta)} \\; m(dx) \\\\\n",
      "& \\approx m(B_k) \\cdot e^{\\beta^Tt(x_k) - \\CGF(\\beta)} \\\\\n",
      "& = \\tilde{\\gamma}_k(\\beta) \\cdot  m(B_k) e^{-\\CGF(\\beta)} \\\\\n",
      "&= \\tilde{\\pi}_k(\\beta)\n",
      "\\end{aligned}\n",
      "$$\n",
      "where \n",
      "$$\n",
      "\\tilde{\\pi}_k(\\beta) = \\frac{\\tilde{\\gamma}_k(\\beta) \\cdot  m(B_k)}{\\sum_{j=1}^K \\tilde{\\gamma}_j(\\beta) \\cdot  m(B_j)}.\n",
      "$$"
     ]
    },
    {
     "cell_type": "markdown",
     "metadata": {},
     "source": [
      "This leads to an approximate multinomial  model\n",
      "$$\n",
      "(N_1, \\dots, N_K) \\overset{\\text{approx}}{\\sim} \\text{Mult}(N, \\tilde{\\pi}(\\beta)).\n",
      "$$\n",
      "where the approximation is replacing $\\pi(\\beta)$ with $\\tilde{\\pi}(\\beta)$."
     ]
    },
    {
     "cell_type": "markdown",
     "metadata": {
      "slideshow": {
       "slide_type": "fragment"
      }
     },
     "source": [
      "Corresponding to our multinomial model is a Poisson model\n",
      "$$\n",
      "(N_1, \\dots, N_K) \\overset{\\text{indep.}}{\\sim} \\text{Poisson}(e^{\\theta} \\pi(\\beta))\n",
      "$$\n",
      "and an approximate Poisson model\n",
      "$$\n",
      "(N_1, \\dots, N_K)\n",
      "\\overset{\\text{approx}}{\\sim} \\text{Poisson}(e^{\\alpha} \\tilde{\\gamma}(\\beta) W )$$\n",
      "where $\\theta$ and  $\\alpha$ are free rate parameters and\n",
      "$$\n",
      "W_k = m(B_k)\n",
      "$$\n",
      "which are fixed.\n",
      "\n",
      "We can think of our observed multinomial as coming from the above Poisson model\n",
      "and we simply condition on the total number of samples."
     ]
    },
    {
     "cell_type": "markdown",
     "metadata": {
      "slideshow": {
       "slide_type": "fragment"
      }
     },
     "source": [
      "Finding the MLE in the approximate Poisson model, yields $(\\hat{\\alpha}, \\hat{\\beta})$ where\n",
      "$\\hat{\\beta}$ is the MLE for the original approximate multinomial problem."
     ]
    },
    {
     "cell_type": "markdown",
     "metadata": {
      "exercise": {
       "start": true
      }
     },
     "source": [
      "For Lindsey's method, the negative Poisson log-likelihood is \n",
      "$$\n",
      "\\ell_{\\text{Poisson}}(\\beta, \\alpha) = \\sum_{k=1}^K  \\left(N_k \\left[\\beta^Tt(x_k) + \\log(W_k) + \\alpha \\right] - e^{\\beta^Tt(x_k)} W_k e^{\\alpha} \\right).\n",
      "$$"
     ]
    },
    {
     "cell_type": "markdown",
     "metadata": {
      "exercise": {
       "input": true
      }
     },
     "source": [
      "This can be optimized over $\\alpha$ with $\\beta$ fixed directly\n",
      "$$\n",
      "e^{\\hat{\\alpha}(\\beta)} = \\frac{N}{\\sum_{j=1}^K e^{\\beta^Tt(x_j)}W_j}.\n",
      "$$\n",
      "\n",
      "Plugging this into $\\ell_{\\text{Poisson}}$ yields the so-called *profiled likelihood*\n",
      "for $\\beta$\n",
      "$$\n",
      "\\begin{aligned}\n",
      "\\tilde{\\ell}(\\beta) &= \\inf_{\\alpha} \\ell_{\\text{Poisson}}(\\beta,\\alpha)  \\\\\n",
      "&= \\left[\\sum_{k=1}^K  N_k \\left(\\beta^Tt(x_k) + \\log(W_k)  + \\log(N) - \\log\\left( \\sum_{j=1}^K e^{\\beta^Tt(x_j)}W_j\\right) \\right) \\right] - N \\\\\n",
      "&= \\sum_{k=1}^K  N_k \\log\\left(\\tilde{\\pi}_k(\\beta) \\right) + N \\log N - N\n",
      "\\end{aligned}\n",
      "$$\n",
      "\n",
      "This is exactly the likelihood for the approximate multinomial model (up to a constant) and maximizing it will yield $\\hat{\\beta}$ which is the MLE for the multinomial model. From $\\hat{\\beta}$ we can form $\\hat{\\alpha}(\\hat{\\beta})$ yielding an MLE for the Poisson model."
     ]
    },
    {
     "cell_type": "markdown",
     "metadata": {
      "exercise": {
       "input": true,
       "start": true
      },
      "slideshow": {
       "slide_type": "slide"
      }
     },
     "source": [
      "### *Exercise: Poisson trick and Lindsey's method*\n",
      "\n",
      "1. Above, we solved for $\\alpha(\\beta)$ in the approximate Poisson model\n",
      "with observations $(N_1, \\dots, N_K)$. Can you also solve for $\\theta(\\beta)$ explicitly in the exact Poisson model?\n",
      "\n",
      "\n",
      "2. Compare the resulting function of $\\beta$ with the exact multinomial likelihood.\n",
      "\n",
      "3. Give a formula for the estimated variance of $\\hat{\\beta}$ in the approximate model Poisson model. Does this agree with the multinomial estimate of variance?\n",
      "\n",
      "4. Given more and more data, and finer and finer partitions, informally argue that\n",
      "the limiting estimator is the MLE of the original problem, i.e. with no discretization.\n"
     ]
    },
    {
     "cell_type": "markdown",
     "metadata": {
      "exercise": {
       "start": true
      }
     },
     "source": [
      "### *Exercise: galaxy data*\n",
      "\n",
      "Repeat the analysis of the galaxy data found in Section 4 of [Using specially designed exponential families for density estimation](http://projecteuclid.org/euclid.aos/1032181161). You can find the count data\n",
      "in [galaxy.csv](http://stats306b.stanford.edu/data/galaxy.csv). \n",
      "\n",
      "1. Fit the same Poisson model\n",
      "used in this paper, and compare the estimate to a kernel density estimate.\n",
      "\n",
      "2. Include contour and heat map plots of both the Poisson estimated density and the kernel density estimate, evaluated on a 100x100 grid."
     ]
    },
    {
     "cell_type": "heading",
     "level": 2,
     "metadata": {
      "slideshow": {
       "slide_type": "slide"
      }
     },
     "source": [
      "Logistic regression"
     ]
    },
    {
     "cell_type": "markdown",
     "metadata": {
      "slideshow": {
       "slide_type": "fragment"
      }
     },
     "source": [
      "The other common form of a GLM (perhaps more common than the Poisson model) is the \n",
      "*logistic regression model*\n",
      "$$\n",
      "{\\cal Y}|{\\cal X} \\sim \\text{Bernoulli}(\\pi({\\cal X})).\n",
      "$$\n",
      "\n",
      "Optionally, one might consider the model\n",
      "$$\n",
      "{\\cal Y}|{\\cal X} \\sim \\text{Binomial}(n({\\cal X}), \\pi({\\cal X}))\n",
      "$$\n",
      "but this is equivalent to using weights for each case."
     ]
    },
    {
     "cell_type": "markdown",
     "metadata": {
      "slideshow": {
       "slide_type": "fragment"
      }
     },
     "source": [
      "The GLM assumes an independent sample from this model (again, independence refers \n",
      "conditional independence of ${\\cal Y}_i$'s given ${\\cal X}$):\n",
      "$$\n",
      "{\\cal Y}_i | {\\cal X}_i, n_i \\sim \\text{Binomial}(n_i, \\pi({\\cal X}_i)).\n",
      "$$\n",
      "                                                    "
     ]
    },
    {
     "cell_type": "markdown",
     "metadata": {
      "slideshow": {
       "slide_type": "fragment"
      }
     },
     "source": [
      "Recall that the $\\text{Binomial}(n,\\pi)$ is a one-parameter exponential family\n",
      "with $t(Y)=Y$ and CGF\n",
      "$$\n",
      "\\CGF(\\eta) = n \\log\\left(1 + e^{\\eta}\\right)\n",
      "$$"
     ]
    },
    {
     "cell_type": "markdown",
     "metadata": {
      "slideshow": {
       "slide_type": "slide"
      }
     },
     "source": [
      "In terms of fitting these models, what is nice about the GLM world, is that \n",
      "only the family has to be changed. Above, we defined the Poisson family. For\n",
      "logistic regression we might define a Bernoulli and a Binomial family:"
     ]
    },
    {
     "cell_type": "code",
     "collapsed": false,
     "input": [
      "class binomial(object):\n",
      "    \n",
      "    def __init__(self, YN):\n",
      "        self.Y, self.N = np.asarray(YN).T\n",
      "        \n",
      "    def value(self, eta):\n",
      "        return (self.N * np.log(1.+np.exp(eta)) - eta*self.Y).sum()\n",
      "    \n",
      "    def grad(self, eta):\n",
      "        E = np.exp(eta)\n",
      "        return self.N * E / (1. + E) - self.Y\n",
      "    \n",
      "    def hess(self, eta):\n",
      "        E = np.exp(eta)\n",
      "        mu = E / (1. + E)\n",
      "        return self.N * mu * (1 - mu)\n",
      "    \n",
      "    @classmethod\n",
      "    def bernoulli(cls, Y):\n",
      "        n = np.asarray(Y).shape[0]\n",
      "        YN = np.ones((n,2))\n",
      "        YN[:,0] = Y\n",
      "        return cls(YN)"
     ],
     "language": "python",
     "metadata": {
      "slideshow": {
       "slide_type": "fragment"
      }
     },
     "outputs": [],
     "prompt_number": 16
    },
    {
     "cell_type": "markdown",
     "metadata": {
      "slideshow": {
       "slide_type": "slide"
      }
     },
     "source": [
      "Below are some examples of the success rate for field goal kicker \n",
      "[Don Cockroft](http://en.wikipedia.org/wiki/Don_Cockroft), comparing his \n",
      "success rate with the league's success rate."
     ]
    },
    {
     "cell_type": "code",
     "collapsed": false,
     "input": [
      "cockroft = np.array([[1,4],[8,27],[15,32],[22,25],[10,12]],np.float)\n",
      "league = np.array([[29,124],[176,449],[238,372],[222,306],[226,243]], np.float)\n",
      "design = np.array([[1,55],[1,45],[1,35],[1,25],[1,12]],np.float)\n",
      "\n",
      "design[:,1] = design[:,1] - 30\n",
      "Cmodel = GLM(cockroft, design, binomial)\n",
      "Cbeta = fit(Cmodel)\n",
      "Cbeta"
     ],
     "language": "python",
     "metadata": {
      "slideshow": {
       "slide_type": "fragment"
      }
     },
     "outputs": [
      {
       "output_type": "pyout",
       "prompt_number": 17,
       "text": [
        "array([ 0.65048232, -0.09867412])"
       ]
      }
     ],
     "prompt_number": 17
    },
    {
     "cell_type": "markdown",
     "metadata": {
      "slideshow": {
       "slide_type": "fragment"
      }
     },
     "source": [
      "As for standard errors, they are derived from the diagonal of the Hessian"
     ]
    },
    {
     "cell_type": "code",
     "collapsed": false,
     "input": [
      "np.sqrt(np.diag(np.linalg.inv(Cmodel.hess(Cbeta))))"
     ],
     "language": "python",
     "metadata": {
      "slideshow": {
       "slide_type": "fragment"
      }
     },
     "outputs": [
      {
       "output_type": "pyout",
       "prompt_number": 18,
       "text": [
        "array([ 0.25656038,  0.02428946])"
       ]
      }
     ],
     "prompt_number": 18
    },
    {
     "cell_type": "markdown",
     "metadata": {
      "slideshow": {
       "slide_type": "slide"
      }
     },
     "source": [
      "Just to be sure, let's check with `R`"
     ]
    },
    {
     "cell_type": "code",
     "collapsed": false,
     "input": [
      "%%R -i cockroft,design,league\n",
      "C = cockroft[,1] / cockroft[,2]\n",
      "yards_over_30 = design[,2]\n",
      "L = league[,1] / league[,2]\n",
      "print(summary(glm(C ~ yards_over_30, weights=cockroft[,2], family=binomial())))"
     ],
     "language": "python",
     "metadata": {
      "slideshow": {
       "slide_type": "fragment"
      }
     },
     "outputs": [
      {
       "output_type": "display_data",
       "text": [
        "\n",
        "Call:\n",
        "glm(formula = C ~ yards_over_30, family = binomial(), weights = cockroft[, \n",
        "    2])\n",
        "\n",
        "Deviance Residuals: \n",
        "       1         2         3         4         5  \n",
        " 0.58261  -0.08412  -0.79786   1.53133  -0.96155  \n",
        "\n",
        "Coefficients:\n",
        "              Estimate Std. Error z value Pr(>|z|)    \n",
        "(Intercept)    0.65048    0.25656   2.535   0.0112 *  \n",
        "yards_over_30 -0.09867    0.02429  -4.062 4.86e-05 ***\n",
        "---\n",
        "Signif. codes:  0 \u2018***\u2019 0.001 \u2018**\u2019 0.01 \u2018*\u2019 0.05 \u2018.\u2019 0.1 \u2018 \u2019 1 \n",
        "\n",
        "(Dispersion parameter for binomial family taken to be 1)\n",
        "\n",
        "    Null deviance: 26.4758  on 4  degrees of freedom\n",
        "Residual deviance:  4.2526  on 3  degrees of freedom\n",
        "AIC: 22.796\n",
        "\n",
        "Number of Fisher Scoring iterations: 4\n",
        "\n"
       ]
      }
     ],
     "prompt_number": 19
    },
    {
     "cell_type": "markdown",
     "metadata": {
      "slideshow": {
       "slide_type": "slide"
      }
     },
     "source": [
      "Let's compare this to the league rate"
     ]
    },
    {
     "cell_type": "code",
     "collapsed": false,
     "input": [
      "%R print(summary(glm(L ~ yards_over_30, weights=league[,2], family=binomial)))\n"
     ],
     "language": "python",
     "metadata": {
      "slideshow": {
       "slide_type": "fragment"
      }
     },
     "outputs": [
      {
       "output_type": "display_data",
       "text": [
        "\n",
        "Call:\n",
        "glm(formula = L ~ yards_over_30, family = binomial, weights = league[, \n",
        "    2])\n",
        "\n",
        "Deviance Residuals: \n",
        "      1        2        3        4        5  \n",
        " 0.1339  -0.4221   1.4529  -2.0152   1.2027  \n",
        "\n",
        "Coefficients:\n",
        "               Estimate Std. Error z value Pr(>|z|)    \n",
        "(Intercept)    0.826993   0.068884   12.01   <2e-16 ***\n",
        "yards_over_30 -0.081682   0.005373  -15.20   <2e-16 ***\n",
        "---\n",
        "Signif. codes:  0 \u2018***\u2019 0.001 \u2018**\u2019 0.01 \u2018*\u2019 0.05 \u2018.\u2019 0.1 \u2018 \u2019 1 \n",
        "\n",
        "(Dispersion parameter for binomial family taken to be 1)\n",
        "\n",
        "    Null deviance: 309.9220  on 4  degrees of freedom\n",
        "Residual deviance:   7.8145  on 3  degrees of freedom\n",
        "AIC: 40.12\n",
        "\n",
        "Number of Fisher Scoring iterations: 4\n",
        "\n"
       ]
      }
     ],
     "prompt_number": 20
    },
    {
     "cell_type": "markdown",
     "metadata": {
      "slideshow": {
       "slide_type": "slide"
      }
     },
     "source": [
      "As above, our fit agrees with `R`"
     ]
    },
    {
     "cell_type": "code",
     "collapsed": false,
     "input": [
      "Lmodel = GLM(league, design, binomial)\n",
      "Lbeta = fit(Lmodel)\n",
      "Lbeta"
     ],
     "language": "python",
     "metadata": {
      "slideshow": {
       "slide_type": "fragment"
      }
     },
     "outputs": [
      {
       "output_type": "pyout",
       "prompt_number": 21,
       "text": [
        "array([ 0.82699314, -0.08168239])"
       ]
      }
     ],
     "prompt_number": 21
    },
    {
     "cell_type": "code",
     "collapsed": false,
     "input": [
      "np.sqrt(np.diag(np.linalg.inv(Lmodel.hess(Lbeta))))"
     ],
     "language": "python",
     "metadata": {
      "slideshow": {
       "slide_type": "fragment"
      }
     },
     "outputs": [
      {
       "output_type": "pyout",
       "prompt_number": 22,
       "text": [
        "array([ 0.06888424,  0.0053735 ])"
       ]
      }
     ],
     "prompt_number": 22
    },
    {
     "cell_type": "markdown",
     "metadata": {
      "exercise": {
       "start": true
      }
     },
     "source": [
      "### *Exercise: is Cockroft better or worse than the league average?*\n",
      "\n",
      "It looks like Cockroft has a lower success rate than the league average\n",
      "from 45 yards away. \n",
      "\n",
      "1. How would you test the null hypothesis of \"no difference at 45 yards\"?\n",
      "\n",
      "2. Describe two tests, one using all the data, and one using only the 45 yard data. \n",
      "\n",
      "3. Carry out these tests for the above data.\n"
     ]
    },
    {
     "cell_type": "markdown",
     "metadata": {
      "exercise": {
       "start": true
      }
     },
     "source": [
      "### *Exercise: undoing case weights*\n",
      "\n",
      "For the field goal data, produce a dataset with 100 cases that has the same fitted value as \n",
      "Don Cockroft's, but each case has weight 1. Refit the binomial model. Do the results\n",
      "match with our example above?\n",
      "\n"
     ]
    },
    {
     "cell_type": "heading",
     "level": 3,
     "metadata": {
      "slideshow": {
       "slide_type": "slide"
      }
     },
     "source": [
      "Other link functions"
     ]
    },
    {
     "cell_type": "markdown",
     "metadata": {
      "slideshow": {
       "slide_type": "fragment"
      }
     },
     "source": [
      "So far, we have considered only the *canonical link* in our GLMs. With this choice,\n",
      "we saw $\\eta_i=x_i^T\\beta$. \n",
      "\n",
      "There are other choices, though. The usual definition of link function for a GLM is\n",
      "$\n",
      "g:{\\cal M} \\rightarrow \\real\n",
      "$ with\n",
      "$$\n",
      "g(\\mu_i)=x_i^T\\beta.\n",
      "$$\n",
      "\n",
      "The canonical link corresponds to $g=\\dot{\\CGF}^*=(\\dot{\\CGF})^{-1}$."
     ]
    },
    {
     "cell_type": "markdown",
     "metadata": {
      "slideshow": {
       "slide_type": "fragment"
      }
     },
     "source": [
      "The general model could be written as\n",
      "$$\n",
      "\\minimize_{\\eta,\\beta:F(x_i^T\\beta)=\\eta_i} \\CGF^{(n)}(\\eta)-\\eta^TY\n",
      "$$\n",
      "where \n",
      "$$\n",
      "F = (g \\circ \\dot \\CGF)^{-1}.\n",
      "$$\n",
      "\n",
      "For the canonical link, we see that $F$ is the identity function as $g=\\dot{\\CGF}^{-1}$."
     ]
    },
    {
     "cell_type": "heading",
     "level": 3,
     "metadata": {
      "slideshow": {
       "slide_type": "slide"
      }
     },
     "source": [
      "Fisher scoring"
     ]
    },
    {
     "cell_type": "markdown",
     "metadata": {
      "slideshow": {
       "slide_type": "fragment"
      }
     },
     "source": [
      "Generally, this is a nonlinear equality constraint so the problem is non-convex, but is typically solved with (a modified) Newton-Raphson algorithm known as \n",
      "Fisher scoring.\n",
      "\n",
      "Plugging in the nonlinear constraint above yields the problem\n",
      "$$\n",
      "\\minimize_{\\beta} \\CGF^{(n)}(F(X\\beta)) - F(X\\beta)^TY.\n",
      "$$\n"
     ]
    },
    {
     "cell_type": "markdown",
     "metadata": {
      "slideshow": {
       "slide_type": "fragment"
      }
     },
     "source": [
      "By the chain rule, the gradient of what we're trying to minimize is \n",
      "$$\n",
      "X^T \\left[\\nabla F_{X\\beta} \\left(\\nabla \\CGF^{(n)}(F(X\\beta)) - Y\\right)\\right].\n",
      "$$\n",
      "where \n",
      "$$\n",
      "\\nabla F_{X\\beta} = \\text{diag}(\\dot{F}(x_i^T\\beta), 1 \\leq i \\leq n).\n",
      "$$\n"
     ]
    },
    {
     "cell_type": "markdown",
     "metadata": {
      "slideshow": {
       "slide_type": "fragment"
      }
     },
     "source": [
      "The Hessian has two terms. The first has the form\n",
      "$$\n",
      "H_1(\\beta) = X^T \\left[\\nabla F_{X\\beta} \\nabla^2 \\CGF^{(n)}(F(X\\beta))\\nabla F_{X\\beta} \\right]X\n",
      "$$\n",
      "and is non-negative definite.\n",
      "\n",
      "While the second has the form\n",
      "$$\n",
      "H_2(\\beta) = X^T \\left[\\nabla^2 F_{X\\beta} \\left(\\nabla \\CGF^{(n)}(F(X\\beta)) - Y \\right)\\right]X\n",
      "$$\n",
      "where\n",
      "$$\n",
      "\\nabla^2 F_{X\\beta} =  \\text{diag}(\\ddot{F}(x_i^T\\beta), 1 \\leq i \\leq n).\n",
      "$$"
     ]
    },
    {
     "cell_type": "markdown",
     "metadata": {
      "slideshow": {
       "slide_type": "fragment"
      }
     },
     "source": [
      "Fisher scoring uses the observation that\n",
      "$$\n",
      "\\Ee_{F(X\\beta)} \\left(H_2(\\beta) \\right) = 0.\n",
      "$$\n",
      "\n",
      "The updates take the form\n",
      "$$\n",
      "\\hat{\\beta}^{(k+1)} = \\hat{\\beta}^{(k)} - H_1(\\hat{\\beta}^{(k)})^{-1} \\nabla \\left[\\CGF^{(n)}(F(X\\hat{\\beta}^{(k)})) - F(X\\hat{\\beta}^{(k)})^TY \\right].\n",
      "$$\n",
      "\n",
      "One advantage $H_1(\\beta)$ has is that it is non-negative definite, while $H_2(\\beta)$ is not, though, it seems likely that $H_1(\\beta)+H_2(\\beta)$ is also non-negative definite as $H_1(\\beta)$ is growing with $n$."
     ]
    },
    {
     "cell_type": "markdown",
     "metadata": {
      "exercise": {
       "start": true
      }
     },
     "source": [
      "### *Exercise: Fisher scoring*\n",
      "\n",
      "1. For $p$ fixed, with $n$ large, give an estimate of the size of the two\n",
      "terms $H_1(\\beta)$ and $H_2(\\beta)$ for $\\beta$ near $\\beta_0$. That is,\n",
      "what is their rough mean and variance?\n",
      "\n",
      "2. Does this justify the Fisher scoring algorithm, which simply ignores $H_2$?"
     ]
    },
    {
     "cell_type": "heading",
     "level": 3,
     "metadata": {
      "slideshow": {
       "slide_type": "slide"
      }
     },
     "source": [
      "Probit analysis"
     ]
    },
    {
     "cell_type": "markdown",
     "metadata": {
      "slideshow": {
       "slide_type": "fragment"
      }
     },
     "source": [
      "The *probit* model is a common example of a GLM that does not use the \n",
      "canonical link. The probit model says that\n",
      "$$\n",
      "\\pi(\\beta) = \\Phi(x_i^T\\beta) = \\int_{-\\infty}^{x_i^T\\beta} \\frac{e^{-z^2/2}}{\\sqrt{2\\pi}} \\; dz.\n",
      "$$\n",
      "\n",
      "Therefore, $g=\\Phi^{-1}$, the normal quantile function. "
     ]
    },
    {
     "cell_type": "markdown",
     "metadata": {
      "exercise": {
       "start": true
      },
      "slideshow": {
       "slide_type": "fragment"
      }
     },
     "source": [
      "### *Exercise: probit model*\n",
      "\n",
      "1. For the probit model, determine the map $F$ that relates $x_i^T\\beta$ to $\\eta_i$. Plot it. Is it convex? \n",
      "\n",
      "2. Describe the Fisher scoring steps for the probit model in full detail. "
     ]
    },
    {
     "cell_type": "markdown",
     "metadata": {
      "exercise": {
       "start": true
      },
      "slideshow": {
       "slide_type": "fragment"
      }
     },
     "source": [
      "### *Exercise: coefficient interpretation*\n",
      "\n",
      "One of the important things to consider when changing the link is the interpretation of the\n",
      "parameters $\\beta$. \n",
      "\n",
      "1. In the logistic model, show that $e^{\\beta_j}$ represents the change in *log-odds*\n",
      "of $\\pi$ when variable $x_j$ is increased by one unit.\n",
      "\n",
      "2. What interpretation can you give to $\\beta_j$ in the probit model?\n",
      "\n",
      "3. What interpretation can you give to $\\beta_j$ in the Poisson regression model with the canonical link?"
     ]
    },
    {
     "cell_type": "heading",
     "level": 2,
     "metadata": {
      "slideshow": {
       "slide_type": "slide"
      }
     },
     "source": [
      "Analysis of deviance"
     ]
    },
    {
     "cell_type": "markdown",
     "metadata": {
      "slideshow": {
       "slide_type": "fragment"
      }
     },
     "source": [
      "The total deviance of a GLM is a function of $\\mu$, or, equivalently $\\eta$ and is defined to be\n",
      "$$\n",
      "\\begin{aligned}\n",
      "D_+({\\cal Y},\\mu) &= \\sum_{i=1}^n\\tilde{D}({\\cal Y}_i,\\mu_i) \\\\\n",
      "&= \\tilde{D}({\\cal Y};\\mu) \\\\\n",
      "&= 2 \\left[\\sum_{i=1}^n \\CGF^*({\\cal Y}_i) - \\CGF^*(\\mu_i) - \\dot{\\CGF}^*(\\mu_i) ({\\cal Y}_i - \\mu_i) \\right] \\\\\n",
      " &= 2 \\left[\\sum_{i=1}^n \\CGF(\\eta_i) - \\CGF({\\cal Y}_i)) - \\dot{\\CGF}(\\eta(Y_i)) (\\eta_i - \\eta({\\cal Y}_i)) \\right] \\\\\n",
      "     &= 2 \\left[\\sum_{i=1}^n \\CGF(\\eta_i) - \\CGF({\\cal Y}_i)) - Y_i (\\eta_i - \\eta({\\cal Y}_i)) \\right]\n",
      "\\end{aligned}\n",
      "$$"
     ]
    },
    {
     "cell_type": "markdown",
     "metadata": {
      "slideshow": {
       "slide_type": "fragment"
      }
     },
     "source": [
      "The choice is such that, for an instance of the\n",
      "GLM $(Y,X)$ if we fit a *saturated model*, i.e. $\\text{col}(X)=\\real^n$, then\n",
      "$\\hat{\\mu}=Y$ and $D_+(Y,\\hat{\\mu})=0$."
     ]
    },
    {
     "cell_type": "markdown",
     "metadata": {
      "slideshow": {
       "slide_type": "fragment"
      }
     },
     "source": [
      "As we saw before, we can use the deviance to arrive at Hoeffding's formula\n",
      "$$\n",
      "\\frac{d\\Pp_{\\hat{\\eta}({\\cal Y})}}{d\\Pp_{\\eta}} = e^{D(\\hat{\\eta}({\\cal Y});\\eta)/2} = e^{D_+({\\cal Y};\\mu)/2}\n",
      "$$\n",
      "where \n",
      "$$\n",
      "\\hat{\\eta}({\\cal Y}) = \\nabla \\left(\\CGF^{(n)} \\right)^*({\\cal Y}).\n",
      "$$"
     ]
    },
    {
     "cell_type": "markdown",
     "metadata": {
      "slideshow": {
       "slide_type": "slide"
      }
     },
     "source": [
      "The total deviance replaces the error sum of squares from ordinary least squares regression. Specifically, \n",
      "$$\n",
      "D_+(Y, \\hat{\\mu}_X) = 2 \\cdot \\inf_{\\eta,\\beta:X\\beta=\\eta} \\left[\\CGF^{(n)}(\\eta) - \\eta^TY - \\left(\\CGF^{(n)} (\\hat{\\eta}(Y) - \\hat{\\eta}(Y)^TY \\right) \\right]  \n",
      "$$\n",
      "where\n",
      "$$\n",
      "\\hat{\\mu}_X = \\nabla \\CGF^{(n)}(X\\hat{\\beta})\n",
      "$$\n",
      "is the vector of fitted values for the GLM.\n",
      "\n",
      "That is, the total deviance is twice the difference between the minimized\n",
      "(negative) log-likelihood and its unrestricted minimum value."
     ]
    },
    {
     "cell_type": "heading",
     "level": 3,
     "metadata": {
      "slideshow": {
       "slide_type": "slide"
      }
     },
     "source": [
      "Nested GLMs"
     ]
    },
    {
     "cell_type": "markdown",
     "metadata": {
      "slideshow": {
       "slide_type": "fragment"
      }
     },
     "source": [
      "The total deviance also is used to compare two models, one nested within\n",
      "the other.\n",
      "\n",
      "Suppose we have a GLM for which we can partition the\n",
      "design $X$ as\n",
      "$$\n",
      "X = \\begin{pmatrix} X^{(1)}_{n \\times p_1} & X^{(2)}_{n \\times p_2}\n",
      "\\end{pmatrix}\n",
      "$$\n",
      "\n",
      "The full model achieves\n",
      "$\n",
      "D_+(Y, \\hat{\\mu}_X).\n",
      "$"
     ]
    },
    {
     "cell_type": "markdown",
     "metadata": {
      "slideshow": {
       "slide_type": "fragment"
      }
     },
     "source": [
      "We might fit the reduced model with $\\beta^{(2)}\\equiv 0$. That is,\n",
      "$$\n",
      "\\minimize_{\\eta, \\beta:X^{(1)}\\beta^{(1)}=\\eta,\\beta^{(2)}=0} \\CGF^{(n)}(\\eta) - Y^T\\eta.\n",
      "$$\n",
      "This model\n",
      "achieves $D_+(Y, \\hat{\\mu}_{X^{(1)}})$.\n",
      "\n",
      "From our calculations above, we see that the difference\n",
      "$$\n",
      "D_+(Y, \\hat{\\mu}_{X^{(1)}}) - D_+(Y, \\hat{\\mu}_X)\n",
      "$$\n",
      "is twice the difference in the maximized log-likelihoods."
     ]
    },
    {
     "cell_type": "markdown",
     "metadata": {
      "exercise": {
       "start": true
      },
      "slideshow": {
       "slide_type": "slide"
      }
     },
     "source": [
      "By Wilks' theorem,\n",
      "we see that under $H_0:\\beta^{(2)}=0$\n",
      "$$\n",
      "D_+(Y, \\hat{\\mu}_{X^{(1)}}) - D_+(Y, \\hat{\\mu}_X) \\overset{n \\rightarrow \\infty}{\\to} \\chi^2_{p_2}.\n",
      "$$\n",
      "\n",
      "The term on the left above is actually \n",
      "$$D_+\\left(\\hat{\\mu}_X,\\hat{\\mu}_{X^{(1)}}\\right) = D_+(Y, \\hat{\\mu}_{X^{(1)}}) - D_+(Y, \\hat{\\mu}_X).$$\n",
      "This is the *additivity theorem*.\n",
      "\n"
     ]
    },
    {
     "cell_type": "markdown",
     "metadata": {
      "exercise": {
       "input": true
      },
      "slideshow": {
       "slide_type": "fragment"
      }
     },
     "source": [
      "### *Exercise: additivity theorem*\n",
      "\n",
      "Prove the additivity theorem."
     ]
    },
    {
     "cell_type": "heading",
     "level": 3,
     "metadata": {
      "slideshow": {
       "slide_type": "slide"
      }
     },
     "source": [
      "Analysis of deviance table"
     ]
    },
    {
     "cell_type": "markdown",
     "metadata": {
      "slideshow": {
       "slide_type": "fragment"
      }
     },
     "source": [
      "Consider now a partition of the design matrix into $K$ blocks of columns\n",
      "$$\n",
      "X = \\begin{pmatrix} X^{(1)}_{n \\times p_1} & \\dots & X^{(K)}_{n \\times p_K}\n",
      "\\end{pmatrix}\n",
      "$$\n",
      "with a corresponding partition of \n",
      "$$\n",
      "   \\beta = \\begin{pmatrix} \\beta^{(1)} \\in \\real^{p_1} \\\\ \\vdots \\\\ \\beta^{(K)}  \\in \\real^{p_K}\n",
      "\\end{pmatrix}  \\in \\real^{p_1+\\dots+p_K}\n",
      "$$\n",
      "\n",
      "We consider the model \n",
      "$$\n",
      "\\eta = \\alpha + X\\beta.\n",
      "$$\n",
      "\n",
      "For $1 \\leq j \\leq K-1$ set $\\hat{\\beta}^j$ to be the MLE under \n",
      "$H_j: \\beta^{(l)}=0, j+1 \\leq l \\leq K$.\n",
      "    \n",
      "Here, the model $\\hat{\\beta}^0$ corresponds to $\\eta=\\alpha$, an intercept but\n",
      "no other covariates in the model. The deviance of this model is referred to as the \n",
      "null deviance.\n",
      "    \n",
      "  "
     ]
    },
    {
     "cell_type": "markdown",
     "metadata": {
      "slideshow": {
       "slide_type": "fragment"
      }
     },
     "source": [
      "This leads to an analysis of deviance table\n",
      "$$\n",
      "\\begin{array}{l|c|c|c}\n",
      "\\text{MLE} & \\text{deviance difference} & \\text{degrees of freedom} \\\\\n",
      "\\hline\n",
      "\\hat{\\beta}^1 & D_+(\\hat{\\mu}^{1},\\hat{\\mu}^0) & p_1 \\\\\n",
      "\\hat{\\beta}^2 & D_+(\\hat{\\mu}^{2},\\hat{\\mu}^1) & p_2 \\\\\n",
      "\\vdots & \\vdots & \\vdots \\\\\n",
      "\\hat{\\beta}^K & D_+(\\hat{\\mu}^K,\\hat{\\mu}^{K-1}) & p_K\n",
      "\\end{array}\n",
      "$$"
     ]
    },
    {
     "cell_type": "markdown",
     "metadata": {
      "slideshow": {
       "slide_type": "fragment"
      }
     },
     "source": [
      "The residual deviance of the model is\n",
      "$\n",
      "D_+(Y,\\hat{\\mu}^K).\n",
      "$\n",
      "The additivity formula now implies that\n",
      "$$\n",
      "D_+(\\hat{\\mu}^K,\\hat{\\mu}^0) = \\sum_{j=0}^{K-1} D_+(\\hat{\\mu}^{j+1},\\hat{\\mu}^j) = \n",
      "D_+(Y,\\hat{\\mu}^0) - D_+(Y,\\hat{\\mu}^K).\n",
      "$$\n",
      "\n",
      "\n",
      "This is the difference between the null deviance and *residual deviance* in `R`'s output.\n"
     ]
    },
    {
     "cell_type": "code",
     "collapsed": false,
     "input": [
      "%%R\n",
      "print(summary(density.glm))"
     ],
     "language": "python",
     "metadata": {
      "slideshow": {
       "slide_type": "slide"
      }
     },
     "outputs": [
      {
       "output_type": "display_data",
       "text": [
        "\n",
        "Call:\n",
        "glm(formula = counts ~ poly(midpoints, 7), family = poisson(link = \"log\"))\n",
        "\n",
        "Deviance Residuals: \n",
        "     Min        1Q    Median        3Q       Max  \n",
        "-1.79431  -0.69422   0.01274   0.61035   2.08374  \n",
        "\n",
        "Coefficients:\n",
        "                     Estimate Std. Error z value Pr(>|z|)    \n",
        "(Intercept)           3.89067    0.03436 113.241  < 2e-16 ***\n",
        "poly(midpoints, 7)1  -0.19805    0.35327  -0.561    0.575    \n",
        "poly(midpoints, 7)2 -10.89546    0.35131 -31.014  < 2e-16 ***\n",
        "poly(midpoints, 7)3  -0.14374    0.32855  -0.437    0.662    \n",
        "poly(midpoints, 7)4   1.99022    0.30931   6.434 1.24e-10 ***\n",
        "poly(midpoints, 7)5   0.01894    0.30917   0.061    0.951    \n",
        "poly(midpoints, 7)6   0.31586    0.20410   1.548    0.122    \n",
        "poly(midpoints, 7)7   0.07490    0.20382   0.367    0.713    \n",
        "---\n",
        "Signif. codes:  0 \u2018***\u2019 0.001 \u2018**\u2019 0.01 \u2018*\u2019 0.05 \u2018.\u2019 0.1 \u2018 \u2019 1 \n",
        "\n",
        "(Dispersion parameter for poisson family taken to be 1)\n",
        "\n",
        "    Null deviance: 6707.369  on 49  degrees of freedom\n",
        "Residual deviance:   41.079  on 42  degrees of freedom\n",
        "AIC: 342.61\n",
        "\n",
        "Number of Fisher Scoring iterations: 4\n",
        "\n"
       ]
      }
     ],
     "prompt_number": 23
    },
    {
     "cell_type": "code",
     "collapsed": false,
     "input": [
      "%%R\n",
      "print(anova(density.glm))"
     ],
     "language": "python",
     "metadata": {
      "slideshow": {
       "slide_type": "slide"
      }
     },
     "outputs": [
      {
       "output_type": "display_data",
       "text": [
        "Analysis of Deviance Table\n",
        "\n",
        "Model: poisson, link: log\n",
        "\n",
        "Response: counts\n",
        "\n",
        "Terms added sequentially (first to last)\n",
        "\n",
        "\n",
        "                   Df Deviance Resid. Df Resid. Dev\n",
        "NULL                                  49     6707.4\n",
        "poly(midpoints, 7)  7   6666.3        42       41.1\n"
       ]
      }
     ],
     "prompt_number": 24
    },
    {
     "cell_type": "markdown",
     "metadata": {
      "slideshow": {
       "slide_type": "slide"
      }
     },
     "source": [
      "`R` recognizes that all the variables in its model were derived from \n",
      "`midpoints`. Here is a slightly tedious way to see the full table."
     ]
    },
    {
     "cell_type": "code",
     "collapsed": false,
     "input": [
      "%%R\n",
      "X1 = midpoints\n",
      "X2 = midpoints^2\n",
      "X3 = midpoints^3\n",
      "X4 = midpoints^4\n",
      "X5 = midpoints^5\n",
      "X6 = midpoints^6\n",
      "X7 = midpoints^7\n",
      "print(anova(glm(counts ~ X1 + X2 + X3 + X4 + X5 + X6 + X7, family=poisson())))"
     ],
     "language": "python",
     "metadata": {
      "slideshow": {
       "slide_type": "fragment"
      }
     },
     "outputs": [
      {
       "output_type": "display_data",
       "text": [
        "Analysis of Deviance Table\n",
        "\n",
        "Model: poisson, link: log\n",
        "\n",
        "Response: counts\n",
        "\n",
        "Terms added sequentially (first to last)\n",
        "\n",
        "\n",
        "     Df Deviance Resid. Df Resid. Dev\n",
        "NULL                    49     6707.4\n",
        "X1    1      0.0        48     6707.4\n",
        "X2    1   6614.3        47       93.0\n",
        "X3    1      0.3        46       92.7\n",
        "X4    1     49.0        45       43.7\n",
        "X5    1      0.1        44       43.5\n",
        "X6    1      2.3        43       41.2\n",
        "X7    1      0.1        42       41.1\n"
       ]
      }
     ],
     "prompt_number": 25
    }
   ],
   "metadata": {}
  }
 ]
}