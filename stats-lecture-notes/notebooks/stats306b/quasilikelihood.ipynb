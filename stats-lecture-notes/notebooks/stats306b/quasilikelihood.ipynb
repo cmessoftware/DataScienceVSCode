{
 "metadata": {
  "name": "quasilikelihood"
 },
 "nbformat": 3,
 "nbformat_minor": 0,
 "worksheets": [
  {
   "cells": [
    {
     "cell_type": "heading",
     "level": 1,
     "metadata": {
      "slideshow": {
       "slide_type": "slide"
      }
     },
     "source": [
      "Dispersion and deviance residuals"
     ]
    },
    {
     "cell_type": "markdown",
     "metadata": {
      "slideshow": {
       "slide_type": "fragment"
      }
     },
     "source": [
      "For the Poisson and Binomial models, for a GLM\n",
      "with fitted values $\\hat{\\mu} = \\nabla \\CGF(X\\hat{\\beta})$\n",
      "the quantity $D_+(Y,\\hat{\\mu})$ can be expressed as twice the difference\n",
      "between two maximized log-likelihoods for \n",
      "$$\n",
      "Y_i \\overset{\\text{indep}}{\\sim} \\Pp_{\\eta_i}.\n",
      "$$\n",
      "\n",
      "The first model is the *saturated* model, i.e. where $\\hat{\\mu}_i=Y_i$, while the second\n",
      "is the GLM.\n"
     ]
    },
    {
     "cell_type": "markdown",
     "metadata": {
      "slideshow": {
       "slide_type": "slide"
      }
     },
     "source": [
      "Since it is a difference of maximized (nested) log-likelihoods, this difference should have roughly a $\\chi^2$ distribution with degrees of freedom $n-\\text{rank}(X)$ at least for models such as the count data we modeled using Lindsey's method.\n",
      "\n",
      "Let's look at the counts data again:"
     ]
    },
    {
     "cell_type": "code",
     "collapsed": false,
     "input": [
      "%%R\n",
      "library(sda)\n",
      "data(singh2002)\n",
      "labels = singh2002$y\n",
      "print(summary(labels))\n",
      "expression_data = singh2002$x\n",
      "tvals = c()\n",
      "for (i in 1:6033) {\n",
      "    tvals = c(tvals, t.test(expression_data[,i] ~ labels, var.equal=TRUE)$statistic)\n",
      "}\n",
      "zvals = qnorm(pt(tvals, 100))"
     ],
     "language": "python",
     "metadata": {
      "slideshow": {
       "slide_type": "fragment"
      }
     },
     "outputs": [
      {
       "output_type": "display_data",
       "text": [
        "Loading required package: entropy\n",
        "Loading required package: corpcor\n",
        "Loading required package: fdrtool\n",
        " cancer healthy \n",
        "     52      50 \n",
        "Warning messages:\n",
        "1: package \u2018sda\u2019 was built under R version 2.15.3 \n",
        "2: package \u2018entropy\u2019 was built under R version 2.15.3 \n",
        "3: package \u2018corpcor\u2019 was built under R version 2.15.3 \n"
       ]
      }
     ],
     "prompt_number": 250
    },
    {
     "cell_type": "code",
     "collapsed": false,
     "input": [
      "%%R -o eta,counts\n",
      "bins = c(-Inf, seq(-4,4,length=51), Inf)\n",
      "counts = c()\n",
      "for (i in 1:(length(bins)-1)) {\n",
      "    counts = c(counts, sum((zvals > bins[i]) * (zvals <= bins[i+1])))\n",
      "}\n",
      "midpoints = (bins[1:length(bins)-1] + bins[2:length(bins)])/2\n",
      "counts = counts[2:(length(counts)-1)]\n",
      "midpoints = midpoints[2:(length(midpoints)-1)]\n",
      "density.glm = glm(counts ~ poly(midpoints,7), family=poisson(link='log'))\n",
      "eta = predict(density.glm)\n"
     ],
     "language": "python",
     "metadata": {
      "slideshow": {
       "slide_type": "slide"
      }
     },
     "outputs": [],
     "prompt_number": 251
    },
    {
     "cell_type": "code",
     "collapsed": false,
     "input": [
      "%%R\n",
      "print(summary(density.glm))"
     ],
     "language": "python",
     "metadata": {
      "slideshow": {
       "slide_type": "slide"
      }
     },
     "outputs": [
      {
       "output_type": "display_data",
       "text": [
        "\n",
        "Call:\n",
        "glm(formula = counts ~ poly(midpoints, 7), family = poisson(link = \"log\"))\n",
        "\n",
        "Deviance Residuals: \n",
        "     Min        1Q    Median        3Q       Max  \n",
        "-1.79431  -0.69422   0.01274   0.61035   2.08374  \n",
        "\n",
        "Coefficients:\n",
        "                     Estimate Std. Error z value Pr(>|z|)    \n",
        "(Intercept)           3.89067    0.03436 113.241  < 2e-16 ***\n",
        "poly(midpoints, 7)1  -0.19805    0.35327  -0.561    0.575    \n",
        "poly(midpoints, 7)2 -10.89546    0.35131 -31.014  < 2e-16 ***\n",
        "poly(midpoints, 7)3  -0.14374    0.32855  -0.437    0.662    \n",
        "poly(midpoints, 7)4   1.99022    0.30931   6.434 1.24e-10 ***\n",
        "poly(midpoints, 7)5   0.01894    0.30917   0.061    0.951    \n",
        "poly(midpoints, 7)6   0.31586    0.20410   1.548    0.122    \n",
        "poly(midpoints, 7)7   0.07490    0.20382   0.367    0.713    \n",
        "---\n",
        "Signif. codes:  0 \u2018***\u2019 0.001 \u2018**\u2019 0.01 \u2018*\u2019 0.05 \u2018.\u2019 0.1 \u2018 \u2019 1 \n",
        "\n",
        "(Dispersion parameter for poisson family taken to be 1)\n",
        "\n",
        "    Null deviance: 6707.369  on 49  degrees of freedom\n",
        "Residual deviance:   41.079  on 42  degrees of freedom\n",
        "AIC: 342.61\n",
        "\n",
        "Number of Fisher Scoring iterations: 4\n",
        "\n"
       ]
      }
     ],
     "prompt_number": 252
    },
    {
     "cell_type": "markdown",
     "metadata": {
      "slideshow": {
       "slide_type": "slide"
      }
     },
     "source": [
      "For this data, the *residual deviance* is the quantity $D_+(Y;\\hat{\\mu})$"
     ]
    },
    {
     "cell_type": "code",
     "collapsed": false,
     "input": [
      "eta_saturated = np.log(counts)\n",
      "dev_resid_sq = 2 * (np.exp(eta) - np.exp(eta_saturated) - counts * (eta-eta_saturated))\n",
      "dev_resid_sq"
     ],
     "language": "python",
     "metadata": {
      "slideshow": {
       "slide_type": "fragment"
      }
     },
     "outputs": [
      {
       "output_type": "pyout",
       "prompt_number": 253,
       "text": [
        "array([ 1.77629347,  0.01742557,  3.45930476,  0.00053596,  0.35270483,\n",
        "        2.27763749,  0.05016394,  0.1729021 ,  1.49157042,  1.76041477,\n",
        "        0.00977032,  0.08640754,  0.00470415,  2.06396423,  0.00635758,\n",
        "        0.60711674,  0.36984542,  0.33563335,  1.93941483,  0.86941851,\n",
        "        1.2070093 ,  0.155413  ,  0.90682819,  1.38505398,  0.00076262,\n",
        "        2.75389627,  0.40022683,  0.67820893,  0.59786844,  0.09293117,\n",
        "        0.07191365,  0.92723779,  0.04781488,  0.08804274,  0.92901589,\n",
        "        0.37925379,  1.01705818,  0.52260584,  0.55759824,  0.24604725,\n",
        "        1.34835668,  0.17802013,  0.03493832,  0.00006255,  4.3419532 ,\n",
        "        0.03166507,  0.00707733,  1.30056171,  3.21955332,  0.00030877])"
       ]
      }
     ],
     "prompt_number": 253
    },
    {
     "cell_type": "markdown",
     "metadata": {
      "slideshow": {
       "slide_type": "fragment"
      }
     },
     "source": [
      "I used the name `dev_resid_sq` above to denote these are squared deviance residuals."
     ]
    },
    {
     "cell_type": "code",
     "collapsed": false,
     "input": [
      "dev_resid = np.sign(counts - np.exp(eta)) * np.sqrt(dev_resid_sq)\n",
      "dev_resid[:10]"
     ],
     "language": "python",
     "metadata": {
      "slideshow": {
       "slide_type": "fragment"
      }
     },
     "outputs": [
      {
       "output_type": "pyout",
       "prompt_number": 254,
       "text": [
        "array([-1.3327766 ,  0.13200594,  1.85992063, -0.02315076,  0.59388957,\n",
        "       -1.50918438, -0.22397308,  0.41581498, -1.22129866,  1.32680623])"
       ]
      }
     ],
     "prompt_number": 254
    },
    {
     "cell_type": "code",
     "collapsed": false,
     "input": [
      "Dplus = dev_resid_sq.sum()\n",
      "Dplus"
     ],
     "language": "python",
     "metadata": {
      "slideshow": {
       "slide_type": "fragment"
      }
     },
     "outputs": [
      {
       "output_type": "pyout",
       "prompt_number": 255,
       "text": [
        "41.078870022329738"
       ]
      }
     ],
     "prompt_number": 255
    },
    {
     "cell_type": "markdown",
     "metadata": {
      "slideshow": {
       "slide_type": "slide"
      }
     },
     "source": [
      "These deviance residuals are what `R` returns as the residuals of the GLM."
     ]
    },
    {
     "cell_type": "code",
     "collapsed": false,
     "input": [
      "%%R\n",
      "R = resid(density.glm)\n",
      "print(R[1:10])\n",
      "print(sum(R^2))"
     ],
     "language": "python",
     "metadata": {
      "slideshow": {
       "slide_type": "fragment"
      }
     },
     "outputs": [
      {
       "output_type": "display_data",
       "text": [
        "          1           2           3           4           5           6 \n",
        "-1.33277660  0.13200594  1.85992063 -0.02315076  0.59388957 -1.50918438 \n",
        "          7           8           9          10 \n",
        "-0.22397308  0.41581498 -1.22129866  1.32680623 \n",
        "[1] 41.07887\n"
       ]
      }
     ],
     "prompt_number": 256
    },
    {
     "cell_type": "markdown",
     "metadata": {
      "slideshow": {
       "slide_type": "fragment"
      }
     },
     "source": [
      "Comparing this to a $\\chi^2_{42}$ distribution, this value is entirely plausible."
     ]
    },
    {
     "cell_type": "code",
     "collapsed": false,
     "input": [
      "%%R\n",
      "print(1-pchisq(41.08,42))"
     ],
     "language": "python",
     "metadata": {
      "slideshow": {
       "slide_type": "fragment"
      }
     },
     "outputs": [
      {
       "output_type": "display_data",
       "text": [
        "[1] 0.5112363\n"
       ]
      }
     ],
     "prompt_number": 257
    },
    {
     "cell_type": "markdown",
     "metadata": {
      "slideshow": {
       "slide_type": "slide"
      }
     },
     "source": [
      "This phenomenon is different than in OLS regression. In OLS regression\n",
      "$$\n",
      "D_+(Y;\\hat{\\mu}) = \\frac{1}{\\sigma^2} \\|Y-X\\hat{\\beta}\\|^2_2 = \\frac{1}{\\sigma^2} \\|P_{\\text{col}(X)}^{\\perp}Y\\|^2_2.\n",
      "$$\n",
      "\n",
      "The difference is that there is an additional scale parameter to estimate in \n",
      "OLS regression. The binomial and Poisson regression models have no scale parameter.\n",
      "\n",
      "This is why we see the phrase \n",
      "\n",
      "    (Dispersion parameter for poisson family taken to be 1)\n",
      "\n",
      "in `summary(density.glm)`."
     ]
    },
    {
     "cell_type": "markdown",
     "metadata": {},
     "source": [
      "The `Null deviance` is \n",
      "$$\n",
      "D_+(Y;\\hat{\\mu}_{\\text{intercept}})\n",
      "$$\n",
      "where $\\hat{\\mu}_{\\text{intercept}}$ is the model with only an intercept. That is,\n",
      "$$\n",
      "\\eta_i = \\beta_0.\n",
      "$$"
     ]
    },
    {
     "cell_type": "heading",
     "level": 2,
     "metadata": {
      "slideshow": {
       "slide_type": "slide"
      }
     },
     "source": [
      "Overdispersion"
     ]
    },
    {
     "cell_type": "markdown",
     "metadata": {
      "slideshow": {
       "slide_type": "fragment"
      }
     },
     "source": [
      "We can therefore think of the residual deviance as a goodness of fit test. If the model is correct, the residual deviance should be approximately $\\chi^2$ with the stated degrees of freedom."
     ]
    },
    {
     "cell_type": "markdown",
     "metadata": {
      "exercise": {
       "start": true
      },
      "slideshow": {
       "slide_type": "fragment"
      }
     },
     "source": [
      "### *Exercise: goodness-of-fit test and test of independence*\n",
      "\n",
      "Men and women in a particular sample were asked whether or not they believe\n",
      "in the afterlife.\n",
      "$$\n",
      "\\begin{array}{l|c|c|c}\n",
      "       & \\text{Male} & \\text{Female}  \\\\ \\hline\n",
      "   \\text{Yes} & 435 & 375  \\\\\n",
      "   \\text{No or Undecided} & 147 & 134 \\\\ \\hline\n",
      "     \\end{array}\n",
      "$$\n",
      "\n",
      "1. Apply Lindsey's to these $(X_B, X_G) \\in \\{Y,N\\} \\times \\{M,F\\}$ valued random variables and fit\n",
      "a Poisson model to this data under the null hypothesis that $X_B$ is independent of $X_G$.\n",
      "\n",
      "2. Compare the residual deviance to the usual Pearson's $\\chi^2$ test of independence."
     ]
    },
    {
     "cell_type": "markdown",
     "metadata": {
      "slideshow": {
       "slide_type": "slide"
      }
     },
     "source": [
      "However, in some datasets, the residual deviance is very far off as judged by this scale.\n",
      "Brad's note use this toxoplasmosis incidence data from El Salvador to illustrate this point."
     ]
    },
    {
     "cell_type": "code",
     "collapsed": false,
     "input": [
      "%%R\n",
      "library(SMPracticals)\n",
      "data(toxo)\n",
      "toxo$srain = scale(toxo$rain)\n",
      "toxo.glm = glm(r/m ~ srain + I(srain^2) + I(srain^3), weights=m, data=toxo, family=binomial)\n",
      "print(summary(toxo.glm))"
     ],
     "language": "python",
     "metadata": {
      "slideshow": {
       "slide_type": "fragment"
      }
     },
     "outputs": [
      {
       "output_type": "display_data",
       "text": [
        "\n",
        "Call:\n",
        "glm(formula = r/m ~ srain + I(srain^2) + I(srain^3), family = binomial, \n",
        "    data = toxo, weights = m)\n",
        "\n",
        "Deviance Residuals: \n",
        "    Min       1Q   Median       3Q      Max  \n",
        "-2.7620  -1.2166  -0.5079   0.3538   2.6204  \n",
        "\n",
        "Coefficients:\n",
        "            Estimate Std. Error z value Pr(>|z|)    \n",
        "(Intercept)  0.09939    0.10197   0.975 0.329678    \n",
        "srain       -0.44846    0.15513  -2.891 0.003843 ** \n",
        "I(srain^2)  -0.18727    0.09152  -2.046 0.040743 *  \n",
        "I(srain^3)   0.21342    0.06370   3.351 0.000806 ***\n",
        "---\n",
        "Signif. codes:  0 \u2018***\u2019 0.001 \u2018**\u2019 0.01 \u2018*\u2019 0.05 \u2018.\u2019 0.1 \u2018 \u2019 1 \n",
        "\n",
        "(Dispersion parameter for binomial family taken to be 1)\n",
        "\n",
        "    Null deviance: 74.212  on 33  degrees of freedom\n",
        "Residual deviance: 62.635  on 30  degrees of freedom\n",
        "AIC: 161.33\n",
        "\n",
        "Number of Fisher Scoring iterations: 3\n",
        "\n"
       ]
      }
     ],
     "prompt_number": 258
    },
    {
     "cell_type": "markdown",
     "metadata": {
      "slideshow": {
       "slide_type": "slide"
      }
     },
     "source": [
      "The residual deviance here is 62.63, very large for something nominally $\\chi^2_{30}$.\n",
      "There is virtually no chance that a $\\chi^2_{30}$ would be so large. In this setting, the $\\chi^2_{30}$ limit would be appropriate if our model were correct and we sampled more and more within each city."
     ]
    },
    {
     "cell_type": "code",
     "collapsed": false,
     "input": [
      "%%R\n",
      "print(1-pnorm(62.63,30))\n",
      "qqnorm(resid(toxo.glm))"
     ],
     "language": "python",
     "metadata": {
      "slideshow": {
       "slide_type": "fragment"
      }
     },
     "outputs": [
      {
       "output_type": "display_data",
       "text": [
        "[1] 0\n"
       ]
      },
      {
       "output_type": "display_data",
       "png": "[encoded data removed]"
      }
     ],
     "prompt_number": 259
    },
    {
     "cell_type": "markdown",
     "metadata": {
      "slideshow": {
       "slide_type": "slide"
      }
     },
     "source": [
      "The deviance residuals are generally too large:"
     ]
    },
    {
     "cell_type": "code",
     "collapsed": false,
     "input": [
      "%R print(sd(resid(toxo.glm)))"
     ],
     "language": "python",
     "metadata": {
      "slideshow": {
       "slide_type": "fragment"
      }
     },
     "outputs": [
      {
       "output_type": "display_data",
       "text": [
        "[1] 1.344741\n"
       ]
      }
     ],
     "prompt_number": 260
    },
    {
     "cell_type": "markdown",
     "metadata": {
      "slideshow": {
       "slide_type": "slide"
      }
     },
     "source": [
      "So what happened here? What do we do?\n",
      "\n",
      "It is hard to know exactly why these residuals are too large. It is an indication\n",
      "that our model $${\\cal Y_i}|{\\cal X} \\sim \\Pp_{\\eta(X_i)}$$ is incorrect.\n",
      "\n",
      "Let's refit the model a little differently. The earlier data had been pooled\n",
      "across cities. Let's expand this to a full data set. If our original binomial\n",
      "model was correct, then this new data set will be independent Bernoulli random variables given the covariates. The `rain` part of the model is unnecessary because it is subsumed into the `city` factor.\n"
     ]
    },
    {
     "cell_type": "code",
     "collapsed": false,
     "input": [
      "%R -o toxo\n",
      "rain, nsample, cases, srain = toxo\n"
     ],
     "language": "python",
     "metadata": {
      "slideshow": {
       "slide_type": "slide"
      }
     },
     "outputs": [],
     "prompt_number": 263
    },
    {
     "cell_type": "code",
     "collapsed": false,
     "input": [
      "bernoulli_cases = []\n",
      "city = []\n",
      "\n",
      "city_idx = 0\n",
      "for n, r, c in zip(nsample, rain, cases):\n",
      "    bernoulli_cases += c*[1] + (n-c)*[0]\n",
      "    city += n*[city_idx]\n",
      "    city_idx += 1\n",
      "bernoulli_cases = np.array(bernoulli_cases)\n",
      "%R -i bernoulli_cases,city"
     ],
     "language": "python",
     "metadata": {
      "slideshow": {
       "slide_type": "fragment"
      }
     },
     "outputs": [],
     "prompt_number": 265
    },
    {
     "cell_type": "code",
     "collapsed": false,
     "input": [
      "%%R\n",
      "bernoulli_cases = as.numeric(bernoulli_cases)\n",
      "expanded_rain = as.numeric(expanded_rain)\n",
      "city = as.factor(city)\n",
      "expanded.glm = glm(bernoulli_cases ~ poly(expanded_rain,3), family=binomial())\n",
      "print(summary(expanded.glm))"
     ],
     "language": "python",
     "metadata": {
      "exercise": {
       "start": true
      },
      "slideshow": {
       "slide_type": "slide"
      }
     },
     "outputs": [
      {
       "output_type": "display_data",
       "text": [
        "\n",
        "Call:\n",
        "glm(formula = bernoulli_cases ~ poly(expanded_rain, 3), family = binomial())\n",
        "\n",
        "Deviance Residuals: \n",
        "    Min       1Q   Median       3Q      Max  \n",
        "-1.3750  -1.2085   0.9919   1.1007   1.4433  \n",
        "\n",
        "Coefficients:\n",
        "                        Estimate Std. Error z value Pr(>|z|)    \n",
        "(Intercept)              0.04289    0.07641   0.561 0.574628    \n",
        "poly(expanded_rain, 3)1 -0.67501    2.03019  -0.332 0.739523    \n",
        "poly(expanded_rain, 3)2 -0.01739    2.03838  -0.009 0.993191    \n",
        "poly(expanded_rain, 3)3  6.82977    2.03841   3.351 0.000807 ***\n",
        "---\n",
        "Signif. codes:  0 \u2018***\u2019 0.001 \u2018**\u2019 0.01 \u2018*\u2019 0.05 \u2018.\u2019 0.1 \u2018 \u2019 1 \n",
        "\n",
        "(Dispersion parameter for binomial family taken to be 1)\n",
        "\n",
        "    Null deviance: 965.92  on 696  degrees of freedom\n",
        "Residual deviance: 954.35  on 693  degrees of freedom\n",
        "AIC: 962.35\n",
        "\n",
        "Number of Fisher Scoring iterations: 4\n",
        "\n"
       ]
      }
     ],
     "prompt_number": 266
    },
    {
     "cell_type": "code",
     "collapsed": false,
     "input": [
      "%%R\n",
      "print(anova(expanded.glm))"
     ],
     "language": "python",
     "metadata": {
      "slideshow": {
       "slide_type": "slide"
      }
     },
     "outputs": [
      {
       "metadata": {},
       "output_type": "display_data",
       "text": [
        "Analysis of Deviance Table\n",
        "\n",
        "Model: binomial, link: logit\n",
        "\n",
        "Response: bernoulli_cases\n",
        "\n",
        "Terms added sequentially (first to last)\n",
        "\n",
        "\n",
        "                       Df Deviance Resid. Df Resid. Dev\n",
        "NULL                                     696     965.92\n",
        "poly(expanded_rain, 3)  3   11.577       693     954.35\n",
        "city                   30   62.635       663     891.71\n"
       ]
      }
     ],
     "prompt_number": 30
    },
    {
     "cell_type": "markdown",
     "metadata": {
      "exercise": {
       "input": true
      },
      "slideshow": {
       "slide_type": "fragment"
      }
     },
     "source": [
      "### *Exercise*\n",
      "\n",
      "Why does the deviance decrease for adding `city` as a factor equal the residual\n",
      "deviance from the original model?\n"
     ]
    },
    {
     "cell_type": "markdown",
     "metadata": {
      "slideshow": {
       "slide_type": "fragment"
      }
     },
     "source": [
      "\n",
      "One reason for the model to be off might be that our assumption of conditional independence given our covariates might be incorrect. For instance, we might not truly\n",
      "have independent samples within each city, so there may be some unknown\n",
      "clustering in our data. That is, the binomial model for the counts we observed in the model `toxo.glm` may not be appropriate."
     ]
    },
    {
     "cell_type": "heading",
     "level": 2,
     "metadata": {
      "slideshow": {
       "slide_type": "slide"
      }
     },
     "source": [
      "Quasilikelihood"
     ]
    },
    {
     "cell_type": "markdown",
     "metadata": {
      "slideshow": {
       "slide_type": "fragment"
      }
     },
     "source": [
      "The quasilikelihood approach assumes that the mean model is correct. That is, \n",
      "if $\\mu_i=\\Ee({\\cal Y}_i|{\\cal X})$, then we continue to assume\n",
      "$$\n",
      "g(\\mu_i) = x_i^T\\beta.\n",
      "$$\n",
      "\n",
      "If the GLM is correct, then the variance is tied to the mean by\n",
      "$$\n",
      "\\begin{aligned}\n",
      "\\Vv({\\cal Y}_i|{\\cal X}) &= \\Vv({\\cal Y}_i|{\\cal X}_i) \\\\\n",
      "&= \\Vv_{F(X_i^T\\beta)}(Y) \\\\\n",
      "&= \\ddot{\\CGF}(F(x_i^T\\beta)). \\\\\n",
      "\\end{aligned}\n",
      "$$"
     ]
    },
    {
     "cell_type": "markdown",
     "metadata": {
      "slideshow": {
       "slide_type": "fragment"
      }
     },
     "source": [
      "The quasilikelihood assumption is that\n",
      "$$\n",
      "\\Vv({\\cal Y}_i|{\\cal X}) = \\phi^{-1} \\cdot \\ddot{\\CGF}(F(x_i^T\\beta)) = \\phi^{-1} \\cdot \\Vv_{\\eta(\\mu_i)}(Y)\n",
      "$$\n",
      "\n",
      "The model is fit using the *quasi-likelihood* for $\\eta$ which we can think of, formally, as\n",
      "$$\n",
      " \\ell_{\\text{quasi}}(\\beta) = \\phi^{-1} \\cdot \\ell(\\beta)\n",
      "$$\n",
      "where $\\ell(\\beta)$ is the likelihood assuming the original GLM was correct.\n",
      "\n"
     ]
    },
    {
     "cell_type": "markdown",
     "metadata": {
      "slideshow": {
       "slide_type": "slide"
      }
     },
     "source": [
      "Strictly speaking, the quasi-likelihood is a function whose score is \n",
      "the gradient of what I called $\\nabla\\ell_{\\text{quasi}}(\\beta)$:\n",
      "$$\n",
      "\\nabla \\ell_{\\text{quasi}}(\\beta) = \\phi^{-1} \\cdot X^T\\nabla F(X\\beta) \\left[\\nabla \\CGF^{(n)}(F(X\\beta)) - Y\\right]\n",
      "$$\n",
      "and the formal calculation goes on to the (quasi) Fisher information\n",
      "$$\n",
      "``\\Ee_{\\beta} ( \\nabla \\ell_{\\text{quasi}}(\\beta)\\nabla \\ell_{\\text{quasi}}(\\beta)^T )''= \n",
      "\\phi^{-1} \\cdot X^T \\nabla^2 \\CGF^{(n)}(F(X\\beta)) X.\n",
      "$$\n",
      "Leading us to conclude\n",
      "$$\n",
      "\\hat{\\beta} \\approx N\\left(\\beta, \\phi \\cdot \\left(X^T\\nabla^2 \\CGF^{(n)} \n",
      "(F(X\\beta))X\\right)^\n",
      "{-1} \\right).\n",
      "$$\n",
      "\n",
      "I say formally here, because the quasilikelihood is not a true likelihood. For one thing, it would imply that the means and variances of $Y$ would multiplied by $\\phi$ while we know that $Y$ is Bernoulli in the expanded dataset."
     ]
    },
    {
     "cell_type": "markdown",
     "metadata": {
      "exercise": {
       "start": true
      },
      "slideshow": {
       "slide_type": "slide"
      }
     },
     "source": [
      "### *Exercise: quasi-score*\n",
      "\n",
      "Suppose that, marginally, $Y_i \\sim \\text{Bernoulli}(\\pi(X_i)), 1 \\leq i \\leq n$ but the\n",
      "joint distribution is unkown and \n",
      "$$\n",
      "\\pi(x_i) = \\frac{e^{x_i^T\\beta}}{1 + e^{x_i^T\\beta}}.\n",
      "$$\n",
      "\n",
      "Show that \n",
      "$$\n",
      "\\Ee( \\nabla \\ell_{\\text{quasi}}(\\beta)) = 0.\n",
      "$$"
     ]
    },
    {
     "cell_type": "markdown",
     "metadata": {
      "slideshow": {
       "slide_type": "fragment"
      }
     },
     "source": [
      "A common estimate of $\\phi$ is\n",
      "$$\n",
      "\\hat{\\phi} = \\frac{1}{n-p}D_+(Y;\\hat{\\mu}).\n",
      "$$\n",
      "\n",
      "Another is Pearson's $X^2$\n",
      "$$\n",
      "X^2\n",
      "= \\frac{1}{n-p} \\sum_{i=1}^{n} \\frac{(Y_i-\\hat{\\mu}_i)^2}{\\Vv_{\\eta(\\hat{\\mu}_i)}(Y_i)}\n",
      "$$"
     ]
    },
    {
     "cell_type": "code",
     "collapsed": false,
     "input": [
      "%%R\n",
      "phihat = sum(resid(toxo.glm)^2) / 30\n",
      "print(summary(toxo.glm, dispersion=phihat))"
     ],
     "language": "python",
     "metadata": {
      "slideshow": {
       "slide_type": "slide"
      }
     },
     "outputs": [
      {
       "metadata": {},
       "output_type": "display_data",
       "text": [
        "\n",
        "Call:\n",
        "glm(formula = r/m ~ srain + I(srain^2) + I(srain^3), family = binomial, \n",
        "    data = toxo, weights = m)\n",
        "\n",
        "Deviance Residuals: \n",
        "    Min       1Q   Median       3Q      Max  \n",
        "-2.7620  -1.2166  -0.5079   0.3538   2.6204  \n",
        "\n",
        "Coefficients:\n",
        "            Estimate Std. Error z value Pr(>|z|)  \n",
        "(Intercept)  0.09939    0.14733   0.675   0.4999  \n",
        "srain       -0.44846    0.22416  -2.001   0.0454 *\n",
        "I(srain^2)  -0.18727    0.13224  -1.416   0.1568  \n",
        "I(srain^3)   0.21342    0.09204   2.319   0.0204 *\n",
        "---\n",
        "Signif. codes:  0 \u2018***\u2019 0.001 \u2018**\u2019 0.01 \u2018*\u2019 0.05 \u2018.\u2019 0.1 \u2018 \u2019 1 \n",
        "\n",
        "(Dispersion parameter for binomial family taken to be 2.08782)\n",
        "\n",
        "    Null deviance: 74.212  on 33  degrees of freedom\n",
        "Residual deviance: 62.635  on 30  degrees of freedom\n",
        "AIC: 161.33\n",
        "\n",
        "Number of Fisher Scoring iterations: 3\n",
        "\n"
       ]
      }
     ],
     "prompt_number": 31
    },
    {
     "cell_type": "markdown",
     "metadata": {
      "slideshow": {
       "slide_type": "slide"
      }
     },
     "source": [
      "`R` has a special family for the *quasilikelihood*"
     ]
    },
    {
     "cell_type": "code",
     "collapsed": false,
     "input": [
      "%%R\n",
      "quasitoxo.glm = glm(r/m ~ srain + I(srain^2) + I(srain^3) , weights=m, family=quasibinomial(link='logit'), data=toxo)\n",
      "print(summary(quasitoxo.glm))"
     ],
     "language": "python",
     "metadata": {
      "slideshow": {
       "slide_type": "fragment"
      }
     },
     "outputs": [
      {
       "metadata": {},
       "output_type": "display_data",
       "text": [
        "\n",
        "Call:\n",
        "glm(formula = r/m ~ srain + I(srain^2) + I(srain^3), family = quasibinomial(link = \"logit\"), \n",
        "    data = toxo, weights = m)\n",
        "\n",
        "Deviance Residuals: \n",
        "    Min       1Q   Median       3Q      Max  \n",
        "-2.7620  -1.2166  -0.5079   0.3538   2.6204  \n",
        "\n",
        "Coefficients:\n",
        "            Estimate Std. Error t value Pr(>|t|)  \n",
        "(Intercept)  0.09939    0.14204   0.700   0.4895  \n",
        "srain       -0.44846    0.21610  -2.075   0.0466 *\n",
        "I(srain^2)  -0.18727    0.12749  -1.469   0.1523  \n",
        "I(srain^3)   0.21342    0.08873   2.405   0.0225 *\n",
        "---\n",
        "Signif. codes:  0 \u2018***\u2019 0.001 \u2018**\u2019 0.01 \u2018*\u2019 0.05 \u2018.\u2019 0.1 \u2018 \u2019 1 \n",
        "\n",
        "(Dispersion parameter for quasibinomial family taken to be 1.940446)\n",
        "\n",
        "    Null deviance: 74.212  on 33  degrees of freedom\n",
        "Residual deviance: 62.635  on 30  degrees of freedom\n",
        "AIC: NA\n",
        "\n",
        "Number of Fisher Scoring iterations: 3\n",
        "\n"
       ]
      }
     ],
     "prompt_number": 33
    },
    {
     "cell_type": "markdown",
     "metadata": {
      "slideshow": {
       "slide_type": "slide"
      }
     },
     "source": [
      "I tried, but was unsuccessful at computing their scale parameter but I believe it is\n",
      "Pearson's $X^2$ with weights incorporated into the formula."
     ]
    },
    {
     "cell_type": "code",
     "collapsed": false,
     "input": [
      "%%R\n",
      "Y = toxo$r / toxo$m\n",
      "print(sum(toxo$m*(Y-mu)^2 / ((mu*(1-mu)))))\n",
      "print(sum(toxo$m))"
     ],
     "language": "python",
     "metadata": {
      "slideshow": {
       "slide_type": "fragment"
      }
     },
     "outputs": [
      {
       "output_type": "display_data",
       "text": [
        "[1] 248.6024\n",
        "[1] 697\n"
       ]
      }
     ],
     "prompt_number": 102
    },
    {
     "cell_type": "heading",
     "level": 2,
     "metadata": {
      "slideshow": {
       "slide_type": "slide"
      }
     },
     "source": [
      "General form of a GLM"
     ]
    },
    {
     "cell_type": "markdown",
     "metadata": {
      "slideshow": {
       "slide_type": "fragment"
      }
     },
     "source": [
      "Having introduced quasilikelihood, which is determined by a link function\n",
      "and a *quasi-family* we see the main ingredients of a *GLM* for a conditional\n",
      "distribution\n",
      "$$\n",
      "{\\cal Y} \\in \\real^n | {\\cal X} \\in \\real^{n \\times p}\n",
      "$$\n",
      "\n",
      "1. A link function: suppose we know that ${\\cal Y}_i \\in I$ for some interval $I$. Then, any differentiable invertible function\n",
      "$g: I \\rightarrow \\real$ can be used as a link function\n",
      "$$\n",
      "g(\\Ee({\\cal Y}_i|{\\cal X})) = x_i^T\\beta.\n",
      "$$\n",
      "\n",
      "2. A variance function, $V:I \\rightarrow [0,+\\infty)$.\n"
     ]
    },
    {
     "cell_type": "markdown",
     "metadata": {
      "slideshow": {
       "slide_type": "fragment"
      }
     },
     "source": [
      "Our original GLMs, the Poisson and binomial came from exponential families and we used the canonical link. As its name implies, the canonical link provided our link function with $I=\\Mm$. The variance function also comes from the exponential family\n",
      "$$\n",
      "V_{\\mu} = \\ddot{\\CGF}(\\eta(\\mu)) = \\Vv_{\\eta(\\mu)}(Y).\n",
      "$$"
     ]
    },
    {
     "cell_type": "heading",
     "level": 2,
     "metadata": {
      "slideshow": {
       "slide_type": "slide"
      }
     },
     "source": [
      "Double exponential families"
     ]
    },
    {
     "cell_type": "markdown",
     "metadata": {
      "slideshow": {
       "slide_type": "fragment"
      }
     },
     "source": [
      "The quasilikelihood approach has the downside that using it as our objective function\n",
      "does not correspond to any true likelihood, not even a conditional likelihood as was the case for pseudolikelihood.\n",
      "\n",
      "The [double exponential family approach](http://www.jstor.org/stable/2289002) is a genuine exponential family approach to modelling overdispersion."
     ]
    },
    {
     "cell_type": "markdown",
     "metadata": {
      "slideshow": {
       "slide_type": "fragment"
      }
     },
     "source": [
      "Given an exponential family, $\\Pp_{\\eta}$ with sufficient statistic $y$ and \n",
      "carrier measure $m$, the double exponential family is an\n",
      "exponential family with the *same* carrier measure\n",
      "$$\n",
      "\\frac{d\\mathbb{Q}_{\\zeta,\\theta}}{dm} = C(\\zeta,\\theta) \\cdot \\exp \\left(\\zeta^Ty + \\theta(\\CGF(\\eta(y))-\\eta(y)^Ty) \\right), \\qquad \\theta \\geq 0\n",
      "$$\n",
      "with \n",
      "$$\n",
      "\\eta(y) = \\nabla \\CGF^*(y).\n",
      "$$"
     ]
    },
    {
     "cell_type": "markdown",
     "metadata": {
      "slideshow": {
       "slide_type": "fragment"
      }
     },
     "source": [
      "Above,\n",
      "$$\n",
      "\\log C(\\zeta,\\theta) = - \\log\\left[  \\int_{\\Omega} \\exp \\left(\\zeta^Ty + \\theta(\\CGF(\\eta(y))-\\eta(y)^Ty) \\right) \\; m(dy) \\right]\n",
      "$$\n",
      "is the CGF of the family $\\mathbb{Q}_{\\zeta,\\theta}$."
     ]
    },
    {
     "cell_type": "markdown",
     "metadata": {
      "exercise": {
       "start": true
      },
      "slideshow": {
       "slide_type": "fragment"
      }
     },
     "source": [
      "### *Exercise: double exponential families*\n",
      "\n",
      "What is the domain of the exponential family $\\mathbb{Q}_{\\zeta,\\theta}$?"
     ]
    },
    {
     "cell_type": "markdown",
     "metadata": {
      "slideshow": {
       "slide_type": "slide"
      }
     },
     "source": [
      "The only change from the original family is the addition of a new sufficient statistic\n",
      "$\\CGF(\\eta(y)) - \\eta(y)^Ty$. Of course this changes the CGF, which is reflected in\n",
      "$C(\\zeta,\\theta)$ above.\n",
      "\n",
      "We might also consider adding an index $n$ corresponding to repeated sampling.\n",
      "In the toxoplasmosis example, this repeated sampling will be the number of samples within each city. \n"
     ]
    },
    {
     "cell_type": "markdown",
     "metadata": {
      "slideshow": {
       "slide_type": "fragment"
      }
     },
     "source": [
      "\n",
      "The density therefore has the form\n",
      "$$\n",
      "\\begin{aligned}\n",
      "\\frac{d\\mathbb{Q}_{\\zeta,\\theta,n}}{dm} &= C(\\zeta,\\theta,n) \\cdot \\theta^{1/2} e^{n \\left[\\eta(\\bar{y})^T\\bar{y}-\\CGF(\\eta(\\bar{y})) - \\theta \\CGF(\\zeta/\\theta)\\right]} \\\\\n",
      "& \\qquad \\exp \\left[n \\left(\\zeta^T\\bar{y} + \\theta \\cdot (\\CGF(\\eta(\\bar{y}))-\\eta(\\bar{y})^T\\bar{y}) \\right) \\right] \\\\\n",
      "&= C(\\zeta,\\theta,n) \\; \\theta^{1/2} e^{n(1-\\theta) \\left(\\eta(\\bar{y})^T\\bar{y}  - \\CGF(\\eta(\\bar{y}))\\right)} e^{n\\theta \\left((\\zeta/\\theta)^Ty - \\CGF(\\zeta/\\theta)\\right)} \\\\\n",
      "&= C(\\zeta,\\theta,n) \\; \\theta^{1/2} \\cdot e^{-n\\theta \\cdot D(\\eta(\\bar{y});\\zeta/\\theta)/2} \\cdot e^{n \\left[\\eta(\\bar{y})^T\\bar{y} - \\CGF(\\bar{y})\\right]}\n",
      "\\end{aligned}\n",
      "$$\n",
      "where the reference measure is replaced with the reference measure of \n",
      "$$\n",
      "\\bar{y} = \\frac{1}{n}\\sum_{i=1}^n y_i\n",
      "$$"
     ]
    },
    {
     "cell_type": "markdown",
     "metadata": {
      "slideshow": {
       "slide_type": "slide"
      }
     },
     "source": [
      "It is fair to ask why we have introduced the term \n",
      "$\\theta^{1/2} e^{n\\left[\\eta(\\bar{y})^T\\bar{y} - \\CGF(\\bar{y}) - \\theta \\CGF(\\zeta/\\theta)\\right]}$ above. This both changes the reference measure\n",
      "as well as the $C(\\zeta,\\theta)$ above.\n",
      "\n",
      "There are two justifications. Firstly, under the new reference measure,\n",
      "the density is proportional to\n",
      "$$\n",
      "\\theta^{1/2} e^{-n\\theta \\cdot D(\\eta(\\bar{y});\\eta)/2} = \\theta^{1/2} e^{-n\\theta \\cdot \\tilde{D}(\\bar{y};\\mu(\\eta))/2}.\n",
      "$$"
     ]
    },
    {
     "cell_type": "markdown",
     "metadata": {
      "slideshow": {
       "slide_type": "fragment"
      }
     },
     "source": [
      "The second is due to the fact that, with this choice \n",
      "$$\n",
      "C(\\zeta,\\theta,n) \\overset{n \\to \\infty}{\\approx} 1.\n",
      "$$\n",
      "See Brad's above paper for more details. This means that\n",
      "$$\n",
      "f_{\\zeta,\\theta,n}(\\bar{y}) = \\theta^{1/2} \\cdot e^{-n\\theta \\cdot D(\\eta(\\bar{y});\\zeta/\\theta)/2} \\cdot e^{n \\left[\\eta(\\bar{y})^T\\bar{y} - \\CGF(\\bar{y})\\right]}\n",
      "$$\n",
      "is almost a probability density with respect to the reference measure of $\\bar{y}$. Let's call it a quasi-density. If it was a density, it would be the density\n",
      "of the exponential family $\\mathbb{Q}_{\\zeta,\\theta,n}$.\n"
     ]
    },
    {
     "cell_type": "markdown",
     "metadata": {
      "exercise": {
       "start": true
      },
      "slideshow": {
       "slide_type": "slide"
      }
     },
     "source": [
      "### *Exercise: double exponential quasidensities*\n",
      "\n",
      "1. Plot the quasidensity $f_{\\zeta,\\theta,n}(\\bar{y})$ for the Poisson family with $n=10, \\zeta=1$ for various values of $\\theta$.\n",
      "\n",
      "2. Vary $n$ over some range. Is the justification $C(\\zeta,\\theta,n) \\approx 1$ reasonable?\n"
     ]
    },
    {
     "cell_type": "heading",
     "level": 3,
     "metadata": {
      "slideshow": {
       "slide_type": "slide"
      }
     },
     "source": [
      "Mean and variance"
     ]
    },
    {
     "cell_type": "markdown",
     "metadata": {
      "slideshow": {
       "slide_type": "fragment"
      }
     },
     "source": [
      "If $f_{\\zeta,\\theta,n}$ was a density, it would be the density\n",
      "of the exponential family $\\mathbb{Q}_{\\zeta,\\theta,n}$.\n",
      "\n",
      "Assuming it is a density yields the means and variances\n",
      "of the sufficient statistics in this exponential family\n",
      "$$\n",
      "\\begin{aligned}\n",
      "\\Ee^{(n)}_{\\zeta,\\theta} \\left( n \\bar{y}\\right) & \\approx n \\nabla \\CGF(\\zeta/\\theta) \\\\\n",
      "\\Ee^{(n)}_{\\zeta,\\theta} \\left(n \\left[\\CGF(\\eta(\\bar{y})) -\\eta(\\bar{y})^T\\bar{y} \\right] \\right) & \\approx n \\left[\\CGF(\\zeta/\\theta)  - \\nabla \\CGF(\\zeta/\\theta)^T \\zeta/\\theta \\right] - \\frac{1}{2 \\theta}.\n",
      "\\end{aligned}\n",
      "$$\n",
      "\n",
      "As for variance, \n",
      "$$\n",
      "\\begin{aligned}\n",
      "\\Vv^{(n)}_{\\zeta,\\theta} \\left( n \\bar{y} \\right) & \\approx \\frac{n}{\\theta} \\nabla^2\\CGF(\\zeta/\\theta) \\\\\n",
      "\\Vv^{(n)}_{\\zeta,\\theta} \\left(n \\left[ \\CGF(\\eta(\\bar{y})) -\\eta(\\bar{y})^T\\bar{y} \\right] \\right) & \\approx \\frac{n}{\\theta}  \\nabla \\CGF(\\zeta/\\theta)(\\zeta/\\theta,\\zeta/\\theta) + \\frac{1}{2 \\theta^2} \\\\\n",
      "\\text{Cov}^{(n)}_{\\zeta,\\theta}\\left(n \\bar{y}, n \\left[ \\CGF(\\eta(\\bar{y})) -\\eta(\\bar{y})^T\\bar{y} \\right] \\right) & \\approx - n \\nabla^2 \\CGF(\\zeta/\\theta) \\zeta / \\theta^2.\n",
      "\\end{aligned}\n",
      "$$"
     ]
    },
    {
     "cell_type": "heading",
     "level": 3,
     "metadata": {
      "slideshow": {
       "slide_type": "slide"
      }
     },
     "source": [
      "Interpretation of the parameters"
     ]
    },
    {
     "cell_type": "markdown",
     "metadata": {
      "slideshow": {
       "slide_type": "fragment"
      }
     },
     "source": [
      "Inspection of the density above shows that, for $\\theta < 1$ the density is less concentrated than at $\\theta=1$. Similarly, for $\\theta > 1$, the density is more concentrated than at $\\theta=1$.\n",
      "\n",
      "Hence, $\\theta$ is inversely related to dispersion: $\\theta < 1$ indicates overdispersion, while $\\theta > 1$ indicates underdispersion."
     ]
    },
    {
     "cell_type": "markdown",
     "metadata": {
      "slideshow": {
       "slide_type": "fragment"
      }
     },
     "source": [
      "The parameter $\\zeta/\\theta$ appears as an argument to $\\CGF$, hence we can think of \n",
      "$\\zeta/\\theta$ as $\\eta$ in the model $\\theta=1$.  If we parameterize this family by $(\\eta,\\theta)$ then it is no \n",
      "longer an exponential family in the sense we've been using the term because the parameters do not appear linearly. It is a *curved exponential family*."
     ]
    },
    {
     "cell_type": "markdown",
     "metadata": {
      "slideshow": {
       "slide_type": "fragment"
      }
     },
     "source": [
      "Nevertheless, this $(\\eta,\\theta)$ parametrization is essentially the one that Brad uses in his paper (actually he uses $\\mu=\\nabla \\CGF(\\zeta/\\theta)$).\n"
     ]
    },
    {
     "cell_type": "markdown",
     "metadata": {
      "slideshow": {
       "slide_type": "fragment"
      }
     },
     "source": [
      "In the $\\zeta=\\eta \\theta$ parameterization, we see\n",
      "$$\n",
      "\\begin{aligned}\n",
      "\\frac{d\\mathbb{Q}_{\\eta \\theta,\\theta,n}}{dm} &=\n",
      "C(\\theta \\eta,\\theta,n) \\cdot \\theta^{1/2} e^{-n\\theta \\cdot D(\\eta(\\bar{y});\\eta)/2} \\cdot e^{n \\left[\\eta(\\bar{y})^T\\bar{y} - \\CGF(\\bar{y})\\right]} \\\\\n",
      "&= C(\\theta \\eta,\\theta,n) \\cdot \\theta^{1/2} e^{(1-\\theta)n \\left(\\eta(\\bar{y})^T\\bar{y}-\\CGF(\\eta(\\bar{y}))\\right)} e^{\\theta n \\left(\\eta^T\\bar{y}-\\CGF(\\eta) \\right)}. \\\\\n",
      "\\end{aligned}\n",
      "$$\n"
     ]
    },
    {
     "cell_type": "markdown",
     "metadata": {
      "exercise": {
       "start": true
      },
      "slideshow": {
       "slide_type": "slide"
      }
     },
     "source": [
      "### *Exercise: Fisher information of double exponential familes*\n",
      "\n",
      "1. Compute the Fisher information of $(\\eta,\\theta)= (\\zeta/\\theta, \\theta)$ in the double exponential family. (You can ignore the normalization constant).\n",
      "\n",
      "2. Argue that this implies that $(\\hat{\\eta}, \\hat{\\theta})$ are asymptotically independent as $n \\rightarrow \\infty$."
     ]
    },
    {
     "cell_type": "heading",
     "level": 3,
     "metadata": {
      "slideshow": {
       "slide_type": "slide"
      }
     },
     "source": [
      "Estimation in double exponential families"
     ]
    },
    {
     "cell_type": "markdown",
     "metadata": {
      "slideshow": {
       "slide_type": "fragment"
      }
     },
     "source": [
      "As $C(\\zeta,\\theta,n)$ is very close to 1 for $n$ sufficiently large, one may effectively\n",
      "ignore $C$ in MLE computations.\n",
      "\n",
      "The score vector is\n",
      "$$\n",
      "\\nabla \\log \\frac{d\\mathbb{Q}_{\\zeta,\\theta,n}}{dm} \n",
      "\\approx \\begin{pmatrix} -\\frac{n}{2} \\nabla_{\\eta} D(\\eta(\\bar{y});\\eta) \\biggl|_{\\eta=\\zeta/\\theta} \\\\\n",
      "\\frac{1}{2 \\theta} - \\frac{1}{2} D(\\eta(\\bar{y});\\zeta/\\theta) + \\left(\\frac{1}{2} \\nabla_{\\eta} D(\\eta(\\bar{y});\\eta) \\biggl|_{\\eta=\\zeta/\\theta}\\right)^T\\zeta/\\theta\n",
      "\\end{pmatrix}\n",
      "$$\n",
      "\n",
      "Above, the approximation ignore $\\nabla C(\\zeta,\\theta,n)$ which we take to be approximately 0."
     ]
    },
    {
     "cell_type": "markdown",
     "metadata": {
      "slideshow": {
       "slide_type": "fragment"
      }
     },
     "source": [
      "We see, then that for the MLE $(\\hat{\\zeta},\\hat{\\theta})$\n",
      "$$\n",
      "\\begin{aligned}\n",
      "\\hat{\\zeta}/\\hat{\\theta} &= \\nabla \\CGF^*(\\bar{y}) \\\\\n",
      "\\frac{1}{\\hat{\\theta}} &= n \\cdot D(\\eta(\\bar{y}); \\hat{\\zeta}/\\hat{\\theta}) \\\\\n",
      "&= D^{(n)}(y, \\hat{\\zeta}/\\hat{\\theta}).\n",
      "\\end{aligned}\n",
      "$$\n",
      "\n"
     ]
    },
    {
     "cell_type": "heading",
     "level": 2,
     "metadata": {
      "slideshow": {
       "slide_type": "slide"
      }
     },
     "source": [
      "Regression and double exponential families"
     ]
    },
    {
     "cell_type": "markdown",
     "metadata": {
      "slideshow": {
       "slide_type": "fragment"
      }
     },
     "source": [
      "Suppose now we form a regression model using double exponential families with repeated measurements. In this model, we assume that, as in the toxoplasmosis\n",
      "case, each outcome can be thought of as repeated measurements for some\n",
      "fixed value of the covariates.\n",
      "\n",
      "We follow the setup of our generalized linear model. That is, \n",
      "we assume that, given ${\\cal X}_i, 1 \\leq i \\leq N$ we observe \n",
      "$$\n",
      "{\\cal Y}_i  \\bigl| {\\cal X} \\overset{\\text{indep}}{\\sim} \\mathbb{Q}_{\\zeta_i, \\theta_i, n_i} = \\mathbb{Q}_{\\eta_i \\theta_i, \\theta_i, n_i}\n",
      "$$"
     ]
    },
    {
     "cell_type": "markdown",
     "metadata": {
      "slideshow": {
       "slide_type": "fragment"
      }
     },
     "source": [
      "As the $\\theta_i$'s are some version of a dispersion parameter, we of course have the choice to assume that they are constant for all $i$, leading to the model\n",
      "$$\n",
      "{\\cal Y}_i  \\bigl| {\\cal X} \\overset{\\text{indep}}{\\sim} \\mathbb{Q}_{\\zeta_i, \\theta, n_i} = \\mathbb{Q}_{\\eta_i \\theta, \\theta, n_i}.\n",
      "$$"
     ]
    },
    {
     "cell_type": "markdown",
     "metadata": {
      "slideshow": {
       "slide_type": "slide"
      }
     },
     "source": [
      "The natural linear model to consider is\n",
      "$$\n",
      "\\eta_i = x_i^T\\beta = \\zeta_i / \\theta.\n",
      "$$\n",
      "\n",
      "This leads to a likelihood\n",
      "$$\n",
      "\\ell(\\beta,\\theta) = \\frac{N}{2} \\log \\theta + \\frac{\\theta}{2} \\sum_{i=1}^N n_i D(\\eta(\\bar{y}); x_i^T\\beta).\n",
      "$$"
     ]
    },
    {
     "cell_type": "markdown",
     "metadata": {
      "exercise": {
       "start": true
      },
      "slideshow": {
       "slide_type": "slide"
      }
     },
     "source": [
      "### *Exercise: score for double exponential linear models*\n",
      "\n",
      "1. Compute the score equations of the above linear model.\n",
      "\n",
      "2. Show that $\\hat{\\beta}$ is exactly the same as the quasilikelihood estimator\n",
      "of $\\beta$.\n",
      "\n",
      "3. Show that $\\hat{\\theta}$ is *almost* the same as the quasilikelihood estimator of \n",
      "$\\theta$. What's different? \n",
      "\n",
      "4. Compute the Fisher information of $(\\beta,\\theta)$ in this linear model. What advantage does this model have over the quasilikelihood model? (Hint: can you compute the Fisher information of the pair $(\\beta,\\theta)$ in the quasilikelihood setup?)"
     ]
    },
    {
     "cell_type": "markdown",
     "metadata": {
      "exercise": {
       "start": true
      },
      "slideshow": {
       "slide_type": "fragment"
      }
     },
     "source": [
      "### *Exercise: double exponential linear models*\n",
      "\n",
      "1. Show the linear model we've formed for repeated measurements is not an exponential family (in the sense we've been using the term exponential family)? \n",
      "\n",
      "2. Modify the model so that it is an exponential family."
     ]
    },
    {
     "cell_type": "markdown",
     "metadata": {
      "exercise": {
       "start": true
      },
      "slideshow": {
       "slide_type": "fragment"
      }
     },
     "source": [
      "### *Exercise: modelling dispersion*\n",
      "\n",
      "In the linear model we introduced above we made the assumption that\n",
      "$\\theta_i=\\theta$, but we might want to model $\\theta$ as a function of $x$ as well.\n",
      "Suppose that $\\eta_i=x_i^T\\alpha$.\n",
      "\n",
      "1. Form a regression model for ${\\cal Y}_i \\bigl| {\\cal X}$ that allows both\n",
      "$(\\zeta,\\theta)$ to depend on some covariates. Choose your model so that it is\n",
      "a genuine exponential family.\n",
      "\n",
      "2. Write out the score and Fisher information for this model.\n",
      "\n",
      "3. Fit this model to the toxoplasmosis data where the effect on $\\zeta$ is assumed to be cubic while the effect on $\\theta$ is assumed to be linear (plus a constant). (Don't forget the constraint $\\theta \\geq 0$.)\n",
      "\n",
      "4. This model is some sort of random effects model. Suppose that the original family\n",
      "we started with was the normal means model (i.e. reference measure $e^{-x^2/2}$ on $\\real$ and sufficient statistic $x$). Describe this model of the variance for the random means model."
     ]
    },
    {
     "cell_type": "heading",
     "level": 3,
     "metadata": {
      "slideshow": {
       "slide_type": "slide"
      }
     },
     "source": [
      "Reduced sample size"
     ]
    },
    {
     "cell_type": "markdown",
     "metadata": {
      "slideshow": {
       "slide_type": "fragment"
      }
     },
     "source": [
      "The quasidensity calculations above show that, under $\\mathbb{Q}_{\\zeta,\\theta,n}$ we have\n",
      "$$\n",
      "\\begin{aligned}\n",
      "\\Ee^{(n)}_{\\zeta,\\theta} \\left(\\bar{y} \\right) & \\approx \\nabla \\CGF(\\zeta/\\theta) \\\\\n",
      "&= \\nabla \\CGF(\\eta) \\\\\n",
      "\\Vv^{(n)}_{\\zeta,\\theta} \\left(\\bar{y} \\right) & \\approx \\frac{1}{n \\theta} \\nabla^2 \\CGF(\\zeta/\\theta) \\\\\n",
      "&= \\frac{1}{n\\theta} \\nabla^2 \\CGF(\\eta).\n",
      "\\end{aligned}\n",
      "$$\n",
      "\n",
      "So, it seems as if the effect of introducing $\\theta$ effectively reduces the sample size by a factor of $\\theta$. "
     ]
    },
    {
     "cell_type": "markdown",
     "metadata": {},
     "source": [
      "The double exponential family approach with a common $\\theta$ is almost like \n",
      "changing $n_i$ to $n_i\\theta$, but it has the advantage that it does so in an exponential family way. \n",
      "\n",
      "Because the reference measure is the *same* as in the original family, one isn't changing\n",
      "the parameter space with $\\theta$. That is, for Binomial data, changing $n_i$ to $n_i\\theta$ changes the support of $\\bar{y}_i$ because it changes the denominator."
     ]
    },
    {
     "cell_type": "markdown",
     "metadata": {
      "exercise": {
       "start": true
      }
     },
     "source": [
      "### *Exercise: Binomial double exponential family quasidensity*\n",
      "\n",
      "Suppose the original family we start with is $\\text{Bernoulli}(\\pi)$.\n",
      "\n",
      "1. What is the quasidensity $f_{\\zeta,\\theta,n}$ for $\\bar{y}$? (You can ignore the normalizing constant.)\n",
      "\n",
      "2. Make a plot of the quasidensity for $n=16, \\pi=0.4,\\theta=0.5$. \n",
      "\n",
      "3. Compare this quasidensity to the density of $\\bar{y}$ if we assume the reduced sample size $\\tilde{n}=n\\theta=8$."
     ]
    },
    {
     "cell_type": "code",
     "collapsed": false,
     "input": [],
     "language": "python",
     "metadata": {},
     "outputs": []
    }
   ],
   "metadata": {}
  }
 ]
}