{
 "metadata": {
  "name": ""
 },
 "nbformat": 3,
 "nbformat_minor": 0,
 "worksheets": [
  {
   "cells": [
    {
     "cell_type": "markdown",
     "metadata": {},
     "source": [
      "\n",
      "**You may discuss homework problems with other students, but you have to prepare the written assignments yourself. Late homework will be penalized 10% per day.**\n",
      "\n",
      "**Please combine all your answers, the computer code and the figures into one file, and submit a copy to your dropbox folder.**\n",
      "\n",
      " **Grading scheme: 10 points per question, total of 30.**\n",
      " \n",
      "**Due date: 11:59 PM January 21, 2014 (Tuesday evening).**"
     ]
    },
    {
     "cell_type": "markdown",
     "metadata": {},
     "source": [
      "# Question 1\n",
      "\n",
      "On Groundhog Day, February 2, a famous groundhog in Punxsutawney, PA is used to predict whether a winter will be long or not based on whether or not he sees his shadow. I collected data on whether he saw his shadow or not from [here](http://www.stormfax.com/ghogday.htm). I stored some of this data in this [table](http://stats191.stanford.edu/data/groundhog.table).\n",
      "\n",
      "Although Phil is on the East Coast,\n",
      "I wondered if the information says anything about whether or not we will experience\n",
      "a rainy winter out here in California. For this, I found rainfall data, and saved it in a \n",
      "[table](http://stats191.stanford.edu/data/rainfall.csv). To see how this was extracted\n",
      "see this [notebook](http://nbviewer.ipython.org/url/www.stanford.edu/class/stats191/notebooks/Rainfall%20data.ipynb).\n",
      "\n",
      "1. Make a boxplot of the average rainfall in Northen California comparing the years Phil sees his shadow versus the years he does not.\n",
      "\n",
      "2. Construct a 90% confidence interval for the difference between the mean rainfall in years Phil sees his shadow and years he does not.\n",
      "\n",
      "3. Interpret the interval in part 2.\n",
      "\n",
      "4. At level, $\\alpha = 0.05$ would you reject the null hypothesis that the average rainfall in Northern California during the month of February was the same in years Phil sees his shadow versus years he does not?\n",
      "\n",
      "5. What assumptions are you making in forming your confidence interval and in your hypothesis test?"
     ]
    },
    {
     "cell_type": "markdown",
     "metadata": {},
     "source": [
      "# Question 2 \n",
      "\n",
      "The data set on [supervisor performance](http://www.ilr.cornell.edu/~hadi/RABE4/Data4/P056.txt) has information on an overall measure of \n",
      "supervisor performance (`Y`), as well as a measure of how often they give raises based on performance (`X4`) as well as 5 other measures. \n",
      "\n",
      "1. Create a boxplot of the supervisor rating `Y`, splitting the data based on the median\n",
      "of `X4`.\n",
      "\n",
      "2. Compute the sample mean, sample standard deviation `Y` in the two groups.\n",
      "\n",
      "3. Create a histogram of `Y` within each group.\n",
      "\n",
      "4. Compute a 90% confidence interval for the difference in supervisor performance between\n",
      "the two groups. What assumptions are you making?\n",
      "\n",
      "5. At level $\\alpha=5\\%$, test the null hypothesis that the average supervisor performance does not differ between the two groups. What assumptions are you making? What can you conclude?\n",
      "\n",
      "6. Repeat the test in 5. using the function `lm`."
     ]
    },
    {
     "cell_type": "markdown",
     "metadata": {},
     "source": [
      "# Question 3 (RABE)\n",
      "\n",
      "1. Use the `anscombe` data in `R`. Attach the table using the command `attach`.\n",
      "\n",
      "2.  Plot the 4 data sets `(x1,y1), (x2,y2), (x3,y3), (x4,y4)` on a 2-by-2 grid of plots using the commands `plot` and `par(mfrow=c(2,2))`. \n",
      "Add the number of the dataset to each plot as the main title on each plot.\n",
      "\n",
      "3. Fit a regression model to the data sets:\n",
      "\n",
      "    a. `y1 ~ x1`\n",
      "\n",
      "    b. `y2 ~ x2`\n",
      "\n",
      "    c. `y3 ~ x3`\n",
      "\n",
      "    d. `y4 ~ x4`\n",
      "\n",
      "   using the command `lm`. Verify that all the fitted models have the exact same coefficients (up to numerical tolerance).\n",
      "\n",
      "4. Using the command `cor`, compute the sample correlation for each data set.\n",
      "\n",
      "5. Fit the same models in 3. but with the `x` and `y` reversed. Using the command `summary`, does anything about the results stay\n",
      "the same when you reverse `x` and `y`?\n",
      "\n",
      "6. Compute the $SSE, SST$ and $R^2$ value for each data set. Use the\n",
      "commands `mean, sum, predict`.\n",
      "\n",
      "7.  Using the command `summary`, verify that all 4 models have exactly (up to numerical accuracy) the same $t$-statistics for testing the hypotheses $H_0:\\beta_0=0$ and $H_0:\\beta_1=0$.\n",
      "\n",
      "8. Using the command `abline`, replot the data, adding the regression line to each plot."
     ]
    },
    {
     "cell_type": "code",
     "collapsed": false,
     "input": [
      "%%R\n",
      "anscombe"
     ],
     "language": "python",
     "metadata": {},
     "outputs": [
      {
       "metadata": {},
       "output_type": "display_data",
       "text": [
        "   x1 x2 x3 x4    y1   y2    y3    y4\n",
        "1  10 10 10  8  8.04 9.14  7.46  6.58\n",
        "2   8  8  8  8  6.95 8.14  6.77  5.76\n",
        "3  13 13 13  8  7.58 8.74 12.74  7.71\n",
        "4   9  9  9  8  8.81 8.77  7.11  8.84\n",
        "5  11 11 11  8  8.33 9.26  7.81  8.47\n",
        "6  14 14 14  8  9.96 8.10  8.84  7.04\n",
        "7   6  6  6  8  7.24 6.13  6.08  5.25\n",
        "8   4  4  4 19  4.26 3.10  5.39 12.50\n",
        "9  12 12 12  8 10.84 9.13  8.15  5.56\n",
        "10  7  7  7  8  4.82 7.26  6.42  7.91\n",
        "11  5  5  5  8  5.68 4.74  5.73  6.89\n"
       ]
      }
     ],
     "prompt_number": 2
    }
   ],
   "metadata": {}
  }
 ]
}