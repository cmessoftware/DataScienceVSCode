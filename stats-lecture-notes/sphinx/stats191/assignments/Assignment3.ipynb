{
 "metadata": {
  "name": ""
 },
 "nbformat": 3,
 "nbformat_minor": 0,
 "worksheets": [
  {
   "cells": [
    {
     "cell_type": "markdown",
     "metadata": {},
     "source": [
      "\n",
      "**You may discuss homework problems with other students, but you have to prepare the written assignments yourself. Late homework will be penalized 10% per day.**\n",
      "\n",
      "**Please combine all your answers, the computer code and the figures into one file, and submit a copy in your dropbox on coursework.**\n",
      "\n",
      "**Due date: February 19, 2014.**\n",
      "\n"
     ]
    },
    {
     "cell_type": "markdown",
     "metadata": {},
     "source": [
      "# Question 1\n",
      "\n",
      "Power is an important quantity in many applications of statistics. This question investigates the power of a test in simple linear regression. In a simple linear regression setting, suppose the true slope of the regression line is $\\beta_1$ and the true intercept is $\\beta_0$.\n",
      "If we assume  $\\sigma$ is known, then we can test $H_0: \\beta_0 + 66 \\beta_1 =66$ using\n",
      "$$\n",
      "Z = \\frac{\\hat{\\beta}_0 + 66 \\hat{\\beta}_1 - 66}{\\sigma_{\\hat{\\beta}_0 + 66 \\hat{\\beta}_1}}\n",
      "$$\n",
      "where\n",
      "$\\sigma_{\\hat{\\beta}_0 + 66 \\hat{\\beta}_1}$ is the standard deviation of $\\hat{\\beta}_0 + 66 \\hat{\\beta}_1$.\n",
      "\n",
      "The power of this test is a function of the true value $(\\beta_0 + 66 \\hat{\\beta}_1)$ as well as\n",
      "the accuracy of our estimate $\\sigma_{\\hat{\\beta}_0 + 66 \\hat{\\beta}_1}$ and is defined as\n",
      "$$\n",
      "P(\\text{$H_0$ is rejected}).\n",
      "$$\n",
      " \n",
      "As we change the true $\\beta_0 + 66 \\beta_1$, the probability we reject $H_0$ changes: if the true value of $\\beta_0 + 66 \\beta_1$ is much larger than 66 relative to $\\sigma_{\\hat{\\beta}_0 + 66 \\hat{\\beta}_1}$, then \n",
      "we are very likely to reject $H_0$.\n",
      "\n",
      "1. What rule would you use to determine whether or not you reject $H_0$ at level $\\alpha=0.1$.\n",
      "\n",
      "2. What is the distribution of our test statistic $Z$?\n",
      "Show that the distribution depends on the values $\\beta_0 + 66 \\beta_1, \\sigma_{\\hat{\\beta}_0 + 66 \\hat{\\beta}_1}$ and the 66 in our null $H_0$ via the quantity $(\\beta_0 + 66 \\beta_1  - 66) / \\sigma_{\\hat{\\beta}_0 + 66 \\hat{\\beta}_1}$.\n",
      "We call this quantity the non-centrality parameter.\n",
      "\n",
      "3. Plot the power of your test as your function of the non-centrality parameter.\n",
      "\n",
      "4. Roughly how large does the non-centrality parameter have to be in order to achieve\n",
      "power of 70%?\n",
      "\n"
     ]
    },
    {
     "cell_type": "markdown",
     "metadata": {},
     "source": [
      "# Question 2 (ALSM, 6.18)\n",
      "\n",
      "A researcher in a scientific foundation wished to evaluate the relation between intermediate and senior level annuals salaries of bachelor\u2019s and master\u2019s level mathematicians (`Y`, in thousand dollars) and an index of work quality (`X1`), number of years of experience (`X2`), and an index of publication success (`X3`). The data for a sample of 24 bachelor\u2019s and master\u2019s level mathematicians can be found at [http://www.stanford.edu/class/stats191/data/math-salaries.table](http://www.stanford.edu/class/stats191/data/math-salaries.table).\n",
      "\n",
      "1. Obtain the scatter plot matrix and the correlation matrix of the table. Summarize the results.\n",
      "\n",
      "2. Fit a linear regression model for salary based on `X1, X2, X3`. Report the fitted regression function.\n",
      "\n",
      "3. Test the overall goodness of fit for the regression model at level $\\alpha = 0.05$. Specify the null and alternative hypotheses, as well as the test used.\n",
      "\n",
      "4. Give Bonferroni corrected simultaneous 95 % confidence intervals for $\\beta_1, \\beta_2, \\beta_3$.\n",
      "\n",
      "5. What is the $R^2$ of the model? How is the $R^2$ interpreted? What is the adjusted $R^2$?\n",
      "\n",
      "6. The researcher wishes to find confidence interval estimates at certain levels of the `X` variables found in [http://stats191.stanford.edu/data/salary_levels.table](http://stats191.stanford.edu/data/salary_levels.table). Construct Bonferonni corrected simultaneous 90% confidence intervals at each of the columns of the above table."
     ]
    },
    {
     "cell_type": "markdown",
     "metadata": {},
     "source": [
      "# Question 3\n",
      "\n",
      "The\u00a0dataset\u00a0`state.x77`\u00a0in R contains\u00a0the following\u00a0statistics (among others)\u00a0related\u00a0to the 50 states\n",
      "of\u00a0the United\u00a0States\u00a0of America:\n",
      "\n",
      "* `Population`:\u00a0population\u00a0estimate\u00a0(1975)\n",
      "\n",
      "* `Income`:\u00a0per\u00a0capita\u00a0income\u00a0(1974)\n",
      "\n",
      "* `Illiteracy`:\u00a0illiteracy\u00a0(1970,\u00a0percent\u00a0of\u00a0population)\n",
      "\n",
      "* `HS.Grad`:\u00a0percent\u00a0high school\u00a0graduates\u00a0(1970)"
     ]
    },
    {
     "cell_type": "code",
     "collapsed": false,
     "input": [
      "%%R\n",
      "state.data\u00a0=\u00a0data.frame(state.x77)"
     ],
     "language": "python",
     "metadata": {},
     "outputs": [],
     "prompt_number": 1
    },
    {
     "cell_type": "markdown",
     "metadata": {},
     "source": [
      "We\u00a0are\u00a0interested\u00a0in\u00a0the\u00a0relation\u00a0between\u00a0Income\u00a0and\u00a0other\u00a03\u00a0variables.\n",
      "\n",
      "1.\u00a0Produce\u00a0a\u00a04\u00a0by\u00a04\u00a0scatter\u00a0plot\u00a0of\u00a0the\u00a0variables\u00a0above.\n",
      "\n",
      "2.\u00a0Fit\u00a0a\u00a0multiple\u00a0linear\u00a0regression\u00a0model\u00a0to\u00a0the\u00a0data\u00a0with\u00a0Income\u00a0as\u00a0the\n",
      "dependent\u00a0variable,\u00a0and\u00a0Population,\u00a0Illiteracy,\u00a0HS.Grad\u00a0as\u00a0the\u00a0independent\n",
      "variables.\u00a0Comment\u00a0on\u00a0the\u00a0significance\u00a0of\u00a0the\u00a0variables\u00a0in\u00a0the\u00a0model\u00a0using\u00a0the\n",
      "result\u00a0of\u00a0summary.\n",
      "\n",
      "3.\u00a0Produce\u00a0standard\u00a0diagnostic\u00a0plots\u00a0of\u00a0the\u00a0multiple\u00a0regression\u00a0fit\u00a0in\u00a0part\u00a02.\n",
      "\n",
      "4.\u00a0Plot\u00a0dffits\u00a0of\u00a0the\u00a0observations\u00a0and\u00a0find\u00a0observations\u00a0which\u00a0have\u00a0high\u00a0influence,\n",
      "using\u00a0critical\u00a0value\u00a00.5.\n",
      "\n",
      "5.\u00a0Plot\u00a0Cook's\u00a0distance\u00a0of\u00a0the\u00a0observations\u00a0and\u00a0find\u00a0observations\u00a0which\u00a0have\u00a0high\n",
      "influence,\u00a0using\u00a0critical\u00a0value\u00a00.1.\u00a0Compare\u00a0with\u00a0the\u00a0result\u00a0of\u00a0part\u00a04.\n",
      "\n",
      "6.\u00a0Find\u00a0states\u00a0with\u00a0outlying\u00a0predictors\u00a0by\u00a0looking\u00a0at\u00a0the\u00a0leverage\u00a0values.\u00a0Use\n",
      "critical\u00a0value\u00a00.3.\n",
      "\n",
      "7.\u00a0Find\u00a0outliers,\u00a0if\u00a0any,\u00a0in\u00a0the\u00a0response.\u00a0Remove\u00a0them\u00a0from\u00a0the\u00a0data\u00a0and\u00a0refit\u00a0a\n",
      "multiple\u00a0linear\u00a0regression\u00a0model\u00a0and\u00a0compare\u00a0the\u00a0result\u00a0with\u00a0the\u00a0previous\u00a0fit.\n",
      "\n",
      "8.\u00a0As\u00a0a\u00a0summary,\u00a0find\u00a0all\u00a0the\u00a0influential\u00a0states\u00a0using\u00a0`influence.measures`\u00a0function."
     ]
    },
    {
     "cell_type": "markdown",
     "metadata": {},
     "source": [
      "# Question 4\n",
      "\n",
      "The\tdataset\t`iris`\tin `R`\tgives the measurements in centimeters of the\n",
      "variables sepal length and width and petal length and width, respectively, for \n",
      "50 flowers from each of 3 species of iris. "
     ]
    },
    {
     "cell_type": "code",
     "collapsed": false,
     "input": [
      "%%R\n",
      "data(iris)"
     ],
     "language": "python",
     "metadata": {},
     "outputs": [],
     "prompt_number": 2
    },
    {
     "cell_type": "markdown",
     "metadata": {},
     "source": [
      " \n",
      "\n",
      "1. Fit a multiple linear regression model to the data with sepal length as \n",
      "the dependent variable and sepal width, petal length and petal width \n",
      "as the independent variables. \n",
      "\n",
      "2. Test the reduced model of $H_0: \\beta_{\\tt sepal width}=\\beta_{\\tt petal length} = 0$\n",
      "with an\n",
      "F-test at level $\\alpha=0.05$\n",
      "\n",
      "3. Test $H_0: \\beta_{\\tt sepal width} = \\beta_{\\tt petal length}$ at level $\\alpha=0.05$\n",
      "\n",
      "4. Test $H_0: \\beta_{\\tt sepal width} < \\beta_{\\tt petal length}$ at level $\\alpha=0.05$."
     ]
    },
    {
     "cell_type": "markdown",
     "metadata": {},
     "source": [
      "# Question 5 (ALSM 19.14)\n",
      "\n",
      "A research laboratory was developing a new compound for the relief of severe cases of hay fever. In an experiment with 36 volunteers, the amounts of the two active ingredients (factors `A` and `B`) in the compound were varied at three levels each. Randomization was used in assigning four volunteers to each of the nine treatments. The data can be found at [http://stats191.stanford.edu/data/hayfever.table](http://stats191.stanford.edu/data/hayfever.table).\n",
      "\n",
      "\n",
      "1.  Fit the two-way ANOVA model, including interactions. What is the\n",
      "estimated mean when Factor `A` is 2 and Factor `B` is 1?\n",
      "\n",
      "2. Using `R`\u2019s standard regression plots, plot the `qqplot` of the residuals. Is there any serious violation of normality?\n",
      "\n",
      "3. This question asks you to graphically summarize the data. Create a plot with Factor `A` on the x-axis, and, using 3 different plotting symbols, the mean for each level of Factor `B` above each level of Factor `A` (see kidney data example). Does there appear to be any interactions?\n",
      "\n",
      "4. Test for an interaction at level $\\alpha = 0.01$.\n",
      "\n",
      "5. Test for main effects of Factors A and B at level $\\alpha = 0.01$."
     ]
    }
   ],
   "metadata": {}
  }
 ]
}