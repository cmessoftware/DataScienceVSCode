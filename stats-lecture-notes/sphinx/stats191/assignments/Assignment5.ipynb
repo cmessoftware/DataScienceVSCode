{
 "metadata": {
  "name": "",
  "signature": "sha256:a2cb067002dd889e9fdcdd96817a48a8e0d499bf7f8dc0ebf68c185b0d8e423f"
 },
 "nbformat": 3,
 "nbformat_minor": 0,
 "worksheets": [
  {
   "cells": [
    {
     "cell_type": "markdown",
     "metadata": {},
     "source": [
      "\n",
      "**You may discuss homework problems with other students, but you have to prepare the written assignments yourself. Late homework will be penalized 10% per day.**\n",
      "\n",
      "**Please combine all your answers, the computer code and the figures into one file, and submit a copy in your dropbox on coursework.**\n",
      "\n",
      "** Due March 13, 11:59PM.**\n",
      "\n",
      " **Grading scheme: 10 points per question, total of 20.**"
     ]
    },
    {
     "cell_type": "markdown",
     "metadata": {},
     "source": [
      "# Question 1 (Based on RABE 12.3)\n",
      "\n",
      "The O-rings in the booster rockets used in space launching play an important part in preventing rockets from exploding. Probabilities of O-ring failures are thought to be related to temperature. The data from 23 flights are given in [this file](http://stats191.stanford.edu/data/Orings.table)\n",
      "\n",
      "For each flight we have an indicator of whether or not any O-rings were damaged and the temperature of the launch.\n",
      "\n",
      "1. Fit a logistic regression, modeling the probability of having any O-ring failures based on the temperature of the launch. Interpret the coefficients in terms of odds ratios.\n",
      "\n",
      "2. From the fitted model, find the probability of an O-ring failure when the temperature at launch was 31 degrees. This was the temperature forecast for the day of the launching of the fatal Challenger flight on January 20, 1986.\n",
      "\n",
      "3. Find an approximate 95% confidence interval for the coefficient of temperature in the logistic regression using both the `summary` and `confint`. Are the confidence intervals the same? Why or why not?"
     ]
    },
    {
     "cell_type": "markdown",
     "metadata": {},
     "source": [
      "# Question 2 (Based on RABE 12.5)\n",
      "\n",
      "\n",
      "[Table 1.12](http://www1.aucegypt.edu/faculty/hadi/RABE5/Data5/P014.txt) of the textbook \n",
      "describes variables in a study of health care in 52 health care facilities in New Mexico \n",
      "in the year 1988. The variables collected are:\n",
      "\n",
      "Variable | Description\n",
      "---------|-------------\n",
      "RURAL    | Is hospital in a rural or non-rural area?\n",
      "BED      | Number of beds in facility.\n",
      "MCDAYS   | Annual medical in-patient days (hundreds).\n",
      "TDAYS    | Annual total patient days (hundreds).\n",
      "PCREV    | Annual total patient care revenue (\\$100).\n",
      "NSAL     | Annual nursing salaries (\\$100).\n",
      "FEXP     | Annual facilities expenditures (\\$100).\n",
      "NETREV   | PCREV - NSAL - FEXP\n",
      "\n",
      "- Using a logistic regression model, test the null hypothesis that the measured covariates have no power to distinguish between rural facilities and than non-rural facilities. Use level $\\alpha=0.05$.\n",
      "\n",
      "- Use a model selection technique based on AIC to choose a model that seems to best describe\n",
      "the outcome `RURAL` based on the measured covariates. \n",
      "\n",
      "- Repeat 2. but using BIC instead. Is the model the same?\n",
      "\n",
      "- Report estimates of the parameters for the variables in your final model. How are these\n",
      "to be interpreted? \n",
      "\n",
      "- Report confidence intervals for the parameters in 4. Do you think you can trust these intervals?"
     ]
    },
    {
     "cell_type": "code",
     "collapsed": false,
     "input": [],
     "language": "python",
     "metadata": {},
     "outputs": []
    }
   ],
   "metadata": {}
  }
 ]
}