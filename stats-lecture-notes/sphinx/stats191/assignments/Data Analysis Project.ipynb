{
 "metadata": {
  "name": "",
  "signature": "sha256:5579c8f0b73df1ed4210ab3b264e7209c75c2a8598e9c84b41d53ecb52828107"
 },
 "nbformat": 3,
 "nbformat_minor": 0,
 "worksheets": [
  {
   "cells": [
    {
     "cell_type": "heading",
     "level": 1,
     "metadata": {},
     "source": [
      "Data Analysis Project"
     ]
    },
    {
     "cell_type": "markdown",
     "metadata": {},
     "source": [
      "This project is a full analysis of a medium sized dataset using the tools we have learnt throughout the course. \n",
      "\n",
      "**The project should be done individually.**\n",
      "\n",
      "The data for your\n",
      "final project (provided by Prof. Ryan Tibshirani at Carnegie Mellon University) was collected over 79 neighborhoods from an East Coast city. You have 92 measurements on each neighborhood, such as the \n",
      "percentage of population change from 1990 to 2000, the land area in square miles, the percentage of the population between ages 20 and 34, the percentage of residents who ride their bicycle to work, etc. Each neighborhood also corresponds to a score of 1, 2, or 3, reflecting its level of crime, with 1 being low, 2 being medium, and 3 being high. \n",
      "\n",
      "The data can be loaded with the following commands in `R`:"
     ]
    },
    {
     "cell_type": "code",
     "collapsed": false,
     "input": [
      "%%R\n",
      "load(url(\"http://stats191.stanford.edu/data/neighbor.Rdata\"))\n",
      "head(neighbor.dat[,1:5])"
     ],
     "language": "python",
     "metadata": {},
     "outputs": [
      {
       "metadata": {},
       "output_type": "display_data",
       "text": [
        "  Crime % Pop. Change, 90-00 % Pop. Change, 00-10\n",
        "1    NA                -4.13                -6.18\n",
        "2     3               -28.11                33.37\n",
        "3     3               -24.25               -20.35\n",
        "4     2                10.78               -17.18\n",
        "5     1                -4.78                -4.98\n",
        "6     3               -14.67               -18.94\n",
        "  Pop. as % of City total (2010) Land Area (sq. mi)\n",
        "1                           1.74                1.0\n",
        "2                           1.19                0.6\n",
        "3                           0.56                0.3\n",
        "4                           0.74                0.3\n",
        "5                           1.51                0.7\n",
        "6                           0.70                0.2\n"
       ]
      }
     ],
     "prompt_number": 3
    },
    {
     "cell_type": "markdown",
     "metadata": {},
     "source": [
      "Your task is to build a model to predict `Crime`.  based on the remaining variables. As part of the project, you will be asked to predict the missing\n",
      "values of `Crime`.\n",
      "\n",
      "** The final project should be no more than 10 pages.**\n",
      "** Beware: the data set is large enough so simple stepwise model building procedures may be very slow.**"
     ]
    },
    {
     "cell_type": "markdown",
     "metadata": {},
     "source": [
      "The project should have the following parts:\n",
      "\n",
      "1. *The study:* In this section, you should give a description of the study underlying their dataset. Possible questions to be answered are the following:\n",
      "\n",
      "    - What field does the data come from?\n",
      "    - What are the goals of the study? Are there any effects of particular interest?\n",
      "    - How might these goals be answered, i.e. tests / confidence intervals?\n",
      "    \n",
      "2. *The data:* In this section, you should describe the data set and possibly do some exploratory data analysis. For instance:\n",
      "\n",
      "    - How are the predictor variables spread out? Are there any noteworthy features to their spread that could be highly influential observations?\n",
      "    - Are any of the predictor variables highly correlated?\n",
      "    \n",
      "3. *The models:* In this section, you should develop a model for the data that will allow them to answer some of the specific goals of the study. Possible questions to be addressed here are the following:\n",
      "\n",
      "    - Which predictor variables, if any, should be included in the model a priori?\n",
      "    - Are there any interactions that should be considered for inclusion in the model?\n",
      "    - Are there any second order interactions that should be considered?\n",
      "    - Are there any interactions that should NOT be considered?\n",
      "    \n",
      "4. *Results:* In this section, you should report their results obtained by fitting the proposed models in the previous section. Emphasis should be placed on clarity, as if the report were a statistical consultant\u2019s report for a nonstatistician. For instance, loads of `R` output would, in general, not be acceptable. Plots and well-organized tables are good things to have in this section. Possible questions to be addressed here are the following:\n",
      "\n",
      "    - What is the final regression model for the data?\n",
      "    - How was this model obtained, i.e. forward stepwise search (to be seen in class)?\n",
      "    - Using the standard diagnostic tests, does the model appear to fit the data well?\n",
      "    - What are the final confidence intervals for the effects of interest men- tioned in the study section? Do these intervals seem very sensitive to the choice of model (i.e. do they vary widely for different choices of variables in the model)?\n",
      "    \n",
      "5. *Appendix:* In this section, you should attach a final, editied, copy of the R code used in the analysis. Ideally, there will be comments in the file, i.e. lines beginning with \u201c#\u201d to clarify what each part of the code is doing.\n",
      "\n",
      "6. *Acknowledgements:*  If you consult outside sources that refer to this data set, you should cite these as references, and describe what you used from each source. Sources include material found on the internet, journal articles and books.\n",
      "\n",
      "There are no right or wrong answers for many of these questions. The goal of the project is to try to mimic the analysis of a real data set that you might come across in your own field of application."
     ]
    }
   ],
   "metadata": {}
  }
 ]
}