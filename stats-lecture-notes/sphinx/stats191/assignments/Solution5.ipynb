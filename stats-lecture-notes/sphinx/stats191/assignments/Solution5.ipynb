{
 "metadata": {
  "name": "",
  "signature": "sha256:462a4b3a51af03c268e979ab052faf09cdd2c6499e82cb3a6fb79c5a8b6d1654"
 },
 "nbformat": 3,
 "nbformat_minor": 0,
 "worksheets": [
  {
   "cells": [
    {
     "cell_type": "markdown",
     "metadata": {},
     "source": [
      "\n",
      "**You may discuss homework problems with other students, but you have to prepare the written assignments yourself. Late homework will be penalized 10% per day.**\n",
      "\n",
      "**Please combine all your answers, the computer code and the figures into one file, and submit a copy in your dropbox on coursework.**\n",
      "\n",
      "** Due March 13, 11:59PM.**\n",
      "\n",
      " **Grading scheme: 10 points per question, total of 20.**"
     ]
    },
    {
     "cell_type": "markdown",
     "metadata": {},
     "source": [
      "# Question 1 (Based on RABE 12.3)\n",
      "\n",
      "The O-rings in the booster rockets used in space launching play an important part in preventing rockets from exploding. Probabilities of O-ring failures are thought to be related to temperature. The data from 23 flights are given in [this file](http://stats191.stanford.edu/data/Orings.table)\n",
      "\n",
      "For each flight we have an indicator of whether or not any O-rings were damaged and the temperature of the launch.\n",
      "\n",
      "- **Fit a logistic regression, modeling the probability of having any O-ring failures based on the temperature of the launch. Interpret the coefficients in terms of odds ratios.**"
     ]
    },
    {
     "cell_type": "code",
     "collapsed": false,
     "input": [
      "%%R\n",
      "rings.data = read.table('http://stats191.stanford.edu/data/Orings.table', header=TRUE)\n",
      "rings.glm = glm(Damaged ~ Temp, data=rings.data, family=binomial())\n",
      "rings.glm"
     ],
     "language": "python",
     "metadata": {},
     "outputs": [
      {
       "metadata": {},
       "output_type": "display_data",
       "text": [
        "\n",
        "Call:  glm(formula = Damaged ~ Temp, family = binomial(), data = rings.data)\n",
        "\n",
        "Coefficients:\n",
        "(Intercept)         Temp  \n",
        "    15.0429      -0.2322  \n",
        "\n",
        "Degrees of Freedom: 22 Total (i.e. Null);  21 Residual\n",
        "Null Deviance:\t    28.27 \n",
        "Residual Deviance: 20.32 \tAIC: 24.32\n"
       ]
      }
     ],
     "prompt_number": 18
    },
    {
     "cell_type": "markdown",
     "metadata": {},
     "source": [
      "- **From the fitted model, find the probability of an O-ring failure when the temperature at launch was 31 degrees. This was the temperature forecast for the day of the launching of the fatal Challenger flight on January 20, 1986.**"
     ]
    },
    {
     "cell_type": "code",
     "collapsed": false,
     "input": [
      "%%R\n",
      "predict(rings.glm, list(Temp=c(31)), type='response')"
     ],
     "language": "python",
     "metadata": {},
     "outputs": [
      {
       "metadata": {},
       "output_type": "display_data",
       "text": [
        "        1 \n",
        "0.9996088 \n"
       ]
      }
     ],
     "prompt_number": 19
    },
    {
     "cell_type": "markdown",
     "metadata": {},
     "source": [
      "- **Find an approximate 95% confidence interval for the coefficient of temperature in the logistic regression using both the `summary` and `confint`. Are the confidence intervals the same? Why or why not?**"
     ]
    },
    {
     "cell_type": "code",
     "collapsed": false,
     "input": [
      "%%R\n",
      "confint(rings.glm)"
     ],
     "language": "python",
     "metadata": {},
     "outputs": [
      {
       "metadata": {},
       "output_type": "display_data",
       "text": [
        "Waiting for profiling to be done...\n",
        "                 2.5 %      97.5 %\n",
        "(Intercept)  3.3305848 34.34215133\n",
        "Temp        -0.5154718 -0.06082076\n"
       ]
      }
     ],
     "prompt_number": 20
    },
    {
     "cell_type": "markdown",
     "metadata": {},
     "source": [
      "The other intervals are the Wald intervals. They disagree because `confint` uses intervals based on profile likelihoods, a topic we have not covered in class in detail. Some [details](http://en.wikipedia.org/wiki/Likelihood_function#Profile_likelihood) can be found here."
     ]
    },
    {
     "cell_type": "code",
     "collapsed": false,
     "input": [
      "%%R\n",
      "center = coef(rings.glm)['Temp']\n",
      "SE = sqrt(vcov(rings.glm)['Temp', 'Temp'])\n",
      "U = center + SE * qnorm(0.975)\n",
      "L = center + SE * qnorm(0.025)\n",
      "data.frame(L, center, U)\n"
     ],
     "language": "python",
     "metadata": {},
     "outputs": [
      {
       "metadata": {},
       "output_type": "display_data",
       "text": [
        "              L     center           U\n",
        "Temp -0.4443022 -0.2321627 -0.02002324\n"
       ]
      }
     ],
     "prompt_number": 21
    },
    {
     "cell_type": "markdown",
     "metadata": {},
     "source": [
      "# Question 2 (Based on RABE 12.5)\n",
      "\n",
      "\n",
      "[Table 1.12](http://www1.aucegypt.edu/faculty/hadi/RABE5/Data5/P014.txt) of the textbook \n",
      "describes variables in a study of health care in 52 health care facilities in New Mexico \n",
      "in the year 1988. The variablces collected are:\n",
      "\n",
      "Variable | Description\n",
      "---------|-------------\n",
      "RURAL    | Is hospital in a rural or non-rural area?\n",
      "BED      | Number of beds in facility.\n",
      "MCDAYS   | Annual medical in-patient days (hundreds).\n",
      "TDAYS    | Annual total patient days (hundreds).\n",
      "PCREV    | Annual total patient care revenue (\\$100).\n",
      "NSAL     | Annual nursing salaries (\\$100).\n",
      "FEXP     | Annual facilities expenditures (\\$100).\n",
      "NETREV   | PCREV - NSAL - FEXP\n",
      "\n",
      "\n",
      "\n",
      "\n",
      "\n",
      "\n"
     ]
    },
    {
     "cell_type": "code",
     "collapsed": false,
     "input": [
      "%load_ext rmagic"
     ],
     "language": "python",
     "metadata": {},
     "outputs": [
      {
       "output_type": "stream",
       "stream": "stdout",
       "text": [
        "The rmagic extension is already loaded. To reload it, use:\n",
        "  %reload_ext rmagic\n"
       ]
      }
     ],
     "prompt_number": 22
    },
    {
     "cell_type": "markdown",
     "metadata": {},
     "source": [
      "- **Using a logistic regression model, test the null hypothesis that the measured covariates have no power to distinguish between rural facilities and than non-rural facilities. Use level $\\alpha=0.05$.**\n",
      "\n",
      "We first fit a logistic regression model. "
     ]
    },
    {
     "cell_type": "code",
     "collapsed": false,
     "input": [
      "%%R\n",
      "D = read.table(\"http://www1.aucegypt.edu/faculty/hadi/RABE5/Data5/P014.txt\", header=TRUE)\n",
      "full.glm = glm(RURAL ~ ., data=D, family=binomial())\n",
      "full.glm"
     ],
     "language": "python",
     "metadata": {},
     "outputs": [
      {
       "metadata": {},
       "output_type": "display_data",
       "text": [
        "\n",
        "Call:  glm(formula = RURAL ~ ., family = binomial(), data = D)\n",
        "\n",
        "Coefficients:\n",
        "(Intercept)          BED       MCDAYS        TDAYS        PCREV         NSAL  \n",
        "  3.736e+00   -3.182e-02    1.585e-02   -6.694e-03    5.293e-05   -7.146e-04  \n",
        "       FEXP       NETREV  \n",
        "  2.932e-04           NA  \n",
        "\n",
        "Degrees of Freedom: 51 Total (i.e. Null);  45 Residual\n",
        "Null Deviance:\t    67.08 \n",
        "Residual Deviance: 48.81 \tAIC: 62.81\n"
       ]
      }
     ],
     "prompt_number": 23
    },
    {
     "cell_type": "markdown",
     "metadata": {},
     "source": [
      "After fitting, we  use the difference in deviance statistic and report a $\\chi^2$ pvalue. There are 6 differences in \n",
      "degrees of freedom because the last variable is a linear combination of others."
     ]
    },
    {
     "cell_type": "code",
     "collapsed": false,
     "input": [
      "%%R\n",
      "anova(glm(RURAL ~ 1, data=D, family=binomial()), full.glm)"
     ],
     "language": "python",
     "metadata": {},
     "outputs": [
      {
       "metadata": {},
       "output_type": "display_data",
       "text": [
        "Analysis of Deviance Table\n",
        "\n",
        "Model 1: RURAL ~ 1\n",
        "Model 2: RURAL ~ BED + MCDAYS + TDAYS + PCREV + NSAL + FEXP + NETREV\n",
        "  Resid. Df Resid. Dev Df Deviance\n",
        "1        51     67.083            \n",
        "2        45     48.809  6   18.275\n"
       ]
      }
     ],
     "prompt_number": 24
    },
    {
     "cell_type": "code",
     "collapsed": false,
     "input": [
      "%%R\n",
      "pval = 1 - pchisq(18.275, 6)\n",
      "pval"
     ],
     "language": "python",
     "metadata": {},
     "outputs": [
      {
       "metadata": {},
       "output_type": "display_data",
       "text": [
        "[1] 0.005580478\n"
       ]
      }
     ],
     "prompt_number": 25
    },
    {
     "cell_type": "markdown",
     "metadata": {},
     "source": [
      "The $p$-value is 0.005 so we reject $H_0: \\beta[2:]=0$ at level 0.05."
     ]
    },
    {
     "cell_type": "markdown",
     "metadata": {},
     "source": [
      "- **Use a model selection technique based on AIC to choose a model that seems to best describe\n",
      "the outcome `RURAL` based on the measured covariates. **\n",
      "\n",
      "For AIC we can use `step` with some initial model and search scheme. I will start at the \n",
      "full model and use `direction='both'` but you were not asked to use a particular search scheme.\n"
     ]
    },
    {
     "cell_type": "code",
     "collapsed": false,
     "input": [
      "%%R\n",
      "AICmodel = step(full.glm, direction='both')\n",
      "AICmodel"
     ],
     "language": "python",
     "metadata": {},
     "outputs": [
      {
       "metadata": {},
       "output_type": "display_data",
       "text": [
        "Start:  AIC=62.81\n",
        "RURAL ~ BED + MCDAYS + TDAYS + PCREV + NSAL + FEXP + NETREV\n",
        "\n",
        "\n",
        "Step:  AIC=62.81\n",
        "RURAL ~ BED + MCDAYS + TDAYS + PCREV + NSAL + FEXP\n",
        "\n",
        "         Df Deviance    AIC\n",
        "- PCREV   1   48.986 60.986\n",
        "- TDAYS   1   49.317 61.317\n",
        "- FEXP    1   50.155 62.155\n",
        "- BED     1   50.276 62.276\n",
        "<none>        48.809 62.809\n",
        "- MCDAYS  1   52.142 64.142\n",
        "- NSAL    1   54.782 66.782\n",
        "\n",
        "Step:  AIC=60.99\n",
        "RURAL ~ BED + MCDAYS + TDAYS + NSAL + FEXP\n",
        "\n",
        "         Df Deviance    AIC\n",
        "- TDAYS   1   49.358 59.358\n",
        "- BED     1   50.276 60.276\n",
        "- FEXP    1   50.463 60.463\n",
        "<none>        48.986 60.986\n",
        "- MCDAYS  1   52.461 62.461\n",
        "+ PCREV   1   48.809 62.809\n",
        "+ NETREV  1   48.809 62.809\n",
        "- NSAL    1   54.793 64.793\n",
        "\n",
        "Step:  AIC=59.36\n",
        "RURAL ~ BED + MCDAYS + NSAL + FEXP\n",
        "\n",
        "         Df Deviance    AIC\n",
        "<none>        49.358 59.358\n",
        "- FEXP    1   51.436 59.436\n",
        "- BED     1   52.911 60.911\n",
        "+ TDAYS   1   48.986 60.986\n",
        "+ NETREV  1   49.317 61.317\n",
        "+ PCREV   1   49.317 61.317\n",
        "- MCDAYS  1   53.466 61.466\n",
        "- NSAL    1   56.988 64.988\n",
        "\n",
        "Call:  glm(formula = RURAL ~ BED + MCDAYS + NSAL + FEXP, family = binomial(), \n",
        "    data = D)\n",
        "\n",
        "Coefficients:\n",
        "(Intercept)          BED       MCDAYS         NSAL         FEXP  \n",
        "  3.6442709   -0.0366403    0.0126199   -0.0007526    0.0003439  \n",
        "\n",
        "Degrees of Freedom: 51 Total (i.e. Null);  47 Residual\n",
        "Null Deviance:\t    67.08 \n",
        "Residual Deviance: 49.36 \tAIC: 59.36\n"
       ]
      }
     ],
     "prompt_number": 26
    },
    {
     "cell_type": "markdown",
     "metadata": {},
     "source": [
      "- Repeat 2. but using BIC instead. Is the model the same?\n"
     ]
    },
    {
     "cell_type": "code",
     "collapsed": false,
     "input": [
      "%%R \n",
      "BICmodel = step(full.glm, direction='both', k=log(nrow(D)))\n",
      "BICmodel "
     ],
     "language": "python",
     "metadata": {},
     "outputs": [
      {
       "metadata": {},
       "output_type": "display_data",
       "text": [
        "Start:  AIC=76.47\n",
        "RURAL ~ BED + MCDAYS + TDAYS + PCREV + NSAL + FEXP + NETREV\n",
        "\n",
        "\n",
        "Step:  AIC=76.47\n",
        "RURAL ~ BED + MCDAYS + TDAYS + PCREV + NSAL + FEXP\n",
        "\n",
        "         Df Deviance    AIC\n",
        "- PCREV   1   48.986 72.694\n",
        "- TDAYS   1   49.317 73.024\n",
        "- FEXP    1   50.155 73.862\n",
        "- BED     1   50.276 73.983\n",
        "- MCDAYS  1   52.142 75.849\n",
        "<none>        48.809 76.467\n",
        "- NSAL    1   54.782 78.489\n",
        "\n",
        "Step:  AIC=72.69\n",
        "RURAL ~ BED + MCDAYS + TDAYS + NSAL + FEXP\n",
        "\n",
        "         Df Deviance    AIC\n",
        "- TDAYS   1   49.358 69.114\n",
        "- BED     1   50.276 70.032\n",
        "- FEXP    1   50.463 70.219\n",
        "- MCDAYS  1   52.461 72.217\n",
        "<none>        48.986 72.694\n",
        "- NSAL    1   54.793 74.549\n",
        "+ PCREV   1   48.809 76.467\n",
        "+ NETREV  1   48.809 76.467\n",
        "\n",
        "Step:  AIC=69.11\n",
        "RURAL ~ BED + MCDAYS + NSAL + FEXP\n",
        "\n",
        "         Df Deviance    AIC\n",
        "- FEXP    1   51.436 67.241\n",
        "- BED     1   52.911 68.716\n",
        "<none>        49.358 69.114\n",
        "- MCDAYS  1   53.466 69.271\n",
        "+ TDAYS   1   48.986 72.694\n",
        "- NSAL    1   56.988 72.793\n",
        "+ PCREV   1   49.317 73.024\n",
        "+ NETREV  1   49.317 73.024\n",
        "\n",
        "Step:  AIC=67.24\n",
        "RURAL ~ BED + MCDAYS + NSAL\n",
        "\n",
        "         Df Deviance    AIC\n",
        "- BED     1   53.446 65.299\n",
        "- MCDAYS  1   54.861 66.715\n",
        "<none>        51.436 67.241\n",
        "- NSAL    1   57.122 68.975\n",
        "+ FEXP    1   49.358 69.114\n",
        "+ TDAYS   1   50.463 70.219\n",
        "+ NETREV  1   51.206 70.962\n",
        "+ PCREV   1   51.402 71.159\n",
        "\n",
        "Step:  AIC=65.3\n",
        "RURAL ~ MCDAYS + NSAL\n",
        "\n",
        "         Df Deviance    AIC\n",
        "- MCDAYS  1   55.424 63.327\n",
        "<none>        53.446 65.299\n",
        "+ TDAYS   1   50.863 66.668\n",
        "+ BED     1   51.436 67.241\n",
        "+ NETREV  1   52.399 68.204\n",
        "+ FEXP    1   52.911 68.716\n",
        "+ PCREV   1   52.998 68.802\n",
        "- NSAL    1   67.073 74.975\n",
        "\n",
        "Step:  AIC=63.33\n",
        "RURAL ~ NSAL\n",
        "\n",
        "         Df Deviance    AIC\n",
        "<none>        55.424 63.327\n",
        "+ MCDAYS  1   53.446 65.299\n",
        "+ FEXP    1   54.676 66.529\n",
        "+ BED     1   54.861 66.715\n",
        "+ PCREV   1   55.393 67.247\n",
        "+ NETREV  1   55.407 67.260\n",
        "+ TDAYS   1   55.424 67.278\n",
        "- NSAL    1   67.083 71.035\n",
        "\n",
        "Call:  glm(formula = RURAL ~ NSAL, family = binomial(), data = D)\n",
        "\n",
        "Coefficients:\n",
        "(Intercept)         NSAL  \n",
        "  3.3126144   -0.0006671  \n",
        "\n",
        "Degrees of Freedom: 51 Total (i.e. Null);  50 Residual\n",
        "Null Deviance:\t    67.08 \n",
        "Residual Deviance: 55.42 \tAIC: 59.42\n"
       ]
      }
     ],
     "prompt_number": 27
    },
    {
     "cell_type": "markdown",
     "metadata": {},
     "source": [
      "My model is not the same, and there is no reason they have to be the same."
     ]
    },
    {
     "cell_type": "markdown",
     "metadata": {},
     "source": [
      "- ** Report estimates of the parameters for the variables in your final model. How are these\n",
      "to be interpreted?  **\n",
      "\n",
      "The coefficients have interpretations in terms of odds ratio. "
     ]
    },
    {
     "cell_type": "code",
     "collapsed": false,
     "input": [
      "%%R\n",
      "AICmodel"
     ],
     "language": "python",
     "metadata": {},
     "outputs": [
      {
       "metadata": {},
       "output_type": "display_data",
       "text": [
        "\n",
        "Call:  glm(formula = RURAL ~ BED + MCDAYS + NSAL + FEXP, family = binomial(), \n",
        "    data = D)\n",
        "\n",
        "Coefficients:\n",
        "(Intercept)          BED       MCDAYS         NSAL         FEXP  \n",
        "  3.6442709   -0.0366403    0.0126199   -0.0007526    0.0003439  \n",
        "\n",
        "Degrees of Freedom: 51 Total (i.e. Null);  47 Residual\n",
        "Null Deviance:\t    67.08 \n",
        "Residual Deviance: 49.36 \tAIC: 59.36\n"
       ]
      }
     ],
     "prompt_number": 28
    },
    {
     "cell_type": "markdown",
     "metadata": {},
     "source": [
      "For instance, for every unit increase in `BED`, the odds of being a `RURAL` center are (estimated) to be multiplied\n",
      "by $e^{-0.036}=0.96$ keeping all other variables fixed. The intervals above are such that, if our logistic regression model is correct and we repeated the same experiment of measuring these health care outcomes over several years (and things do not change), then approximately 95%\n",
      "of the time the interval for `BED` will contain the true coefficient $\\beta_{BED}$."
     ]
    },
    {
     "cell_type": "code",
     "collapsed": false,
     "input": [
      "%%R\n",
      "exp(-0.036)"
     ],
     "language": "python",
     "metadata": {},
     "outputs": [
      {
       "metadata": {},
       "output_type": "display_data",
       "text": [
        "[1] 0.9646403\n"
       ]
      }
     ],
     "prompt_number": 29
    },
    {
     "cell_type": "markdown",
     "metadata": {},
     "source": [
      "- **Report confidence intervals for the parameters in 4 (the selected model). Do you think you can trust these intervals?**"
     ]
    },
    {
     "cell_type": "code",
     "collapsed": false,
     "input": [
      "%%R\n",
      "confint(AICmodel)"
     ],
     "language": "python",
     "metadata": {},
     "outputs": [
      {
       "metadata": {},
       "output_type": "display_data",
       "text": [
        "Waiting for profiling to be done...\n",
        "                    2.5 %        97.5 %\n",
        "(Intercept)  1.3230177562  6.5725174611\n",
        "BED         -0.0842320869  0.0011069442\n",
        "MCDAYS       0.0003627587  0.0280625335\n",
        "NSAL        -0.0014713073 -0.0002003883\n",
        "FEXP        -0.0001150223  0.0008951408\n"
       ]
      }
     ],
     "prompt_number": 30
    },
    {
     "cell_type": "markdown",
     "metadata": {},
     "source": [
      "The above confidence intervals are computed assuming that we fit the *fixed* model `~ BED + MCDAYS + NSAL + FEXP`. \n",
      "But, these variables were chosen on the basis of being a good fit to the data. Hence, they are likely biased in some way\n",
      "by this procedure. Generally, their coverage will not be the nominal (assumed) coverage."
     ]
    },
    {
     "cell_type": "code",
     "collapsed": false,
     "input": [],
     "language": "python",
     "metadata": {},
     "outputs": [],
     "prompt_number": 30
    }
   ],
   "metadata": {}
  }
 ]
}